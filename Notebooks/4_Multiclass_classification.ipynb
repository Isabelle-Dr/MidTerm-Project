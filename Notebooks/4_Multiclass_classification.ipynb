{
 "cells": [
  {
   "cell_type": "markdown",
   "metadata": {},
   "source": [
    "# 2. Multiclass classification\n",
    "**Goal:** predict the type of delay for delayed flights  \n",
    "\n",
    "**Target variables:** \n",
    "- `CARRIER_DELAY`\n",
    "- `WEATHER_DELAY`\n",
    "- `NAS_DELAY`\n",
    "- `SECURITY_DELAY`\n",
    "- `LATE_AIRCRAFT_DELAY`  \n",
    "\n",
    "**Notes**:  \n",
    "\n",
    "Train this model on a dataset containing delayed flights. We might have unbalanced representation between.  classes, check class representation in the data\n",
    "\n",
    "**Steps**:\n",
    "1. Pick evaluation metrics\n",
    "2. Spot check different algos\n",
    "3. Tune hyperparameters using grid search on 2-3 selected algos\n",
    "4. Compare them based on the selected metrics"
   ]
  },
  {
   "cell_type": "markdown",
   "metadata": {},
   "source": [
    "## Step 1. Pick evaluation metrics\n",
    "Performance measures for multi-class classification  \n",
    "**F1 score**  \n",
    "**Accuracy**  \n",
    "**Precision-Recall AUC**"
   ]
  },
  {
   "cell_type": "markdown",
   "metadata": {},
   "source": [
    "## Step 2. Spot check different algos (using K-Folds on sample data)\n",
    "\n",
    "### Step 2.1 Spot check regular algorythms\n",
    "\n",
    "- Naive algorythm (used as a baseline model):  \n",
    "Predict the majority class for all\n",
    "\n",
    "- Linear algorythms:  \n",
    "Logistic Regression  \n",
    "LDA  \n",
    "Support Vector Machines\n",
    "Naive Bayes\n",
    "\n",
    "- Non linear algos:  \n",
    "k-Nearest Neighbors  \n",
    "\n",
    "- Ensemble algorythms:  \n",
    "Random forest  \n",
    "Stochastic Gradient Boosting  \n",
    " *Optional: custom ensemble*\n",
    "\n",
    "\n",
    "### Step 2.2 Spot check imbalanced classification algos. Use those techniques on the ML algos to see if it improves performance\n",
    "\n",
    "- Data sampling  \n",
    "Oversampler and Undersampler method: SMOTE combined with RandomUnderSampler on the training datasets in this step [Article on how to perform SMOTE](https://machinelearningmastery.com/smote-oversampling-for-imbalanced-classification/)\n",
    "\n",
    "- Probability tuning (custom threshold) on the algos that can give probabilities as outputs  \n",
    "Logistic Regression \n",
    "LDA \n",
    "\n",
    "- *Optional: Try a [calibration algo on the predicted prbobabilities](https://machinelearningmastery.com/calibrated-classification-model-in-scikit-learn/)*\n",
    "\n"
   ]
  },
  {
   "cell_type": "code",
   "execution_count": 55,
   "metadata": {},
   "outputs": [],
   "source": [
    "import numpy as np\n",
    "import pandas as pd"
   ]
  },
  {
   "cell_type": "code",
   "execution_count": 56,
   "metadata": {},
   "outputs": [
    {
     "name": "stdout",
     "output_type": "stream",
     "text": [
      "(3451, 18)\n",
      "Index(['branded_code_share', 'crs_dep_time', 'crs_arr_time',\n",
      "       'crs_elapsed_time', 'air_time', 'distance', 'fl_month',\n",
      "       'fl_day_of_week', 'fl_type', 'state_travel_type', 'm_hist_dep_delay',\n",
      "       'med_hist_dep_delay', 'm_hist_arr_delay', 'med_hist_arr_delay',\n",
      "       'origin_cat', 'dest_cat', 'mkt_op_combo_cat', 'delay_type'],\n",
      "      dtype='object')\n",
      "(1000000, 13)\n",
      "Index(['pc1', 'pc2', 'pc3', 'pc4', 'pc5', 'pc6', 'pc7', 'pc8', 'pc9', 'pc10',\n",
      "       'pc11', 'pc12', 'delay_type'],\n",
      "      dtype='object')\n"
     ]
    }
   ],
   "source": [
    "# data \n",
    "data = pd.read_csv('db_multiclass_sample.csv', index_col = 0)\n",
    "print(data.shape)\n",
    "print(data.columns)\n",
    "\n",
    "data_pca = pd.read_csv('db_multiclass_pca_sample.csv', index_col = 0)\n",
    "print(data_pca.shape)\n",
    "print(data_pca.columns)"
   ]
  },
  {
   "cell_type": "code",
   "execution_count": 75,
   "metadata": {},
   "outputs": [
    {
     "name": "stdout",
     "output_type": "stream",
     "text": [
      "(3451,)\n",
      "(3451, 17)\n",
      "(10000,)\n",
      "(10000, 12)\n"
     ]
    }
   ],
   "source": [
    "y = data.delay_type\n",
    "X = data.drop('delay_type', axis = 1)\n",
    "print(y.shape)\n",
    "print(X.shape)\n",
    "\n",
    "data_pca_small = data_pca.sample(10000) ###smaller sample\n",
    "y_pca_small = data_pca_small.delay_type\n",
    "X_pca_small = data_pca_small.drop('delay_type', axis = 1)\n",
    "print(y_pca_small.shape)\n",
    "print(X_pca_small.shape)"
   ]
  },
  {
   "cell_type": "markdown",
   "metadata": {},
   "source": [
    "### Step 2.1 Spot Check Algos"
   ]
  },
  {
   "cell_type": "code",
   "execution_count": 58,
   "metadata": {
    "jupyter": {
     "source_hidden": true
    }
   },
   "outputs": [],
   "source": [
    "# this function creates two dataframe outputs: AVG scoring per model and STD scoring per model\n",
    "# make sure you import the models outside of this function and that the scorings are supported by them\n",
    "def perform_cross_validate(models, X, y, scoring, n_folds, plot = False):\n",
    "    \n",
    "    # import cross validate\n",
    "    from sklearn.model_selection import cross_validate\n",
    "    import pandas as pd\n",
    "    import numpy as np\n",
    "    \n",
    "    # create dataframe\n",
    "    results_mean = pd.DataFrame(columns = list(models.keys()), index=list(scoring))\n",
    "    results_std = pd.DataFrame(columns = list(models.keys()),  index=list(scoring))\n",
    "    \n",
    "\n",
    "    # perform cross validate and store desults in the dataframe\n",
    "    for key in models:\n",
    "        model_name = key\n",
    "        model = models[key]  # this is the model's placeholder\n",
    "        cv = cross_validate(estimator=model, X=X, y=y, cv=n_folds, scoring=scoring)\n",
    "    \n",
    "        # adds values for each scoring in the dataframes\n",
    "        results_mean[model_name] = [cv['test_'+scoring[i]].mean() for i in range(len(scoring))]\n",
    "        results_std[model_name] = [cv['test_'+scoring[i]].std() for i in range(len(scoring))]\n",
    "        \n",
    "        \n",
    "    if plot:\n",
    "        #setup\n",
    "        to_plot = {0:311, 1:312, 2:313, 3:314, 4:315, 5:316}\n",
    "        import matplotlib.pyplot as plt\n",
    "        %matplotlib inline\n",
    "        from matplotlib.pylab import rcParams\n",
    "        rcParams['figure.figsize'] = 12, 10\n",
    "        \n",
    "        # plot\n",
    "        for i, score in enumerate(scoring):\n",
    "            plt.subplot(to_plot[i])\n",
    "            plt.bar(list(results_mean.columns),  results_mean.iloc[i].values)\n",
    "            plt.title(f'Plot for: {score}')\n",
    "            \n",
    "    return results_mean, results_std"
   ]
  },
  {
   "cell_type": "code",
   "execution_count": 68,
   "metadata": {},
   "outputs": [],
   "source": [
    "# import models to try\n",
    "from sklearn.dummy import DummyClassifier\n",
    "from sklearn.linear_model import LogisticRegression\n",
    "from sklearn.discriminant_analysis import LinearDiscriminantAnalysis\n",
    "from sklearn.ensemble import RandomForestClassifier\n",
    "from sklearn.ensemble import GradientBoostingClassifier\n",
    "import xgboost as xgb\n",
    "\n",
    "# params\n",
    "models = {\n",
    "    'Dummy Classifier': DummyClassifier(strategy = \"most_frequent\"), \\\n",
    "    'Logistic Regression': LogisticRegression(max_iter = 10000), \\\n",
    "    'LDA': LinearDiscriminantAnalysis(), \\\n",
    "    'Random Forest': RandomForestClassifier(), \\\n",
    "    'Gradient Boosting': GradientBoostingClassifier(), \\\n",
    "    'XGBoost': xgb.XGBClassifier(scale_pos_weight=100) \\\n",
    "    }\n",
    "\n",
    "scoring = ('accuracy', 'f1_weighted')"
   ]
  },
  {
   "cell_type": "markdown",
   "metadata": {},
   "source": [
    "### 3451 datapoints sample from db_multiclass_sample.csv, 3 folds"
   ]
  },
  {
   "cell_type": "code",
   "execution_count": 70,
   "metadata": {},
   "outputs": [
    {
     "data": {
      "image/png": "[encoded data removed]",
      "text/plain": [
       "<Figure size 864x720 with 2 Axes>"
      ]
     },
     "metadata": {
      "needs_background": "light"
     },
     "output_type": "display_data"
    }
   ],
   "source": [
    "results_mean, results_std = perform_cross_validate(models=models, X=X, y=y, scoring=scoring, n_folds=3, plot=True)"
   ]
  },
  {
   "cell_type": "markdown",
   "metadata": {},
   "source": [
    "### 10 000 datapoints from db_multiclass_pca_sample.csvsample, 5 folds"
   ]
  },
  {
   "cell_type": "code",
   "execution_count": 77,
   "metadata": {},
   "outputs": [
    {
     "data": {
      "image/png": "[encoded data removed]",
      "text/plain": [
       "<Figure size 864x720 with 2 Axes>"
      ]
     },
     "metadata": {
      "needs_background": "light"
     },
     "output_type": "display_data"
    }
   ],
   "source": [
    "results_mean, results_std = perform_cross_validate(models=models, X=X_pca_small, y=y_pca_small, scoring=scoring, n_folds=3, plot=True)"
   ]
  },
  {
   "cell_type": "code",
   "execution_count": null,
   "metadata": {},
   "outputs": [],
   "source": []
  },
  {
   "cell_type": "markdown",
   "metadata": {},
   "source": [
    "### Try models individually"
   ]
  },
  {
   "cell_type": "code",
   "execution_count": 33,
   "metadata": {},
   "outputs": [],
   "source": [
    "# split data\n",
    "from sklearn.model_selection import train_test_split\n",
    "from sklearn.metrics import accuracy_score\n",
    "from sklearn.metrics import f1_score  \n",
    "from sklearn.metrics import roc_auc_score\n",
    "\n",
    "X_train, X_test, y_train, y_test = \\\n",
    "train_test_split(X, y, train_size=0.80, random_state=101)"
   ]
  },
  {
   "cell_type": "code",
   "execution_count": 37,
   "metadata": {},
   "outputs": [
    {
     "name": "stdout",
     "output_type": "stream",
     "text": [
      "0.4515195369030391 \n",
      "0.34984367064115035\n"
     ]
    }
   ],
   "source": [
    "# Logistic regressor\n",
    "from sklearn.linear_model import LogisticRegression # model\n",
    "\n",
    "model = LogisticRegression(max_iter=10000) # placeholder\n",
    "model.fit(X_train, y_train) # fit\n",
    "y_pred = model.predict(X_test) # predict\n",
    "accuracy = accuracy_score(y_test, y_pred)\n",
    "f1 = f1_score(y_test, y_pred, average='weighted')\n",
    "#auc = roc_auc_score(y_test, y_pred, multi_class='ovr')\n",
    "print(f'{accuracy} \\n{f1}')"
   ]
  },
  {
   "cell_type": "code",
   "execution_count": 40,
   "metadata": {},
   "outputs": [
    {
     "name": "stdout",
     "output_type": "stream",
     "text": [
      "0.447178002894356 \n",
      "0.3402268699523125\n"
     ]
    }
   ],
   "source": [
    "#OveVSRestClassifier\n",
    "from sklearn.multiclass import OneVsRestClassifier\n",
    "\n",
    "model = OneVsRestClassifier(LogisticRegression(penalty= 'l2')) # placeholder\n",
    "model.fit(X_train, y_train) # fit\n",
    "y_pred = model.predict(X_test) # predict\n",
    "accuracy = accuracy_score(y_test, y_pred)\n",
    "f1 = f1_score(y_test, y_pred, average='weighted')\n",
    "#auc = roc_auc_score(y_test, y_pred, multi_class='ovr')\n",
    "print(f'{accuracy} \\n{f1}')"
   ]
  },
  {
   "cell_type": "code",
   "execution_count": 53,
   "metadata": {},
   "outputs": [
    {
     "name": "stdout",
     "output_type": "stream",
     "text": [
      "0.42981186685962375 \n",
      "0.35803742656299514\n"
     ]
    }
   ],
   "source": [
    "# Random forest\n",
    "\n",
    "from sklearn.ensemble import RandomForestClassifier\n",
    "model = RandomForestClassifier() # placeholder\n",
    "model.fit(X_train, y_train) # fit\n",
    "y_pred = model.predict(X_test) # predict\n",
    "accuracy = accuracy_score(y_test, y_pred)\n",
    "f1 = f1_score(y_test, y_pred, average='weighted')\n",
    "#auc = roc_auc_score(y_test, y_pred, multi_class='ovr')\n",
    "print(f'{accuracy} \\n{f1}')"
   ]
  },
  {
   "cell_type": "code",
   "execution_count": 54,
   "metadata": {},
   "outputs": [
    {
     "name": "stdout",
     "output_type": "stream",
     "text": [
      "0.4544138929088278 \n",
      "0.3636717624736192\n"
     ]
    }
   ],
   "source": [
    "# XGBoost\n",
    "import xgboost as xgb\n",
    "\n",
    "model = xgb.XGBClassifier(gamma=0.5, n_jobs=-1) # placeholder\n",
    "model.fit(X_train, y_train) # fit\n",
    "y_pred = model.predict(X_test) # predict\n",
    "accuracy = accuracy_score(y_test, y_pred)\n",
    "f1 = f1_score(y_test, y_pred, average='weighted')\n",
    "#auc = roc_auc_score(y_test, y_pred, multi_class='ovr')\n",
    "print(f'{accuracy} \\n{f1}')"
   ]
  },
  {
   "cell_type": "markdown",
   "metadata": {},
   "source": [
    "## Step 3. Hyperparameter tuning\n",
    "Use Grid Search to tune the selected algo (on the whole dataframe?)"
   ]
  },
  {
   "cell_type": "code",
   "execution_count": null,
   "metadata": {},
   "outputs": [],
   "source": []
  }
 ],
 "metadata": {
  "kernelspec": {
   "display_name": "Python 3",
   "language": "python",
   "name": "python3"
  },
  "language_info": {
   "codemirror_mode": {
    "name": "ipython",
    "version": 3
   },
   "file_extension": ".py",
   "mimetype": "text/x-python",
   "name": "python",
   "nbconvert_exporter": "python",
   "pygments_lexer": "ipython3",
   "version": "3.7.6"
  }
 },
 "nbformat": 4,
 "nbformat_minor": 4
}
