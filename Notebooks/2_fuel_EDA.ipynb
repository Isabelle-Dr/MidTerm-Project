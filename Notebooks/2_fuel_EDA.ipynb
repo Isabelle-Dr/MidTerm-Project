{
 "cells": [
  {
   "cell_type": "code",
   "execution_count": 1,
   "metadata": {},
   "outputs": [],
   "source": [
    "import seaborn as sns\n",
    "import matplotlib.pyplot as plt\n",
    "%matplotlib inline\n",
    "import pandas as pd\n",
    "import numpy as np\n",
    "import seaborn as sns"
   ]
  },
  {
   "cell_type": "code",
   "execution_count": 2,
   "metadata": {},
   "outputs": [],
   "source": [
    "fuel = pd.read_csv('fuel_cleaned.csv', index_col = 0)"
   ]
  },
  {
   "cell_type": "code",
   "execution_count": 4,
   "metadata": {},
   "outputs": [
    {
     "name": "stdout",
     "output_type": "stream",
     "text": [
      "(3025, 25)\n"
     ]
    }
   ],
   "source": [
    "# get shape and length\n",
    "print(fuel.shape)\n",
    "db_length = fuel.shape[0]"
   ]
  },
  {
   "cell_type": "code",
   "execution_count": 5,
   "metadata": {},
   "outputs": [
    {
     "name": "stdout",
     "output_type": "stream",
     "text": [
      "<class 'pandas.core.frame.DataFrame'>\n",
      "Int64Index: 3025 entries, 1 to 3034\n",
      "Data columns (total 25 columns):\n",
      " #   Column             Non-Null Count  Dtype  \n",
      "---  ------             --------------  -----  \n",
      " 0   month              3025 non-null   int64  \n",
      " 1   airline_id         3025 non-null   float64\n",
      " 2   unique_carrier     3025 non-null   object \n",
      " 3   carrier            3025 non-null   object \n",
      " 4   carrier_name       3025 non-null   object \n",
      " 5   carrier_group_new  3025 non-null   int64  \n",
      " 6   sdomt_gallons      3025 non-null   float64\n",
      " 7   satl_gallons       3025 non-null   float64\n",
      " 8   spac_gallons       3025 non-null   float64\n",
      " 9   slat_gallons       3025 non-null   float64\n",
      " 10  sint_gallons       3025 non-null   float64\n",
      " 11  ts_gallons         3025 non-null   float64\n",
      " 12  tdomt_gallons      3025 non-null   float64\n",
      " 13  tint_gallons       3025 non-null   float64\n",
      " 14  total_gallons      3025 non-null   float64\n",
      " 15  sdomt_cost         3025 non-null   float64\n",
      " 16  satl_cost          3025 non-null   float64\n",
      " 17  spac_cost          3025 non-null   float64\n",
      " 18  slat_cost          3025 non-null   float64\n",
      " 19  sint_cost          3025 non-null   float64\n",
      " 20  ts_cost            3025 non-null   float64\n",
      " 21  tdomt_cost         3025 non-null   float64\n",
      " 22  tint_cost          3025 non-null   float64\n",
      " 23  total_cost         3025 non-null   float64\n",
      " 24  year               3025 non-null   int64  \n",
      "dtypes: float64(19), int64(3), object(3)\n",
      "memory usage: 614.5+ KB\n"
     ]
    }
   ],
   "source": [
    "fuel.info()"
   ]
  },
  {
   "cell_type": "code",
   "execution_count": 10,
   "metadata": {},
   "outputs": [
    {
     "data": {
      "text/html": [
       "<div>\n",
       "<style scoped>\n",
       "    .dataframe tbody tr th:only-of-type {\n",
       "        vertical-align: middle;\n",
       "    }\n",
       "\n",
       "    .dataframe tbody tr th {\n",
       "        vertical-align: top;\n",
       "    }\n",
       "\n",
       "    .dataframe thead th {\n",
       "        text-align: right;\n",
       "    }\n",
       "</style>\n",
       "<table border=\"1\" class=\"dataframe\">\n",
       "  <thead>\n",
       "    <tr style=\"text-align: right;\">\n",
       "      <th></th>\n",
       "      <th>month</th>\n",
       "      <th>airline_id</th>\n",
       "      <th>unique_carrier</th>\n",
       "      <th>carrier</th>\n",
       "      <th>carrier_name</th>\n",
       "      <th>carrier_group_new</th>\n",
       "      <th>sdomt_gallons</th>\n",
       "      <th>satl_gallons</th>\n",
       "      <th>spac_gallons</th>\n",
       "      <th>slat_gallons</th>\n",
       "    </tr>\n",
       "  </thead>\n",
       "  <tbody>\n",
       "    <tr>\n",
       "      <th>1</th>\n",
       "      <td>1</td>\n",
       "      <td>21352.0</td>\n",
       "      <td>0WQ</td>\n",
       "      <td>0WQ</td>\n",
       "      <td>Avjet Corporation</td>\n",
       "      <td>1</td>\n",
       "      <td>0.0</td>\n",
       "      <td>0.0</td>\n",
       "      <td>0.0</td>\n",
       "      <td>0.0</td>\n",
       "    </tr>\n",
       "    <tr>\n",
       "      <th>2</th>\n",
       "      <td>1</td>\n",
       "      <td>21645.0</td>\n",
       "      <td>23Q</td>\n",
       "      <td>23Q</td>\n",
       "      <td>Songbird Airways Inc.</td>\n",
       "      <td>1</td>\n",
       "      <td>0.0</td>\n",
       "      <td>0.0</td>\n",
       "      <td>0.0</td>\n",
       "      <td>0.0</td>\n",
       "    </tr>\n",
       "    <tr>\n",
       "      <th>3</th>\n",
       "      <td>1</td>\n",
       "      <td>21652.0</td>\n",
       "      <td>27Q</td>\n",
       "      <td>27Q</td>\n",
       "      <td>Jet Aviation Flight Services, Inc.</td>\n",
       "      <td>1</td>\n",
       "      <td>0.0</td>\n",
       "      <td>0.0</td>\n",
       "      <td>0.0</td>\n",
       "      <td>0.0</td>\n",
       "    </tr>\n",
       "    <tr>\n",
       "      <th>4</th>\n",
       "      <td>1</td>\n",
       "      <td>20408.0</td>\n",
       "      <td>5V</td>\n",
       "      <td>5V</td>\n",
       "      <td>Tatonduk Outfitters Limited d/b/a Everts Air A...</td>\n",
       "      <td>1</td>\n",
       "      <td>260848.0</td>\n",
       "      <td>0.0</td>\n",
       "      <td>0.0</td>\n",
       "      <td>0.0</td>\n",
       "    </tr>\n",
       "    <tr>\n",
       "      <th>5</th>\n",
       "      <td>1</td>\n",
       "      <td>19917.0</td>\n",
       "      <td>5X</td>\n",
       "      <td>5X</td>\n",
       "      <td>United Parcel Service</td>\n",
       "      <td>3</td>\n",
       "      <td>32138000.0</td>\n",
       "      <td>9743000.0</td>\n",
       "      <td>16116000.0</td>\n",
       "      <td>2972000.0</td>\n",
       "    </tr>\n",
       "  </tbody>\n",
       "</table>\n",
       "</div>"
      ],
      "text/plain": [
       "   month  airline_id unique_carrier carrier  \\\n",
       "1      1     21352.0            0WQ     0WQ   \n",
       "2      1     21645.0            23Q     23Q   \n",
       "3      1     21652.0            27Q     27Q   \n",
       "4      1     20408.0             5V      5V   \n",
       "5      1     19917.0             5X      5X   \n",
       "\n",
       "                                        carrier_name  carrier_group_new  \\\n",
       "1                                  Avjet Corporation                  1   \n",
       "2                              Songbird Airways Inc.                  1   \n",
       "3                 Jet Aviation Flight Services, Inc.                  1   \n",
       "4  Tatonduk Outfitters Limited d/b/a Everts Air A...                  1   \n",
       "5                              United Parcel Service                  3   \n",
       "\n",
       "   sdomt_gallons  satl_gallons  spac_gallons  slat_gallons  \n",
       "1            0.0           0.0           0.0           0.0  \n",
       "2            0.0           0.0           0.0           0.0  \n",
       "3            0.0           0.0           0.0           0.0  \n",
       "4       260848.0           0.0           0.0           0.0  \n",
       "5     32138000.0     9743000.0    16116000.0     2972000.0  "
      ]
     },
     "execution_count": 10,
     "metadata": {},
     "output_type": "execute_result"
    }
   ],
   "source": [
    "# explore all columns\n",
    "fuel.iloc[:5, :10]"
   ]
  },
  {
   "cell_type": "code",
   "execution_count": 8,
   "metadata": {},
   "outputs": [
    {
     "data": {
      "text/html": [
       "<div>\n",
       "<style scoped>\n",
       "    .dataframe tbody tr th:only-of-type {\n",
       "        vertical-align: middle;\n",
       "    }\n",
       "\n",
       "    .dataframe tbody tr th {\n",
       "        vertical-align: top;\n",
       "    }\n",
       "\n",
       "    .dataframe thead th {\n",
       "        text-align: right;\n",
       "    }\n",
       "</style>\n",
       "<table border=\"1\" class=\"dataframe\">\n",
       "  <thead>\n",
       "    <tr style=\"text-align: right;\">\n",
       "      <th></th>\n",
       "      <th>sint_gallons</th>\n",
       "      <th>ts_gallons</th>\n",
       "      <th>tdomt_gallons</th>\n",
       "      <th>tint_gallons</th>\n",
       "      <th>total_gallons</th>\n",
       "      <th>sdomt_cost</th>\n",
       "      <th>satl_cost</th>\n",
       "      <th>spac_cost</th>\n",
       "      <th>slat_cost</th>\n",
       "      <th>sint_cost</th>\n",
       "    </tr>\n",
       "  </thead>\n",
       "  <tbody>\n",
       "    <tr>\n",
       "      <th>1</th>\n",
       "      <td>0.0</td>\n",
       "      <td>0.0</td>\n",
       "      <td>163052.0</td>\n",
       "      <td>47060.0</td>\n",
       "      <td>210112.0</td>\n",
       "      <td>0.0</td>\n",
       "      <td>0.0</td>\n",
       "      <td>0.0</td>\n",
       "      <td>0.0</td>\n",
       "      <td>0.0</td>\n",
       "    </tr>\n",
       "    <tr>\n",
       "      <th>2</th>\n",
       "      <td>0.0</td>\n",
       "      <td>0.0</td>\n",
       "      <td>0.0</td>\n",
       "      <td>0.0</td>\n",
       "      <td>0.0</td>\n",
       "      <td>0.0</td>\n",
       "      <td>0.0</td>\n",
       "      <td>0.0</td>\n",
       "      <td>0.0</td>\n",
       "      <td>0.0</td>\n",
       "    </tr>\n",
       "    <tr>\n",
       "      <th>3</th>\n",
       "      <td>0.0</td>\n",
       "      <td>0.0</td>\n",
       "      <td>0.0</td>\n",
       "      <td>0.0</td>\n",
       "      <td>0.0</td>\n",
       "      <td>0.0</td>\n",
       "      <td>0.0</td>\n",
       "      <td>0.0</td>\n",
       "      <td>0.0</td>\n",
       "      <td>0.0</td>\n",
       "    </tr>\n",
       "    <tr>\n",
       "      <th>4</th>\n",
       "      <td>0.0</td>\n",
       "      <td>260848.0</td>\n",
       "      <td>284362.0</td>\n",
       "      <td>0.0</td>\n",
       "      <td>284362.0</td>\n",
       "      <td>522405.0</td>\n",
       "      <td>0.0</td>\n",
       "      <td>0.0</td>\n",
       "      <td>0.0</td>\n",
       "      <td>0.0</td>\n",
       "    </tr>\n",
       "    <tr>\n",
       "      <th>5</th>\n",
       "      <td>28831000.0</td>\n",
       "      <td>60969000.0</td>\n",
       "      <td>32138000.0</td>\n",
       "      <td>28831000.0</td>\n",
       "      <td>60969000.0</td>\n",
       "      <td>34098000.0</td>\n",
       "      <td>9752000.0</td>\n",
       "      <td>17965000.0</td>\n",
       "      <td>3524000.0</td>\n",
       "      <td>31241000.0</td>\n",
       "    </tr>\n",
       "  </tbody>\n",
       "</table>\n",
       "</div>"
      ],
      "text/plain": [
       "   sint_gallons  ts_gallons  tdomt_gallons  tint_gallons  total_gallons  \\\n",
       "1           0.0         0.0       163052.0       47060.0       210112.0   \n",
       "2           0.0         0.0            0.0           0.0            0.0   \n",
       "3           0.0         0.0            0.0           0.0            0.0   \n",
       "4           0.0    260848.0       284362.0           0.0       284362.0   \n",
       "5    28831000.0  60969000.0     32138000.0    28831000.0     60969000.0   \n",
       "\n",
       "   sdomt_cost  satl_cost   spac_cost  slat_cost   sint_cost  \n",
       "1         0.0        0.0         0.0        0.0         0.0  \n",
       "2         0.0        0.0         0.0        0.0         0.0  \n",
       "3         0.0        0.0         0.0        0.0         0.0  \n",
       "4    522405.0        0.0         0.0        0.0         0.0  \n",
       "5  34098000.0  9752000.0  17965000.0  3524000.0  31241000.0  "
      ]
     },
     "execution_count": 8,
     "metadata": {},
     "output_type": "execute_result"
    }
   ],
   "source": [
    "fuel.iloc[:5, 10:20]"
   ]
  },
  {
   "cell_type": "code",
   "execution_count": 9,
   "metadata": {},
   "outputs": [
    {
     "data": {
      "text/html": [
       "<div>\n",
       "<style scoped>\n",
       "    .dataframe tbody tr th:only-of-type {\n",
       "        vertical-align: middle;\n",
       "    }\n",
       "\n",
       "    .dataframe tbody tr th {\n",
       "        vertical-align: top;\n",
       "    }\n",
       "\n",
       "    .dataframe thead th {\n",
       "        text-align: right;\n",
       "    }\n",
       "</style>\n",
       "<table border=\"1\" class=\"dataframe\">\n",
       "  <thead>\n",
       "    <tr style=\"text-align: right;\">\n",
       "      <th></th>\n",
       "      <th>ts_cost</th>\n",
       "      <th>tdomt_cost</th>\n",
       "      <th>tint_cost</th>\n",
       "      <th>total_cost</th>\n",
       "      <th>year</th>\n",
       "    </tr>\n",
       "  </thead>\n",
       "  <tbody>\n",
       "    <tr>\n",
       "      <th>1</th>\n",
       "      <td>0.0</td>\n",
       "      <td>396216.0</td>\n",
       "      <td>140239.0</td>\n",
       "      <td>536455.0</td>\n",
       "      <td>2016</td>\n",
       "    </tr>\n",
       "    <tr>\n",
       "      <th>2</th>\n",
       "      <td>0.0</td>\n",
       "      <td>0.0</td>\n",
       "      <td>0.0</td>\n",
       "      <td>0.0</td>\n",
       "      <td>2016</td>\n",
       "    </tr>\n",
       "    <tr>\n",
       "      <th>3</th>\n",
       "      <td>0.0</td>\n",
       "      <td>0.0</td>\n",
       "      <td>0.0</td>\n",
       "      <td>0.0</td>\n",
       "      <td>2016</td>\n",
       "    </tr>\n",
       "    <tr>\n",
       "      <th>4</th>\n",
       "      <td>522405.0</td>\n",
       "      <td>569497.0</td>\n",
       "      <td>0.0</td>\n",
       "      <td>569497.0</td>\n",
       "      <td>2016</td>\n",
       "    </tr>\n",
       "    <tr>\n",
       "      <th>5</th>\n",
       "      <td>65339000.0</td>\n",
       "      <td>34098000.0</td>\n",
       "      <td>31241000.0</td>\n",
       "      <td>65339000.0</td>\n",
       "      <td>2016</td>\n",
       "    </tr>\n",
       "  </tbody>\n",
       "</table>\n",
       "</div>"
      ],
      "text/plain": [
       "      ts_cost  tdomt_cost   tint_cost  total_cost  year\n",
       "1         0.0    396216.0    140239.0    536455.0  2016\n",
       "2         0.0         0.0         0.0         0.0  2016\n",
       "3         0.0         0.0         0.0         0.0  2016\n",
       "4    522405.0    569497.0         0.0    569497.0  2016\n",
       "5  65339000.0  34098000.0  31241000.0  65339000.0  2016"
      ]
     },
     "execution_count": 9,
     "metadata": {},
     "output_type": "execute_result"
    }
   ],
   "source": [
    "fuel.iloc[:5, 20:]"
   ]
  },
  {
   "cell_type": "markdown",
   "metadata": {},
   "source": [
    "# Numerical data"
   ]
  },
  {
   "cell_type": "code",
   "execution_count": 13,
   "metadata": {},
   "outputs": [
    {
     "data": {
      "text/plain": [
       "Index(['month', 'airline_id', 'carrier_group_new', 'sdomt_gallons',\n",
       "       'satl_gallons', 'spac_gallons', 'slat_gallons', 'sint_gallons',\n",
       "       'ts_gallons', 'tdomt_gallons', 'tint_gallons', 'total_gallons',\n",
       "       'sdomt_cost', 'satl_cost', 'spac_cost', 'slat_cost', 'sint_cost',\n",
       "       'ts_cost', 'tdomt_cost', 'tint_cost', 'total_cost', 'year'],\n",
       "      dtype='object')"
      ]
     },
     "execution_count": 13,
     "metadata": {},
     "output_type": "execute_result"
    }
   ],
   "source": [
    "numeric_features = fuel.select_dtypes(include=[np.number])\n",
    "numeric_features.columns"
   ]
  },
  {
   "cell_type": "code",
   "execution_count": 14,
   "metadata": {},
   "outputs": [
    {
     "name": "stdout",
     "output_type": "stream",
     "text": [
      "month 12\n",
      "airline_id 62\n",
      "carrier_group_new 3\n",
      "sdomt_gallons 1420\n",
      "satl_gallons 405\n",
      "spac_gallons 455\n",
      "slat_gallons 731\n",
      "sint_gallons 892\n",
      "ts_gallons 1486\n",
      "tdomt_gallons 2275\n",
      "tint_gallons 1863\n",
      "total_gallons 2398\n",
      "sdomt_cost 1409\n",
      "satl_cost 405\n",
      "spac_cost 455\n",
      "slat_cost 730\n",
      "sint_cost 893\n",
      "ts_cost 1475\n",
      "tdomt_cost 2265\n",
      "tint_cost 1863\n",
      "total_cost 2385\n",
      "year 5\n"
     ]
    }
   ],
   "source": [
    "# see if variables are categorical / continuous: look at number of unique values for each feature\n",
    "for column in numeric_features.columns:\n",
    "    print(column, len(fuel[column].unique()))"
   ]
  },
  {
   "cell_type": "markdown",
   "metadata": {},
   "source": [
    "# String data"
   ]
  },
  {
   "cell_type": "code",
   "execution_count": 19,
   "metadata": {},
   "outputs": [
    {
     "data": {
      "text/plain": [
       "Index(['unique_carrier', 'carrier', 'carrier_name'], dtype='object')"
      ]
     },
     "execution_count": 19,
     "metadata": {},
     "output_type": "execute_result"
    }
   ],
   "source": [
    "string_data = fuel.dtypes[fuel.dtypes == 'object'].index\n",
    "string_data"
   ]
  },
  {
   "cell_type": "markdown",
   "metadata": {},
   "source": [
    "# Drop redundant features"
   ]
  },
  {
   "cell_type": "code",
   "execution_count": 21,
   "metadata": {},
   "outputs": [],
   "source": [
    "# redundant: keeping unique_carrier\n",
    "\n",
    "fuel = fuel.drop('carrier', axis = 1)"
   ]
  },
  {
   "cell_type": "markdown",
   "metadata": {},
   "source": [
    "# Other EDA"
   ]
  },
  {
   "cell_type": "code",
   "execution_count": 27,
   "metadata": {},
   "outputs": [
    {
     "data": {
      "text/plain": [
       "3025"
      ]
     },
     "execution_count": 27,
     "metadata": {},
     "output_type": "execute_result"
    }
   ],
   "source": [
    "# Check if year/month/airlineID is the unique key of this db\n",
    "\n",
    "len(fuel.groupby(['year', 'month', 'airline_id']).count())"
   ]
  },
  {
   "cell_type": "code",
   "execution_count": 28,
   "metadata": {},
   "outputs": [
    {
     "data": {
      "text/plain": [
       "62"
      ]
     },
     "execution_count": 28,
     "metadata": {},
     "output_type": "execute_result"
    }
   ],
   "source": [
    "len(fuel.groupby(['airline_id']).count())"
   ]
  },
  {
   "cell_type": "code",
   "execution_count": null,
   "metadata": {},
   "outputs": [],
   "source": []
  }
 ],
 "metadata": {
  "kernelspec": {
   "display_name": "Python 3",
   "language": "python",
   "name": "python3"
  },
  "language_info": {
   "codemirror_mode": {
    "name": "ipython",
    "version": 3
   },
   "file_extension": ".py",
   "mimetype": "text/x-python",
   "name": "python",
   "nbconvert_exporter": "python",
   "pygments_lexer": "ipython3",
   "version": "3.7.6"
  }
 },
 "nbformat": 4,
 "nbformat_minor": 4
}
