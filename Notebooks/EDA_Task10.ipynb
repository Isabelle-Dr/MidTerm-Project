{
 "cells": [
  {
   "cell_type": "markdown",
   "metadata": {},
   "source": [
    "# Task 10\n",
    "# Test Hypothesis: Higher delays tend to have higher fuel consumption per passenger\n",
    "\n",
    "Note: fuel cons is around 3-4 liters per passenger per 100km in the industry"
   ]
  },
  {
   "cell_type": "code",
   "execution_count": 1,
   "metadata": {},
   "outputs": [],
   "source": [
    "import pandas as pd\n",
    "import numpy as np"
   ]
  },
  {
   "cell_type": "markdown",
   "metadata": {},
   "source": [
    "## Step 1. Find out number of passengers that were carried (monthly) by different air carriers\n",
    "Find out distance covered monthly by different air carriers  \n",
    "This information is found in the passengers DB"
   ]
  },
  {
   "cell_type": "code",
   "execution_count": 2,
   "metadata": {},
   "outputs": [
    {
     "name": "stderr",
     "output_type": "stream",
     "text": [
      "C:\\Users\\derob\\anaconda3\\lib\\site-packages\\numpy\\lib\\arraysetops.py:569: FutureWarning: elementwise comparison failed; returning scalar instead, but in the future will perform elementwise comparison\n",
      "  mask |= (ar1 == a)\n"
     ]
    }
   ],
   "source": [
    "# passengers DB\n",
    "passengers = pd.read_csv('passengers_cleaned.csv', index_col = 0)"
   ]
  },
  {
   "cell_type": "code",
   "execution_count": 3,
   "metadata": {},
   "outputs": [
    {
     "name": "stdout",
     "output_type": "stream",
     "text": [
      "<class 'pandas.core.frame.DataFrame'>\n",
      "Int64Index: 2350494 entries, 0 to 2350496\n",
      "Data columns (total 38 columns):\n",
      " #   Column                 Dtype  \n",
      "---  ------                 -----  \n",
      " 0   departures_scheduled   float64\n",
      " 1   departures_performed   float64\n",
      " 2   payload                float64\n",
      " 3   seats                  float64\n",
      " 4   passengers             float64\n",
      " 5   freight                float64\n",
      " 6   mail                   float64\n",
      " 7   distance               float64\n",
      " 8   ramp_to_ramp           float64\n",
      " 9   air_time               float64\n",
      " 10  unique_carrier         object \n",
      " 11  airline_id             int64  \n",
      " 12  unique_carrier_name    object \n",
      " 13  region                 object \n",
      " 14  carrier                object \n",
      " 15  carrier_name           object \n",
      " 16  carrier_group          int64  \n",
      " 17  carrier_group_new      int64  \n",
      " 18  origin_airport_id      int64  \n",
      " 19  origin_city_market_id  int64  \n",
      " 20  origin                 object \n",
      " 21  origin_city_name       object \n",
      " 22  origin_country         object \n",
      " 23  origin_country_name    object \n",
      " 24  dest_airport_id        int64  \n",
      " 25  dest_city_market_id    int64  \n",
      " 26  dest                   object \n",
      " 27  dest_city_name         object \n",
      " 28  dest_country           object \n",
      " 29  dest_country_name      object \n",
      " 30  aircraft_group         int64  \n",
      " 31  aircraft_type          int64  \n",
      " 32  aircraft_config        int64  \n",
      " 33  year                   int64  \n",
      " 34  month                  int64  \n",
      " 35  day                    int64  \n",
      " 36  distance_group         object \n",
      " 37  class                  object \n",
      "dtypes: float64(10), int64(13), object(15)\n",
      "memory usage: 699.4+ MB\n"
     ]
    }
   ],
   "source": [
    "passengers.info()"
   ]
  },
  {
   "cell_type": "code",
   "execution_count": 4,
   "metadata": {},
   "outputs": [
    {
     "name": "stdout",
     "output_type": "stream",
     "text": [
      "The passengers DB is containing data from 2015 to 2019\n"
     ]
    }
   ],
   "source": [
    "# get date range\n",
    "print(f'The passengers DB is containing data from {min(passengers.year)} to {max(passengers.year)}')"
   ]
  },
  {
   "cell_type": "code",
   "execution_count": 5,
   "metadata": {},
   "outputs": [],
   "source": [
    "# keep only 2018 and 2019 (flights database only has data from 2018 to 2019)\n",
    "passengers = passengers[passengers.year >= 2018]"
   ]
  },
  {
   "cell_type": "code",
   "execution_count": 6,
   "metadata": {},
   "outputs": [
    {
     "data": {
      "text/html": [
       "<div>\n",
       "<style scoped>\n",
       "    .dataframe tbody tr th:only-of-type {\n",
       "        vertical-align: middle;\n",
       "    }\n",
       "\n",
       "    .dataframe tbody tr th {\n",
       "        vertical-align: top;\n",
       "    }\n",
       "\n",
       "    .dataframe thead th {\n",
       "        text-align: right;\n",
       "    }\n",
       "</style>\n",
       "<table border=\"1\" class=\"dataframe\">\n",
       "  <thead>\n",
       "    <tr style=\"text-align: right;\">\n",
       "      <th></th>\n",
       "      <th></th>\n",
       "      <th></th>\n",
       "      <th>passengers</th>\n",
       "      <th>distance</th>\n",
       "    </tr>\n",
       "    <tr>\n",
       "      <th>unique_carrier</th>\n",
       "      <th>year</th>\n",
       "      <th>month</th>\n",
       "      <th></th>\n",
       "      <th></th>\n",
       "    </tr>\n",
       "  </thead>\n",
       "  <tbody>\n",
       "    <tr>\n",
       "      <th rowspan=\"5\" valign=\"top\">02Q</th>\n",
       "      <th rowspan=\"3\" valign=\"top\">2018</th>\n",
       "      <th>3</th>\n",
       "      <td>25.0</td>\n",
       "      <td>3339.0</td>\n",
       "    </tr>\n",
       "    <tr>\n",
       "      <th>4</th>\n",
       "      <td>119.0</td>\n",
       "      <td>8585.0</td>\n",
       "    </tr>\n",
       "    <tr>\n",
       "      <th>6</th>\n",
       "      <td>86.0</td>\n",
       "      <td>13998.0</td>\n",
       "    </tr>\n",
       "    <tr>\n",
       "      <th rowspan=\"2\" valign=\"top\">2019</th>\n",
       "      <th>2</th>\n",
       "      <td>552.0</td>\n",
       "      <td>16318.0</td>\n",
       "    </tr>\n",
       "    <tr>\n",
       "      <th>5</th>\n",
       "      <td>158.0</td>\n",
       "      <td>12035.0</td>\n",
       "    </tr>\n",
       "  </tbody>\n",
       "</table>\n",
       "</div>"
      ],
      "text/plain": [
       "                           passengers  distance\n",
       "unique_carrier year month                      \n",
       "02Q            2018 3            25.0    3339.0\n",
       "                    4           119.0    8585.0\n",
       "                    6            86.0   13998.0\n",
       "               2019 2           552.0   16318.0\n",
       "                    5           158.0   12035.0"
      ]
     },
     "execution_count": 6,
     "metadata": {},
     "output_type": "execute_result"
    }
   ],
   "source": [
    "# get monthly number of passengers and total distance per carrier\n",
    "db_passengers = pd.DataFrame(passengers.groupby(['unique_carrier', 'year', 'month'])[['passengers', 'distance']].sum())\n",
    "db_passengers.head()"
   ]
  },
  {
   "cell_type": "markdown",
   "metadata": {},
   "source": [
    "## Step 2: Find out monthly total fuel comsumption per air carrier.\n",
    "This information can be found in the fuels DB\n"
   ]
  },
  {
   "cell_type": "code",
   "execution_count": 7,
   "metadata": {},
   "outputs": [],
   "source": [
    "#fuels db\n",
    "fuel = pd.read_csv('fuel_cleaned.csv', index_col = 0)"
   ]
  },
  {
   "cell_type": "code",
   "execution_count": 8,
   "metadata": {},
   "outputs": [
    {
     "name": "stdout",
     "output_type": "stream",
     "text": [
      "<class 'pandas.core.frame.DataFrame'>\n",
      "Int64Index: 3025 entries, 1 to 3034\n",
      "Data columns (total 25 columns):\n",
      " #   Column             Non-Null Count  Dtype  \n",
      "---  ------             --------------  -----  \n",
      " 0   month              3025 non-null   int64  \n",
      " 1   airline_id         3025 non-null   float64\n",
      " 2   unique_carrier     3025 non-null   object \n",
      " 3   carrier            3025 non-null   object \n",
      " 4   carrier_name       3025 non-null   object \n",
      " 5   carrier_group_new  3025 non-null   int64  \n",
      " 6   sdomt_gallons      3025 non-null   float64\n",
      " 7   satl_gallons       3025 non-null   float64\n",
      " 8   spac_gallons       3025 non-null   float64\n",
      " 9   slat_gallons       3025 non-null   float64\n",
      " 10  sint_gallons       3025 non-null   float64\n",
      " 11  ts_gallons         3025 non-null   float64\n",
      " 12  tdomt_gallons      3025 non-null   float64\n",
      " 13  tint_gallons       3025 non-null   float64\n",
      " 14  total_gallons      3025 non-null   float64\n",
      " 15  sdomt_cost         3025 non-null   float64\n",
      " 16  satl_cost          3025 non-null   float64\n",
      " 17  spac_cost          3025 non-null   float64\n",
      " 18  slat_cost          3025 non-null   float64\n",
      " 19  sint_cost          3025 non-null   float64\n",
      " 20  ts_cost            3025 non-null   float64\n",
      " 21  tdomt_cost         3025 non-null   float64\n",
      " 22  tint_cost          3025 non-null   float64\n",
      " 23  total_cost         3025 non-null   float64\n",
      " 24  year               3025 non-null   int64  \n",
      "dtypes: float64(19), int64(3), object(3)\n",
      "memory usage: 614.5+ KB\n"
     ]
    }
   ],
   "source": [
    "fuel.info()"
   ]
  },
  {
   "cell_type": "code",
   "execution_count": 9,
   "metadata": {},
   "outputs": [
    {
     "name": "stdout",
     "output_type": "stream",
     "text": [
      "The fuels DB is containing data from 2015 to 2019\n"
     ]
    }
   ],
   "source": [
    "# get date range\n",
    "print(f'The fuels DB is containing data from {min(fuel.year)} to {max(fuel.year)}')"
   ]
  },
  {
   "cell_type": "code",
   "execution_count": 10,
   "metadata": {},
   "outputs": [],
   "source": [
    "# keep only 2018 and 2019 (flights database only has data from 2018 to 2019)\n",
    "fuel = fuel[fuel.year >= 2018]"
   ]
  },
  {
   "cell_type": "code",
   "execution_count": 11,
   "metadata": {},
   "outputs": [
    {
     "data": {
      "text/html": [
       "<div>\n",
       "<style scoped>\n",
       "    .dataframe tbody tr th:only-of-type {\n",
       "        vertical-align: middle;\n",
       "    }\n",
       "\n",
       "    .dataframe tbody tr th {\n",
       "        vertical-align: top;\n",
       "    }\n",
       "\n",
       "    .dataframe thead th {\n",
       "        text-align: right;\n",
       "    }\n",
       "</style>\n",
       "<table border=\"1\" class=\"dataframe\">\n",
       "  <thead>\n",
       "    <tr style=\"text-align: right;\">\n",
       "      <th></th>\n",
       "      <th></th>\n",
       "      <th></th>\n",
       "      <th>total_gallons</th>\n",
       "    </tr>\n",
       "    <tr>\n",
       "      <th>unique_carrier</th>\n",
       "      <th>year</th>\n",
       "      <th>month</th>\n",
       "      <th></th>\n",
       "    </tr>\n",
       "  </thead>\n",
       "  <tbody>\n",
       "    <tr>\n",
       "      <th rowspan=\"5\" valign=\"top\">09Q</th>\n",
       "      <th rowspan=\"5\" valign=\"top\">2018</th>\n",
       "      <th>1</th>\n",
       "      <td>1467426.0</td>\n",
       "    </tr>\n",
       "    <tr>\n",
       "      <th>2</th>\n",
       "      <td>1648225.0</td>\n",
       "    </tr>\n",
       "    <tr>\n",
       "      <th>3</th>\n",
       "      <td>2539355.0</td>\n",
       "    </tr>\n",
       "    <tr>\n",
       "      <th>4</th>\n",
       "      <td>1119351.0</td>\n",
       "    </tr>\n",
       "    <tr>\n",
       "      <th>5</th>\n",
       "      <td>975540.0</td>\n",
       "    </tr>\n",
       "  </tbody>\n",
       "</table>\n",
       "</div>"
      ],
      "text/plain": [
       "                           total_gallons\n",
       "unique_carrier year month               \n",
       "09Q            2018 1          1467426.0\n",
       "                    2          1648225.0\n",
       "                    3          2539355.0\n",
       "                    4          1119351.0\n",
       "                    5           975540.0"
      ]
     },
     "execution_count": 11,
     "metadata": {},
     "output_type": "execute_result"
    }
   ],
   "source": [
    "# get monthly consumption per carrier\n",
    "db_fuel = pd.DataFrame(fuel.groupby(['unique_carrier', 'year', 'month'])['total_gallons'].sum())\n",
    "db_fuel.head()"
   ]
  },
  {
   "cell_type": "markdown",
   "metadata": {},
   "source": [
    "## Step 3: Find out monthly delay per air carrier \n",
    "This information can be found in flights DB"
   ]
  },
  {
   "cell_type": "code",
   "execution_count": 2,
   "metadata": {},
   "outputs": [
    {
     "name": "stderr",
     "output_type": "stream",
     "text": [
      "C:\\Users\\derob\\anaconda3\\lib\\site-packages\\IPython\\core\\interactiveshell.py:3146: DtypeWarning: Columns (25) have mixed types.Specify dtype option on import or set low_memory=False.\n",
      "  interactivity=interactivity, compiler=compiler, result=result)\n"
     ]
    }
   ],
   "source": [
    "# flights data\n",
    "flights = pd.read_csv('flights_nullsremoved.csv')"
   ]
  },
  {
   "cell_type": "code",
   "execution_count": 13,
   "metadata": {
    "collapsed": true,
    "jupyter": {
     "outputs_hidden": true
    }
   },
   "outputs": [
    {
     "ename": "NameError",
     "evalue": "name 'flights' is not defined",
     "output_type": "error",
     "traceback": [
      "\u001b[1;31m---------------------------------------------------------------------------\u001b[0m",
      "\u001b[1;31mNameError\u001b[0m                                 Traceback (most recent call last)",
      "\u001b[1;32m<ipython-input-13-d08baf151559>\u001b[0m in \u001b[0;36m<module>\u001b[1;34m\u001b[0m\n\u001b[0;32m      2\u001b[0m \u001b[1;32mimport\u001b[0m \u001b[0mdatetime\u001b[0m\u001b[1;33m\u001b[0m\u001b[1;33m\u001b[0m\u001b[0m\n\u001b[0;32m      3\u001b[0m \u001b[1;33m\u001b[0m\u001b[0m\n\u001b[1;32m----> 4\u001b[1;33m \u001b[0mflights\u001b[0m\u001b[1;33m[\u001b[0m\u001b[1;34m'fl_date'\u001b[0m\u001b[1;33m]\u001b[0m \u001b[1;33m=\u001b[0m \u001b[0mpd\u001b[0m\u001b[1;33m.\u001b[0m\u001b[0mto_datetime\u001b[0m\u001b[1;33m(\u001b[0m\u001b[0mflights\u001b[0m\u001b[1;33m[\u001b[0m\u001b[1;34m'fl_date'\u001b[0m\u001b[1;33m]\u001b[0m\u001b[1;33m)\u001b[0m\u001b[1;33m\u001b[0m\u001b[1;33m\u001b[0m\u001b[0m\n\u001b[0m\u001b[0;32m      5\u001b[0m \u001b[0mflights\u001b[0m\u001b[1;33m[\u001b[0m\u001b[1;34m'month'\u001b[0m\u001b[1;33m]\u001b[0m \u001b[1;33m=\u001b[0m \u001b[0mpd\u001b[0m\u001b[1;33m.\u001b[0m\u001b[0mDatetimeIndex\u001b[0m\u001b[1;33m(\u001b[0m\u001b[0mflights\u001b[0m\u001b[1;33m[\u001b[0m\u001b[1;34m'fl_date'\u001b[0m\u001b[1;33m]\u001b[0m\u001b[1;33m)\u001b[0m\u001b[1;33m.\u001b[0m\u001b[0mmonth\u001b[0m\u001b[1;33m\u001b[0m\u001b[1;33m\u001b[0m\u001b[0m\n\u001b[0;32m      6\u001b[0m \u001b[0mflights\u001b[0m\u001b[1;33m[\u001b[0m\u001b[1;34m'year'\u001b[0m\u001b[1;33m]\u001b[0m \u001b[1;33m=\u001b[0m \u001b[0mpd\u001b[0m\u001b[1;33m.\u001b[0m\u001b[0mDatetimeIndex\u001b[0m\u001b[1;33m(\u001b[0m\u001b[0mflights\u001b[0m\u001b[1;33m[\u001b[0m\u001b[1;34m'fl_date'\u001b[0m\u001b[1;33m]\u001b[0m\u001b[1;33m)\u001b[0m\u001b[1;33m.\u001b[0m\u001b[0myear\u001b[0m\u001b[1;33m\u001b[0m\u001b[1;33m\u001b[0m\u001b[0m\n",
      "\u001b[1;31mNameError\u001b[0m: name 'flights' is not defined"
     ]
    }
   ],
   "source": [
    "# extract month from fl_date feature\n",
    "import datetime\n",
    "\n",
    "flights['fl_date'] = pd.to_datetime(flights['fl_date'])\n",
    "flights['month'] = pd.DatetimeIndex(flights['fl_date']).month\n",
    "flights['year'] = pd.DatetimeIndex(flights['fl_date']).year"
   ]
  },
  {
   "cell_type": "code",
   "execution_count": null,
   "metadata": {},
   "outputs": [],
   "source": [
    "# get date range\n",
    "print(f'The flights DB is containing data from {min(flights.year)} to {max(flights.year)}')"
   ]
  },
  {
   "cell_type": "markdown",
   "metadata": {},
   "source": [
    "**Trying code on a sample**"
   ]
  },
  {
   "cell_type": "code",
   "execution_count": null,
   "metadata": {},
   "outputs": [],
   "source": [
    "flights_sample = flights[:1000]"
   ]
  },
  {
   "cell_type": "code",
   "execution_count": null,
   "metadata": {},
   "outputs": [],
   "source": [
    "flights_sample = flights_sample.groupby(['op_unique_carrier', 'year', 'month'])[['dep_delay', 'arr_delay']].sum()"
   ]
  },
  {
   "cell_type": "code",
   "execution_count": null,
   "metadata": {},
   "outputs": [],
   "source": [
    "flights_sample.head()"
   ]
  },
  {
   "cell_type": "code",
   "execution_count": null,
   "metadata": {},
   "outputs": [],
   "source": [
    "flights_sample['monthly_delay'] = flights_sample['dep_delay'] + flights_sample['arr_delay']"
   ]
  },
  {
   "cell_type": "code",
   "execution_count": null,
   "metadata": {},
   "outputs": [],
   "source": [
    "flights_sample.head()"
   ]
  },
  {
   "cell_type": "markdown",
   "metadata": {},
   "source": [
    "**Running same code on flights db**"
   ]
  },
  {
   "cell_type": "code",
   "execution_count": null,
   "metadata": {},
   "outputs": [],
   "source": [
    "# get a db grouped per carrier & month\n",
    "db_flights = flights.groupby(['op_unique_carrier', 'year', 'month'])[['dep_delay', 'arr_delay']].sum()\n",
    "\n",
    "# add a column monthly_delay\n",
    "db_flights['monthly_delay'] = db_flights['dep_delay'] + db_flights['arr_delay']\n",
    "\n",
    "db_flights.head()"
   ]
  },
  {
   "cell_type": "code",
   "execution_count": null,
   "metadata": {},
   "outputs": [],
   "source": [
    "# rename unique_carrier column (it's actually op_unique_carrier)\n",
    "db_flights.index.names = ['unique_carrier', 'year', 'month']"
   ]
  },
  {
   "cell_type": "code",
   "execution_count": null,
   "metadata": {},
   "outputs": [],
   "source": [
    "db_flights"
   ]
  },
  {
   "cell_type": "markdown",
   "metadata": {},
   "source": [
    "### Merge databases"
   ]
  },
  {
   "cell_type": "code",
   "execution_count": null,
   "metadata": {},
   "outputs": [],
   "source": [
    "# join the three databases\n",
    "data_merged = pd.merge(db_fuel, db_passengers, on=['unique_carrier', 'year', 'month'], how='left')\n",
    "data_merged = pd.merge(data_merged, db_flights, on=['unique_carrier', 'year', 'month'], how='inner')"
   ]
  },
  {
   "cell_type": "code",
   "execution_count": null,
   "metadata": {},
   "outputs": [],
   "source": [
    "data_merged"
   ]
  },
  {
   "cell_type": "code",
   "execution_count": null,
   "metadata": {},
   "outputs": [],
   "source": [
    "# drop columns where total_gallons = 0\n",
    "data_merged = data_merged[data_merged.total_gallons > 0]\n",
    "data_merged"
   ]
  },
  {
   "cell_type": "code",
   "execution_count": null,
   "metadata": {},
   "outputs": [],
   "source": [
    "# reset_index\n",
    "data_merged.reset_index()"
   ]
  },
  {
   "cell_type": "code",
   "execution_count": null,
   "metadata": {},
   "outputs": [],
   "source": [
    "# compute consumption (in gallons per mile and in liters per 100km) per passenger\n",
    "\n",
    "#gallons per mile per passenger\n",
    "data_merged['gallons_per_mile_per_passenger'] = (data_merged.total_gallons / data_merged.distance) / data_merged.passengers\n",
    "\n",
    "#liters per 100km per passenger (more used and understandable)\n",
    "data_merged['liters_per_100km_per_passenger'] = data_merged['gallons_per_mile_per_passenger'] * 100/(1.60934 * 0.264172)"
   ]
  },
  {
   "cell_type": "code",
   "execution_count": null,
   "metadata": {},
   "outputs": [],
   "source": [
    "data_merged.head()"
   ]
  },
  {
   "cell_type": "code",
   "execution_count": null,
   "metadata": {},
   "outputs": [],
   "source": [
    "# the liters_per_100km_per_passenger measure is supposed to be around 3-4 liters. Seems to be an issue here"
   ]
  },
  {
   "cell_type": "markdown",
   "metadata": {},
   "source": [
    "## Plot the results"
   ]
  },
  {
   "cell_type": "code",
   "execution_count": null,
   "metadata": {},
   "outputs": [],
   "source": [
    "import matplotlib.pyplot as plt\n",
    "import seaborn as sns\n",
    "%matplotlib inline"
   ]
  },
  {
   "cell_type": "code",
   "execution_count": null,
   "metadata": {},
   "outputs": [],
   "source": [
    "# plot\n",
    "plt.figure(figsize=(12,7))\n",
    "plt.scatter(data_merged.monthly_delay, data_merged.liters_per_100km_per_passenger)\n",
    "plt.ylim(0, max(data_merged.liters_per_100km_per_passenger))\n",
    "plt.ylabel('consumption per passenger (in liters/100km)')\n",
    "plt.xlabel('flight delay (minutes)')\n",
    "plt.title('Consumptions per flight delays')"
   ]
  },
  {
   "cell_type": "code",
   "execution_count": null,
   "metadata": {},
   "outputs": [],
   "source": [
    "# check only the left cluster\n",
    "\n",
    "plt.figure(figsize=(12,7))\n",
    "plt.scatter(data_merged.monthly_delay, data_merged.liters_per_100km_per_passenger)\n",
    "plt.ylim(0, 0.007)\n",
    "plt.ylabel('consumption per passenger (in liters/100km)')\n",
    "plt.xlabel('flight delay (minutes)')\n",
    "plt.title('Consumptions per flight delays')"
   ]
  },
  {
   "cell_type": "markdown",
   "metadata": {},
   "source": [
    "Conclusion: it doesn't look like the consumption per passenger is related to flight delay. There are higher consumptions and it might be for more empty flights. Let's confirm this by removing the passengers and looking at only fuel consumption per distance unit."
   ]
  },
  {
   "cell_type": "markdown",
   "metadata": {},
   "source": [
    "# Check hypothesis: Higher delays tend to have a higher fuel consumption per mile\n",
    "Compare consumption in gallons per mile and see if there is a relation with delays"
   ]
  },
  {
   "cell_type": "code",
   "execution_count": null,
   "metadata": {},
   "outputs": [],
   "source": [
    "data_merged['cons_per_mile'] = data_merged.total_gallons / data_merged.distance\n",
    "data_merged.head()"
   ]
  },
  {
   "cell_type": "code",
   "execution_count": null,
   "metadata": {},
   "outputs": [],
   "source": [
    "plt.figure(figsize=(12,7))\n",
    "plt.scatter(data_merged.monthly_delay, data_merged.cons_per_mile)\n",
    "plt.ylim(0, max(data_merged.cons_per_mile))\n",
    "plt.ylabel('fuel consumption(in gallons/mile)')\n",
    "plt.xlabel('flight delay (minutes)')\n",
    "plt.title('Consumptions per flight delays')"
   ]
  },
  {
   "cell_type": "code",
   "execution_count": null,
   "metadata": {},
   "outputs": [],
   "source": [
    "# Looking at this one, it seems like higher delays tend to lead to sslightly hier fuel consumptions"
   ]
  },
  {
   "cell_type": "code",
   "execution_count": null,
   "metadata": {},
   "outputs": [],
   "source": [
    "# export merged_db\n",
    "pd.data_merged_to_csv('EDA_Task10_data')"
   ]
  },
  {
   "cell_type": "code",
   "execution_count": null,
   "metadata": {},
   "outputs": [],
   "source": []
  }
 ],
 "metadata": {
  "kernelspec": {
   "display_name": "Python 3",
   "language": "python",
   "name": "python3"
  },
  "language_info": {
   "codemirror_mode": {
    "name": "ipython",
    "version": 3
   },
   "file_extension": ".py",
   "mimetype": "text/x-python",
   "name": "python",
   "nbconvert_exporter": "python",
   "pygments_lexer": "ipython3",
   "version": "3.7.6"
  }
 },
 "nbformat": 4,
 "nbformat_minor": 4
}
