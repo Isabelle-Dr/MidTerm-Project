{
 "cells": [
  {
   "cell_type": "markdown",
   "metadata": {},
   "source": [
    "## Feature Selection and Data Cleaning\n",
    "\n",
    "### Goals\n",
    "The goal of this notebook is to provide functions to:\n",
    "- clean data\n",
    "- remove unneccessary/undesired features\n",
    "- create dummy variable\n",
    "- provide basis for feature engineering"
   ]
  },
  {
   "cell_type": "markdown",
   "metadata": {},
   "source": [
    "---"
   ]
  },
  {
   "cell_type": "markdown",
   "metadata": {},
   "source": [
    "### Variables to work with based on flights_test information <br>\n",
    "**fl_date**: Flight Date (yyyy-mm-dd)\n",
    "- split into 2 columns:\n",
    "   - fl_month\n",
    "    - fl_day_of_week\n",
    "\n",
    "**mkt_unique_carrier**: Unique Marketing Carrier Code. When the same code has been used by multiple carriers, a numeric suffix is used for earlier users, for example, PA, PA(1), PA(2). Use this field for analysis across a range of years.\n",
    "- combine with op_unique_carrier\n",
    "    - Label Encode\n",
    "\n",
    "**branded_code_share**: Reporting Carrier Operated or Branded Code Share Partners\n",
    "- Detemine is or is not \"codeshare\"\n",
    "- codeshare = 1\n",
    "- not codeshare = 0\n",
    "\n",
    "**mkt_carrier**: Code assigned by IATA and commonly used to identify a carrier. As the same code may have been assigned to different carriers over time, the code is not always unique. For analysis, use the Unique Carrier Code.\n",
    "- drop this information\n",
    "\n",
    "**mkt_carrier_fl_num**: Flight Number\n",
    "- determine flight type\n",
    "\n",
    "**op_unique_carrier**: Unique Scheduled Operating Carrier Code. When the same code has been used by multiple carriers, a numeric suffix is used for earlier users,for example, PA, PA(1), PA(2). Use this field for analysis across a range of years.\n",
    "- combine with mkt_unique_carrier\n",
    "    - Label Encode\n",
    "\n",
    "**tail_num**: Tail Number\n",
    "- drop this value\n",
    "\n",
    "**op_carrier_fl_num**: Flight Number\n",
    "- drop this value\n",
    "\n",
    "**origin_airport_id**: Origin Airport, Airport ID. An identification number assigned by US DOT to identify a unique airport. Use this field for airport analysis across a range of years because an airport can change its airport code and airport codes can be reused.\n",
    "- drop this value\n",
    "\n",
    "**origin**: Origin Airport\n",
    "- Label Encode\n",
    "\n",
    "**origin_city_name**: Origin Airport, City Name\n",
    "- plan to drop this column\n",
    "- option to create a state variable from this as indicated by a a two letter abreviation \n",
    "    - move as dummy\n",
    "\n",
    "**dest_airport_id**: Destination Airport, Airport ID. An identification number assigned by US DOT to identify a unique airport. Use this field for airport analysis across a range of years because an airport can change its airport code and airport codes can be reused.\n",
    "- drop this value\n",
    "\n",
    "**dest**: Destination Airport\n",
    "- use dummy variables\n",
    "\n",
    "**dest_city_name**: Destination Airport, City Name\n",
    "- plan to drop this column\n",
    "- option to create a state variable from this as indicated by a a two letter abreviation \n",
    "    - move as dummy\n",
    "\n",
    "**crs_dep_time**: CRS Departure Time (local time: hhmm)\n",
    "- create binned by hour\n",
    "\n",
    "**crs_arr_time**: CRS Arrival Time (local time: hhmm)\n",
    "- create binned by hour\n",
    "\n",
    "**dup**: Duplicate flag marked Y if the flight is swapped based on Form-3A data\n",
    "- in the 5,000,000 sample file we do not have any Y\n",
    "- we will check for any rows containing Y in full dataset -- drop rows if present\n",
    "- drop entire column\n",
    "    - Technical info from [link](https://www.bts.gov/sites/bts.dot.gov/files/docs/explore-topics-and-geography/topics/airlines-and-airports/207741/technical-directive-no-27-time-2018.pdf) states - Form 3A:  On-Time Performance Data for Codeshare Flights (Long)\n",
    "    - assumed to be an infrequent form\n",
    "\n",
    "**crs_elapsed_time**: CRS Elapsed Time of Flight, in Minutes\n",
    "- keep as is\n",
    "\n",
    "**flights**: Number of Flights\n",
    "- in the 5,000,000 sample file all values are equal to 1\n",
    "- we will check for any rows containing different values in full dataset -- drop rows if present\n",
    "- drop entire column\n",
    "\n",
    "**distance**: Distance between airports (miles)\n",
    "- keep as is\n",
    "    - option to bin"
   ]
  },
  {
   "cell_type": "markdown",
   "metadata": {},
   "source": [
    "---"
   ]
  },
  {
   "cell_type": "markdown",
   "metadata": {},
   "source": [
    "#### Package Imports"
   ]
  },
  {
   "cell_type": "code",
   "execution_count": 1,
   "metadata": {},
   "outputs": [],
   "source": [
    "import pandas as pd\n",
    "import numpy as np\n",
    "import datetime"
   ]
  },
  {
   "cell_type": "code",
   "execution_count": 5,
   "metadata": {},
   "outputs": [],
   "source": [
    "import warnings\n",
    "warnings.filterwarnings('ignore')"
   ]
  },
  {
   "cell_type": "markdown",
   "metadata": {},
   "source": [
    "---"
   ]
  },
  {
   "cell_type": "markdown",
   "metadata": {},
   "source": [
    "### Function Definition"
   ]
  },
  {
   "cell_type": "markdown",
   "metadata": {},
   "source": [
    "*binning into months*"
   ]
  },
  {
   "cell_type": "code",
   "execution_count": 2,
   "metadata": {},
   "outputs": [],
   "source": [
    "def get_month(date):\n",
    "    \"\"\"Returns the month the flight occurs\n",
    "    INPUT date in form YYYY-MM-DD\n",
    "    RETURNS month\"\"\"\n",
    "    DATE = datetime.datetime.strptime(date, \"%Y-%m-%d\")\n",
    "    return DATE.month"
   ]
  },
  {
   "cell_type": "markdown",
   "metadata": {},
   "source": [
    "*binning into day of week*"
   ]
  },
  {
   "cell_type": "code",
   "execution_count": 42,
   "metadata": {},
   "outputs": [],
   "source": [
    "def get_day_of_week(date):\n",
    "    \"\"\"Returns the day of the week\n",
    "    INPUT date in the form YYYY-MM-DD\n",
    "    RETURNS number of day of the week:\n",
    "            where 0 = Monday and 6 = Sunday\"\"\"\n",
    "    DATE = datetime.datetime.strptime(date, \"%Y-%m-%d\")\n",
    "    return DATE.weekday()"
   ]
  },
  {
   "cell_type": "markdown",
   "metadata": {},
   "source": [
    "*checking if codeshare*"
   ]
  },
  {
   "cell_type": "code",
   "execution_count": 4,
   "metadata": {},
   "outputs": [],
   "source": [
    "def check_codeshare(branded_codeshare):\n",
    "    words = branded_codeshare.split(\"_\")\n",
    "    if len(words) == 2:\n",
    "        return 1\n",
    "    return 0"
   ]
  },
  {
   "cell_type": "markdown",
   "metadata": {},
   "source": [
    "*binning into hours*"
   ]
  },
  {
   "cell_type": "code",
   "execution_count": 5,
   "metadata": {},
   "outputs": [],
   "source": [
    "def check_time_block(time):\n",
    "    \"\"\"Determine the hour of the day\n",
    "    INPUT time HHMM\n",
    "    RETURNS hour 0-23 where 0 == 12am and 23 == 11pm\"\"\"\n",
    "    if type(time) == 'numpy.ndarray':\n",
    "        time = time.astype(int)\n",
    "    time = int(time)\n",
    "    \n",
    "    t = time // 100\n",
    "    if t == 0:\n",
    "        return 0\n",
    "    return t-1"
   ]
  },
  {
   "cell_type": "markdown",
   "metadata": {},
   "source": [
    "*binning into haul length* (not used)"
   ]
  },
  {
   "cell_type": "code",
   "execution_count": 6,
   "metadata": {},
   "outputs": [],
   "source": [
    "def define_haul_length(distance):\n",
    "    \"\"\"Determine the haul length of a given distance\n",
    "    INPUT distance (in miles)\n",
    "    RETURNS {0: short haul, 1: medium haul, 2: long haul}\"\"\"\n",
    "    \n",
    "    if distance < 700:\n",
    "        return 0 \n",
    "    elif distance < 3000:\n",
    "        return 1\n",
    "    else: \n",
    "        return 2"
   ]
  },
  {
   "cell_type": "markdown",
   "metadata": {},
   "source": [
    "**NEW FEATURE** get unique mkt_op_combo\n",
    "> must apply dummy variables also"
   ]
  },
  {
   "cell_type": "code",
   "execution_count": 7,
   "metadata": {},
   "outputs": [],
   "source": [
    "def mkt_op_combo(mkt_unique, op_unique):\n",
    "    \"\"\"Output a string for the unique combination of the mkt_unique and op_unique\n",
    "        INPUT strings mkt_unique and op_unique\n",
    "        RETURNS string of unique combo\"\"\"\n",
    "    combo = mkt_unique+op_unique\n",
    "    return combo"
   ]
  },
  {
   "cell_type": "markdown",
   "metadata": {},
   "source": [
    "**NEW FEATURE** Travel in state or out of state"
   ]
  },
  {
   "cell_type": "code",
   "execution_count": 8,
   "metadata": {},
   "outputs": [],
   "source": [
    "def get_staterelation(origin_city,dep_city):\n",
    "    \"\"\"Takes in a strings representing origin and destination and returns whether \n",
    "        the flight is within a single state or between states\n",
    "        INPUT city (string format CITY, SS)\n",
    "        RETURN SS\"\"\"\n",
    "    or_info = origin_city.split(\",\")\n",
    "    dep_info = dep_city.split(\",\")\n",
    "    if or_info[1][1:] == dep_info[1][1:]:\n",
    "        return 0\n",
    "    else:\n",
    "        return 1"
   ]
  },
  {
   "cell_type": "markdown",
   "metadata": {},
   "source": [
    "**NEW FEATURE** Flight type"
   ]
  },
  {
   "cell_type": "code",
   "execution_count": 69,
   "metadata": {},
   "outputs": [],
   "source": [
    "def flight_type(fl_num):\n",
    "    \"\"\"Takes in a fl_num and returns the type of flight\n",
    "        INPUT fl_num\n",
    "        RETURNs flight_type \n",
    "                2: premium, 1 : regular, 0 : regional, ferry, codeshare\"\"\"\n",
    "    fl_num = str(fl_num)\n",
    "    if len(fl_num) < 3:\n",
    "        return 2 #preimum\n",
    "    if len(fl_num) == 3:\n",
    "        return 1 #reg\n",
    "    else: \n",
    "        return 0 #regional affiliate, ferry, codeshare, etc."
   ]
  },
  {
   "cell_type": "markdown",
   "metadata": {},
   "source": [
    "---"
   ]
  },
  {
   "cell_type": "markdown",
   "metadata": {},
   "source": [
    "### Applying Above\n",
    "\n",
    "**Step 1**: Remove outliers (any -150 < arr_delay < 150) <br>\n",
    "**Step 2**: Check 'flights' and 'dup' for unexpected values <br>\n",
    "**Step 3**: Drop Columns ('mkt_carrier', 'tail_num', 'op_carrier_fl_num', 'origin_airport_id', 'dest_airport_id', 'dup', 'flights') <br>\n",
    "**Step 4**: Get Columns 'fl_month' and 'fl_day_of_week' from 'fl_date' <br>\n",
    "$\\;\\;\\;\\;\\;\\;$*Step 4a*: Drop 'fl_date'<br>\n",
    "**Step 5**: Use 'mkt_unique_carrier' and 'op_unique_carrier' to obtain 'mkt_op_combo' <br>\n",
    "$\\;\\;\\;\\;\\;\\;$*Step 5a*: Drop 'mkt_unique_carrier' and 'op_unique_carrier' <br>\n",
    "**Step 6**: Binarize 'branded_code_share' <br>\n",
    "**Step 7**: Replace 'mkt_carrier_fl_num' with flight_type 'A-C' <br>\n",
    "**Step 8**: Replace 'origin_city_name' and 'dest_city_name' with state_travel_type <br>\n",
    "$\\;\\;\\;\\;\\;\\;$*Step 8a*: Drop 'origin_city_name' and 'dest_city_name' <br>\n",
    "**Step 9**: Replace 'crs_dep_time' with hour <br>\n",
    "**Step 10**: Replace 'crs_arr_time' with hour <br>\n",
    "**Step 11** Get cat.codes for ('mkt_op_combo', 'origin_airport', 'dest_airport') <br>\n",
    "$\\;\\;\\;\\;\\;\\;$*Step 11a* drop original columns for ('mkt_op_combo', 'origin_airport', 'dest_airport')"
   ]
  },
  {
   "cell_type": "markdown",
   "metadata": {},
   "source": [
    "***Special Notes for full flights database***\n",
    "- Also need to drop the following: <br>\n",
    "'dep_time', 'dep_delay', 'taxi_out', 'wheels_off', 'wheels_on', 'taxi_in', 'arr_time', 'cancellation_code', 'diverted', 'actual_elapsed_time', 'first_dep_time', 'total_add_gtime', 'longest_add_gtime'"
   ]
  },
  {
   "cell_type": "markdown",
   "metadata": {},
   "source": [
    "---"
   ]
  },
  {
   "cell_type": "markdown",
   "metadata": {},
   "source": [
    "### Small DataFrame"
   ]
  },
  {
   "cell_type": "code",
   "execution_count": 22,
   "metadata": {},
   "outputs": [],
   "source": [
    "df = pd.read_csv(\"flight_sample_small.csv\")"
   ]
  },
  {
   "cell_type": "code",
   "execution_count": 15,
   "metadata": {},
   "outputs": [
    {
     "data": {
      "text/html": [
       "<div>\n",
       "<style scoped>\n",
       "    .dataframe tbody tr th:only-of-type {\n",
       "        vertical-align: middle;\n",
       "    }\n",
       "\n",
       "    .dataframe tbody tr th {\n",
       "        vertical-align: top;\n",
       "    }\n",
       "\n",
       "    .dataframe thead th {\n",
       "        text-align: right;\n",
       "    }\n",
       "</style>\n",
       "<table border=\"1\" class=\"dataframe\">\n",
       "  <thead>\n",
       "    <tr style=\"text-align: right;\">\n",
       "      <th></th>\n",
       "      <th>fl_date</th>\n",
       "      <th>mkt_unique_carrier</th>\n",
       "      <th>branded_code_share</th>\n",
       "      <th>mkt_carrier</th>\n",
       "      <th>mkt_carrier_fl_num</th>\n",
       "      <th>op_unique_carrier</th>\n",
       "      <th>tail_num</th>\n",
       "      <th>op_carrier_fl_num</th>\n",
       "      <th>origin_airport_id</th>\n",
       "      <th>origin</th>\n",
       "      <th>...</th>\n",
       "      <th>flights</th>\n",
       "      <th>distance</th>\n",
       "      <th>carrier_delay</th>\n",
       "      <th>weather_delay</th>\n",
       "      <th>nas_delay</th>\n",
       "      <th>security_delay</th>\n",
       "      <th>late_aircraft_delay</th>\n",
       "      <th>first_dep_time</th>\n",
       "      <th>total_add_gtime</th>\n",
       "      <th>longest_add_gtime</th>\n",
       "    </tr>\n",
       "  </thead>\n",
       "  <tbody>\n",
       "    <tr>\n",
       "      <th>0</th>\n",
       "      <td>2019-01-11</td>\n",
       "      <td>AS</td>\n",
       "      <td>AS</td>\n",
       "      <td>AS</td>\n",
       "      <td>64</td>\n",
       "      <td>AS</td>\n",
       "      <td>N611AS</td>\n",
       "      <td>64</td>\n",
       "      <td>15841</td>\n",
       "      <td>WRG</td>\n",
       "      <td>...</td>\n",
       "      <td>1.0</td>\n",
       "      <td>82.0</td>\n",
       "      <td>0.0</td>\n",
       "      <td>0.0</td>\n",
       "      <td>0.0</td>\n",
       "      <td>0.0</td>\n",
       "      <td>0.0</td>\n",
       "      <td>1620.0</td>\n",
       "      <td>0.0</td>\n",
       "      <td>0.0</td>\n",
       "    </tr>\n",
       "  </tbody>\n",
       "</table>\n",
       "<p>1 rows × 41 columns</p>\n",
       "</div>"
      ],
      "text/plain": [
       "      fl_date mkt_unique_carrier branded_code_share mkt_carrier  \\\n",
       "0  2019-01-11                 AS                 AS          AS   \n",
       "\n",
       "   mkt_carrier_fl_num op_unique_carrier tail_num  op_carrier_fl_num  \\\n",
       "0                  64                AS   N611AS                 64   \n",
       "\n",
       "   origin_airport_id origin  ... flights  distance carrier_delay  \\\n",
       "0              15841    WRG  ...     1.0      82.0           0.0   \n",
       "\n",
       "  weather_delay  nas_delay  security_delay  late_aircraft_delay  \\\n",
       "0           0.0        0.0             0.0                  0.0   \n",
       "\n",
       "   first_dep_time  total_add_gtime  longest_add_gtime  \n",
       "0          1620.0              0.0                0.0  \n",
       "\n",
       "[1 rows x 41 columns]"
      ]
     },
     "execution_count": 15,
     "metadata": {},
     "output_type": "execute_result"
    }
   ],
   "source": [
    "df.head(1)"
   ]
  },
  {
   "cell_type": "markdown",
   "metadata": {},
   "source": [
    "*Pre* <br>\n",
    "$\\;\\;\\;\\;\\;\\;$dropping unneeded columns"
   ]
  },
  {
   "cell_type": "code",
   "execution_count": 24,
   "metadata": {},
   "outputs": [],
   "source": [
    "df.drop(columns=['dep_time', 'dep_delay', 'taxi_out', 'wheels_off', 'wheels_on', 'taxi_in','arr_time','cancellation_code', 'diverted', 'actual_elapsed_time', 'first_dep_time', 'total_add_gtime', 'longest_add_gtime'], inplace = True)"
   ]
  },
  {
   "cell_type": "markdown",
   "metadata": {},
   "source": [
    "*Step 1*"
   ]
  },
  {
   "cell_type": "code",
   "execution_count": 25,
   "metadata": {},
   "outputs": [],
   "source": [
    "df = df[df.arr_delay >= -225]\n",
    "df = df[df.arr_delay <= 225]"
   ]
  },
  {
   "cell_type": "markdown",
   "metadata": {},
   "source": [
    "*Step 2*"
   ]
  },
  {
   "cell_type": "code",
   "execution_count": 28,
   "metadata": {},
   "outputs": [
    {
     "data": {
      "text/plain": [
       "array([1.])"
      ]
     },
     "execution_count": 28,
     "metadata": {},
     "output_type": "execute_result"
    }
   ],
   "source": [
    "df.flights.unique()"
   ]
  },
  {
   "cell_type": "code",
   "execution_count": 29,
   "metadata": {},
   "outputs": [
    {
     "data": {
      "text/plain": [
       "array(['N'], dtype=object)"
      ]
     },
     "execution_count": 29,
     "metadata": {},
     "output_type": "execute_result"
    }
   ],
   "source": [
    "df.dup.unique()"
   ]
  },
  {
   "cell_type": "markdown",
   "metadata": {},
   "source": [
    "*Step 3*"
   ]
  },
  {
   "cell_type": "code",
   "execution_count": 31,
   "metadata": {},
   "outputs": [],
   "source": [
    "df.drop(columns = ['mkt_carrier', 'tail_num', 'op_carrier_fl_num', 'origin_airport_id', 'dest_airport_id', 'dup', 'flights'], inplace = True)"
   ]
  },
  {
   "cell_type": "markdown",
   "metadata": {},
   "source": [
    "*Step 4*"
   ]
  },
  {
   "cell_type": "code",
   "execution_count": 32,
   "metadata": {},
   "outputs": [],
   "source": [
    "#fl_month\n",
    "df['fl_month'] = df['fl_date'].map(get_month)"
   ]
  },
  {
   "cell_type": "code",
   "execution_count": 34,
   "metadata": {},
   "outputs": [],
   "source": [
    "#fl_day_of_month\n",
    "df['fl_day_of_week'] = df['fl_date'].map(get_day_of_week)"
   ]
  },
  {
   "cell_type": "code",
   "execution_count": 37,
   "metadata": {},
   "outputs": [],
   "source": [
    "#drop_fl_date\n",
    "df.drop(columns = 'fl_date', inplace=True)"
   ]
  },
  {
   "cell_type": "markdown",
   "metadata": {},
   "source": [
    "*Step 5*"
   ]
  },
  {
   "cell_type": "code",
   "execution_count": 38,
   "metadata": {},
   "outputs": [],
   "source": [
    "#get mkt_op_combo\n",
    "df[\"mkt_op_combo\"] = df.apply(lambda x: mkt_op_combo(x.mkt_unique_carrier, x.op_unique_carrier), axis=1)"
   ]
  },
  {
   "cell_type": "code",
   "execution_count": 41,
   "metadata": {},
   "outputs": [],
   "source": [
    "df.drop(columns = ['mkt_unique_carrier', 'op_unique_carrier'], inplace = True)"
   ]
  },
  {
   "cell_type": "markdown",
   "metadata": {},
   "source": [
    "*Step 6*"
   ]
  },
  {
   "cell_type": "code",
   "execution_count": 42,
   "metadata": {},
   "outputs": [],
   "source": [
    "df[\"branded_code_share\"] = df[\"branded_code_share\"].apply(check_codeshare)"
   ]
  },
  {
   "cell_type": "markdown",
   "metadata": {},
   "source": [
    "*Step 7*"
   ]
  },
  {
   "cell_type": "code",
   "execution_count": 44,
   "metadata": {},
   "outputs": [],
   "source": [
    "#get fl_type\n",
    "df[\"fl_type\"] = df[\"mkt_carrier_fl_num\"].apply(flight_type)"
   ]
  },
  {
   "cell_type": "code",
   "execution_count": 47,
   "metadata": {},
   "outputs": [],
   "source": [
    "df.drop(columns = 'mkt_carrier_fl_num', inplace=True)"
   ]
  },
  {
   "cell_type": "markdown",
   "metadata": {},
   "source": [
    "*Step 8*"
   ]
  },
  {
   "cell_type": "code",
   "execution_count": 48,
   "metadata": {},
   "outputs": [],
   "source": [
    "df['state_travel_type'] = df.apply(lambda x: get_staterelation(x.origin_city_name, x.dest_city_name), axis=1)"
   ]
  },
  {
   "cell_type": "code",
   "execution_count": 51,
   "metadata": {},
   "outputs": [],
   "source": [
    "df.drop(columns = ['origin_city_name','dest_city_name'], inplace=True)"
   ]
  },
  {
   "cell_type": "markdown",
   "metadata": {},
   "source": [
    "*Step 9*"
   ]
  },
  {
   "cell_type": "code",
   "execution_count": 52,
   "metadata": {},
   "outputs": [],
   "source": [
    "df['crs_dep_time'] = df['crs_dep_time'].apply(check_time_block)"
   ]
  },
  {
   "cell_type": "markdown",
   "metadata": {},
   "source": [
    "*Step 10*"
   ]
  },
  {
   "cell_type": "code",
   "execution_count": 54,
   "metadata": {},
   "outputs": [],
   "source": [
    "df['crs_arr_time'] = df['crs_arr_time'].apply(check_time_block)"
   ]
  },
  {
   "cell_type": "markdown",
   "metadata": {},
   "source": [
    "*Step 11* <br> for large data set revised to use label encoding"
   ]
  },
  {
   "cell_type": "code",
   "execution_count": 60,
   "metadata": {},
   "outputs": [],
   "source": [
    "df = pd.get_dummies(df, columns=['mkt_op_combo'])"
   ]
  },
  {
   "cell_type": "code",
   "execution_count": 63,
   "metadata": {},
   "outputs": [],
   "source": [
    "df = pd.get_dummies(df, columns=['fl_type']) "
   ]
  },
  {
   "cell_type": "code",
   "execution_count": 65,
   "metadata": {},
   "outputs": [],
   "source": [
    "df = pd.get_dummies(df, columns=['origin']) "
   ]
  },
  {
   "cell_type": "code",
   "execution_count": 66,
   "metadata": {},
   "outputs": [],
   "source": [
    "df = pd.get_dummies(df, columns=['dest']) "
   ]
  },
  {
   "cell_type": "markdown",
   "metadata": {},
   "source": [
    "---"
   ]
  },
  {
   "cell_type": "markdown",
   "metadata": {},
   "source": [
    "Repeat With Full Flights Data"
   ]
  },
  {
   "cell_type": "code",
   "execution_count": 70,
   "metadata": {},
   "outputs": [
    {
     "name": "stderr",
     "output_type": "stream",
     "text": [
      "/opt/anaconda3/lib/python3.8/site-packages/IPython/core/interactiveshell.py:3145: DtypeWarning: Columns (25) have mixed types.Specify dtype option on import or set low_memory=False.\n",
      "  has_raised = await self.run_ast_nodes(code_ast.body, cell_name,\n"
     ]
    }
   ],
   "source": [
    "df = pd.read_csv(\"flights_nullsremoved.csv\")"
   ]
  },
  {
   "cell_type": "markdown",
   "metadata": {},
   "source": [
    "*Pre-Step*"
   ]
  },
  {
   "cell_type": "code",
   "execution_count": 71,
   "metadata": {},
   "outputs": [],
   "source": [
    "df.drop(columns=['dep_time', 'dep_delay', 'taxi_out', 'wheels_off', 'wheels_on', 'taxi_in','arr_time','cancellation_code', 'diverted', 'actual_elapsed_time', 'first_dep_time', 'total_add_gtime', 'longest_add_gtime'], inplace = True)"
   ]
  },
  {
   "cell_type": "markdown",
   "metadata": {},
   "source": [
    "*Step 1*"
   ]
  },
  {
   "cell_type": "code",
   "execution_count": 72,
   "metadata": {},
   "outputs": [],
   "source": [
    "df = df[df.arr_delay >= -225]\n",
    "df = df[df.arr_delay <= 225]"
   ]
  },
  {
   "cell_type": "markdown",
   "metadata": {},
   "source": [
    "*Step 2*"
   ]
  },
  {
   "cell_type": "code",
   "execution_count": 73,
   "metadata": {},
   "outputs": [
    {
     "data": {
      "text/plain": [
       "array([1.])"
      ]
     },
     "execution_count": 73,
     "metadata": {},
     "output_type": "execute_result"
    }
   ],
   "source": [
    "df.flights.unique()"
   ]
  },
  {
   "cell_type": "code",
   "execution_count": 74,
   "metadata": {},
   "outputs": [
    {
     "data": {
      "text/plain": [
       "array(['N'], dtype=object)"
      ]
     },
     "execution_count": 74,
     "metadata": {},
     "output_type": "execute_result"
    }
   ],
   "source": [
    "df.dup.unique()"
   ]
  },
  {
   "cell_type": "markdown",
   "metadata": {},
   "source": [
    "*Step 3*"
   ]
  },
  {
   "cell_type": "code",
   "execution_count": 75,
   "metadata": {},
   "outputs": [],
   "source": [
    "df.drop(columns = ['mkt_carrier', 'tail_num', 'op_carrier_fl_num', 'origin_airport_id', 'dest_airport_id', 'dup', 'flights'], inplace = True)"
   ]
  },
  {
   "cell_type": "markdown",
   "metadata": {},
   "source": [
    "*Step 4*"
   ]
  },
  {
   "cell_type": "code",
   "execution_count": 76,
   "metadata": {},
   "outputs": [],
   "source": [
    "#fl_month\n",
    "df.loc[:,'fl_month'] = df['fl_date'].apply(get_month)"
   ]
  },
  {
   "cell_type": "code",
   "execution_count": 77,
   "metadata": {},
   "outputs": [],
   "source": [
    "#fl_day_of_week\n",
    "df.loc[:,'fl_day_of_week'] = df['fl_date'].apply(get_day_of_week)"
   ]
  },
  {
   "cell_type": "code",
   "execution_count": 78,
   "metadata": {},
   "outputs": [],
   "source": [
    "#drop_fl_date\n",
    "df.drop(columns = 'fl_date', inplace=True)"
   ]
  },
  {
   "cell_type": "markdown",
   "metadata": {},
   "source": [
    "*Step 5*"
   ]
  },
  {
   "cell_type": "code",
   "execution_count": 79,
   "metadata": {},
   "outputs": [],
   "source": [
    "#get mkt_op_combo\n",
    "df.loc[:,\"mkt_op_combo\"] = df.apply(lambda x: mkt_op_combo(x.mkt_unique_carrier, x.op_unique_carrier), axis=1)"
   ]
  },
  {
   "cell_type": "code",
   "execution_count": 80,
   "metadata": {},
   "outputs": [],
   "source": [
    "df.drop(columns = ['mkt_unique_carrier', 'op_unique_carrier'], inplace = True)"
   ]
  },
  {
   "cell_type": "markdown",
   "metadata": {},
   "source": [
    "*Step 6*"
   ]
  },
  {
   "cell_type": "code",
   "execution_count": 81,
   "metadata": {},
   "outputs": [],
   "source": [
    "df.loc[:,\"branded_code_share\"] = df[\"branded_code_share\"].apply(check_codeshare)"
   ]
  },
  {
   "cell_type": "markdown",
   "metadata": {},
   "source": [
    "*Step 7*"
   ]
  },
  {
   "cell_type": "code",
   "execution_count": 82,
   "metadata": {},
   "outputs": [],
   "source": [
    "#get fl_type\n",
    "df.loc[:,\"fl_type\"] = df[\"mkt_carrier_fl_num\"].apply(flight_type)"
   ]
  },
  {
   "cell_type": "code",
   "execution_count": 83,
   "metadata": {},
   "outputs": [],
   "source": [
    "df.drop(columns = 'mkt_carrier_fl_num', inplace=True)"
   ]
  },
  {
   "cell_type": "markdown",
   "metadata": {},
   "source": [
    "*Step 8*"
   ]
  },
  {
   "cell_type": "code",
   "execution_count": 84,
   "metadata": {},
   "outputs": [],
   "source": [
    "df.loc[:,'state_travel_type'] = df.apply(lambda x: get_staterelation(x.origin_city_name, x.dest_city_name), axis=1)"
   ]
  },
  {
   "cell_type": "code",
   "execution_count": 85,
   "metadata": {},
   "outputs": [],
   "source": [
    "df.drop(columns = ['origin_city_name','dest_city_name'], inplace=True)"
   ]
  },
  {
   "cell_type": "markdown",
   "metadata": {},
   "source": [
    "*Step 9*"
   ]
  },
  {
   "cell_type": "code",
   "execution_count": 86,
   "metadata": {},
   "outputs": [],
   "source": [
    "df.loc[:,'crs_dep_time'] = df['crs_dep_time'].apply(check_time_block)"
   ]
  },
  {
   "cell_type": "markdown",
   "metadata": {},
   "source": [
    "*Step 10*"
   ]
  },
  {
   "cell_type": "code",
   "execution_count": 87,
   "metadata": {},
   "outputs": [],
   "source": [
    "df.loc[:,'crs_arr_time'] = df['crs_arr_time'].apply(check_time_block)"
   ]
  },
  {
   "cell_type": "markdown",
   "metadata": {},
   "source": [
    "*Step 11*"
   ]
  },
  {
   "cell_type": "code",
   "execution_count": 88,
   "metadata": {},
   "outputs": [],
   "source": [
    "df.loc[:,\"origin\"] = df[\"origin\"].astype('category')\n",
    "df.loc[:,\"origin_cat\"] = df[\"origin\"].cat.codes"
   ]
  },
  {
   "cell_type": "code",
   "execution_count": 90,
   "metadata": {},
   "outputs": [],
   "source": [
    "df.loc[:,\"dest\"] = df[\"dest\"].astype('category')\n",
    "df.loc[:,\"dest_cat\"] = df[\"dest\"].cat.codes"
   ]
  },
  {
   "cell_type": "code",
   "execution_count": 91,
   "metadata": {},
   "outputs": [],
   "source": [
    "df.loc[:,\"mkt_op_combo\"] = df[\"mkt_op_combo\"].astype('category')\n",
    "df.loc[:,\"mkt_op_combo\"] = df[\"mkt_op_combo\"].cat.codes"
   ]
  },
  {
   "cell_type": "code",
   "execution_count": 93,
   "metadata": {},
   "outputs": [],
   "source": [
    "df.drop(columns = ['origin','dest','mkt_op_combo'], inplace=True)"
   ]
  },
  {
   "cell_type": "code",
   "execution_count": 95,
   "metadata": {},
   "outputs": [
    {
     "data": {
      "text/plain": [
       "(15768096, 19)"
      ]
     },
     "execution_count": 95,
     "metadata": {},
     "output_type": "execute_result"
    }
   ],
   "source": [
    "df.shape"
   ]
  },
  {
   "cell_type": "code",
   "execution_count": 96,
   "metadata": {},
   "outputs": [],
   "source": [
    "df.to_csv(\"flights_cleaned.csv\", index = False)"
   ]
  },
  {
   "cell_type": "code",
   "execution_count": null,
   "metadata": {},
   "outputs": [],
   "source": []
  }
 ],
 "metadata": {
  "kernelspec": {
   "display_name": "Python 3",
   "language": "python",
   "name": "python3"
  },
  "language_info": {
   "codemirror_mode": {
    "name": "ipython",
    "version": 3
   },
   "file_extension": ".py",
   "mimetype": "text/x-python",
   "name": "python",
   "nbconvert_exporter": "python",
   "pygments_lexer": "ipython3",
   "version": "3.8.3"
  }
 },
 "nbformat": 4,
 "nbformat_minor": 4
}
