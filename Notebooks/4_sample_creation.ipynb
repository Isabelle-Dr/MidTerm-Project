{
 "cells": [
  {
   "cell_type": "markdown",
   "metadata": {},
   "source": [
    "# The goal of this file is to create smaller samples for each ML task in order to spot check different algorythms\n",
    "## INPUTS \n",
    "- flights_scaled_sample.csv\n",
    "- flights_pca.csv  \n",
    "## OUTPUTS\n",
    "- db_binary_sample.csv\n",
    "- db_multiclass_sample\n",
    "- db_regression_sample\n",
    "- db_binary_pca_sample.csv\n",
    "- db_multiclass_pca_sample\n",
    "- db_regression_pca_sample"
   ]
  },
  {
   "cell_type": "code",
   "execution_count": 1,
   "metadata": {},
   "outputs": [],
   "source": [
    "import pandas as pd"
   ]
  },
  {
   "cell_type": "markdown",
   "metadata": {},
   "source": [
    "### From Flights_scaled"
   ]
  },
  {
   "cell_type": "code",
   "execution_count": 2,
   "metadata": {},
   "outputs": [],
   "source": [
    "flights= pd.read_csv('flights_scaled_sample.csv')"
   ]
  },
  {
   "cell_type": "code",
   "execution_count": 3,
   "metadata": {},
   "outputs": [
    {
     "data": {
      "text/plain": [
       "(10000, 20)"
      ]
     },
     "execution_count": 3,
     "metadata": {},
     "output_type": "execute_result"
    }
   ],
   "source": [
    "flights.shape"
   ]
  },
  {
   "cell_type": "code",
   "execution_count": 4,
   "metadata": {},
   "outputs": [
    {
     "name": "stdout",
     "output_type": "stream",
     "text": [
      "<class 'pandas.core.frame.DataFrame'>\n",
      "RangeIndex: 10000 entries, 0 to 9999\n",
      "Data columns (total 20 columns):\n",
      " #   Column              Non-Null Count  Dtype  \n",
      "---  ------              --------------  -----  \n",
      " 0   branded_code_share  10000 non-null  float64\n",
      " 1   crs_dep_time        10000 non-null  float64\n",
      " 2   crs_arr_time        10000 non-null  float64\n",
      " 3   crs_elapsed_time    10000 non-null  float64\n",
      " 4   air_time            10000 non-null  float64\n",
      " 5   distance            10000 non-null  float64\n",
      " 6   fl_month            10000 non-null  float64\n",
      " 7   fl_day_of_week      10000 non-null  float64\n",
      " 8   fl_type             10000 non-null  float64\n",
      " 9   state_travel_type   10000 non-null  float64\n",
      " 10  m_hist_dep_delay    10000 non-null  float64\n",
      " 11  med_hist_dep_delay  10000 non-null  float64\n",
      " 12  m_hist_arr_delay    10000 non-null  float64\n",
      " 13  med_hist_arr_delay  10000 non-null  float64\n",
      " 14  origin_cat          10000 non-null  float64\n",
      " 15  dest_cat            10000 non-null  float64\n",
      " 16  mkt_op_combo_cat    10000 non-null  float64\n",
      " 17  arr_delay           10000 non-null  float64\n",
      " 18  cancelled           10000 non-null  float64\n",
      " 19  delay_type          10000 non-null  int64  \n",
      "dtypes: float64(19), int64(1)\n",
      "memory usage: 1.5 MB\n"
     ]
    }
   ],
   "source": [
    "flights.info()"
   ]
  },
  {
   "cell_type": "code",
   "execution_count": 5,
   "metadata": {},
   "outputs": [
    {
     "name": "stdout",
     "output_type": "stream",
     "text": [
      "1885\n",
      "1885\n"
     ]
    }
   ],
   "source": [
    "# make sure arr delay >0  is the same than delay_type>0\n",
    "print(len(flights[flights.delay_type >0]))\n",
    "print(len(flights[flights.delay_type >0]))"
   ]
  },
  {
   "cell_type": "code",
   "execution_count": 6,
   "metadata": {},
   "outputs": [],
   "source": [
    "# get database for binary classification. drop target variables used in other models\n",
    "db_binary_sample = flights.drop(['arr_delay', 'delay_type'], axis=1)"
   ]
  },
  {
   "cell_type": "code",
   "execution_count": 7,
   "metadata": {},
   "outputs": [],
   "source": [
    "# get database for multiclass classification - only flights that were delayed, drop target variables used in other models\n",
    "db_multiclass_sample = flights[flights['arr_delay'] > 0].drop(['arr_delay', 'cancelled'], axis=1)"
   ]
  },
  {
   "cell_type": "code",
   "execution_count": 8,
   "metadata": {},
   "outputs": [],
   "source": [
    "# get database for regression. drop target variables used in other models\n",
    "db_regression_sample = flights.drop(['arr_delay', 'delay_type', 'cancelled'], axis=1)"
   ]
  },
  {
   "cell_type": "code",
   "execution_count": 9,
   "metadata": {},
   "outputs": [],
   "source": [
    "# export samples\n",
    "db_binary_sample.to_csv(\"db_binary_sample.csv\")\n",
    "db_multiclass_sample.to_csv(\"db_multiclass_sample.csv\")\n",
    "db_regression_sample.to_csv(\"db_regression_sample.csv\")"
   ]
  },
  {
   "cell_type": "markdown",
   "metadata": {},
   "source": [
    "### From Flights_pca "
   ]
  },
  {
   "cell_type": "code",
   "execution_count": 10,
   "metadata": {},
   "outputs": [],
   "source": [
    "flights = pd.read_csv('flights_pca.csv')"
   ]
  },
  {
   "cell_type": "code",
   "execution_count": 11,
   "metadata": {},
   "outputs": [
    {
     "data": {
      "text/plain": [
       "(15768083, 15)"
      ]
     },
     "execution_count": 11,
     "metadata": {},
     "output_type": "execute_result"
    }
   ],
   "source": [
    "flights.shape"
   ]
  },
  {
   "cell_type": "code",
   "execution_count": 12,
   "metadata": {},
   "outputs": [
    {
     "name": "stdout",
     "output_type": "stream",
     "text": [
      "<class 'pandas.core.frame.DataFrame'>\n",
      "RangeIndex: 15768083 entries, 0 to 15768082\n",
      "Data columns (total 15 columns):\n",
      " #   Column      Dtype  \n",
      "---  ------      -----  \n",
      " 0   pc1         float64\n",
      " 1   pc2         float64\n",
      " 2   pc3         float64\n",
      " 3   pc4         float64\n",
      " 4   pc5         float64\n",
      " 5   pc6         float64\n",
      " 6   pc7         float64\n",
      " 7   pc8         float64\n",
      " 8   pc9         float64\n",
      " 9   pc10        float64\n",
      " 10  pc11        float64\n",
      " 11  pc12        float64\n",
      " 12  arr_delay   float64\n",
      " 13  cancelled   float64\n",
      " 14  delay_type  int64  \n",
      "dtypes: float64(14), int64(1)\n",
      "memory usage: 1.8 GB\n"
     ]
    }
   ],
   "source": [
    "flights.info()"
   ]
  },
  {
   "cell_type": "code",
   "execution_count": 21,
   "metadata": {},
   "outputs": [
    {
     "data": {
      "text/plain": [
       "array([0, 5, 1, 3, 2, 4], dtype=int64)"
      ]
     },
     "execution_count": 21,
     "metadata": {},
     "output_type": "execute_result"
    }
   ],
   "source": [
    "flights.delay_type.unique()"
   ]
  },
  {
   "cell_type": "code",
   "execution_count": 14,
   "metadata": {},
   "outputs": [
    {
     "data": {
      "text/plain": [
       "15768083"
      ]
     },
     "execution_count": 14,
     "metadata": {},
     "output_type": "execute_result"
    }
   ],
   "source": [
    "# get database for binary classification. drop target variables used in other models, \n",
    "db_binary_pca = flights.drop(['arr_delay', 'delay_type'], axis=1)\n",
    "len(db_binary_pca)"
   ]
  },
  {
   "cell_type": "code",
   "execution_count": 15,
   "metadata": {},
   "outputs": [],
   "source": [
    "# get a 1 million sample\n",
    "db_binary_pca_sample = db_binary_pca.sample(1000000)"
   ]
  },
  {
   "cell_type": "code",
   "execution_count": 16,
   "metadata": {},
   "outputs": [
    {
     "data": {
      "text/plain": [
       "5362298"
      ]
     },
     "execution_count": 16,
     "metadata": {},
     "output_type": "execute_result"
    }
   ],
   "source": [
    "# get database for multiclass classification - only flights that were delayed, drop target variables used in other models\n",
    "db_multiclass_pca = flights[flights['arr_delay'] > 0].drop(['arr_delay', 'cancelled'], axis=1)\n",
    "len(db_multiclass_pca)"
   ]
  },
  {
   "cell_type": "code",
   "execution_count": 17,
   "metadata": {},
   "outputs": [],
   "source": [
    "# get a 1 million sample\n",
    "db_multiclass_pca_sample = db_multiclass_pca.sample(1000000)"
   ]
  },
  {
   "cell_type": "code",
   "execution_count": 18,
   "metadata": {},
   "outputs": [
    {
     "data": {
      "text/plain": [
       "15768083"
      ]
     },
     "execution_count": 18,
     "metadata": {},
     "output_type": "execute_result"
    }
   ],
   "source": [
    "# get database for regression. drop target variables used in other models \n",
    "db_regression_pca = flights.drop(['arr_delay', 'delay_type', 'cancelled'], axis=1)\n",
    "len(db_regression_pca)"
   ]
  },
  {
   "cell_type": "code",
   "execution_count": 19,
   "metadata": {},
   "outputs": [],
   "source": [
    "# get a 1 million sample\n",
    "db_regression_pca_sample = db_regression_pca.sample(1000000)"
   ]
  },
  {
   "cell_type": "code",
   "execution_count": 20,
   "metadata": {},
   "outputs": [],
   "source": [
    "# export samples\n",
    "\n",
    "db_binary_pca_sample.to_csv(\"db_binary_pca_sample.csv\")\n",
    "db_multiclass_pca_sample.to_csv(\"db_multiclass_pca_sample.csv\")\n",
    "db_regression_pca_sample.to_csv(\"db_regression_pca_sample.csv\")"
   ]
  },
  {
   "cell_type": "code",
   "execution_count": null,
   "metadata": {},
   "outputs": [],
   "source": []
  }
 ],
 "metadata": {
  "kernelspec": {
   "display_name": "Python 3",
   "language": "python",
   "name": "python3"
  },
  "language_info": {
   "codemirror_mode": {
    "name": "ipython",
    "version": 3
   },
   "file_extension": ".py",
   "mimetype": "text/x-python",
   "name": "python",
   "nbconvert_exporter": "python",
   "pygments_lexer": "ipython3",
   "version": "3.7.6"
  }
 },
 "nbformat": 4,
 "nbformat_minor": 4
}
