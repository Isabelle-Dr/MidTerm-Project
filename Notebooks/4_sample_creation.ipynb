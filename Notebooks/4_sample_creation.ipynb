{
 "cells": [
  {
   "cell_type": "markdown",
   "metadata": {},
   "source": [
    "# The goal of this file is to create smaller samples for each ML task in order to spot check different algorythms\n",
    "## INPUTS \n",
    "- flights_scaled_sample.csv\n",
    "- flights_pca_sample.csv  \n",
    "## OUTPUTS\n",
    "- db_binary_sample.csv\n",
    "- db_multiclass_sample\n",
    "- db_regression_sample\n",
    "- db_binary_pca_sample.csv\n",
    "- db_multiclass_pca_sample\n",
    "- db_regression_pca_sample"
   ]
  },
  {
   "cell_type": "code",
   "execution_count": 1,
   "metadata": {},
   "outputs": [],
   "source": [
    "import pandas as pd"
   ]
  },
  {
   "cell_type": "markdown",
   "metadata": {},
   "source": [
    "### From Flights_scaled"
   ]
  },
  {
   "cell_type": "code",
   "execution_count": 15,
   "metadata": {},
   "outputs": [],
   "source": [
    "flights= pd.read_csv('flights_scaled_sample.csv')"
   ]
  },
  {
   "cell_type": "code",
   "execution_count": 16,
   "metadata": {},
   "outputs": [
    {
     "data": {
      "text/plain": [
       "(10000, 20)"
      ]
     },
     "execution_count": 16,
     "metadata": {},
     "output_type": "execute_result"
    }
   ],
   "source": [
    "flights.shape"
   ]
  },
  {
   "cell_type": "code",
   "execution_count": 17,
   "metadata": {
    "collapsed": true,
    "jupyter": {
     "outputs_hidden": true
    }
   },
   "outputs": [
    {
     "name": "stdout",
     "output_type": "stream",
     "text": [
      "<class 'pandas.core.frame.DataFrame'>\n",
      "RangeIndex: 10000 entries, 0 to 9999\n",
      "Data columns (total 20 columns):\n",
      " #   Column              Non-Null Count  Dtype  \n",
      "---  ------              --------------  -----  \n",
      " 0   branded_code_share  10000 non-null  float64\n",
      " 1   origin              10000 non-null  float64\n",
      " 2   dest                10000 non-null  float64\n",
      " 3   crs_dep_time        10000 non-null  float64\n",
      " 4   crs_arr_time        10000 non-null  float64\n",
      " 5   crs_elapsed_time    10000 non-null  float64\n",
      " 6   air_time            10000 non-null  float64\n",
      " 7   distance            10000 non-null  float64\n",
      " 8   fl_month            10000 non-null  float64\n",
      " 9   fl_day_of_week      10000 non-null  float64\n",
      " 10  fl_week_of_month    10000 non-null  float64\n",
      " 11  mkt_op_combo        10000 non-null  float64\n",
      " 12  fl_type             10000 non-null  float64\n",
      " 13  m_hist_dep_delay    10000 non-null  float64\n",
      " 14  med_hist_dep_delay  10000 non-null  float64\n",
      " 15  m_hist_arr_delay    10000 non-null  float64\n",
      " 16  med_hist_arr_delay  10000 non-null  float64\n",
      " 17  arr_delay           10000 non-null  float64\n",
      " 18  cancelled           10000 non-null  float64\n",
      " 19  delay_type          10000 non-null  int64  \n",
      "dtypes: float64(19), int64(1)\n",
      "memory usage: 1.5 MB\n"
     ]
    }
   ],
   "source": [
    "flights.info()"
   ]
  },
  {
   "cell_type": "code",
   "execution_count": 18,
   "metadata": {},
   "outputs": [
    {
     "name": "stdout",
     "output_type": "stream",
     "text": [
      "3307\n",
      "1781\n"
     ]
    }
   ],
   "source": [
    "# see portion of delayed flights that have a cause (33% all flights are delayed, 17% have a cause reported)\n",
    "print(len(flights[flights.arr_delay >0]))\n",
    "print(len(flights[flights.delay_type >0]))"
   ]
  },
  {
   "cell_type": "code",
   "execution_count": 19,
   "metadata": {},
   "outputs": [],
   "source": [
    "# get database for binary classification. drop target variables used in other models\n",
    "db_binary_sample = flights.drop(['arr_delay', 'delay_type'], axis=1)"
   ]
  },
  {
   "cell_type": "code",
   "execution_count": 20,
   "metadata": {},
   "outputs": [],
   "source": [
    "# get database for multiclass classification - only flights that were delayed, drop target variables used in other models, take only >15min dalays \n",
    "db_multiclass_sample = flights[flights['arr_delay'] > 15].drop(['arr_delay', 'cancelled'], axis=1)"
   ]
  },
  {
   "cell_type": "code",
   "execution_count": 21,
   "metadata": {},
   "outputs": [],
   "source": [
    "# get database for regression. drop target variables used in other models\n",
    "db_regression_sample = flights.drop(['delay_type', 'cancelled'], axis=1)"
   ]
  },
  {
   "cell_type": "code",
   "execution_count": 22,
   "metadata": {},
   "outputs": [
    {
     "name": "stdout",
     "output_type": "stream",
     "text": [
      "(10000, 18)\n",
      "(1723, 18)\n",
      "(10000, 18)\n"
     ]
    }
   ],
   "source": [
    "# print final shapes\n",
    "print(db_binary_sample.shape)\n",
    "print(db_multiclass_sample.shape)\n",
    "print(db_regression_sample.shape)"
   ]
  },
  {
   "cell_type": "code",
   "execution_count": 23,
   "metadata": {},
   "outputs": [],
   "source": [
    "# export samples\n",
    "\n",
    "db_binary_sample.to_csv(\"db_binary_sample.csv\")\n",
    "db_multiclass_sample.to_csv(\"db_multiclass_sample.csv\")\n",
    "db_regression_sample.to_csv(\"db_regression_sample.csv\")"
   ]
  },
  {
   "cell_type": "markdown",
   "metadata": {},
   "source": [
    "### From Flights_pca "
   ]
  },
  {
   "cell_type": "code",
   "execution_count": 24,
   "metadata": {},
   "outputs": [],
   "source": [
    "flights_pca = pd.read_csv('flights_pca_sample.csv')"
   ]
  },
  {
   "cell_type": "code",
   "execution_count": 25,
   "metadata": {},
   "outputs": [
    {
     "data": {
      "text/plain": [
       "(10000, 8)"
      ]
     },
     "execution_count": 25,
     "metadata": {},
     "output_type": "execute_result"
    }
   ],
   "source": [
    "flights_pca.shape"
   ]
  },
  {
   "cell_type": "code",
   "execution_count": 26,
   "metadata": {
    "collapsed": true,
    "jupyter": {
     "outputs_hidden": true
    }
   },
   "outputs": [
    {
     "name": "stdout",
     "output_type": "stream",
     "text": [
      "<class 'pandas.core.frame.DataFrame'>\n",
      "RangeIndex: 10000 entries, 0 to 9999\n",
      "Data columns (total 8 columns):\n",
      " #   Column      Non-Null Count  Dtype  \n",
      "---  ------      --------------  -----  \n",
      " 0   pc1         10000 non-null  float64\n",
      " 1   pc2         10000 non-null  float64\n",
      " 2   pc3         10000 non-null  float64\n",
      " 3   pc4         10000 non-null  float64\n",
      " 4   pc5         10000 non-null  float64\n",
      " 5   arr_delay   10000 non-null  float64\n",
      " 6   cancelled   10000 non-null  float64\n",
      " 7   delay_type  10000 non-null  int64  \n",
      "dtypes: float64(7), int64(1)\n",
      "memory usage: 625.1 KB\n"
     ]
    }
   ],
   "source": [
    "flights_pca.info()"
   ]
  },
  {
   "cell_type": "code",
   "execution_count": 27,
   "metadata": {},
   "outputs": [
    {
     "data": {
      "text/plain": [
       "array([0, 3, 1, 5, 2, 4], dtype=int64)"
      ]
     },
     "execution_count": 27,
     "metadata": {},
     "output_type": "execute_result"
    }
   ],
   "source": [
    "flights_pca.delay_type.unique()"
   ]
  },
  {
   "cell_type": "code",
   "execution_count": 35,
   "metadata": {},
   "outputs": [
    {
     "data": {
      "text/plain": [
       "10000"
      ]
     },
     "execution_count": 35,
     "metadata": {},
     "output_type": "execute_result"
    }
   ],
   "source": [
    "# get database for binary classification. drop target variables used in other models, take only >15min delays\n",
    "db_binary_pca_sample = flights_pca.drop(['arr_delay', 'delay_type'], axis=1)\n",
    "len(db_binary_pca)"
   ]
  },
  {
   "cell_type": "code",
   "execution_count": 36,
   "metadata": {},
   "outputs": [
    {
     "data": {
      "text/plain": [
       "1743"
      ]
     },
     "execution_count": 36,
     "metadata": {},
     "output_type": "execute_result"
    }
   ],
   "source": [
    "# get database for multiclass classification - only flights that were delayed, drop target variables used in other models\n",
    "db_multiclass_pca_sample = flights_pca[flights_pca['arr_delay'] > 15].drop(['arr_delay', 'cancelled'], axis=1)\n",
    "len(db_multiclass_pca)"
   ]
  },
  {
   "cell_type": "code",
   "execution_count": 37,
   "metadata": {},
   "outputs": [
    {
     "data": {
      "text/plain": [
       "10000"
      ]
     },
     "execution_count": 37,
     "metadata": {},
     "output_type": "execute_result"
    }
   ],
   "source": [
    "# get database for regression. drop target variables used in other models \n",
    "db_regression_pca_sample = flights_pca.drop(['delay_type', 'cancelled'], axis=1)\n",
    "len(db_regression_pca)"
   ]
  },
  {
   "cell_type": "code",
   "execution_count": 38,
   "metadata": {},
   "outputs": [
    {
     "name": "stdout",
     "output_type": "stream",
     "text": [
      "(10000, 6)\n",
      "(1743, 6)\n",
      "(10000, 6)\n"
     ]
    }
   ],
   "source": [
    "# print final shapes\n",
    "\n",
    "print(db_binary_pca_sample.shape)\n",
    "print(db_multiclass_pca_sample.shape)\n",
    "print(db_regression_pca_sample.shape)"
   ]
  },
  {
   "cell_type": "code",
   "execution_count": 39,
   "metadata": {},
   "outputs": [],
   "source": [
    "# export samples\n",
    "\n",
    "db_binary_pca_sample.to_csv(\"db_binary_pca_sample.csv\")\n",
    "db_multiclass_pca_sample.to_csv(\"db_multiclass_pca_sample.csv\")\n",
    "db_regression_pca_sample.to_csv(\"db_regression_pca_sample.csv\")"
   ]
  },
  {
   "cell_type": "code",
   "execution_count": null,
   "metadata": {},
   "outputs": [],
   "source": []
  }
 ],
 "metadata": {
  "kernelspec": {
   "display_name": "Python 3",
   "language": "python",
   "name": "python3"
  },
  "language_info": {
   "codemirror_mode": {
    "name": "ipython",
    "version": 3
   },
   "file_extension": ".py",
   "mimetype": "text/x-python",
   "name": "python",
   "nbconvert_exporter": "python",
   "pygments_lexer": "ipython3",
   "version": "3.7.6"
  }
 },
 "nbformat": 4,
 "nbformat_minor": 4
}
