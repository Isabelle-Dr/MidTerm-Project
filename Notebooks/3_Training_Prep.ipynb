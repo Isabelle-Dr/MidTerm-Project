{
 "cells": [
  {
   "cell_type": "markdown",
   "metadata": {},
   "source": [
    "## Training Prep"
   ]
  },
  {
   "cell_type": "markdown",
   "metadata": {},
   "source": [
    "The purpose of this notebook is to provide scaled data for the models we will be using"
   ]
  },
  {
   "cell_type": "markdown",
   "metadata": {},
   "source": [
    "---"
   ]
  },
  {
   "cell_type": "markdown",
   "metadata": {},
   "source": [
    "**INPUT**: flights_cleaned (train or test) <br>\n",
    "**OUTPUT**: flights_scaled (train or test) and scaler.pkl <br>\n",
    "**Next Steps**: PCA (where required) and/or Modeling"
   ]
  },
  {
   "cell_type": "markdown",
   "metadata": {},
   "source": [
    "---"
   ]
  },
  {
   "cell_type": "markdown",
   "metadata": {},
   "source": [
    "### Import Packages"
   ]
  },
  {
   "cell_type": "code",
   "execution_count": 16,
   "metadata": {},
   "outputs": [],
   "source": [
    "import pandas as pd\n",
    "import numpy as np\n",
    "from sklearn.model_selection import train_test_split\n",
    "from sklearn.preprocessing import StandardScaler\n",
    "from pickle import dump"
   ]
  },
  {
   "cell_type": "markdown",
   "metadata": {},
   "source": [
    "---"
   ]
  },
  {
   "cell_type": "markdown",
   "metadata": {},
   "source": [
    "*import cleaned data*"
   ]
  },
  {
   "cell_type": "code",
   "execution_count": 40,
   "metadata": {},
   "outputs": [],
   "source": [
    "df = pd.read_csv(\"flights_cleaned.csv\")"
   ]
  },
  {
   "cell_type": "code",
   "execution_count": 41,
   "metadata": {},
   "outputs": [
    {
     "data": {
      "text/html": [
       "<div>\n",
       "<style scoped>\n",
       "    .dataframe tbody tr th:only-of-type {\n",
       "        vertical-align: middle;\n",
       "    }\n",
       "\n",
       "    .dataframe tbody tr th {\n",
       "        vertical-align: top;\n",
       "    }\n",
       "\n",
       "    .dataframe thead th {\n",
       "        text-align: right;\n",
       "    }\n",
       "</style>\n",
       "<table border=\"1\" class=\"dataframe\">\n",
       "  <thead>\n",
       "    <tr style=\"text-align: right;\">\n",
       "      <th></th>\n",
       "      <th>branded_code_share</th>\n",
       "      <th>crs_dep_time</th>\n",
       "      <th>crs_arr_time</th>\n",
       "      <th>arr_delay</th>\n",
       "      <th>cancelled</th>\n",
       "      <th>crs_elapsed_time</th>\n",
       "      <th>air_time</th>\n",
       "      <th>distance</th>\n",
       "      <th>fl_month</th>\n",
       "      <th>fl_day_of_week</th>\n",
       "      <th>fl_type</th>\n",
       "      <th>state_travel_type</th>\n",
       "      <th>m_hist_dep_delay</th>\n",
       "      <th>med_hist_dep_delay</th>\n",
       "      <th>m_hist_arr_delay</th>\n",
       "      <th>med_hist_arr_delay</th>\n",
       "      <th>origin_cat</th>\n",
       "      <th>dest_cat</th>\n",
       "      <th>mkt_op_combo_cat</th>\n",
       "      <th>delay_type</th>\n",
       "    </tr>\n",
       "  </thead>\n",
       "  <tbody>\n",
       "    <tr>\n",
       "      <th>0</th>\n",
       "      <td>1</td>\n",
       "      <td>16</td>\n",
       "      <td>18</td>\n",
       "      <td>11.0</td>\n",
       "      <td>0.0</td>\n",
       "      <td>118.0</td>\n",
       "      <td>91.0</td>\n",
       "      <td>573.0</td>\n",
       "      <td>11</td>\n",
       "      <td>0</td>\n",
       "      <td>0</td>\n",
       "      <td>1</td>\n",
       "      <td>12.382206</td>\n",
       "      <td>-1.0</td>\n",
       "      <td>7.657341</td>\n",
       "      <td>-4.0</td>\n",
       "      <td>144</td>\n",
       "      <td>271</td>\n",
       "      <td>7</td>\n",
       "      <td>0</td>\n",
       "    </tr>\n",
       "    <tr>\n",
       "      <th>1</th>\n",
       "      <td>1</td>\n",
       "      <td>14</td>\n",
       "      <td>16</td>\n",
       "      <td>6.0</td>\n",
       "      <td>0.0</td>\n",
       "      <td>130.0</td>\n",
       "      <td>93.0</td>\n",
       "      <td>573.0</td>\n",
       "      <td>11</td>\n",
       "      <td>0</td>\n",
       "      <td>0</td>\n",
       "      <td>1</td>\n",
       "      <td>10.304525</td>\n",
       "      <td>-1.0</td>\n",
       "      <td>5.449820</td>\n",
       "      <td>-5.0</td>\n",
       "      <td>271</td>\n",
       "      <td>144</td>\n",
       "      <td>7</td>\n",
       "      <td>0</td>\n",
       "    </tr>\n",
       "  </tbody>\n",
       "</table>\n",
       "</div>"
      ],
      "text/plain": [
       "   branded_code_share  crs_dep_time  crs_arr_time  arr_delay  cancelled  \\\n",
       "0                   1            16            18       11.0        0.0   \n",
       "1                   1            14            16        6.0        0.0   \n",
       "\n",
       "   crs_elapsed_time  air_time  distance  fl_month  fl_day_of_week  fl_type  \\\n",
       "0             118.0      91.0     573.0        11               0        0   \n",
       "1             130.0      93.0     573.0        11               0        0   \n",
       "\n",
       "   state_travel_type  m_hist_dep_delay  med_hist_dep_delay  m_hist_arr_delay  \\\n",
       "0                  1         12.382206                -1.0          7.657341   \n",
       "1                  1         10.304525                -1.0          5.449820   \n",
       "\n",
       "   med_hist_arr_delay  origin_cat  dest_cat  mkt_op_combo_cat  delay_type  \n",
       "0                -4.0         144       271                 7           0  \n",
       "1                -5.0         271       144                 7           0  "
      ]
     },
     "execution_count": 41,
     "metadata": {},
     "output_type": "execute_result"
    }
   ],
   "source": [
    "df.head(2)"
   ]
  },
  {
   "cell_type": "code",
   "execution_count": 42,
   "metadata": {},
   "outputs": [
    {
     "data": {
      "text/plain": [
       "Index(['branded_code_share', 'crs_dep_time', 'crs_arr_time', 'arr_delay',\n",
       "       'cancelled', 'crs_elapsed_time', 'air_time', 'distance', 'fl_month',\n",
       "       'fl_day_of_week', 'fl_type', 'state_travel_type', 'm_hist_dep_delay',\n",
       "       'med_hist_dep_delay', 'm_hist_arr_delay', 'med_hist_arr_delay',\n",
       "       'origin_cat', 'dest_cat', 'mkt_op_combo_cat', 'delay_type'],\n",
       "      dtype='object')"
      ]
     },
     "execution_count": 42,
     "metadata": {},
     "output_type": "execute_result"
    }
   ],
   "source": [
    "df.columns"
   ]
  },
  {
   "cell_type": "markdown",
   "metadata": {},
   "source": [
    "*work with regression df*"
   ]
  },
  {
   "cell_type": "code",
   "execution_count": 43,
   "metadata": {},
   "outputs": [],
   "source": [
    "y = df[['arr_delay', 'cancelled', 'delay_type']]"
   ]
  },
  {
   "cell_type": "code",
   "execution_count": 45,
   "metadata": {},
   "outputs": [],
   "source": [
    "X = df.drop(columns = ['arr_delay', 'cancelled', 'delay_type']).values"
   ]
  },
  {
   "cell_type": "code",
   "execution_count": 46,
   "metadata": {},
   "outputs": [],
   "source": [
    "scaler = StandardScaler()"
   ]
  },
  {
   "cell_type": "code",
   "execution_count": 47,
   "metadata": {},
   "outputs": [
    {
     "data": {
      "text/plain": [
       "StandardScaler()"
      ]
     },
     "execution_count": 47,
     "metadata": {},
     "output_type": "execute_result"
    }
   ],
   "source": [
    "scaler.fit(X)"
   ]
  },
  {
   "cell_type": "code",
   "execution_count": 48,
   "metadata": {},
   "outputs": [],
   "source": [
    "X_scaled = scaler.transform(X)"
   ]
  },
  {
   "cell_type": "code",
   "execution_count": 49,
   "metadata": {},
   "outputs": [],
   "source": [
    "#save the scaler\n",
    "dump(scaler, open('scaler.pkl', 'wb'))"
   ]
  },
  {
   "cell_type": "code",
   "execution_count": 51,
   "metadata": {},
   "outputs": [],
   "source": [
    "#prep train and test files\n",
    "trainX = pd.DataFrame(data = X_scaled,\n",
    "              columns = ['branded_code_share', 'crs_dep_time', 'crs_arr_time',\n",
    "                         'crs_elapsed_time', 'air_time', 'distance', 'fl_month',\n",
    "                         'fl_day_of_week', 'fl_type', 'state_travel_type', \n",
    "                         'm_hist_dep_delay','med_hist_dep_delay', 'm_hist_arr_delay', \n",
    "                         'med_hist_arr_delay','origin_cat', 'dest_cat', \n",
    "                         'mkt_op_combo_cat'])"
   ]
  },
  {
   "cell_type": "code",
   "execution_count": 54,
   "metadata": {},
   "outputs": [],
   "source": [
    "train = trainX.merge(y, right_index=True, left_index=True)"
   ]
  },
  {
   "cell_type": "code",
   "execution_count": 57,
   "metadata": {},
   "outputs": [
    {
     "data": {
      "text/plain": [
       "(15768096, 20)"
      ]
     },
     "execution_count": 57,
     "metadata": {},
     "output_type": "execute_result"
    }
   ],
   "source": [
    "train.shape"
   ]
  },
  {
   "cell_type": "code",
   "execution_count": 67,
   "metadata": {},
   "outputs": [],
   "source": [
    "train = train[train.crs_elapsed_time.isna()==False]"
   ]
  },
  {
   "cell_type": "code",
   "execution_count": 69,
   "metadata": {},
   "outputs": [],
   "source": [
    "train.to_csv(\"flights_scaled.csv\", index=False)"
   ]
  },
  {
   "cell_type": "code",
   "execution_count": null,
   "metadata": {},
   "outputs": [],
   "source": []
  }
 ],
 "metadata": {
  "kernelspec": {
   "display_name": "Python 3",
   "language": "python",
   "name": "python3"
  },
  "language_info": {
   "codemirror_mode": {
    "name": "ipython",
    "version": 3
   },
   "file_extension": ".py",
   "mimetype": "text/x-python",
   "name": "python",
   "nbconvert_exporter": "python",
   "pygments_lexer": "ipython3",
   "version": "3.8.3"
  }
 },
 "nbformat": 4,
 "nbformat_minor": 4
}
