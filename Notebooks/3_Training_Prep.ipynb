{
 "cells": [
  {
   "cell_type": "markdown",
   "metadata": {},
   "source": [
    "## Training Prep"
   ]
  },
  {
   "cell_type": "markdown",
   "metadata": {},
   "source": [
    "The purpose of this notebook is to provide scaled data for the models we will be using"
   ]
  },
  {
   "cell_type": "markdown",
   "metadata": {},
   "source": [
    "---"
   ]
  },
  {
   "cell_type": "markdown",
   "metadata": {},
   "source": [
    "**INPUT**: flights_cleaned <br>\n",
    "**OUTPUT**: flights_scaled and scaler.pkl <br>\n",
    "**Next Steps**: PCA (where required) and/or Modeling"
   ]
  },
  {
   "cell_type": "markdown",
   "metadata": {},
   "source": [
    "---"
   ]
  },
  {
   "cell_type": "markdown",
   "metadata": {},
   "source": [
    "### Import Packages"
   ]
  },
  {
   "cell_type": "code",
   "execution_count": 1,
   "metadata": {},
   "outputs": [],
   "source": [
    "import pandas as pd\n",
    "import numpy as np\n",
    "from sklearn.preprocessing import StandardScaler\n",
    "from pickle import dump"
   ]
  },
  {
   "cell_type": "markdown",
   "metadata": {},
   "source": [
    "---"
   ]
  },
  {
   "cell_type": "markdown",
   "metadata": {},
   "source": [
    "### Import Cleaned Data"
   ]
  },
  {
   "cell_type": "code",
   "execution_count": 2,
   "metadata": {},
   "outputs": [],
   "source": [
    "df = pd.read_csv(\"flights_cleaned.csv\")"
   ]
  },
  {
   "cell_type": "code",
   "execution_count": 3,
   "metadata": {},
   "outputs": [
    {
     "data": {
      "text/html": [
       "<div>\n",
       "<style scoped>\n",
       "    .dataframe tbody tr th:only-of-type {\n",
       "        vertical-align: middle;\n",
       "    }\n",
       "\n",
       "    .dataframe tbody tr th {\n",
       "        vertical-align: top;\n",
       "    }\n",
       "\n",
       "    .dataframe thead th {\n",
       "        text-align: right;\n",
       "    }\n",
       "</style>\n",
       "<table border=\"1\" class=\"dataframe\">\n",
       "  <thead>\n",
       "    <tr style=\"text-align: right;\">\n",
       "      <th></th>\n",
       "      <th>branded_code_share</th>\n",
       "      <th>origin</th>\n",
       "      <th>origin_city_name</th>\n",
       "      <th>dest</th>\n",
       "      <th>dest_city_name</th>\n",
       "      <th>crs_dep_time</th>\n",
       "      <th>crs_arr_time</th>\n",
       "      <th>arr_delay</th>\n",
       "      <th>cancelled</th>\n",
       "      <th>crs_elapsed_time</th>\n",
       "      <th>...</th>\n",
       "      <th>fl_month</th>\n",
       "      <th>fl_day_of_week</th>\n",
       "      <th>fl_week_of_month</th>\n",
       "      <th>mkt_op_combo</th>\n",
       "      <th>fl_type</th>\n",
       "      <th>m_hist_dep_delay</th>\n",
       "      <th>med_hist_dep_delay</th>\n",
       "      <th>m_hist_arr_delay</th>\n",
       "      <th>med_hist_arr_delay</th>\n",
       "      <th>delay_type</th>\n",
       "    </tr>\n",
       "  </thead>\n",
       "  <tbody>\n",
       "    <tr>\n",
       "      <th>0</th>\n",
       "      <td>1</td>\n",
       "      <td>144</td>\n",
       "      <td>Grand Rapids, MI</td>\n",
       "      <td>271</td>\n",
       "      <td>Philadelphia, PA</td>\n",
       "      <td>16</td>\n",
       "      <td>18</td>\n",
       "      <td>11.0</td>\n",
       "      <td>0.0</td>\n",
       "      <td>118.0</td>\n",
       "      <td>...</td>\n",
       "      <td>11</td>\n",
       "      <td>0</td>\n",
       "      <td>5</td>\n",
       "      <td>7</td>\n",
       "      <td>0</td>\n",
       "      <td>12.382206</td>\n",
       "      <td>-1.0</td>\n",
       "      <td>7.657341</td>\n",
       "      <td>-4.0</td>\n",
       "      <td>0</td>\n",
       "    </tr>\n",
       "    <tr>\n",
       "      <th>1</th>\n",
       "      <td>1</td>\n",
       "      <td>271</td>\n",
       "      <td>Philadelphia, PA</td>\n",
       "      <td>144</td>\n",
       "      <td>Grand Rapids, MI</td>\n",
       "      <td>14</td>\n",
       "      <td>16</td>\n",
       "      <td>6.0</td>\n",
       "      <td>0.0</td>\n",
       "      <td>130.0</td>\n",
       "      <td>...</td>\n",
       "      <td>11</td>\n",
       "      <td>0</td>\n",
       "      <td>5</td>\n",
       "      <td>7</td>\n",
       "      <td>0</td>\n",
       "      <td>10.304525</td>\n",
       "      <td>-1.0</td>\n",
       "      <td>5.449820</td>\n",
       "      <td>-5.0</td>\n",
       "      <td>0</td>\n",
       "    </tr>\n",
       "  </tbody>\n",
       "</table>\n",
       "<p>2 rows × 22 columns</p>\n",
       "</div>"
      ],
      "text/plain": [
       "   branded_code_share  origin  origin_city_name  dest    dest_city_name  \\\n",
       "0                   1     144  Grand Rapids, MI   271  Philadelphia, PA   \n",
       "1                   1     271  Philadelphia, PA   144  Grand Rapids, MI   \n",
       "\n",
       "   crs_dep_time  crs_arr_time  arr_delay  cancelled  crs_elapsed_time  ...  \\\n",
       "0            16            18       11.0        0.0             118.0  ...   \n",
       "1            14            16        6.0        0.0             130.0  ...   \n",
       "\n",
       "   fl_month  fl_day_of_week  fl_week_of_month  mkt_op_combo  fl_type  \\\n",
       "0        11               0                 5             7        0   \n",
       "1        11               0                 5             7        0   \n",
       "\n",
       "   m_hist_dep_delay  med_hist_dep_delay  m_hist_arr_delay  med_hist_arr_delay  \\\n",
       "0         12.382206                -1.0          7.657341                -4.0   \n",
       "1         10.304525                -1.0          5.449820                -5.0   \n",
       "\n",
       "   delay_type  \n",
       "0           0  \n",
       "1           0  \n",
       "\n",
       "[2 rows x 22 columns]"
      ]
     },
     "execution_count": 3,
     "metadata": {},
     "output_type": "execute_result"
    }
   ],
   "source": [
    "df.head(2)"
   ]
  },
  {
   "cell_type": "code",
   "execution_count": 9,
   "metadata": {},
   "outputs": [],
   "source": [
    "df.drop(columns = ['origin_city_name', 'dest_city_name'], inplace = True)"
   ]
  },
  {
   "cell_type": "code",
   "execution_count": 10,
   "metadata": {},
   "outputs": [
    {
     "data": {
      "text/plain": [
       "Index(['branded_code_share', 'origin', 'dest', 'crs_dep_time', 'crs_arr_time',\n",
       "       'arr_delay', 'cancelled', 'crs_elapsed_time', 'air_time', 'distance',\n",
       "       'fl_month', 'fl_day_of_week', 'fl_week_of_month', 'mkt_op_combo',\n",
       "       'fl_type', 'm_hist_dep_delay', 'med_hist_dep_delay', 'm_hist_arr_delay',\n",
       "       'med_hist_arr_delay', 'delay_type'],\n",
       "      dtype='object')"
      ]
     },
     "execution_count": 10,
     "metadata": {},
     "output_type": "execute_result"
    }
   ],
   "source": [
    "df.columns"
   ]
  },
  {
   "cell_type": "markdown",
   "metadata": {},
   "source": [
    "### Work with our data seperate from our targets"
   ]
  },
  {
   "cell_type": "code",
   "execution_count": 11,
   "metadata": {},
   "outputs": [],
   "source": [
    "y = df[['arr_delay', 'cancelled', 'delay_type']]"
   ]
  },
  {
   "cell_type": "code",
   "execution_count": 12,
   "metadata": {},
   "outputs": [],
   "source": [
    "X = df.drop(columns = ['arr_delay', 'cancelled', 'delay_type']).values"
   ]
  },
  {
   "cell_type": "code",
   "execution_count": 13,
   "metadata": {},
   "outputs": [],
   "source": [
    "scaler = StandardScaler()"
   ]
  },
  {
   "cell_type": "code",
   "execution_count": 14,
   "metadata": {},
   "outputs": [
    {
     "data": {
      "text/plain": [
       "StandardScaler()"
      ]
     },
     "execution_count": 14,
     "metadata": {},
     "output_type": "execute_result"
    }
   ],
   "source": [
    "scaler.fit(X)"
   ]
  },
  {
   "cell_type": "code",
   "execution_count": 15,
   "metadata": {},
   "outputs": [],
   "source": [
    "X_scaled = scaler.transform(X)"
   ]
  },
  {
   "cell_type": "markdown",
   "metadata": {},
   "source": [
    "*Export scaler to use on evaluation data*"
   ]
  },
  {
   "cell_type": "code",
   "execution_count": 16,
   "metadata": {},
   "outputs": [],
   "source": [
    "#save the scaler\n",
    "dump(scaler, open('scaler.pkl', 'wb'))"
   ]
  },
  {
   "cell_type": "code",
   "execution_count": 17,
   "metadata": {},
   "outputs": [],
   "source": [
    "#prep train and test files\n",
    "trainX = pd.DataFrame(data = X_scaled,\n",
    "              columns = ['branded_code_share', 'origin', 'dest', 'crs_dep_time', 'crs_arr_time',\n",
    "                         'crs_elapsed_time', 'air_time', 'distance','fl_month', 'fl_day_of_week', \n",
    "                         'fl_week_of_month', 'mkt_op_combo','fl_type', 'm_hist_dep_delay',\n",
    "                         'med_hist_dep_delay', 'm_hist_arr_delay','med_hist_arr_delay'])"
   ]
  },
  {
   "cell_type": "code",
   "execution_count": 18,
   "metadata": {},
   "outputs": [],
   "source": [
    "train = trainX.merge(y, right_index=True, left_index=True)"
   ]
  },
  {
   "cell_type": "code",
   "execution_count": 19,
   "metadata": {},
   "outputs": [
    {
     "data": {
      "text/plain": [
       "(15768083, 20)"
      ]
     },
     "execution_count": 19,
     "metadata": {},
     "output_type": "execute_result"
    }
   ],
   "source": [
    "train.shape"
   ]
  },
  {
   "cell_type": "code",
   "execution_count": 21,
   "metadata": {},
   "outputs": [],
   "source": [
    "train.to_csv(\"flights_scaled.csv\", index=False)"
   ]
  },
  {
   "cell_type": "code",
   "execution_count": 22,
   "metadata": {},
   "outputs": [],
   "source": [
    "train_samp = train.sample(10000)"
   ]
  },
  {
   "cell_type": "code",
   "execution_count": 23,
   "metadata": {},
   "outputs": [],
   "source": [
    "train_samp.to_csv(\"flights_scaled_sample.csv\", index=False)"
   ]
  },
  {
   "cell_type": "code",
   "execution_count": null,
   "metadata": {},
   "outputs": [],
   "source": []
  }
 ],
 "metadata": {
  "kernelspec": {
   "display_name": "Python 3",
   "language": "python",
   "name": "python3"
  },
  "language_info": {
   "codemirror_mode": {
    "name": "ipython",
    "version": 3
   },
   "file_extension": ".py",
   "mimetype": "text/x-python",
   "name": "python",
   "nbconvert_exporter": "python",
   "pygments_lexer": "ipython3",
   "version": "3.8.3"
  }
 },
 "nbformat": 4,
 "nbformat_minor": 4
}
