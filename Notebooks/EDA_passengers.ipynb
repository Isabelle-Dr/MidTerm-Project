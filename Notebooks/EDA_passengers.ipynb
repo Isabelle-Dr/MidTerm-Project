{
 "cells": [
  {
   "cell_type": "code",
   "execution_count": 1,
   "metadata": {},
   "outputs": [],
   "source": [
    "import seaborn as sns\n",
    "import matplotlib.pyplot as plt\n",
    "%matplotlib inline\n",
    "import pandas as pd\n",
    "import numpy as np\n",
    "import seaborn as sns"
   ]
  },
  {
   "cell_type": "code",
   "execution_count": 2,
   "metadata": {},
   "outputs": [
    {
     "name": "stderr",
     "output_type": "stream",
     "text": [
      "C:\\Users\\derob\\anaconda3\\lib\\site-packages\\numpy\\lib\\arraysetops.py:569: FutureWarning: elementwise comparison failed; returning scalar instead, but in the future will perform elementwise comparison\n",
      "  mask |= (ar1 == a)\n"
     ]
    }
   ],
   "source": [
    "passengers = pd.read_csv('passengers.csv', index_col = 0)"
   ]
  },
  {
   "cell_type": "code",
   "execution_count": 56,
   "metadata": {},
   "outputs": [
    {
     "name": "stdout",
     "output_type": "stream",
     "text": [
      "(2350494, 38)\n"
     ]
    }
   ],
   "source": [
    "# get shape and length\n",
    "print(passengers.shape)\n",
    "db_length = passengers.shape[0]"
   ]
  },
  {
   "cell_type": "code",
   "execution_count": 4,
   "metadata": {},
   "outputs": [
    {
     "name": "stdout",
     "output_type": "stream",
     "text": [
      "<class 'pandas.core.frame.DataFrame'>\n",
      "Int64Index: 2350494 entries, 0 to 2350496\n",
      "Data columns (total 38 columns):\n",
      " #   Column                 Dtype  \n",
      "---  ------                 -----  \n",
      " 0   departures_scheduled   float64\n",
      " 1   departures_performed   float64\n",
      " 2   payload                float64\n",
      " 3   seats                  float64\n",
      " 4   passengers             float64\n",
      " 5   freight                float64\n",
      " 6   mail                   float64\n",
      " 7   distance               float64\n",
      " 8   ramp_to_ramp           float64\n",
      " 9   air_time               float64\n",
      " 10  unique_carrier         object \n",
      " 11  airline_id             int64  \n",
      " 12  unique_carrier_name    object \n",
      " 13  region                 object \n",
      " 14  carrier                object \n",
      " 15  carrier_name           object \n",
      " 16  carrier_group          int64  \n",
      " 17  carrier_group_new      int64  \n",
      " 18  origin_airport_id      int64  \n",
      " 19  origin_city_market_id  int64  \n",
      " 20  origin                 object \n",
      " 21  origin_city_name       object \n",
      " 22  origin_country         object \n",
      " 23  origin_country_name    object \n",
      " 24  dest_airport_id        int64  \n",
      " 25  dest_city_market_id    int64  \n",
      " 26  dest                   object \n",
      " 27  dest_city_name         object \n",
      " 28  dest_country           object \n",
      " 29  dest_country_name      object \n",
      " 30  aircraft_group         int64  \n",
      " 31  aircraft_type          int64  \n",
      " 32  aircraft_config        int64  \n",
      " 33  year                   int64  \n",
      " 34  month                  int64  \n",
      " 35  day                    int64  \n",
      " 36  distance_group         object \n",
      " 37  class                  object \n",
      "dtypes: float64(10), int64(13), object(15)\n",
      "memory usage: 699.4+ MB\n"
     ]
    }
   ],
   "source": [
    "passengers.info()"
   ]
  },
  {
   "cell_type": "code",
   "execution_count": 5,
   "metadata": {},
   "outputs": [
    {
     "data": {
      "text/html": [
       "<div>\n",
       "<style scoped>\n",
       "    .dataframe tbody tr th:only-of-type {\n",
       "        vertical-align: middle;\n",
       "    }\n",
       "\n",
       "    .dataframe tbody tr th {\n",
       "        vertical-align: top;\n",
       "    }\n",
       "\n",
       "    .dataframe thead th {\n",
       "        text-align: right;\n",
       "    }\n",
       "</style>\n",
       "<table border=\"1\" class=\"dataframe\">\n",
       "  <thead>\n",
       "    <tr style=\"text-align: right;\">\n",
       "      <th></th>\n",
       "      <th>departures_scheduled</th>\n",
       "      <th>departures_performed</th>\n",
       "      <th>payload</th>\n",
       "      <th>seats</th>\n",
       "      <th>passengers</th>\n",
       "      <th>freight</th>\n",
       "      <th>mail</th>\n",
       "      <th>distance</th>\n",
       "      <th>ramp_to_ramp</th>\n",
       "      <th>air_time</th>\n",
       "    </tr>\n",
       "  </thead>\n",
       "  <tbody>\n",
       "    <tr>\n",
       "      <th>0</th>\n",
       "      <td>1.0</td>\n",
       "      <td>1.0</td>\n",
       "      <td>13500.0</td>\n",
       "      <td>50.0</td>\n",
       "      <td>1.0</td>\n",
       "      <td>0.0</td>\n",
       "      <td>0.0</td>\n",
       "      <td>509.0</td>\n",
       "      <td>131.0</td>\n",
       "      <td>75.0</td>\n",
       "    </tr>\n",
       "    <tr>\n",
       "      <th>1</th>\n",
       "      <td>1.0</td>\n",
       "      <td>1.0</td>\n",
       "      <td>13500.0</td>\n",
       "      <td>50.0</td>\n",
       "      <td>0.0</td>\n",
       "      <td>0.0</td>\n",
       "      <td>0.0</td>\n",
       "      <td>287.0</td>\n",
       "      <td>108.0</td>\n",
       "      <td>84.0</td>\n",
       "    </tr>\n",
       "    <tr>\n",
       "      <th>2</th>\n",
       "      <td>1.0</td>\n",
       "      <td>1.0</td>\n",
       "      <td>13500.0</td>\n",
       "      <td>50.0</td>\n",
       "      <td>17.0</td>\n",
       "      <td>0.0</td>\n",
       "      <td>0.0</td>\n",
       "      <td>165.0</td>\n",
       "      <td>88.0</td>\n",
       "      <td>73.0</td>\n",
       "    </tr>\n",
       "    <tr>\n",
       "      <th>3</th>\n",
       "      <td>1.0</td>\n",
       "      <td>1.0</td>\n",
       "      <td>13500.0</td>\n",
       "      <td>50.0</td>\n",
       "      <td>35.0</td>\n",
       "      <td>0.0</td>\n",
       "      <td>0.0</td>\n",
       "      <td>508.0</td>\n",
       "      <td>100.0</td>\n",
       "      <td>80.0</td>\n",
       "    </tr>\n",
       "    <tr>\n",
       "      <th>4</th>\n",
       "      <td>1.0</td>\n",
       "      <td>1.0</td>\n",
       "      <td>13000.0</td>\n",
       "      <td>69.0</td>\n",
       "      <td>65.0</td>\n",
       "      <td>0.0</td>\n",
       "      <td>0.0</td>\n",
       "      <td>463.0</td>\n",
       "      <td>82.0</td>\n",
       "      <td>67.0</td>\n",
       "    </tr>\n",
       "  </tbody>\n",
       "</table>\n",
       "</div>"
      ],
      "text/plain": [
       "   departures_scheduled  departures_performed  payload  seats  passengers  \\\n",
       "0                   1.0                   1.0  13500.0   50.0         1.0   \n",
       "1                   1.0                   1.0  13500.0   50.0         0.0   \n",
       "2                   1.0                   1.0  13500.0   50.0        17.0   \n",
       "3                   1.0                   1.0  13500.0   50.0        35.0   \n",
       "4                   1.0                   1.0  13000.0   69.0        65.0   \n",
       "\n",
       "   freight  mail  distance  ramp_to_ramp  air_time  \n",
       "0      0.0   0.0     509.0         131.0      75.0  \n",
       "1      0.0   0.0     287.0         108.0      84.0  \n",
       "2      0.0   0.0     165.0          88.0      73.0  \n",
       "3      0.0   0.0     508.0         100.0      80.0  \n",
       "4      0.0   0.0     463.0          82.0      67.0  "
      ]
     },
     "execution_count": 5,
     "metadata": {},
     "output_type": "execute_result"
    }
   ],
   "source": [
    "# explore all columns\n",
    "passengers.iloc[:5,:10]"
   ]
  },
  {
   "cell_type": "code",
   "execution_count": 6,
   "metadata": {},
   "outputs": [
    {
     "data": {
      "text/html": [
       "<div>\n",
       "<style scoped>\n",
       "    .dataframe tbody tr th:only-of-type {\n",
       "        vertical-align: middle;\n",
       "    }\n",
       "\n",
       "    .dataframe tbody tr th {\n",
       "        vertical-align: top;\n",
       "    }\n",
       "\n",
       "    .dataframe thead th {\n",
       "        text-align: right;\n",
       "    }\n",
       "</style>\n",
       "<table border=\"1\" class=\"dataframe\">\n",
       "  <thead>\n",
       "    <tr style=\"text-align: right;\">\n",
       "      <th></th>\n",
       "      <th>unique_carrier</th>\n",
       "      <th>airline_id</th>\n",
       "      <th>unique_carrier_name</th>\n",
       "      <th>region</th>\n",
       "      <th>carrier</th>\n",
       "      <th>carrier_name</th>\n",
       "      <th>carrier_group</th>\n",
       "      <th>carrier_group_new</th>\n",
       "      <th>origin_airport_id</th>\n",
       "      <th>origin_city_market_id</th>\n",
       "    </tr>\n",
       "  </thead>\n",
       "  <tbody>\n",
       "    <tr>\n",
       "      <th>0</th>\n",
       "      <td>OO</td>\n",
       "      <td>20304</td>\n",
       "      <td>SkyWest Airlines Inc.</td>\n",
       "      <td>D</td>\n",
       "      <td>OO</td>\n",
       "      <td>SkyWest Airlines Inc.</td>\n",
       "      <td>3</td>\n",
       "      <td>3</td>\n",
       "      <td>11977</td>\n",
       "      <td>31977</td>\n",
       "    </tr>\n",
       "    <tr>\n",
       "      <th>1</th>\n",
       "      <td>OO</td>\n",
       "      <td>20304</td>\n",
       "      <td>SkyWest Airlines Inc.</td>\n",
       "      <td>D</td>\n",
       "      <td>OO</td>\n",
       "      <td>SkyWest Airlines Inc.</td>\n",
       "      <td>3</td>\n",
       "      <td>3</td>\n",
       "      <td>11977</td>\n",
       "      <td>31977</td>\n",
       "    </tr>\n",
       "    <tr>\n",
       "      <th>2</th>\n",
       "      <td>OO</td>\n",
       "      <td>20304</td>\n",
       "      <td>SkyWest Airlines Inc.</td>\n",
       "      <td>D</td>\n",
       "      <td>OO</td>\n",
       "      <td>SkyWest Airlines Inc.</td>\n",
       "      <td>3</td>\n",
       "      <td>3</td>\n",
       "      <td>11977</td>\n",
       "      <td>31977</td>\n",
       "    </tr>\n",
       "    <tr>\n",
       "      <th>3</th>\n",
       "      <td>OO</td>\n",
       "      <td>20304</td>\n",
       "      <td>SkyWest Airlines Inc.</td>\n",
       "      <td>D</td>\n",
       "      <td>OO</td>\n",
       "      <td>SkyWest Airlines Inc.</td>\n",
       "      <td>3</td>\n",
       "      <td>3</td>\n",
       "      <td>11996</td>\n",
       "      <td>31871</td>\n",
       "    </tr>\n",
       "    <tr>\n",
       "      <th>4</th>\n",
       "      <td>OO</td>\n",
       "      <td>20304</td>\n",
       "      <td>SkyWest Airlines Inc.</td>\n",
       "      <td>D</td>\n",
       "      <td>OO</td>\n",
       "      <td>SkyWest Airlines Inc.</td>\n",
       "      <td>3</td>\n",
       "      <td>3</td>\n",
       "      <td>12003</td>\n",
       "      <td>31895</td>\n",
       "    </tr>\n",
       "  </tbody>\n",
       "</table>\n",
       "</div>"
      ],
      "text/plain": [
       "  unique_carrier  airline_id    unique_carrier_name region carrier  \\\n",
       "0             OO       20304  SkyWest Airlines Inc.      D      OO   \n",
       "1             OO       20304  SkyWest Airlines Inc.      D      OO   \n",
       "2             OO       20304  SkyWest Airlines Inc.      D      OO   \n",
       "3             OO       20304  SkyWest Airlines Inc.      D      OO   \n",
       "4             OO       20304  SkyWest Airlines Inc.      D      OO   \n",
       "\n",
       "            carrier_name  carrier_group  carrier_group_new  origin_airport_id  \\\n",
       "0  SkyWest Airlines Inc.              3                  3              11977   \n",
       "1  SkyWest Airlines Inc.              3                  3              11977   \n",
       "2  SkyWest Airlines Inc.              3                  3              11977   \n",
       "3  SkyWest Airlines Inc.              3                  3              11996   \n",
       "4  SkyWest Airlines Inc.              3                  3              12003   \n",
       "\n",
       "   origin_city_market_id  \n",
       "0                  31977  \n",
       "1                  31977  \n",
       "2                  31977  \n",
       "3                  31871  \n",
       "4                  31895  "
      ]
     },
     "execution_count": 6,
     "metadata": {},
     "output_type": "execute_result"
    }
   ],
   "source": [
    "passengers.iloc[:5,10:20]"
   ]
  },
  {
   "cell_type": "code",
   "execution_count": 7,
   "metadata": {},
   "outputs": [
    {
     "data": {
      "text/html": [
       "<div>\n",
       "<style scoped>\n",
       "    .dataframe tbody tr th:only-of-type {\n",
       "        vertical-align: middle;\n",
       "    }\n",
       "\n",
       "    .dataframe tbody tr th {\n",
       "        vertical-align: top;\n",
       "    }\n",
       "\n",
       "    .dataframe thead th {\n",
       "        text-align: right;\n",
       "    }\n",
       "</style>\n",
       "<table border=\"1\" class=\"dataframe\">\n",
       "  <thead>\n",
       "    <tr style=\"text-align: right;\">\n",
       "      <th></th>\n",
       "      <th>origin</th>\n",
       "      <th>origin_city_name</th>\n",
       "      <th>origin_country</th>\n",
       "      <th>origin_country_name</th>\n",
       "      <th>dest_airport_id</th>\n",
       "      <th>dest_city_market_id</th>\n",
       "      <th>dest</th>\n",
       "      <th>dest_city_name</th>\n",
       "      <th>dest_country</th>\n",
       "      <th>dest_country_name</th>\n",
       "    </tr>\n",
       "  </thead>\n",
       "  <tbody>\n",
       "    <tr>\n",
       "      <th>0</th>\n",
       "      <td>GRB</td>\n",
       "      <td>Green Bay, WI</td>\n",
       "      <td>US</td>\n",
       "      <td>United States</td>\n",
       "      <td>10141</td>\n",
       "      <td>30141</td>\n",
       "      <td>ABR</td>\n",
       "      <td>Aberdeen, SD</td>\n",
       "      <td>US</td>\n",
       "      <td>United States</td>\n",
       "    </tr>\n",
       "    <tr>\n",
       "      <th>1</th>\n",
       "      <td>GRB</td>\n",
       "      <td>Green Bay, WI</td>\n",
       "      <td>US</td>\n",
       "      <td>United States</td>\n",
       "      <td>11433</td>\n",
       "      <td>31295</td>\n",
       "      <td>DTW</td>\n",
       "      <td>Detroit, MI</td>\n",
       "      <td>US</td>\n",
       "      <td>United States</td>\n",
       "    </tr>\n",
       "    <tr>\n",
       "      <th>2</th>\n",
       "      <td>GRB</td>\n",
       "      <td>Green Bay, WI</td>\n",
       "      <td>US</td>\n",
       "      <td>United States</td>\n",
       "      <td>14512</td>\n",
       "      <td>34512</td>\n",
       "      <td>RFD</td>\n",
       "      <td>Rockford, IL</td>\n",
       "      <td>US</td>\n",
       "      <td>United States</td>\n",
       "    </tr>\n",
       "    <tr>\n",
       "      <th>3</th>\n",
       "      <td>GSP</td>\n",
       "      <td>Greer, SC</td>\n",
       "      <td>US</td>\n",
       "      <td>United States</td>\n",
       "      <td>11433</td>\n",
       "      <td>31295</td>\n",
       "      <td>DTW</td>\n",
       "      <td>Detroit, MI</td>\n",
       "      <td>US</td>\n",
       "      <td>United States</td>\n",
       "    </tr>\n",
       "    <tr>\n",
       "      <th>4</th>\n",
       "      <td>GTF</td>\n",
       "      <td>Great Falls, MT</td>\n",
       "      <td>US</td>\n",
       "      <td>United States</td>\n",
       "      <td>14869</td>\n",
       "      <td>34614</td>\n",
       "      <td>SLC</td>\n",
       "      <td>Salt Lake City, UT</td>\n",
       "      <td>US</td>\n",
       "      <td>United States</td>\n",
       "    </tr>\n",
       "  </tbody>\n",
       "</table>\n",
       "</div>"
      ],
      "text/plain": [
       "  origin origin_city_name origin_country origin_country_name  dest_airport_id  \\\n",
       "0    GRB    Green Bay, WI             US       United States            10141   \n",
       "1    GRB    Green Bay, WI             US       United States            11433   \n",
       "2    GRB    Green Bay, WI             US       United States            14512   \n",
       "3    GSP        Greer, SC             US       United States            11433   \n",
       "4    GTF  Great Falls, MT             US       United States            14869   \n",
       "\n",
       "   dest_city_market_id dest      dest_city_name dest_country dest_country_name  \n",
       "0                30141  ABR        Aberdeen, SD           US     United States  \n",
       "1                31295  DTW         Detroit, MI           US     United States  \n",
       "2                34512  RFD        Rockford, IL           US     United States  \n",
       "3                31295  DTW         Detroit, MI           US     United States  \n",
       "4                34614  SLC  Salt Lake City, UT           US     United States  "
      ]
     },
     "execution_count": 7,
     "metadata": {},
     "output_type": "execute_result"
    }
   ],
   "source": [
    "passengers.iloc[:5,20:30]"
   ]
  },
  {
   "cell_type": "code",
   "execution_count": 8,
   "metadata": {},
   "outputs": [
    {
     "data": {
      "text/html": [
       "<div>\n",
       "<style scoped>\n",
       "    .dataframe tbody tr th:only-of-type {\n",
       "        vertical-align: middle;\n",
       "    }\n",
       "\n",
       "    .dataframe tbody tr th {\n",
       "        vertical-align: top;\n",
       "    }\n",
       "\n",
       "    .dataframe thead th {\n",
       "        text-align: right;\n",
       "    }\n",
       "</style>\n",
       "<table border=\"1\" class=\"dataframe\">\n",
       "  <thead>\n",
       "    <tr style=\"text-align: right;\">\n",
       "      <th></th>\n",
       "      <th>aircraft_group</th>\n",
       "      <th>aircraft_type</th>\n",
       "      <th>aircraft_config</th>\n",
       "      <th>year</th>\n",
       "      <th>month</th>\n",
       "      <th>day</th>\n",
       "      <th>distance_group</th>\n",
       "      <th>class</th>\n",
       "    </tr>\n",
       "  </thead>\n",
       "  <tbody>\n",
       "    <tr>\n",
       "      <th>0</th>\n",
       "      <td>6</td>\n",
       "      <td>629</td>\n",
       "      <td>1</td>\n",
       "      <td>2016</td>\n",
       "      <td>3</td>\n",
       "      <td>2</td>\n",
       "      <td>F</td>\n",
       "      <td>DU</td>\n",
       "    </tr>\n",
       "    <tr>\n",
       "      <th>1</th>\n",
       "      <td>6</td>\n",
       "      <td>629</td>\n",
       "      <td>1</td>\n",
       "      <td>2016</td>\n",
       "      <td>3</td>\n",
       "      <td>1</td>\n",
       "      <td>F</td>\n",
       "      <td>DU</td>\n",
       "    </tr>\n",
       "    <tr>\n",
       "      <th>2</th>\n",
       "      <td>6</td>\n",
       "      <td>629</td>\n",
       "      <td>1</td>\n",
       "      <td>2016</td>\n",
       "      <td>3</td>\n",
       "      <td>1</td>\n",
       "      <td>F</td>\n",
       "      <td>DU</td>\n",
       "    </tr>\n",
       "    <tr>\n",
       "      <th>3</th>\n",
       "      <td>6</td>\n",
       "      <td>629</td>\n",
       "      <td>1</td>\n",
       "      <td>2016</td>\n",
       "      <td>3</td>\n",
       "      <td>2</td>\n",
       "      <td>F</td>\n",
       "      <td>DU</td>\n",
       "    </tr>\n",
       "    <tr>\n",
       "      <th>4</th>\n",
       "      <td>6</td>\n",
       "      <td>631</td>\n",
       "      <td>1</td>\n",
       "      <td>2016</td>\n",
       "      <td>3</td>\n",
       "      <td>1</td>\n",
       "      <td>F</td>\n",
       "      <td>DU</td>\n",
       "    </tr>\n",
       "  </tbody>\n",
       "</table>\n",
       "</div>"
      ],
      "text/plain": [
       "   aircraft_group  aircraft_type  aircraft_config  year  month  day  \\\n",
       "0               6            629                1  2016      3    2   \n",
       "1               6            629                1  2016      3    1   \n",
       "2               6            629                1  2016      3    1   \n",
       "3               6            629                1  2016      3    2   \n",
       "4               6            631                1  2016      3    1   \n",
       "\n",
       "  distance_group class  \n",
       "0              F    DU  \n",
       "1              F    DU  \n",
       "2              F    DU  \n",
       "3              F    DU  \n",
       "4              F    DU  "
      ]
     },
     "execution_count": 8,
     "metadata": {},
     "output_type": "execute_result"
    }
   ],
   "source": [
    "passengers.iloc[:5,30:]"
   ]
  },
  {
   "cell_type": "markdown",
   "metadata": {},
   "source": [
    "# Redundant features"
   ]
  },
  {
   "cell_type": "code",
   "execution_count": 9,
   "metadata": {},
   "outputs": [
    {
     "data": {
      "text/plain": [
       "99.41595256146155"
      ]
     },
     "execution_count": 9,
     "metadata": {},
     "output_type": "execute_result"
    }
   ],
   "source": [
    "# unique carrier and carrier\n",
    "passengers.carrier[passengers.carrier == passengers.unique_carrier].count()/db_length*100"
   ]
  },
  {
   "cell_type": "code",
   "execution_count": 10,
   "metadata": {},
   "outputs": [
    {
     "data": {
      "text/plain": [
       "94.8205781422969"
      ]
     },
     "execution_count": 10,
     "metadata": {},
     "output_type": "execute_result"
    }
   ],
   "source": [
    "# unique_carrier_name and carrier_name\n",
    "passengers.carrier_name[passengers.unique_carrier_name == passengers.carrier_name].count()/db_length*100"
   ]
  },
  {
   "cell_type": "code",
   "execution_count": 11,
   "metadata": {},
   "outputs": [
    {
     "data": {
      "text/plain": [
       "84.16868964566598"
      ]
     },
     "execution_count": 11,
     "metadata": {},
     "output_type": "execute_result"
    }
   ],
   "source": [
    "# carrier_group and carrier_group_new\n",
    "passengers.carrier_group[passengers.carrier_group == passengers.carrier_group_new].count()/db_length*100"
   ]
  },
  {
   "cell_type": "markdown",
   "metadata": {},
   "source": [
    "# Highly correlated features"
   ]
  },
  {
   "cell_type": "code",
   "execution_count": 12,
   "metadata": {},
   "outputs": [
    {
     "data": {
      "text/html": [
       "<div>\n",
       "<style scoped>\n",
       "    .dataframe tbody tr th:only-of-type {\n",
       "        vertical-align: middle;\n",
       "    }\n",
       "\n",
       "    .dataframe tbody tr th {\n",
       "        vertical-align: top;\n",
       "    }\n",
       "\n",
       "    .dataframe thead th {\n",
       "        text-align: right;\n",
       "    }\n",
       "</style>\n",
       "<table border=\"1\" class=\"dataframe\">\n",
       "  <thead>\n",
       "    <tr style=\"text-align: right;\">\n",
       "      <th></th>\n",
       "      <th>1</th>\n",
       "      <th>2</th>\n",
       "    </tr>\n",
       "  </thead>\n",
       "  <tbody>\n",
       "    <tr>\n",
       "      <th>1</th>\n",
       "      <td>1.000000</td>\n",
       "      <td>0.702593</td>\n",
       "    </tr>\n",
       "    <tr>\n",
       "      <th>2</th>\n",
       "      <td>0.702593</td>\n",
       "      <td>1.000000</td>\n",
       "    </tr>\n",
       "  </tbody>\n",
       "</table>\n",
       "</div>"
      ],
      "text/plain": [
       "          1         2\n",
       "1  1.000000  0.702593\n",
       "2  0.702593  1.000000"
      ]
     },
     "execution_count": 12,
     "metadata": {},
     "output_type": "execute_result"
    }
   ],
   "source": [
    "# origin and origin_city_name\n",
    "\n",
    "# create placeholder database for two features\n",
    "df_correlation_check = pd.DataFrame(columns = [1,2])\n",
    "\n",
    "# first feature\n",
    "df_correlation_check[1] = passengers.origin.astype('category').cat.codes\n",
    "\n",
    "# second feature\n",
    "df_correlation_check[2] = passengers.origin_city_name.astype('category').cat.codes\n",
    "\n",
    "# check correlation\n",
    "df_correlation_check.corr()"
   ]
  },
  {
   "cell_type": "code",
   "execution_count": 13,
   "metadata": {},
   "outputs": [
    {
     "data": {
      "text/html": [
       "<div>\n",
       "<style scoped>\n",
       "    .dataframe tbody tr th:only-of-type {\n",
       "        vertical-align: middle;\n",
       "    }\n",
       "\n",
       "    .dataframe tbody tr th {\n",
       "        vertical-align: top;\n",
       "    }\n",
       "\n",
       "    .dataframe thead th {\n",
       "        text-align: right;\n",
       "    }\n",
       "</style>\n",
       "<table border=\"1\" class=\"dataframe\">\n",
       "  <thead>\n",
       "    <tr style=\"text-align: right;\">\n",
       "      <th></th>\n",
       "      <th>1</th>\n",
       "      <th>2</th>\n",
       "    </tr>\n",
       "  </thead>\n",
       "  <tbody>\n",
       "    <tr>\n",
       "      <th>1</th>\n",
       "      <td>1.000000</td>\n",
       "      <td>0.912199</td>\n",
       "    </tr>\n",
       "    <tr>\n",
       "      <th>2</th>\n",
       "      <td>0.912199</td>\n",
       "      <td>1.000000</td>\n",
       "    </tr>\n",
       "  </tbody>\n",
       "</table>\n",
       "</div>"
      ],
      "text/plain": [
       "          1         2\n",
       "1  1.000000  0.912199\n",
       "2  0.912199  1.000000"
      ]
     },
     "execution_count": 13,
     "metadata": {},
     "output_type": "execute_result"
    }
   ],
   "source": [
    "# origin_country and origin_country_name\n",
    "\n",
    "# create placeholder database for two features\n",
    "df_correlation_check = pd.DataFrame(columns = [1,2])\n",
    "\n",
    "# first feature\n",
    "df_correlation_check[1] = passengers.origin_country.astype('category').cat.codes\n",
    "\n",
    "# second feature\n",
    "df_correlation_check[2] = passengers.origin_country_name.astype('category').cat.codes\n",
    "\n",
    "# check correlation\n",
    "df_correlation_check.corr()"
   ]
  },
  {
   "cell_type": "code",
   "execution_count": 14,
   "metadata": {},
   "outputs": [
    {
     "data": {
      "text/html": [
       "<div>\n",
       "<style scoped>\n",
       "    .dataframe tbody tr th:only-of-type {\n",
       "        vertical-align: middle;\n",
       "    }\n",
       "\n",
       "    .dataframe tbody tr th {\n",
       "        vertical-align: top;\n",
       "    }\n",
       "\n",
       "    .dataframe thead th {\n",
       "        text-align: right;\n",
       "    }\n",
       "</style>\n",
       "<table border=\"1\" class=\"dataframe\">\n",
       "  <thead>\n",
       "    <tr style=\"text-align: right;\">\n",
       "      <th></th>\n",
       "      <th>1</th>\n",
       "      <th>2</th>\n",
       "    </tr>\n",
       "  </thead>\n",
       "  <tbody>\n",
       "    <tr>\n",
       "      <th>1</th>\n",
       "      <td>1.000000</td>\n",
       "      <td>0.702038</td>\n",
       "    </tr>\n",
       "    <tr>\n",
       "      <th>2</th>\n",
       "      <td>0.702038</td>\n",
       "      <td>1.000000</td>\n",
       "    </tr>\n",
       "  </tbody>\n",
       "</table>\n",
       "</div>"
      ],
      "text/plain": [
       "          1         2\n",
       "1  1.000000  0.702038\n",
       "2  0.702038  1.000000"
      ]
     },
     "execution_count": 14,
     "metadata": {},
     "output_type": "execute_result"
    }
   ],
   "source": [
    "# dest and dest_city_name\n",
    "\n",
    "# create placeholder database for two features\n",
    "df_correlation_check = pd.DataFrame(columns = [1,2])\n",
    "\n",
    "# first feature\n",
    "df_correlation_check[1] = passengers.dest.astype('category').cat.codes\n",
    "\n",
    "# second feature\n",
    "df_correlation_check[2] = passengers.dest_city_name.astype('category').cat.codes\n",
    "\n",
    "# check correlation\n",
    "df_correlation_check.corr()"
   ]
  },
  {
   "cell_type": "code",
   "execution_count": 15,
   "metadata": {},
   "outputs": [
    {
     "data": {
      "text/html": [
       "<div>\n",
       "<style scoped>\n",
       "    .dataframe tbody tr th:only-of-type {\n",
       "        vertical-align: middle;\n",
       "    }\n",
       "\n",
       "    .dataframe tbody tr th {\n",
       "        vertical-align: top;\n",
       "    }\n",
       "\n",
       "    .dataframe thead th {\n",
       "        text-align: right;\n",
       "    }\n",
       "</style>\n",
       "<table border=\"1\" class=\"dataframe\">\n",
       "  <thead>\n",
       "    <tr style=\"text-align: right;\">\n",
       "      <th></th>\n",
       "      <th>1</th>\n",
       "      <th>2</th>\n",
       "    </tr>\n",
       "  </thead>\n",
       "  <tbody>\n",
       "    <tr>\n",
       "      <th>1</th>\n",
       "      <td>1.000000</td>\n",
       "      <td>0.911166</td>\n",
       "    </tr>\n",
       "    <tr>\n",
       "      <th>2</th>\n",
       "      <td>0.911166</td>\n",
       "      <td>1.000000</td>\n",
       "    </tr>\n",
       "  </tbody>\n",
       "</table>\n",
       "</div>"
      ],
      "text/plain": [
       "          1         2\n",
       "1  1.000000  0.911166\n",
       "2  0.911166  1.000000"
      ]
     },
     "execution_count": 15,
     "metadata": {},
     "output_type": "execute_result"
    }
   ],
   "source": [
    "# dest_country and dest_country_name\n",
    "\n",
    "# create placeholder database for two features\n",
    "df_correlation_check = pd.DataFrame(columns = [1,2])\n",
    "\n",
    "# first feature\n",
    "df_correlation_check[1] = passengers.dest_country.astype('category').cat.codes\n",
    "\n",
    "# second feature\n",
    "df_correlation_check[2] = passengers.dest_country_name.astype('category').cat.codes\n",
    "\n",
    "# check correlation\n",
    "df_correlation_check.corr()"
   ]
  },
  {
   "cell_type": "code",
   "execution_count": 64,
   "metadata": {},
   "outputs": [
    {
     "data": {
      "text/html": [
       "<div>\n",
       "<style scoped>\n",
       "    .dataframe tbody tr th:only-of-type {\n",
       "        vertical-align: middle;\n",
       "    }\n",
       "\n",
       "    .dataframe tbody tr th {\n",
       "        vertical-align: top;\n",
       "    }\n",
       "\n",
       "    .dataframe thead th {\n",
       "        text-align: right;\n",
       "    }\n",
       "</style>\n",
       "<table border=\"1\" class=\"dataframe\">\n",
       "  <thead>\n",
       "    <tr style=\"text-align: right;\">\n",
       "      <th></th>\n",
       "      <th>1</th>\n",
       "      <th>2</th>\n",
       "    </tr>\n",
       "  </thead>\n",
       "  <tbody>\n",
       "    <tr>\n",
       "      <th>1</th>\n",
       "      <td>1.000000</td>\n",
       "      <td>0.509723</td>\n",
       "    </tr>\n",
       "    <tr>\n",
       "      <th>2</th>\n",
       "      <td>0.509723</td>\n",
       "      <td>1.000000</td>\n",
       "    </tr>\n",
       "  </tbody>\n",
       "</table>\n",
       "</div>"
      ],
      "text/plain": [
       "          1         2\n",
       "1  1.000000  0.509723\n",
       "2  0.509723  1.000000"
      ]
     },
     "execution_count": 64,
     "metadata": {},
     "output_type": "execute_result"
    }
   ],
   "source": [
    "# unique_carrier and unique_carrier_name\n",
    "\n",
    "# create placeholder database for two features\n",
    "df_correlation_check = pd.DataFrame(columns = [1,2])\n",
    "\n",
    "# first feature\n",
    "df_correlation_check[1] = passengers.unique_carrier.astype('category').cat.codes\n",
    "\n",
    "# second feature\n",
    "df_correlation_check[2] = passengers.unique_carrier_name.astype('category').cat.codes\n",
    "\n",
    "# check correlation\n",
    "df_correlation_check.corr()"
   ]
  },
  {
   "cell_type": "markdown",
   "metadata": {},
   "source": [
    "# Numerical data"
   ]
  },
  {
   "cell_type": "code",
   "execution_count": 16,
   "metadata": {},
   "outputs": [
    {
     "data": {
      "text/plain": [
       "Index(['departures_scheduled', 'departures_performed', 'payload', 'seats',\n",
       "       'passengers', 'freight', 'mail', 'distance', 'ramp_to_ramp', 'air_time',\n",
       "       'airline_id', 'carrier_group', 'carrier_group_new', 'origin_airport_id',\n",
       "       'origin_city_market_id', 'dest_airport_id', 'dest_city_market_id',\n",
       "       'aircraft_group', 'aircraft_type', 'aircraft_config', 'year', 'month',\n",
       "       'day'],\n",
       "      dtype='object')"
      ]
     },
     "execution_count": 16,
     "metadata": {},
     "output_type": "execute_result"
    }
   ],
   "source": [
    "numeric_features = passengers.select_dtypes(include=[np.number])\n",
    "numeric_features.columns"
   ]
  },
  {
   "cell_type": "code",
   "execution_count": 17,
   "metadata": {},
   "outputs": [
    {
     "name": "stdout",
     "output_type": "stream",
     "text": [
      "departures_scheduled 872\n",
      "departures_performed 793\n",
      "payload 418417\n",
      "seats 29584\n",
      "passengers 32365\n",
      "freight 295975\n",
      "mail 69219\n",
      "distance 5818\n",
      "ramp_to_ramp 37857\n",
      "air_time 34428\n",
      "airline_id 377\n",
      "carrier_group 4\n",
      "carrier_group_new 8\n",
      "origin_airport_id 2512\n",
      "origin_city_market_id 2214\n",
      "dest_airport_id 2564\n",
      "dest_city_market_id 2260\n",
      "aircraft_group 9\n",
      "aircraft_type 199\n",
      "aircraft_config 4\n",
      "year 5\n",
      "month 12\n",
      "day 21\n"
     ]
    }
   ],
   "source": [
    "# see if variables are categorical / continuous: look at number of unique values for each feature\n",
    "for column in numeric_features.columns:\n",
    "    print(column, len(passengers[column].unique()))"
   ]
  },
  {
   "cell_type": "code",
   "execution_count": 21,
   "metadata": {},
   "outputs": [
    {
     "name": "stdout",
     "output_type": "stream",
     "text": [
      "carrier_group [3 1 2 0]\n",
      "carrier_group_new [3 1 2 0]\n",
      "aircraft_config [3 1 2 0]\n"
     ]
    }
   ],
   "source": [
    "# print categories for categorical data\n",
    "print('carrier_group', passengers.carrier_group.unique())\n",
    "print('carrier_group_new', passengers.carrier_group.unique())\n",
    "print('aircraft_config', passengers.carrier_group.unique())"
   ]
  },
  {
   "cell_type": "code",
   "execution_count": null,
   "metadata": {},
   "outputs": [],
   "source": []
  },
  {
   "cell_type": "code",
   "execution_count": null,
   "metadata": {},
   "outputs": [],
   "source": []
  },
  {
   "cell_type": "code",
   "execution_count": null,
   "metadata": {},
   "outputs": [],
   "source": []
  },
  {
   "cell_type": "markdown",
   "metadata": {},
   "source": [
    "# String data"
   ]
  },
  {
   "cell_type": "code",
   "execution_count": 37,
   "metadata": {},
   "outputs": [
    {
     "data": {
      "text/plain": [
       "Index(['unique_carrier', 'unique_carrier_name', 'region', 'carrier',\n",
       "       'carrier_name', 'origin', 'origin_city_name', 'origin_country',\n",
       "       'origin_country_name', 'dest', 'dest_city_name', 'dest_country',\n",
       "       'dest_country_name', 'distance_group', 'class'],\n",
       "      dtype='object')"
      ]
     },
     "execution_count": 37,
     "metadata": {},
     "output_type": "execute_result"
    }
   ],
   "source": [
    "string_data = passengers.dtypes[passengers.dtypes == 'object'].index\n",
    "string_data"
   ]
  },
  {
   "cell_type": "code",
   "execution_count": 54,
   "metadata": {},
   "outputs": [
    {
     "name": "stdout",
     "output_type": "stream",
     "text": [
      "unique_carrier (length) 377\n",
      "unique_carrier_name (length) 377\n",
      "region ['D' 'L' 'A' 'P' 'S' 'I']\n",
      "carrier (length) 388\n",
      "carrier_name (length) 396\n",
      "origin (length) 2514\n",
      "origin_country (length) 154\n",
      "class ['DU' 'IU' 'IF' 'DF']\n"
     ]
    }
   ],
   "source": [
    "print('unique_carrier (length)', len(passengers.unique_carrier.unique()))\n",
    "print('unique_carrier_name (length)', len(passengers.unique_carrier_name.unique()))\n",
    "print('region', passengers.region.unique())\n",
    "print('carrier (length)', len(passengers.carrier.unique()))\n",
    "print('carrier_name (length)', len(passengers.carrier_name.unique()))\n",
    "print('origin (length)', len(passengers.origin.unique()))\n",
    "print('origin_country (length)', len(passengers.origin_country.unique()))\n",
    "print('class', passengers['class'].unique())"
   ]
  },
  {
   "cell_type": "markdown",
   "metadata": {},
   "source": [
    "# Drop redundant features"
   ]
  },
  {
   "cell_type": "code",
   "execution_count": 62,
   "metadata": {},
   "outputs": [],
   "source": [
    "# redundant: keeping unique_carrier, unique_carrier_name, carrier_group_new\n",
    "\n",
    "passengers = passengers.drop(['carrier', 'carrier_name', 'carrier_group'], axis = 1)"
   ]
  },
  {
   "cell_type": "code",
   "execution_count": null,
   "metadata": {},
   "outputs": [],
   "source": []
  }
 ],
 "metadata": {
  "kernelspec": {
   "display_name": "Python 3",
   "language": "python",
   "name": "python3"
  },
  "language_info": {
   "codemirror_mode": {
    "name": "ipython",
    "version": 3
   },
   "file_extension": ".py",
   "mimetype": "text/x-python",
   "name": "python",
   "nbconvert_exporter": "python",
   "pygments_lexer": "ipython3",
   "version": "3.7.6"
  }
 },
 "nbformat": 4,
 "nbformat_minor": 4
}
