{
 "cells": [
  {
   "cell_type": "code",
   "execution_count": 1,
   "metadata": {},
   "outputs": [],
   "source": [
    "import pandas as pd"
   ]
  },
  {
   "cell_type": "code",
   "execution_count": 5,
   "metadata": {},
   "outputs": [],
   "source": [
    "flights= pd.read_csv('flights_cleaned.csv')"
   ]
  },
  {
   "cell_type": "code",
   "execution_count": 9,
   "metadata": {},
   "outputs": [
    {
     "data": {
      "text/plain": [
       "(15768096, 20)"
      ]
     },
     "execution_count": 9,
     "metadata": {},
     "output_type": "execute_result"
    }
   ],
   "source": [
    "flights.shape"
   ]
  },
  {
   "cell_type": "code",
   "execution_count": 10,
   "metadata": {},
   "outputs": [
    {
     "name": "stdout",
     "output_type": "stream",
     "text": [
      "<class 'pandas.core.frame.DataFrame'>\n",
      "RangeIndex: 15768096 entries, 0 to 15768095\n",
      "Data columns (total 20 columns):\n",
      " #   Column               Dtype  \n",
      "---  ------               -----  \n",
      " 0   branded_code_share   int64  \n",
      " 1   crs_dep_time         int64  \n",
      " 2   crs_arr_time         int64  \n",
      " 3   arr_delay            float64\n",
      " 4   cancelled            float64\n",
      " 5   crs_elapsed_time     float64\n",
      " 6   air_time             float64\n",
      " 7   distance             float64\n",
      " 8   carrier_delay        float64\n",
      " 9   weather_delay        float64\n",
      " 10  nas_delay            float64\n",
      " 11  security_delay       float64\n",
      " 12  late_aircraft_delay  float64\n",
      " 13  fl_month             int64  \n",
      " 14  fl_day_of_week       int64  \n",
      " 15  fl_type              int64  \n",
      " 16  state_travel_type    int64  \n",
      " 17  origin_cat           int64  \n",
      " 18  dest_cat             int64  \n",
      " 19  mkt_op_combo_cat     int64  \n",
      "dtypes: float64(10), int64(10)\n",
      "memory usage: 2.3 GB\n"
     ]
    }
   ],
   "source": [
    "flights.info()"
   ]
  },
  {
   "cell_type": "code",
   "execution_count": 13,
   "metadata": {},
   "outputs": [],
   "source": [
    "# get database for binary classification. drop everything delayed related\n",
    "db_binary = flights.drop(['arr_delay', 'carrier_delay', 'weather_delay', 'nas_delay', 'security_delay', 'late_aircraft_delay'], axis=1)"
   ]
  },
  {
   "cell_type": "code",
   "execution_count": 15,
   "metadata": {},
   "outputs": [],
   "source": [
    "# get a 1 million sample\n",
    "db_binary_sample = db_binary.sample(1000000)"
   ]
  },
  {
   "cell_type": "code",
   "execution_count": 16,
   "metadata": {},
   "outputs": [],
   "source": [
    "# get database for multiclass classification - only flights that were delayed\n",
    "db_multiclass = flights[flights['arr_delay'] > 0]"
   ]
  },
  {
   "cell_type": "code",
   "execution_count": 18,
   "metadata": {},
   "outputs": [],
   "source": [
    "# get a 1 million sample\n",
    "db_multiclass_sample = db_multiclass.sample(1000000)"
   ]
  },
  {
   "cell_type": "code",
   "execution_count": 19,
   "metadata": {},
   "outputs": [],
   "source": [
    "# get database for regression. drop cancelled feature and delay types\n",
    "db_regression = flights.drop(['cancelled', 'carrier_delay', 'weather_delay', 'nas_delay', 'security_delay', 'late_aircraft_delay'], axis=1)"
   ]
  },
  {
   "cell_type": "code",
   "execution_count": 20,
   "metadata": {},
   "outputs": [],
   "source": [
    "# get a 1 million sample\n",
    "db_regression_sample = db_regression.sample(1000000)"
   ]
  },
  {
   "cell_type": "code",
   "execution_count": 21,
   "metadata": {},
   "outputs": [],
   "source": [
    "# export\n",
    "\n",
    "db_binary_sample.to_csv(\"db_binary_sample.csv\")\n",
    "db_multiclass_sample.to_csv(\"db_multiclass_sample.csv\")\n",
    "db_regression_sample.to_csv(\"db_regression_sample.csv\")"
   ]
  },
  {
   "cell_type": "code",
   "execution_count": null,
   "metadata": {},
   "outputs": [],
   "source": []
  }
 ],
 "metadata": {
  "kernelspec": {
   "display_name": "Python 3",
   "language": "python",
   "name": "python3"
  },
  "language_info": {
   "codemirror_mode": {
    "name": "ipython",
    "version": 3
   },
   "file_extension": ".py",
   "mimetype": "text/x-python",
   "name": "python",
   "nbconvert_exporter": "python",
   "pygments_lexer": "ipython3",
   "version": "3.7.6"
  }
 },
 "nbformat": 4,
 "nbformat_minor": 4
}
