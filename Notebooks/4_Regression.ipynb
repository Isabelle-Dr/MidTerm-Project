{
 "cells": [
  {
   "cell_type": "markdown",
   "metadata": {},
   "source": [
    "**INPUTS**  \n",
    "db_regression_sample.csv  \n",
    "flights_scaled.csv  \n",
    "**OUTPUTS**\\\n",
    "db_multiclass_data.csv\\\n",
    "Regression.sav\\\n",
    "y_eva.csv"
   ]
  },
  {
   "cell_type": "markdown",
   "metadata": {},
   "source": [
    "# 1. Regression problem\n",
    "**Goal**: predict arrival delays of flights one week in advance  \n",
    "\n",
    "**Description**: This notebooks was used to create a ML algorythm that predicts arrival delays of flights. The input data comes from the file *flights_scaled.csv* that had the following transformations\n",
    "- drop column `DELAYED_TYPE` \n",
    "- drop column ` CANCELLED` \n",
    "\n",
    "**Target variable**: `ARR_DELAY`  \n",
    "\n",
    "**Steps**:\n",
    "1. Pick evaluation metrics and models to try\n",
    "2. Spot check different algos based on **a sample data** using cross validate\n",
    "3. Select a model\n",
    "4. Split training/testing data on **the whole dataset**\n",
    "5. Tune hyperparameters on selected algo on **training data** using grid search\n",
    "6. Train selected algo & parameters on the **training data**\n",
    "7. Test performance on **testing data**\n",
    "8. Save with pickle\n",
    "\n",
    "**Notes:**\n",
    "- 35% of the dataset has values (positive or negative) in `ARR_DELAY`\n",
    "- [Reading on linear regression](https://machinelearningmastery.com/linear-regression-for-machine-learning/)"
   ]
  },
  {
   "cell_type": "markdown",
   "metadata": {},
   "source": [
    "## 1. Pick evaluation metrics and models to try\n",
    "**Evaluation metrics** \n",
    "- R Square\n",
    "- MSE\n",
    "\n",
    "**Models to try**\n",
    "- Naive algorythm (used as a baseline model):  \n",
    "Predict the average delay for all\n",
    "\n",
    "- Linear algorythms:  \n",
    "Linear Regression\n",
    "Polynomial regression  \n",
    "Lasso Regression  \n",
    "Ridge Regression  \n",
    "ElasticNet Regression   \n",
    "\n",
    "- Ensemble algorythms:  \n",
    "Random forest  \n",
    "Stochastic Gradient Boosting  \n",
    "XGBoost  "
   ]
  },
  {
   "cell_type": "markdown",
   "metadata": {},
   "source": [
    "## 2. Spot check different algos based on **a sample data** using cross validate"
   ]
  },
  {
   "cell_type": "code",
   "execution_count": 1,
   "metadata": {},
   "outputs": [],
   "source": [
    "import numpy as np\n",
    "import pandas as pd"
   ]
  },
  {
   "cell_type": "code",
   "execution_count": 2,
   "metadata": {},
   "outputs": [
    {
     "name": "stdout",
     "output_type": "stream",
     "text": [
      "(10000, 18)\n",
      "Index(['branded_code_share', 'origin', 'dest', 'crs_dep_time', 'crs_arr_time',\n",
      "       'crs_elapsed_time', 'air_time', 'distance', 'fl_month',\n",
      "       'fl_day_of_week', 'fl_week_of_month', 'mkt_op_combo', 'fl_type',\n",
      "       'm_hist_dep_delay', 'med_hist_dep_delay', 'm_hist_arr_delay',\n",
      "       'med_hist_arr_delay', 'arr_delay'],\n",
      "      dtype='object')\n",
      "(10000, 18)\n",
      "Index(['branded_code_share', 'origin', 'dest', 'crs_dep_time', 'crs_arr_time',\n",
      "       'crs_elapsed_time', 'air_time', 'distance', 'fl_month',\n",
      "       'fl_day_of_week', 'fl_week_of_month', 'mkt_op_combo', 'fl_type',\n",
      "       'm_hist_dep_delay', 'med_hist_dep_delay', 'm_hist_arr_delay',\n",
      "       'med_hist_arr_delay', 'arr_delay'],\n",
      "      dtype='object')\n"
     ]
    }
   ],
   "source": [
    "# get data from the two samples (10 000 data points)\n",
    "data_sample = pd.read_csv('db_regression_sample.csv', index_col = 0)\n",
    "print(data_sample.shape)\n",
    "print(data_sample.columns)\n",
    "\n",
    "data_pca_sample = pd.read_csv('db_regression_pca_sample.csv', index_col = 0)\n",
    "print(data_sample.shape)\n",
    "print(data_sample.columns)"
   ]
  },
  {
   "cell_type": "code",
   "execution_count": 3,
   "metadata": {},
   "outputs": [
    {
     "name": "stdout",
     "output_type": "stream",
     "text": [
      "(10000,)\n",
      "(10000, 17)\n",
      "(10000,)\n",
      "(10000, 5)\n"
     ]
    }
   ],
   "source": [
    "# Split between target variable and dependant variables\n",
    "\n",
    "y_sample = data_sample.arr_delay\n",
    "X_sample = data_sample.drop('arr_delay', axis = 1)\n",
    "print(y_sample.shape)\n",
    "print(X_sample.shape)\n",
    "\n",
    "y_pca_sample = data_pca_sample.arr_delay\n",
    "X_pca_sample = data_pca_sample.drop('arr_delay', axis = 1)\n",
    "print(y_pca_sample.shape)\n",
    "print(X_pca_sample.shape)"
   ]
  },
  {
   "cell_type": "code",
   "execution_count": 4,
   "metadata": {},
   "outputs": [],
   "source": [
    "# Function to perform cross validation on the data. \n",
    "\n",
    "def perform_cross_validate(models, X, y, scoring, n_folds, plot = False):\n",
    "    \n",
    "    # import cross validate\n",
    "    from sklearn.model_selection import cross_validate\n",
    "    import pandas as pd\n",
    "    import numpy as np\n",
    "    \n",
    "    # create dataframe\n",
    "    results_mean = pd.DataFrame(columns = list(models.keys()), index=list(scoring))\n",
    "    results_std = pd.DataFrame(columns = list(models.keys()),  index=list(scoring))\n",
    "    \n",
    "\n",
    "    # perform cross validate and store desults in the dataframe\n",
    "    for key in models:\n",
    "        model_name = key\n",
    "        model = models[key]  # this is the model's placeholder\n",
    "        cv = cross_validate(estimator=model, X=X, y=y, cv=n_folds, scoring=scoring)\n",
    "    \n",
    "        # adds values for each scoring in the dataframes\n",
    "        results_mean[model_name] = [cv['test_'+scoring[i]].mean() for i in range(len(scoring))]\n",
    "        results_std[model_name] = [cv['test_'+scoring[i]].std() for i in range(len(scoring))]\n",
    "        \n",
    "        \n",
    "    if plot:\n",
    "        #setup\n",
    "        to_plot = {0:311, 1:312, 2:313, 3:314, 4:315, 5:316}\n",
    "        import matplotlib.pyplot as plt\n",
    "        %matplotlib inline\n",
    "        from matplotlib.pylab import rcParams\n",
    "        rcParams['figure.figsize'] = 20, 15\n",
    "        \n",
    "        # plot\n",
    "        for i, score in enumerate(scoring):\n",
    "            plt.subplot(to_plot[i])\n",
    "            plt.bar(list(results_mean.columns),  results_mean.iloc[i].values)\n",
    "            plt.title(f'Plot for: {score}')\n",
    "            \n",
    "    return results_mean, results_std"
   ]
  },
  {
   "cell_type": "code",
   "execution_count": 5,
   "metadata": {},
   "outputs": [],
   "source": [
    "# import models to try\n",
    "from sklearn.dummy import DummyRegressor\n",
    "from sklearn.linear_model import LinearRegression\n",
    "from sklearn.linear_model import Lasso\n",
    "from sklearn.linear_model import Ridge\n",
    "from sklearn.linear_model import ElasticNet\n",
    "from sklearn.preprocessing import PolynomialFeatures\n",
    "from sklearn.pipeline import make_pipeline\n",
    "from sklearn.ensemble import RandomForestRegressor\n",
    "from sklearn.ensemble import GradientBoostingRegressor\n",
    "import xgboost as xgb"
   ]
  },
  {
   "cell_type": "markdown",
   "metadata": {},
   "source": [
    "###  Cross validate using db_regression_sample.csv, 5 folds"
   ]
  },
  {
   "cell_type": "code",
   "execution_count": 6,
   "metadata": {},
   "outputs": [
    {
     "data": {
      "image/png": "[encoded data removed]",
      "text/plain": [
       "<Figure size 1440x1080 with 2 Axes>"
      ]
     },
     "metadata": {
      "needs_background": "light"
     },
     "output_type": "display_data"
    }
   ],
   "source": [
    "# params\n",
    "models = {\n",
    "    'Dummy Classifier': DummyRegressor(strategy = \"mean\"), \\\n",
    "    'Linear Regression': LinearRegression(), \\\n",
    "    'Lasso': Lasso(), \\\n",
    "    'Ridge': Ridge(), \\\n",
    "    'ElasticNet': ElasticNet(), \\\n",
    "    'Random Forest': RandomForestRegressor(), \\\n",
    "    'Gradient Boosting': GradientBoostingRegressor(), \\\n",
    "    'XGBoost': xgb.XGBRegressor(objective = 'reg:squarederror', n_jobs=-1), \\\n",
    "    'Polynomial Regression': make_pipeline(PolynomialFeatures(2),LinearRegression()) \\\n",
    "    }\n",
    "\n",
    "scoring = ('r2', 'neg_mean_squared_error')\n",
    "\n",
    "# call function\n",
    "results_mean, results_std = perform_cross_validate(models=models, X=X_sample, y=y_sample, scoring=scoring, n_folds=5, plot=True)"
   ]
  },
  {
   "cell_type": "code",
   "execution_count": 7,
   "metadata": {},
   "outputs": [
    {
     "data": {
      "text/html": [
       "<div>\n",
       "<style scoped>\n",
       "    .dataframe tbody tr th:only-of-type {\n",
       "        vertical-align: middle;\n",
       "    }\n",
       "\n",
       "    .dataframe tbody tr th {\n",
       "        vertical-align: top;\n",
       "    }\n",
       "\n",
       "    .dataframe thead th {\n",
       "        text-align: right;\n",
       "    }\n",
       "</style>\n",
       "<table border=\"1\" class=\"dataframe\">\n",
       "  <thead>\n",
       "    <tr style=\"text-align: right;\">\n",
       "      <th></th>\n",
       "      <th>Dummy Classifier</th>\n",
       "      <th>Linear Regression</th>\n",
       "      <th>Lasso</th>\n",
       "      <th>Ridge</th>\n",
       "      <th>ElasticNet</th>\n",
       "      <th>Random Forest</th>\n",
       "      <th>Gradient Boosting</th>\n",
       "      <th>XGBoost</th>\n",
       "      <th>Polynomial Regression</th>\n",
       "    </tr>\n",
       "  </thead>\n",
       "  <tbody>\n",
       "    <tr>\n",
       "      <th>r2</th>\n",
       "      <td>-0.001699</td>\n",
       "      <td>0.028516</td>\n",
       "      <td>0.012835</td>\n",
       "      <td>0.028534</td>\n",
       "      <td>0.013005</td>\n",
       "      <td>-0.018724</td>\n",
       "      <td>0.034906</td>\n",
       "      <td>0.038387</td>\n",
       "      <td>0.039582</td>\n",
       "    </tr>\n",
       "    <tr>\n",
       "      <th>neg_mean_squared_error</th>\n",
       "      <td>-1053.488761</td>\n",
       "      <td>-1021.336579</td>\n",
       "      <td>-1038.129453</td>\n",
       "      <td>-1021.318443</td>\n",
       "      <td>-1037.897517</td>\n",
       "      <td>-1069.850175</td>\n",
       "      <td>-1014.211718</td>\n",
       "      <td>-1010.656548</td>\n",
       "      <td>-1008.823907</td>\n",
       "    </tr>\n",
       "  </tbody>\n",
       "</table>\n",
       "</div>"
      ],
      "text/plain": [
       "                        Dummy Classifier  Linear Regression        Lasso  \\\n",
       "r2                             -0.001699           0.028516     0.012835   \n",
       "neg_mean_squared_error      -1053.488761       -1021.336579 -1038.129453   \n",
       "\n",
       "                              Ridge   ElasticNet  Random Forest  \\\n",
       "r2                         0.028534     0.013005      -0.018724   \n",
       "neg_mean_squared_error -1021.318443 -1037.897517   -1069.850175   \n",
       "\n",
       "                        Gradient Boosting      XGBoost  Polynomial Regression  \n",
       "r2                               0.034906     0.038387               0.039582  \n",
       "neg_mean_squared_error       -1014.211718 -1010.656548           -1008.823907  "
      ]
     },
     "execution_count": 7,
     "metadata": {},
     "output_type": "execute_result"
    }
   ],
   "source": [
    "results_mean"
   ]
  },
  {
   "cell_type": "markdown",
   "metadata": {},
   "source": [
    "### Note: \n",
    "The sign of Mean Squared error is switched when using cross validate. It is because a maximizing function can be used"
   ]
  },
  {
   "cell_type": "markdown",
   "metadata": {},
   "source": [
    "### Cross validate using db_regression_pca_sample.csv, 5 folds "
   ]
  },
  {
   "cell_type": "code",
   "execution_count": 8,
   "metadata": {},
   "outputs": [
    {
     "data": {
      "image/png": "[encoded data removed]",
      "text/plain": [
       "<Figure size 1440x1080 with 2 Axes>"
      ]
     },
     "metadata": {
      "needs_background": "light"
     },
     "output_type": "display_data"
    }
   ],
   "source": [
    "# params\n",
    "models = {\n",
    "    'Dummy Classifier': DummyRegressor(strategy = \"mean\"), \\\n",
    "    'Linear Regression': LinearRegression(), \\\n",
    "    'Lasso': Lasso(), \\\n",
    "    'Ridge': Ridge(), \\\n",
    "    'ElasticNet': ElasticNet(), \\\n",
    "    'Gradient Boosting': GradientBoostingRegressor(), \\\n",
    "    'XGBoost': xgb.XGBRegressor(objective = 'reg:squarederror', n_jobs=-1), \\\n",
    "    'Polynomial Regression': make_pipeline(PolynomialFeatures(2),LinearRegression()) \\\n",
    "    }\n",
    "\n",
    "scoring = ('r2', 'neg_mean_squared_error')\n",
    "\n",
    "# call function\n",
    "results_mean_pca, results_std_pca = perform_cross_validate(models=models, X=X_pca_sample, y=y_pca_sample, scoring=scoring, n_folds=5, plot=True)"
   ]
  },
  {
   "cell_type": "code",
   "execution_count": 9,
   "metadata": {},
   "outputs": [
    {
     "data": {
      "text/html": [
       "<div>\n",
       "<style scoped>\n",
       "    .dataframe tbody tr th:only-of-type {\n",
       "        vertical-align: middle;\n",
       "    }\n",
       "\n",
       "    .dataframe tbody tr th {\n",
       "        vertical-align: top;\n",
       "    }\n",
       "\n",
       "    .dataframe thead th {\n",
       "        text-align: right;\n",
       "    }\n",
       "</style>\n",
       "<table border=\"1\" class=\"dataframe\">\n",
       "  <thead>\n",
       "    <tr style=\"text-align: right;\">\n",
       "      <th></th>\n",
       "      <th>Dummy Classifier</th>\n",
       "      <th>Linear Regression</th>\n",
       "      <th>Lasso</th>\n",
       "      <th>Ridge</th>\n",
       "      <th>ElasticNet</th>\n",
       "      <th>Gradient Boosting</th>\n",
       "      <th>XGBoost</th>\n",
       "      <th>Polynomial Regression</th>\n",
       "    </tr>\n",
       "  </thead>\n",
       "  <tbody>\n",
       "    <tr>\n",
       "      <th>r2</th>\n",
       "      <td>-0.000282</td>\n",
       "      <td>0.016002</td>\n",
       "      <td>0.015739</td>\n",
       "      <td>0.016002</td>\n",
       "      <td>0.015753</td>\n",
       "      <td>0.002814</td>\n",
       "      <td>0.005626</td>\n",
       "      <td>0.014643</td>\n",
       "    </tr>\n",
       "    <tr>\n",
       "      <th>neg_mean_squared_error</th>\n",
       "      <td>-1023.513099</td>\n",
       "      <td>-1006.906370</td>\n",
       "      <td>-1007.129110</td>\n",
       "      <td>-1006.906320</td>\n",
       "      <td>-1007.127797</td>\n",
       "      <td>-1020.168978</td>\n",
       "      <td>-1017.337400</td>\n",
       "      <td>-1008.307753</td>\n",
       "    </tr>\n",
       "  </tbody>\n",
       "</table>\n",
       "</div>"
      ],
      "text/plain": [
       "                        Dummy Classifier  Linear Regression        Lasso  \\\n",
       "r2                             -0.000282           0.016002     0.015739   \n",
       "neg_mean_squared_error      -1023.513099       -1006.906370 -1007.129110   \n",
       "\n",
       "                              Ridge   ElasticNet  Gradient Boosting  \\\n",
       "r2                         0.016002     0.015753           0.002814   \n",
       "neg_mean_squared_error -1006.906320 -1007.127797       -1020.168978   \n",
       "\n",
       "                            XGBoost  Polynomial Regression  \n",
       "r2                         0.005626               0.014643  \n",
       "neg_mean_squared_error -1017.337400           -1008.307753  "
      ]
     },
     "execution_count": 9,
     "metadata": {},
     "output_type": "execute_result"
    }
   ],
   "source": [
    "results_mean_pca"
   ]
  },
  {
   "cell_type": "markdown",
   "metadata": {},
   "source": [
    "Note: the MSE is negative when used in cross validation, this is done in case it's used in maximixation [source](https://www.kaggle.com/questions-and-answers/154600)"
   ]
  },
  {
   "cell_type": "markdown",
   "metadata": {},
   "source": [
    "## 3. Select a model\n",
    "All scores are really low. We looked at different feature engineering and outlier treatment on the input data and couldn't get higher scores. We will continue looking and tuning hyperparameters and working with bigger a bigger sample that didn't run through PCA.\n",
    "\n",
    "Looking at the spot check on the first sample data, XGBoost or Polynomial would be good models to try with r2 at 0.038 and 0.039.\n",
    "The second spot check gave us lower scores for all models (the best one being linear regression with r2 at 0.016.\n",
    "\n",
    "We will move forward using **XGBoost**"
   ]
  },
  {
   "cell_type": "markdown",
   "metadata": {},
   "source": [
    "## 4. Split training/and validation data on **the whole dataset**"
   ]
  },
  {
   "cell_type": "code",
   "execution_count": 10,
   "metadata": {},
   "outputs": [
    {
     "name": "stdout",
     "output_type": "stream",
     "text": [
      "(15768083, 20)\n"
     ]
    }
   ],
   "source": [
    "# get data, the whole dataset that has been transformed and scaled\n",
    "\n",
    "data = pd.read_csv('flights_scaled.csv', low_memory = False) # change this when I get the data\n",
    "print(data.shape)"
   ]
  },
  {
   "cell_type": "code",
   "execution_count": 11,
   "metadata": {},
   "outputs": [],
   "source": [
    "# drop target variables used in other models\n",
    "data = data.drop(['delay_type', 'cancelled'], axis=1)"
   ]
  },
  {
   "cell_type": "code",
   "execution_count": 103,
   "metadata": {},
   "outputs": [],
   "source": [
    "# export the file used for the model \n",
    "data.to_csv('db_regression_data.csv')"
   ]
  },
  {
   "cell_type": "code",
   "execution_count": 12,
   "metadata": {},
   "outputs": [
    {
     "name": "stdout",
     "output_type": "stream",
     "text": [
      "(15768083,)\n",
      "(15768083, 17)\n"
     ]
    }
   ],
   "source": [
    "# Split between target variable and dependant variables\n",
    "\n",
    "y = data.arr_delay\n",
    "X = data.drop('arr_delay', axis = 1)\n",
    "print(y.shape)\n",
    "print(X.shape)"
   ]
  },
  {
   "cell_type": "code",
   "execution_count": 13,
   "metadata": {},
   "outputs": [],
   "source": [
    "# split training and testing data set\n",
    "from sklearn.model_selection import train_test_split\n",
    "\n",
    "X_train, X_test, y_train, y_test = train_test_split (X, y, test_size=0.20, random_state=42)"
   ]
  },
  {
   "cell_type": "code",
   "execution_count": 14,
   "metadata": {},
   "outputs": [
    {
     "name": "stdout",
     "output_type": "stream",
     "text": [
      "(12614466,)\n",
      "(12614466, 17)\n",
      "(3153617,)\n",
      "(3153617, 17)\n"
     ]
    }
   ],
   "source": [
    "print(y_train.shape)\n",
    "print(X_train.shape)\n",
    "print(y_test.shape)\n",
    "print(X_test.shape)"
   ]
  },
  {
   "cell_type": "markdown",
   "metadata": {},
   "source": [
    "## 5. Tune hyperparameters on selected algo on **training data** using grid search"
   ]
  },
  {
   "cell_type": "code",
   "execution_count": 15,
   "metadata": {},
   "outputs": [],
   "source": [
    "from sklearn.model_selection import GridSearchCV"
   ]
  },
  {
   "cell_type": "code",
   "execution_count": 16,
   "metadata": {},
   "outputs": [
    {
     "name": "stdout",
     "output_type": "stream",
     "text": [
      "[01:46:26] WARNING: src/learner.cc:686: Tree method is automatically selected to be 'approx' for faster speed. To use old behavior (exact greedy algorithm on single machine), set tree_method to 'exact'.\n",
      "0.060447857181874176 \n",
      "1021.5861863412229\n"
     ]
    }
   ],
   "source": [
    "# try running model once to get an idea of the length grid search will take \n",
    "# this takes 15min on 7 million data\n",
    "\n",
    "from sklearn.metrics import r2_score # evaluation metric\n",
    "from sklearn.metrics import mean_squared_error # evaluation metric\n",
    "\n",
    "model = xgb.XGBRegressor(objective = 'reg:squarederror', n_jobs=-1) # placeholder\n",
    "model.fit(X_train, y_train) # fit\n",
    "y_pred = model.predict(X_test) # predict\n",
    "r2 = r2_score(y_test, y_pred)\n",
    "MSE = mean_squared_error(y_test, y_pred)\n",
    "print(f'{r2} \\n{MSE}')"
   ]
  },
  {
   "cell_type": "code",
   "execution_count": 17,
   "metadata": {},
   "outputs": [
    {
     "name": "stdout",
     "output_type": "stream",
     "text": [
      "{'colsample_bytree': 0.5, 'gamma': 0.0, 'learning_rate': 0.1, 'max_depth': 4, 'min_child_weight': 5}\n"
     ]
    }
   ],
   "source": [
    "# perform grid search on sample data\n",
    "# this takes 2 minutes on 10K data and 16 parameters\n",
    "\n",
    "# params for grid search\n",
    "params = [\n",
    "    {\"learning_rate\"    : [0.10, 0.20, 0.30 ] ,\n",
    " \"max_depth\"        : [ 3, 4, 5, 6],\n",
    " \"min_child_weight\" : [ 1, 3, 5],\n",
    " \"gamma\"            : [ 0.0, 0.1, 0.3, 0.5],\n",
    " \"colsample_bytree\" : [ 0.3, 0.5] }\n",
    "]\n",
    "\n",
    "model = xgb.XGBRegressor(objective = 'reg:squarederror', n_jobs=-1)\n",
    "xgbg = GridSearchCV(estimator=model, param_grid=params, n_jobs=-1)\n",
    "\n",
    "xgbg.fit(X_sample, y_sample)\n",
    "\n",
    "print(xgbg.best_params_)\n",
    "best_model = xgbg.best_estimator_"
   ]
  },
  {
   "cell_type": "markdown",
   "metadata": {},
   "source": [
    "We will use those parameters for training the model on the whole training dataset"
   ]
  },
  {
   "cell_type": "markdown",
   "metadata": {},
   "source": [
    "## 6. Train selected algo & parameters on the **training data**"
   ]
  },
  {
   "cell_type": "code",
   "execution_count": 18,
   "metadata": {},
   "outputs": [
    {
     "name": "stdout",
     "output_type": "stream",
     "text": [
      "[02:02:27] WARNING: src/learner.cc:686: Tree method is automatically selected to be 'approx' for faster speed. To use old behavior (exact greedy algorithm on single machine), set tree_method to 'exact'.\n"
     ]
    },
    {
     "data": {
      "text/plain": [
       "XGBRegressor(colsample_bytree=0.5, gamma=0.0, max_depth=4, min_child_weight=5,\n",
       "             n_jobs=-1, objective='reg:squarederror')"
      ]
     },
     "execution_count": 18,
     "metadata": {},
     "output_type": "execute_result"
    }
   ],
   "source": [
    "# try model with best parameters from grid search (grid search was based on sample data)\n",
    "\n",
    "model = best_model\n",
    "model.fit(X_train, y_train) # fit"
   ]
  },
  {
   "cell_type": "markdown",
   "metadata": {},
   "source": [
    "## 7. Test performance on **testing data**"
   ]
  },
  {
   "cell_type": "code",
   "execution_count": 19,
   "metadata": {},
   "outputs": [
    {
     "name": "stdout",
     "output_type": "stream",
     "text": [
      "0.06623504253160284 \n",
      "1015.2937110845053\n"
     ]
    }
   ],
   "source": [
    "# Model evaluation metrics\n",
    "\n",
    "y_pred = model.predict(X_test) # predict\n",
    "r2 = r2_score(y_test, y_pred)\n",
    "MSE = mean_squared_error(y_test, y_pred)\n",
    "print(f'{r2} \\n{MSE}')"
   ]
  },
  {
   "cell_type": "code",
   "execution_count": 20,
   "metadata": {},
   "outputs": [
    {
     "data": {
      "text/plain": [
       "2.7016962"
      ]
     },
     "execution_count": 20,
     "metadata": {},
     "output_type": "execute_result"
    }
   ],
   "source": [
    "y_pred.mean()"
   ]
  },
  {
   "cell_type": "markdown",
   "metadata": {},
   "source": [
    "## 8. Save with pickle"
   ]
  },
  {
   "cell_type": "code",
   "execution_count": 21,
   "metadata": {},
   "outputs": [],
   "source": [
    "import pickle"
   ]
  },
  {
   "cell_type": "code",
   "execution_count": 22,
   "metadata": {},
   "outputs": [],
   "source": [
    "filename = 'Regression.sav'\n",
    "pickle.dump(best_model, open(filename, 'wb'))"
   ]
  },
  {
   "cell_type": "code",
   "execution_count": 23,
   "metadata": {},
   "outputs": [
    {
     "name": "stdout",
     "output_type": "stream",
     "text": [
      "0.06623504253160284\n"
     ]
    }
   ],
   "source": [
    "loaded_model = pickle.load(open('Regression.sav', 'rb'))\n",
    "result = loaded_model.score(X_test, y_test)\n",
    "print(result)"
   ]
  },
  {
   "cell_type": "markdown",
   "metadata": {},
   "source": [
    "## 9. Predict on evaluation data"
   ]
  },
  {
   "cell_type": "code",
   "execution_count": 24,
   "metadata": {},
   "outputs": [],
   "source": [
    "X_eval = pd.read_csv('X_eval_reg.csv', low_memory = False)"
   ]
  },
  {
   "cell_type": "code",
   "execution_count": 25,
   "metadata": {},
   "outputs": [
    {
     "data": {
      "text/html": [
       "<div>\n",
       "<style scoped>\n",
       "    .dataframe tbody tr th:only-of-type {\n",
       "        vertical-align: middle;\n",
       "    }\n",
       "\n",
       "    .dataframe tbody tr th {\n",
       "        vertical-align: top;\n",
       "    }\n",
       "\n",
       "    .dataframe thead th {\n",
       "        text-align: right;\n",
       "    }\n",
       "</style>\n",
       "<table border=\"1\" class=\"dataframe\">\n",
       "  <thead>\n",
       "    <tr style=\"text-align: right;\">\n",
       "      <th></th>\n",
       "      <th>branded_code_share</th>\n",
       "      <th>origin</th>\n",
       "      <th>dest</th>\n",
       "      <th>crs_dep_time</th>\n",
       "      <th>crs_arr_time</th>\n",
       "      <th>crs_elapsed_time</th>\n",
       "      <th>air_time</th>\n",
       "      <th>distance</th>\n",
       "      <th>fl_month</th>\n",
       "      <th>fl_day_of_week</th>\n",
       "      <th>fl_week_of_month</th>\n",
       "      <th>mkt_op_combo</th>\n",
       "      <th>fl_type</th>\n",
       "      <th>m_hist_dep_delay</th>\n",
       "      <th>med_hist_dep_delay</th>\n",
       "      <th>m_hist_arr_delay</th>\n",
       "      <th>med_hist_arr_delay</th>\n",
       "    </tr>\n",
       "  </thead>\n",
       "  <tbody>\n",
       "    <tr>\n",
       "      <th>0</th>\n",
       "      <td>-0.778808</td>\n",
       "      <td>0.721583</td>\n",
       "      <td>1.384100</td>\n",
       "      <td>1.019724</td>\n",
       "      <td>0.865216</td>\n",
       "      <td>-0.598453</td>\n",
       "      <td>0.000022</td>\n",
       "      <td>-0.691421</td>\n",
       "      <td>-1.641708</td>\n",
       "      <td>-0.469654</td>\n",
       "      <td>-1.606868</td>\n",
       "      <td>1.343235</td>\n",
       "      <td>-0.520179</td>\n",
       "      <td>1.300751</td>\n",
       "      <td>0.927402</td>\n",
       "      <td>1.392198</td>\n",
       "      <td>1.428389</td>\n",
       "    </tr>\n",
       "    <tr>\n",
       "      <th>1</th>\n",
       "      <td>-0.778808</td>\n",
       "      <td>0.721583</td>\n",
       "      <td>1.384100</td>\n",
       "      <td>-0.415251</td>\n",
       "      <td>-0.304796</td>\n",
       "      <td>-0.668266</td>\n",
       "      <td>0.000022</td>\n",
       "      <td>-0.691421</td>\n",
       "      <td>-1.641708</td>\n",
       "      <td>-0.469654</td>\n",
       "      <td>-1.606868</td>\n",
       "      <td>1.343235</td>\n",
       "      <td>-0.520179</td>\n",
       "      <td>-0.345562</td>\n",
       "      <td>0.049163</td>\n",
       "      <td>-0.473004</td>\n",
       "      <td>-0.612590</td>\n",
       "    </tr>\n",
       "    <tr>\n",
       "      <th>2</th>\n",
       "      <td>-0.778808</td>\n",
       "      <td>0.721583</td>\n",
       "      <td>1.443483</td>\n",
       "      <td>1.429717</td>\n",
       "      <td>1.255220</td>\n",
       "      <td>-0.947516</td>\n",
       "      <td>0.000022</td>\n",
       "      <td>-0.742637</td>\n",
       "      <td>-1.641708</td>\n",
       "      <td>-0.469654</td>\n",
       "      <td>-1.606868</td>\n",
       "      <td>1.343235</td>\n",
       "      <td>-0.520179</td>\n",
       "      <td>1.245822</td>\n",
       "      <td>0.927402</td>\n",
       "      <td>1.187196</td>\n",
       "      <td>1.428389</td>\n",
       "    </tr>\n",
       "    <tr>\n",
       "      <th>3</th>\n",
       "      <td>-0.778808</td>\n",
       "      <td>0.721583</td>\n",
       "      <td>1.443483</td>\n",
       "      <td>-0.005258</td>\n",
       "      <td>-0.109794</td>\n",
       "      <td>-0.877704</td>\n",
       "      <td>0.000022</td>\n",
       "      <td>-0.742637</td>\n",
       "      <td>-1.641708</td>\n",
       "      <td>-0.469654</td>\n",
       "      <td>-1.606868</td>\n",
       "      <td>1.343235</td>\n",
       "      <td>-0.520179</td>\n",
       "      <td>0.098755</td>\n",
       "      <td>0.049163</td>\n",
       "      <td>0.097369</td>\n",
       "      <td>-0.102345</td>\n",
       "    </tr>\n",
       "    <tr>\n",
       "      <th>4</th>\n",
       "      <td>-0.778808</td>\n",
       "      <td>0.721583</td>\n",
       "      <td>1.443483</td>\n",
       "      <td>-0.825243</td>\n",
       "      <td>-0.889802</td>\n",
       "      <td>-0.807891</td>\n",
       "      <td>0.000022</td>\n",
       "      <td>-0.742637</td>\n",
       "      <td>-1.641708</td>\n",
       "      <td>-0.469654</td>\n",
       "      <td>-1.606868</td>\n",
       "      <td>1.343235</td>\n",
       "      <td>-0.520179</td>\n",
       "      <td>-0.789925</td>\n",
       "      <td>-0.829076</td>\n",
       "      <td>-0.847365</td>\n",
       "      <td>-0.612590</td>\n",
       "    </tr>\n",
       "  </tbody>\n",
       "</table>\n",
       "</div>"
      ],
      "text/plain": [
       "   branded_code_share    origin      dest  crs_dep_time  crs_arr_time  \\\n",
       "0           -0.778808  0.721583  1.384100      1.019724      0.865216   \n",
       "1           -0.778808  0.721583  1.384100     -0.415251     -0.304796   \n",
       "2           -0.778808  0.721583  1.443483      1.429717      1.255220   \n",
       "3           -0.778808  0.721583  1.443483     -0.005258     -0.109794   \n",
       "4           -0.778808  0.721583  1.443483     -0.825243     -0.889802   \n",
       "\n",
       "   crs_elapsed_time  air_time  distance  fl_month  fl_day_of_week  \\\n",
       "0         -0.598453  0.000022 -0.691421 -1.641708       -0.469654   \n",
       "1         -0.668266  0.000022 -0.691421 -1.641708       -0.469654   \n",
       "2         -0.947516  0.000022 -0.742637 -1.641708       -0.469654   \n",
       "3         -0.877704  0.000022 -0.742637 -1.641708       -0.469654   \n",
       "4         -0.807891  0.000022 -0.742637 -1.641708       -0.469654   \n",
       "\n",
       "   fl_week_of_month  mkt_op_combo   fl_type  m_hist_dep_delay  \\\n",
       "0         -1.606868      1.343235 -0.520179          1.300751   \n",
       "1         -1.606868      1.343235 -0.520179         -0.345562   \n",
       "2         -1.606868      1.343235 -0.520179          1.245822   \n",
       "3         -1.606868      1.343235 -0.520179          0.098755   \n",
       "4         -1.606868      1.343235 -0.520179         -0.789925   \n",
       "\n",
       "   med_hist_dep_delay  m_hist_arr_delay  med_hist_arr_delay  \n",
       "0            0.927402          1.392198            1.428389  \n",
       "1            0.049163         -0.473004           -0.612590  \n",
       "2            0.927402          1.187196            1.428389  \n",
       "3            0.049163          0.097369           -0.102345  \n",
       "4           -0.829076         -0.847365           -0.612590  "
      ]
     },
     "execution_count": 25,
     "metadata": {},
     "output_type": "execute_result"
    }
   ],
   "source": [
    "X_eval.head()"
   ]
  },
  {
   "cell_type": "code",
   "execution_count": 26,
   "metadata": {},
   "outputs": [],
   "source": [
    "y_eva = model.predict(X_eval)"
   ]
  },
  {
   "cell_type": "code",
   "execution_count": 27,
   "metadata": {},
   "outputs": [
    {
     "data": {
      "text/plain": [
       "16.506462"
      ]
     },
     "execution_count": 27,
     "metadata": {},
     "output_type": "execute_result"
    }
   ],
   "source": [
    "y_eva.mean()"
   ]
  },
  {
   "cell_type": "code",
   "execution_count": 28,
   "metadata": {},
   "outputs": [],
   "source": [
    "pd.DataFrame(y_eva).to_csv('y_eva.csv')"
   ]
  },
  {
   "cell_type": "code",
   "execution_count": null,
   "metadata": {},
   "outputs": [],
   "source": []
  }
 ],
 "metadata": {
  "kernelspec": {
   "display_name": "Python 3",
   "language": "python",
   "name": "python3"
  },
  "language_info": {
   "codemirror_mode": {
    "name": "ipython",
    "version": 3
   },
   "file_extension": ".py",
   "mimetype": "text/x-python",
   "name": "python",
   "nbconvert_exporter": "python",
   "pygments_lexer": "ipython3",
   "version": "3.7.6"
  }
 },
 "nbformat": 4,
 "nbformat_minor": 4
}
