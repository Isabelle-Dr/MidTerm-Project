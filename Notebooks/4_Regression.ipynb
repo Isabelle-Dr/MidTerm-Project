{
 "cells": [
  {
   "cell_type": "markdown",
   "metadata": {},
   "source": [
    "# 1. Regression problem\n",
    "**Goal**: predict arrival delays of flights one week in advance  \n",
    "\n",
    "**Target variable**: `ARR_DELAY`  \n",
    "\n",
    "**Notes:**\n",
    "- 35% of the dataset has values in `ARR_DELAY`\n",
    "- [Reading on linear regression](https://machinelearningmastery.com/linear-regression-for-machine-learning/)\n",
    "\n",
    "**Steps**:\n",
    "1. Pick evaluation metrics\n",
    "2. Spot check different algos\n",
    "3. Tune hyperparameters using grid search on 2-3 selected algos\n",
    "4. Compare them based on the selected metrics"
   ]
  },
  {
   "cell_type": "markdown",
   "metadata": {},
   "source": [
    "## Step 1. Pick evaluation metrics\n",
    "**R Square**\n",
    "**MSE**"
   ]
  },
  {
   "cell_type": "markdown",
   "metadata": {},
   "source": [
    "## Step 2. Spot check different algos (using K-Folds on sample data)\n",
    "\n",
    "- Naive algorythm (used as a baseline model):  \n",
    "Predict the average delay for all\n",
    "\n",
    "- Linear algorythms:  \n",
    "Linear Regression   \n",
    "Lasso Regression  \n",
    "Ridge Regression  \n",
    "ElasticNet Regression  \n",
    "Support Vector Machines  \n",
    "\n",
    "- Non linear algos:  \n",
    "k-Nearest Neighbors  \n",
    "\n",
    "- Ensemble algorythms:  \n",
    "Random forest  \n",
    "Stochastic Gradient Boosting  \n",
    " *Optional: custom ensemble*"
   ]
  },
  {
   "cell_type": "code",
   "execution_count": 69,
   "metadata": {},
   "outputs": [],
   "source": [
    "import numpy as np\n",
    "import pandas as pd"
   ]
  },
  {
   "cell_type": "code",
   "execution_count": 124,
   "metadata": {},
   "outputs": [
    {
     "name": "stdout",
     "output_type": "stream",
     "text": [
      "(10000, 18)\n",
      "Index(['branded_code_share', 'crs_dep_time', 'crs_arr_time',\n",
      "       'crs_elapsed_time', 'air_time', 'distance', 'fl_month',\n",
      "       'fl_day_of_week', 'fl_type', 'state_travel_type', 'm_hist_dep_delay',\n",
      "       'med_hist_dep_delay', 'm_hist_arr_delay', 'med_hist_arr_delay',\n",
      "       'origin_cat', 'dest_cat', 'mkt_op_combo_cat', 'arr_delay'],\n",
      "      dtype='object')\n",
      "(1000000, 13)\n",
      "Index(['pc1', 'pc2', 'pc3', 'pc4', 'pc5', 'pc6', 'pc7', 'pc8', 'pc9', 'pc10',\n",
      "       'pc11', 'pc12', 'arr_delay'],\n",
      "      dtype='object')\n"
     ]
    }
   ],
   "source": [
    "# data\n",
    "data = pd.read_csv('db_regression_sample.csv', index_col = 0)\n",
    "print(data.shape)\n",
    "print(data.columns)\n",
    "\n",
    "data_pca = pd.read_csv('db_regression_pca_sample.csv', index_col = 0)\n",
    "print(data_pca.shape)\n",
    "print(data_pca.columns)"
   ]
  },
  {
   "cell_type": "code",
   "execution_count": 128,
   "metadata": {},
   "outputs": [
    {
     "name": "stdout",
     "output_type": "stream",
     "text": [
      "(10000,)\n",
      "(10000, 17)\n",
      "(10000,)\n",
      "(10000, 12)\n"
     ]
    }
   ],
   "source": [
    "y = data.arr_delay\n",
    "X = data.drop('arr_delay', axis = 1)\n",
    "print(y.shape)\n",
    "print(X.shape)\n",
    "\n",
    "data_pca = data_pca.sample(10000) ###smaller sample\n",
    "y_pca = data_pca.arr_delay\n",
    "X_pca = data_pca.drop('arr_delay', axis = 1)\n",
    "print(y_pca.shape)\n",
    "print(X_pca.shape)"
   ]
  },
  {
   "cell_type": "code",
   "execution_count": null,
   "metadata": {
    "jupyter": {
     "source_hidden": true
    }
   },
   "outputs": [],
   "source": [
    "def perform_cross_validate(models, X, y, scoring, n_folds, plot = False):\n",
    "    \n",
    "    # import cross validate\n",
    "    from sklearn.model_selection import cross_validate\n",
    "    import pandas as pd\n",
    "    import numpy as np\n",
    "    \n",
    "    # create dataframe\n",
    "    results_mean = pd.DataFrame(columns = list(models.keys()), index=list(scoring))\n",
    "    results_std = pd.DataFrame(columns = list(models.keys()),  index=list(scoring))\n",
    "    \n",
    "\n",
    "    # perform cross validate and store desults in the dataframe\n",
    "    for key in models:\n",
    "        model_name = key\n",
    "        model = models[key]  # this is the model's placeholder\n",
    "        cv = cross_validate(estimator=model, X=X, y=y, cv=n_folds, scoring=scoring)\n",
    "    \n",
    "        # adds values for each scoring in the dataframes\n",
    "        results_mean[model_name] = [cv['test_'+scoring[i]].mean() for i in range(len(scoring))]\n",
    "        results_std[model_name] = [cv['test_'+scoring[i]].std() for i in range(len(scoring))]\n",
    "        \n",
    "        \n",
    "    if plot:\n",
    "        #setup\n",
    "        to_plot = {0:311, 1:312, 2:313, 3:314, 4:315, 5:316}\n",
    "        import matplotlib.pyplot as plt\n",
    "        %matplotlib inline\n",
    "        from matplotlib.pylab import rcParams\n",
    "        rcParams['figure.figsize'] = 12, 10\n",
    "        \n",
    "        # plot\n",
    "        for i, score in enumerate(scoring):\n",
    "            plt.subplot(to_plot[i])\n",
    "            plt.bar(list(results_mean.columns),  results_mean.iloc[i].values)\n",
    "            plt.title(f'Plot for: {score}')\n",
    "            \n",
    "    return results_mean, results_std"
   ]
  },
  {
   "cell_type": "code",
   "execution_count": 126,
   "metadata": {},
   "outputs": [],
   "source": [
    "# import models to try\n",
    "from sklearn.dummy import DummyRegressor\n",
    "from sklearn.linear_model import LinearRegression\n",
    "from sklearn.linear_model import Lasso\n",
    "from sklearn.linear_model import Ridge\n",
    "from sklearn.linear_model import ElasticNet\n",
    "from sklearn.preprocessing import PolynomialFeatures\n",
    "from sklearn.pipeline import make_pipeline\n",
    "from sklearn.ensemble import RandomForestRegressor\n",
    "from sklearn.ensemble import GradientBoostingRegressor\n",
    "from sklearn.neighbors import KNeighborsRegressor\n",
    "\n",
    "# params\n",
    "models = {\n",
    "    'Dummy Classifier': DummyRegressor(strategy = \"mean\"), \\\n",
    "#    'KNN': KNeighborsRegressor(),  #it's really bad and impact the scale of the plot\n",
    "    'Linear Regression': LinearRegression(), \\\n",
    "    'Lasso': Lasso(), \\\n",
    "    'Ridge': Ridge(), \\\n",
    "    'ElasticNet': ElasticNet(), \\\n",
    "    'Random Forest': RandomForestRegressor(), \\\n",
    "    'Gradient Boosting': GradientBoostingRegressor(), \\\n",
    "    'XGBoost': xgb.XGBRegressor(gamma=0.5, n_jobs=-1) \n",
    "#    'Polynomial Regression': make_pipeline(PolynomialFeatures(2),LinearRegression()) \\  # issue with this one\n",
    "    }\n",
    "\n",
    "scoring = ('r2', 'neg_mean_squared_error')"
   ]
  },
  {
   "cell_type": "markdown",
   "metadata": {},
   "source": [
    "### 10 000 datapoints sample from db_regression_sample, 5 folds (20% of data used for testing)"
   ]
  },
  {
   "cell_type": "code",
   "execution_count": 120,
   "metadata": {},
   "outputs": [
    {
     "name": "stdout",
     "output_type": "stream",
     "text": [
      "[23:45:04] WARNING: src/objective/regression_obj.cu:152: reg:linear is now deprecated in favor of reg:squarederror.\n",
      "[23:45:04] WARNING: src/objective/regression_obj.cu:152: reg:linear is now deprecated in favor of reg:squarederror.\n",
      "[23:45:05] WARNING: src/objective/regression_obj.cu:152: reg:linear is now deprecated in favor of reg:squarederror.\n",
      "[23:45:06] WARNING: src/objective/regression_obj.cu:152: reg:linear is now deprecated in favor of reg:squarederror.\n",
      "[23:45:07] WARNING: src/objective/regression_obj.cu:152: reg:linear is now deprecated in favor of reg:squarederror.\n"
     ]
    },
    {
     "data": {
      "image/png": "[encoded data removed]",
      "text/plain": [
       "<Figure size 864x720 with 2 Axes>"
      ]
     },
     "metadata": {
      "needs_background": "light"
     },
     "output_type": "display_data"
    }
   ],
   "source": [
    "results_mean, results_std = perform_cross_validate(models=models, X=X, y=y, scoring=scoring, n_folds=5, plot=True)"
   ]
  },
  {
   "cell_type": "code",
   "execution_count": 121,
   "metadata": {},
   "outputs": [
    {
     "data": {
      "text/html": [
       "<div>\n",
       "<style scoped>\n",
       "    .dataframe tbody tr th:only-of-type {\n",
       "        vertical-align: middle;\n",
       "    }\n",
       "\n",
       "    .dataframe tbody tr th {\n",
       "        vertical-align: top;\n",
       "    }\n",
       "\n",
       "    .dataframe thead th {\n",
       "        text-align: right;\n",
       "    }\n",
       "</style>\n",
       "<table border=\"1\" class=\"dataframe\">\n",
       "  <thead>\n",
       "    <tr style=\"text-align: right;\">\n",
       "      <th></th>\n",
       "      <th>Dummy Classifier</th>\n",
       "      <th>Linear Regression</th>\n",
       "      <th>Lasso</th>\n",
       "      <th>Ridge</th>\n",
       "      <th>ElasticNet</th>\n",
       "      <th>Random Forest</th>\n",
       "      <th>Gradient Boosting</th>\n",
       "      <th>XGBoost</th>\n",
       "    </tr>\n",
       "  </thead>\n",
       "  <tbody>\n",
       "    <tr>\n",
       "      <th>r2</th>\n",
       "      <td>-0.000046</td>\n",
       "      <td>0.029906</td>\n",
       "      <td>0.014769</td>\n",
       "      <td>0.029918</td>\n",
       "      <td>0.015166</td>\n",
       "      <td>0.005091</td>\n",
       "      <td>0.038590</td>\n",
       "      <td>0.043115</td>\n",
       "    </tr>\n",
       "    <tr>\n",
       "      <th>neg_mean_squared_error</th>\n",
       "      <td>-1103.713324</td>\n",
       "      <td>-1070.752734</td>\n",
       "      <td>-1087.306666</td>\n",
       "      <td>-1070.737682</td>\n",
       "      <td>-1086.862809</td>\n",
       "      <td>-1097.800530</td>\n",
       "      <td>-1061.067139</td>\n",
       "      <td>-1055.961552</td>\n",
       "    </tr>\n",
       "  </tbody>\n",
       "</table>\n",
       "</div>"
      ],
      "text/plain": [
       "                        Dummy Classifier  Linear Regression        Lasso  \\\n",
       "r2                             -0.000046           0.029906     0.014769   \n",
       "neg_mean_squared_error      -1103.713324       -1070.752734 -1087.306666   \n",
       "\n",
       "                              Ridge   ElasticNet  Random Forest  \\\n",
       "r2                         0.029918     0.015166       0.005091   \n",
       "neg_mean_squared_error -1070.737682 -1086.862809   -1097.800530   \n",
       "\n",
       "                        Gradient Boosting      XGBoost  \n",
       "r2                               0.038590     0.043115  \n",
       "neg_mean_squared_error       -1061.067139 -1055.961552  "
      ]
     },
     "execution_count": 121,
     "metadata": {},
     "output_type": "execute_result"
    }
   ],
   "source": [
    "results_mean"
   ]
  },
  {
   "cell_type": "markdown",
   "metadata": {},
   "source": [
    "### 10 000 datapoints sample from db_regression_pca_sample, 5 folds (20% of data used for testing)"
   ]
  },
  {
   "cell_type": "code",
   "execution_count": 129,
   "metadata": {},
   "outputs": [
    {
     "name": "stdout",
     "output_type": "stream",
     "text": [
      "[23:58:38] WARNING: src/objective/regression_obj.cu:152: reg:linear is now deprecated in favor of reg:squarederror.\n",
      "[23:58:40] WARNING: src/objective/regression_obj.cu:152: reg:linear is now deprecated in favor of reg:squarederror.\n",
      "[23:58:41] WARNING: src/objective/regression_obj.cu:152: reg:linear is now deprecated in favor of reg:squarederror.\n",
      "[23:58:43] WARNING: src/objective/regression_obj.cu:152: reg:linear is now deprecated in favor of reg:squarederror.\n",
      "[23:58:44] WARNING: src/objective/regression_obj.cu:152: reg:linear is now deprecated in favor of reg:squarederror.\n"
     ]
    },
    {
     "data": {
      "image/png": "[encoded data removed]",
      "text/plain": [
       "<Figure size 864x720 with 2 Axes>"
      ]
     },
     "metadata": {
      "needs_background": "light"
     },
     "output_type": "display_data"
    }
   ],
   "source": [
    "results_mean, results_std = perform_cross_validate(models=models, X=X_pca, y=y_pca, scoring=scoring, n_folds=5, plot=True)"
   ]
  },
  {
   "cell_type": "code",
   "execution_count": 130,
   "metadata": {},
   "outputs": [
    {
     "data": {
      "text/html": [
       "<div>\n",
       "<style scoped>\n",
       "    .dataframe tbody tr th:only-of-type {\n",
       "        vertical-align: middle;\n",
       "    }\n",
       "\n",
       "    .dataframe tbody tr th {\n",
       "        vertical-align: top;\n",
       "    }\n",
       "\n",
       "    .dataframe thead th {\n",
       "        text-align: right;\n",
       "    }\n",
       "</style>\n",
       "<table border=\"1\" class=\"dataframe\">\n",
       "  <thead>\n",
       "    <tr style=\"text-align: right;\">\n",
       "      <th></th>\n",
       "      <th>Dummy Classifier</th>\n",
       "      <th>Linear Regression</th>\n",
       "      <th>Lasso</th>\n",
       "      <th>Ridge</th>\n",
       "      <th>ElasticNet</th>\n",
       "      <th>Random Forest</th>\n",
       "      <th>Gradient Boosting</th>\n",
       "      <th>XGBoost</th>\n",
       "    </tr>\n",
       "  </thead>\n",
       "  <tbody>\n",
       "    <tr>\n",
       "      <th>r2</th>\n",
       "      <td>-0.000638</td>\n",
       "      <td>0.017079</td>\n",
       "      <td>0.017064</td>\n",
       "      <td>0.017079</td>\n",
       "      <td>0.017182</td>\n",
       "      <td>-0.041426</td>\n",
       "      <td>0.002005</td>\n",
       "      <td>0.009331</td>\n",
       "    </tr>\n",
       "    <tr>\n",
       "      <th>neg_mean_squared_error</th>\n",
       "      <td>-1043.771181</td>\n",
       "      <td>-1025.419124</td>\n",
       "      <td>-1025.491644</td>\n",
       "      <td>-1025.418517</td>\n",
       "      <td>-1025.360254</td>\n",
       "      <td>-1085.555945</td>\n",
       "      <td>-1041.370382</td>\n",
       "      <td>-1033.407602</td>\n",
       "    </tr>\n",
       "  </tbody>\n",
       "</table>\n",
       "</div>"
      ],
      "text/plain": [
       "                        Dummy Classifier  Linear Regression        Lasso  \\\n",
       "r2                             -0.000638           0.017079     0.017064   \n",
       "neg_mean_squared_error      -1043.771181       -1025.419124 -1025.491644   \n",
       "\n",
       "                              Ridge   ElasticNet  Random Forest  \\\n",
       "r2                         0.017079     0.017182      -0.041426   \n",
       "neg_mean_squared_error -1025.418517 -1025.360254   -1085.555945   \n",
       "\n",
       "                        Gradient Boosting      XGBoost  \n",
       "r2                               0.002005     0.009331  \n",
       "neg_mean_squared_error       -1041.370382 -1033.407602  "
      ]
     },
     "execution_count": 130,
     "metadata": {},
     "output_type": "execute_result"
    }
   ],
   "source": [
    "results_mean"
   ]
  },
  {
   "cell_type": "markdown",
   "metadata": {},
   "source": [
    "Note: the MSE is negative when used in cross validation, this is done in case it's used in maximixation [source](https://www.kaggle.com/questions-and-answers/154600)"
   ]
  },
  {
   "cell_type": "markdown",
   "metadata": {},
   "source": [
    "### Try the models separately"
   ]
  },
  {
   "cell_type": "code",
   "execution_count": 13,
   "metadata": {
    "collapsed": true,
    "jupyter": {
     "outputs_hidden": true,
     "source_hidden": true
    }
   },
   "outputs": [
    {
     "data": {
      "text/html": [
       "<div>\n",
       "<style scoped>\n",
       "    .dataframe tbody tr th:only-of-type {\n",
       "        vertical-align: middle;\n",
       "    }\n",
       "\n",
       "    .dataframe tbody tr th {\n",
       "        vertical-align: top;\n",
       "    }\n",
       "\n",
       "    .dataframe thead th {\n",
       "        text-align: right;\n",
       "    }\n",
       "</style>\n",
       "<table border=\"1\" class=\"dataframe\">\n",
       "  <thead>\n",
       "    <tr style=\"text-align: right;\">\n",
       "      <th></th>\n",
       "      <th>branded_code_share</th>\n",
       "      <th>crs_dep_time</th>\n",
       "      <th>crs_arr_time</th>\n",
       "      <th>crs_elapsed_time</th>\n",
       "      <th>air_time</th>\n",
       "      <th>distance</th>\n",
       "      <th>fl_month</th>\n",
       "      <th>fl_day_of_week</th>\n",
       "      <th>fl_type</th>\n",
       "      <th>state_travel_type</th>\n",
       "      <th>m_hist_dep_delay</th>\n",
       "      <th>med_hist_dep_delay</th>\n",
       "      <th>m_hist_arr_delay</th>\n",
       "      <th>med_hist_arr_delay</th>\n",
       "      <th>origin_cat</th>\n",
       "      <th>dest_cat</th>\n",
       "      <th>mkt_op_combo_cat</th>\n",
       "    </tr>\n",
       "  </thead>\n",
       "  <tbody>\n",
       "    <tr>\n",
       "      <th>0</th>\n",
       "      <td>-0.778808</td>\n",
       "      <td>0.609731</td>\n",
       "      <td>0.670214</td>\n",
       "      <td>-0.626378</td>\n",
       "      <td>-0.611444</td>\n",
       "      <td>-0.548014</td>\n",
       "      <td>-0.464537</td>\n",
       "      <td>0.532573</td>\n",
       "      <td>1.610541</td>\n",
       "      <td>-2.855512</td>\n",
       "      <td>0.811432</td>\n",
       "      <td>0.927402</td>\n",
       "      <td>0.911515</td>\n",
       "      <td>0.918144</td>\n",
       "      <td>1.384848</td>\n",
       "      <td>1.255437</td>\n",
       "      <td>0.972371</td>\n",
       "    </tr>\n",
       "    <tr>\n",
       "      <th>1</th>\n",
       "      <td>-0.778808</td>\n",
       "      <td>-1.440233</td>\n",
       "      <td>-1.279806</td>\n",
       "      <td>-0.389016</td>\n",
       "      <td>-0.171642</td>\n",
       "      <td>-0.199743</td>\n",
       "      <td>0.712633</td>\n",
       "      <td>0.031460</td>\n",
       "      <td>-0.520179</td>\n",
       "      <td>0.350200</td>\n",
       "      <td>-1.684376</td>\n",
       "      <td>-1.707315</td>\n",
       "      <td>-1.638921</td>\n",
       "      <td>-1.633080</td>\n",
       "      <td>-0.882132</td>\n",
       "      <td>-0.921932</td>\n",
       "      <td>1.343235</td>\n",
       "    </tr>\n",
       "    <tr>\n",
       "      <th>2</th>\n",
       "      <td>-0.778808</td>\n",
       "      <td>0.404735</td>\n",
       "      <td>0.670214</td>\n",
       "      <td>0.406847</td>\n",
       "      <td>0.225599</td>\n",
       "      <td>0.430219</td>\n",
       "      <td>1.301218</td>\n",
       "      <td>0.031460</td>\n",
       "      <td>1.610541</td>\n",
       "      <td>0.350200</td>\n",
       "      <td>0.582012</td>\n",
       "      <td>0.927402</td>\n",
       "      <td>0.621672</td>\n",
       "      <td>0.407899</td>\n",
       "      <td>0.592890</td>\n",
       "      <td>0.216238</td>\n",
       "      <td>-0.214392</td>\n",
       "    </tr>\n",
       "    <tr>\n",
       "      <th>3</th>\n",
       "      <td>-0.778808</td>\n",
       "      <td>0.814727</td>\n",
       "      <td>0.865216</td>\n",
       "      <td>0.211372</td>\n",
       "      <td>0.239786</td>\n",
       "      <td>0.317543</td>\n",
       "      <td>1.595510</td>\n",
       "      <td>-0.469654</td>\n",
       "      <td>-0.520179</td>\n",
       "      <td>0.350200</td>\n",
       "      <td>1.044105</td>\n",
       "      <td>0.927402</td>\n",
       "      <td>1.117884</td>\n",
       "      <td>0.918144</td>\n",
       "      <td>1.365049</td>\n",
       "      <td>0.127164</td>\n",
       "      <td>-0.214392</td>\n",
       "    </tr>\n",
       "    <tr>\n",
       "      <th>4</th>\n",
       "      <td>1.284013</td>\n",
       "      <td>1.839709</td>\n",
       "      <td>1.645224</td>\n",
       "      <td>-1.087141</td>\n",
       "      <td>-1.107994</td>\n",
       "      <td>-1.051642</td>\n",
       "      <td>0.418341</td>\n",
       "      <td>1.534799</td>\n",
       "      <td>-0.520179</td>\n",
       "      <td>0.350200</td>\n",
       "      <td>0.635393</td>\n",
       "      <td>0.927402</td>\n",
       "      <td>0.503221</td>\n",
       "      <td>0.918144</td>\n",
       "      <td>-1.594894</td>\n",
       "      <td>1.770088</td>\n",
       "      <td>-0.362738</td>\n",
       "    </tr>\n",
       "  </tbody>\n",
       "</table>\n",
       "</div>"
      ],
      "text/plain": [
       "   branded_code_share  crs_dep_time  crs_arr_time  crs_elapsed_time  air_time  \\\n",
       "0           -0.778808      0.609731      0.670214         -0.626378 -0.611444   \n",
       "1           -0.778808     -1.440233     -1.279806         -0.389016 -0.171642   \n",
       "2           -0.778808      0.404735      0.670214          0.406847  0.225599   \n",
       "3           -0.778808      0.814727      0.865216          0.211372  0.239786   \n",
       "4            1.284013      1.839709      1.645224         -1.087141 -1.107994   \n",
       "\n",
       "   distance  fl_month  fl_day_of_week   fl_type  state_travel_type  \\\n",
       "0 -0.548014 -0.464537        0.532573  1.610541          -2.855512   \n",
       "1 -0.199743  0.712633        0.031460 -0.520179           0.350200   \n",
       "2  0.430219  1.301218        0.031460  1.610541           0.350200   \n",
       "3  0.317543  1.595510       -0.469654 -0.520179           0.350200   \n",
       "4 -1.051642  0.418341        1.534799 -0.520179           0.350200   \n",
       "\n",
       "   m_hist_dep_delay  med_hist_dep_delay  m_hist_arr_delay  med_hist_arr_delay  \\\n",
       "0          0.811432            0.927402          0.911515            0.918144   \n",
       "1         -1.684376           -1.707315         -1.638921           -1.633080   \n",
       "2          0.582012            0.927402          0.621672            0.407899   \n",
       "3          1.044105            0.927402          1.117884            0.918144   \n",
       "4          0.635393            0.927402          0.503221            0.918144   \n",
       "\n",
       "   origin_cat  dest_cat  mkt_op_combo_cat  \n",
       "0    1.384848  1.255437          0.972371  \n",
       "1   -0.882132 -0.921932          1.343235  \n",
       "2    0.592890  0.216238         -0.214392  \n",
       "3    1.365049  0.127164         -0.214392  \n",
       "4   -1.594894  1.770088         -0.362738  "
      ]
     },
     "execution_count": 13,
     "metadata": {},
     "output_type": "execute_result"
    }
   ],
   "source": [
    "X.head()"
   ]
  },
  {
   "cell_type": "code",
   "execution_count": 27,
   "metadata": {},
   "outputs": [],
   "source": [
    "# split data\n",
    "from sklearn.model_selection import train_test_split\n",
    "from sklearn.metrics import r2_score # evaluation metric\n",
    "from sklearn.metrics import mean_squared_error # evaluation metric\n",
    "from sklearn.metrics import f1_score  # evaluation metric\n",
    "\n",
    "X_train, X_test, y_train, y_test = \\\n",
    "train_test_split(X, y, train_size=0.80, random_state=101)"
   ]
  },
  {
   "cell_type": "code",
   "execution_count": 34,
   "metadata": {},
   "outputs": [
    {
     "name": "stdout",
     "output_type": "stream",
     "text": [
      "0.02827516045227818 \n",
      "992.7217413700589\n"
     ]
    }
   ],
   "source": [
    "# linear regression\n",
    "from sklearn.linear_model import LinearRegression # model\n",
    "model = LinearRegression() # placeholder\n",
    "model.fit(X_train, y_train) # fit\n",
    "y_pred = model.predict(X_test) # predict\n",
    "r2 = r2_score(y_test, y_pred)\n",
    "MSE = mean_squared_error(y_test, y_pred)\n",
    "print(f'{r2} \\n{MSE}')"
   ]
  },
  {
   "cell_type": "code",
   "execution_count": 35,
   "metadata": {},
   "outputs": [
    {
     "name": "stdout",
     "output_type": "stream",
     "text": [
      "-0.0004367859861760248 \n",
      "1022.0540917500001\n"
     ]
    }
   ],
   "source": [
    "# DummyRegressor\n",
    "from sklearn.dummy import DummyRegressor # model\n",
    "\n",
    "model = DummyRegressor(strategy = \"mean\") # placeholder\n",
    "model.fit(X_train, y_train) # fit\n",
    "y_pred = model.predict(X_test) # predict\n",
    "r2 = r2_score(y_test, y_pred)\n",
    "MSE = mean_squared_error(y_test, y_pred)\n",
    "print(f'{r2} \\n{MSE}')"
   ]
  },
  {
   "cell_type": "code",
   "execution_count": 36,
   "metadata": {},
   "outputs": [
    {
     "name": "stdout",
     "output_type": "stream",
     "text": [
      "0.016511142126906075 \n",
      "1004.7399550476142\n"
     ]
    }
   ],
   "source": [
    "# Lasso\n",
    "from sklearn.linear_model import Lasso # model\n",
    "\n",
    "model = Lasso() # placeholder\n",
    "model.fit(X_train, y_train) # fit\n",
    "y_pred = model.predict(X_test) # predict\n",
    "r2 = r2_score(y_test, y_pred)\n",
    "MSE = mean_squared_error(y_test, y_pred)\n",
    "print(f'{r2} \\n{MSE}')"
   ]
  },
  {
   "cell_type": "code",
   "execution_count": 88,
   "metadata": {},
   "outputs": [
    {
     "name": "stdout",
     "output_type": "stream",
     "text": [
      "0.028324734032738053 \n",
      "992.6710966102286\n"
     ]
    }
   ],
   "source": [
    "# Ridge\n",
    "from sklearn.linear_model import Ridge # model\n",
    "\n",
    "model = Ridge() # placeholder\n",
    "model.fit(X_train, y_train) # fit\n",
    "y_pred = model.predict(X_test) # predict\n",
    "r2 = r2_score(y_test, y_pred)\n",
    "MSE = mean_squared_error(y_test, y_pred)\n",
    "print(f'{r2} \\n{MSE}')"
   ]
  },
  {
   "cell_type": "code",
   "execution_count": 38,
   "metadata": {},
   "outputs": [
    {
     "name": "stdout",
     "output_type": "stream",
     "text": [
      "0.016511142126906075 \n",
      "1004.7399550476142\n"
     ]
    }
   ],
   "source": [
    "#ElasticNet\n",
    "from sklearn.linear_model import ElasticNet\n",
    "\n",
    "model = Lasso() # placeholder\n",
    "model.fit(X_train, y_train) # fit\n",
    "y_pred = model.predict(X_test) # predict\n",
    "r2 = r2_score(y_test, y_pred)\n",
    "MSE = mean_squared_error(y_test, y_pred)\n",
    "print(f'{r2} \\n{MSE}')"
   ]
  },
  {
   "cell_type": "code",
   "execution_count": 57,
   "metadata": {},
   "outputs": [
    {
     "name": "stdout",
     "output_type": "stream",
     "text": [
      "-0.04953596864890386 \n",
      "1072.2142030583373\n"
     ]
    }
   ],
   "source": [
    "#SVM\n",
    "from sklearn.svm import SVR\n",
    "\n",
    "model = SVR() # placeholder\n",
    "model.fit(X_train, y_train) # fit\n",
    "y_pred = model.predict(X_test) # predict\n",
    "r2 = r2_score(y_test, y_pred)\n",
    "MSE = mean_squared_error(y_test, y_pred)\n",
    "print(f'{r2} \\n{MSE}')"
   ]
  },
  {
   "cell_type": "code",
   "execution_count": 95,
   "metadata": {},
   "outputs": [
    {
     "name": "stdout",
     "output_type": "stream",
     "text": [
      "-0.21760242776869543 \n",
      "1243.9122200000002\n"
     ]
    }
   ],
   "source": [
    "# KNN\n",
    "from sklearn.neighbors import KNeighborsRegressor\n",
    "\n",
    "model = KNeighborsRegressor() # placeholder\n",
    "model.fit(X_train, y_train) # fit\n",
    "y_pred = model.predict(X_test) # predict\n",
    "r2 = r2_score(y_test, y_pred)\n",
    "MSE = mean_squared_error(y_test, y_pred)\n",
    "print(f'{r2} \\n{MSE}')"
   ]
  },
  {
   "cell_type": "code",
   "execution_count": 87,
   "metadata": {},
   "outputs": [
    {
     "name": "stdout",
     "output_type": "stream",
     "text": [
      "0.04339897992522124 \n",
      "977.2711284060696\n"
     ]
    }
   ],
   "source": [
    "#Polynomial\n",
    "from sklearn.preprocessing import PolynomialFeatures\n",
    "from sklearn.pipeline import make_pipeline\n",
    "from sklearn.linear_model import LinearRegression\n",
    "\n",
    "model = make_pipeline(PolynomialFeatures(2),LinearRegression()) # placeholder\n",
    "model.fit(X_train, y_train) # fit\n",
    "y_pred = model.predict(X_test) # predict\n",
    "r2 = r2_score(y_test, y_pred)\n",
    "MSE = mean_squared_error(y_test, y_pred)\n",
    "print(f'{r2} \\n{MSE}')"
   ]
  },
  {
   "cell_type": "code",
   "execution_count": 91,
   "metadata": {},
   "outputs": [
    {
     "name": "stdout",
     "output_type": "stream",
     "text": [
      "0.017413970902024345 \n",
      "1003.8176180677222\n"
     ]
    }
   ],
   "source": [
    "# Random Forest\n",
    "\n",
    "from sklearn.ensemble import RandomForestRegressor\n",
    "model = RandomForestRegressor() # placeholder\n",
    "model.fit(X_train, y_train) # fit\n",
    "y_pred = model.predict(X_test) # predict\n",
    "r2 = r2_score(y_test, y_pred)\n",
    "MSE = mean_squared_error(y_test, y_pred)\n",
    "print(f'{r2} \\n{MSE}')"
   ]
  },
  {
   "cell_type": "code",
   "execution_count": 104,
   "metadata": {},
   "outputs": [
    {
     "name": "stdout",
     "output_type": "stream",
     "text": [
      "[23:26:32] WARNING: src/objective/regression_obj.cu:152: reg:linear is now deprecated in favor of reg:squarederror.\n",
      "0.031271409139414064 \n",
      "989.6607501375452\n"
     ]
    }
   ],
   "source": [
    "# XGBoost\n",
    "\n",
    "import xgboost as xgb\n",
    "\n",
    "model = xgb.XGBRegressor(gamma=0.5, n_jobs=-1) # placeholder\n",
    "model.fit(X_train, y_train) # fit\n",
    "y_pred = model.predict(X_test) # predict\n",
    "r2 = r2_score(y_test, y_pred)\n",
    "MSE = mean_squared_error(y_test, y_pred)\n",
    "print(f'{r2} \\n{MSE}')"
   ]
  },
  {
   "cell_type": "markdown",
   "metadata": {},
   "source": [
    "## Step 3. Hyperparameter tuning\n",
    "Use Grid Search to tune the selected algo (on the whole dataframe?)"
   ]
  },
  {
   "cell_type": "code",
   "execution_count": 109,
   "metadata": {},
   "outputs": [],
   "source": [
    "from sklearn.model_selection import GridSearchCV\n",
    "\n",
    "params = [\n",
    "    {'learning_rate': [0.5, 0.1], 'max_depth': [2, 3], 'gamma': [0, 0.1, 1]}\n",
    "]\n",
    "\n",
    "model = xgb.XGBRegressor()"
   ]
  },
  {
   "cell_type": "code",
   "execution_count": 110,
   "metadata": {},
   "outputs": [
    {
     "name": "stdout",
     "output_type": "stream",
     "text": [
      "[23:34:08] WARNING: src/objective/regression_obj.cu:152: reg:linear is now deprecated in favor of reg:squarederror.\n",
      "{'gamma': 0, 'learning_rate': 0.1, 'max_depth': 3}\n"
     ]
    }
   ],
   "source": [
    "xgbg = GridSearchCV(estimator=model, param_grid=params, n_jobs=-1)\n",
    "\n",
    "xgbg.fit(X_train, y_train)\n",
    "\n",
    "print(xgbg.best_params_)\n",
    "best_model = xgbg.best_estimator_"
   ]
  },
  {
   "cell_type": "code",
   "execution_count": 114,
   "metadata": {},
   "outputs": [
    {
     "name": "stdout",
     "output_type": "stream",
     "text": [
      "[23:36:03] WARNING: src/objective/regression_obj.cu:152: reg:linear is now deprecated in favor of reg:squarederror.\n",
      "0.031271409139414064 \n",
      "989.6607501375452\n"
     ]
    }
   ],
   "source": [
    "# fit with best model\n",
    "\n",
    "best_model.fit(X_train, y_train)\n",
    "y_pred = best_model.predict(X_test)\n",
    "\n",
    "# Model evaluation metrics\n",
    "r2 = r2_score(y_test, y_pred)\n",
    "MSE = mean_squared_error(y_test, y_pred)\n",
    "print(f'{r2} \\n{MSE}')"
   ]
  },
  {
   "cell_type": "code",
   "execution_count": null,
   "metadata": {},
   "outputs": [],
   "source": []
  },
  {
   "cell_type": "code",
   "execution_count": null,
   "metadata": {},
   "outputs": [],
   "source": []
  },
  {
   "cell_type": "markdown",
   "metadata": {},
   "source": [
    "## Step 4. Run on a bigger sample"
   ]
  },
  {
   "cell_type": "code",
   "execution_count": null,
   "metadata": {},
   "outputs": [],
   "source": []
  }
 ],
 "metadata": {
  "kernelspec": {
   "display_name": "Python 3",
   "language": "python",
   "name": "python3"
  },
  "language_info": {
   "codemirror_mode": {
    "name": "ipython",
    "version": 3
   },
   "file_extension": ".py",
   "mimetype": "text/x-python",
   "name": "python",
   "nbconvert_exporter": "python",
   "pygments_lexer": "ipython3",
   "version": "3.7.6"
  }
 },
 "nbformat": 4,
 "nbformat_minor": 4
}
