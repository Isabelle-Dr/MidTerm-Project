{
 "cells": [
  {
   "cell_type": "markdown",
   "metadata": {},
   "source": [
    "# 1. Regression problem\n",
    "**Goal**: predict arrival delays of flights one week in advance  \n",
    "\n",
    "**Target variable**: `ARR_DELAY`  \n",
    "\n",
    "**Notes:**\n",
    "- 35% of the dataset has values in `ARR_DELAY`\n",
    "- [Reading on linear regression](https://machinelearningmastery.com/linear-regression-for-machine-learning/)MODEL_SELECTION_Regression.ipynbMODEL_SELECTION_Regression.ipynb\n",
    "\n",
    "**Steps**:\n",
    "1. Pick evaluation metrics\n",
    "2. Spot check different algos\n",
    "3. Tune hyperparameters using grid search on 2-3 selected algos\n",
    "4. Compare them based on the selected metrics"
   ]
  },
  {
   "cell_type": "markdown",
   "metadata": {},
   "source": [
    "## Step 1. Pick evaluation metrics\n",
    "**R Square** and **Adjusted R Square**    \n",
    "**MSE**"
   ]
  },
  {
   "cell_type": "markdown",
   "metadata": {},
   "source": [
    "## Step 2. Spot check different algos (using K-Folds on sample data)\n",
    "\n",
    "- Naive algorythm (used as a baseline model):  \n",
    "Predict the average delay for all\n",
    "\n",
    "- Linear algorythms:  \n",
    "Linear Regression \n",
    "Lasso Regression\n",
    "Ridge Regression\n",
    "ElasticNet Regression\n",
    "LDA  \n",
    "Support Vector Machines\n",
    "Naive Bayes\n",
    "\n",
    "- Non linear algos:  \n",
    "k-Nearest Neighbors  \n",
    "\n",
    "- Ensemble algorythms:  \n",
    "Random forest  \n",
    "Stochastic Gradient Boosting  \n",
    " *Optional: custom ensemble*"
   ]
  },
  {
   "cell_type": "code",
   "execution_count": null,
   "metadata": {},
   "outputs": [],
   "source": []
  }
 ],
 "metadata": {
  "kernelspec": {
   "display_name": "Python 3",
   "language": "python",
   "name": "python3"
  },
  "language_info": {
   "codemirror_mode": {
    "name": "ipython",
    "version": 3
   },
   "file_extension": ".py",
   "mimetype": "text/x-python",
   "name": "python",
   "nbconvert_exporter": "python",
   "pygments_lexer": "ipython3",
   "version": "3.7.6"
  }
 },
 "nbformat": 4,
 "nbformat_minor": 4
}
