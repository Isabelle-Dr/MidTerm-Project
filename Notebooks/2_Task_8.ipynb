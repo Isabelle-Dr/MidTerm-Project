{
 "cells": [
  {
   "cell_type": "markdown",
   "metadata": {},
   "source": [
    "## Task 8\n",
    "When (which hour) do most 'LONG', 'SHORT', 'MEDIUM' haul flights take off?"
   ]
  },
  {
   "cell_type": "markdown",
   "metadata": {},
   "source": [
    "**Strategy:**\n",
    "- determine what is a short, medium and long flight \n",
    "    - \"\"American Airlines defines: \n",
    "        - short-/medium-haul flights as being less than 3,000 mi (2,600 nmi; 4,800 km) \n",
    "        - long-haul as either being more than 3,000 mi (2,600 nmi; 4,800 km) \n",
    "    - United Airlines defines: \n",
    "        - short-haul flights as being less than 700 mi (610 nmi; 1,100 km) \n",
    "        - long-haul flights as being greater than 3,000 mi (2,600 nmi; 4,800 km)\"\" [(link)](https://en.wikipedia.org/wiki/Flight_length)\n",
    "  \n",
    "        - short < 700 mi\n",
    "        - 700 mi <= medium < 3000 mi\n",
    "        - long >= 3000 mi\n",
    "- For our purposes our 75% is only 999 miles this means we predominently don't deal with long haul flights: \n",
    "- bin the flights into 0,1,2 for short, medium and long  determine which hour has the most of each type of flight length"
   ]
  },
  {
   "cell_type": "markdown",
   "metadata": {},
   "source": [
    "---\n",
    "**INPUT** : flights nulls removed\n",
    "\n",
    "---"
   ]
  },
  {
   "cell_type": "code",
   "execution_count": 1,
   "metadata": {},
   "outputs": [],
   "source": [
    "# import packages\n",
    "import pandas as pd\n",
    "import numpy as np\n",
    "import matplotlib.pyplot as plt\n",
    "import seaborn as sns"
   ]
  },
  {
   "cell_type": "code",
   "execution_count": 26,
   "metadata": {},
   "outputs": [],
   "source": [
    "import warnings\n",
    "warnings.filterwarnings('ignore')"
   ]
  },
  {
   "cell_type": "code",
   "execution_count": 2,
   "metadata": {},
   "outputs": [],
   "source": [
    "df = pd.read_csv(\"flight_sample_small.csv\")"
   ]
  },
  {
   "cell_type": "code",
   "execution_count": 92,
   "metadata": {},
   "outputs": [],
   "source": [
    "df = pd.read_csv(\"flight_sample_large.csv\")"
   ]
  },
  {
   "cell_type": "code",
   "execution_count": 109,
   "metadata": {},
   "outputs": [
    {
     "data": {
      "text/plain": [
       "count    5.000000e+06\n",
       "mean     7.674067e+02\n",
       "std      5.853547e+02\n",
       "min      1.600000e+01\n",
       "25%      3.380000e+02\n",
       "50%      6.030000e+02\n",
       "75%      9.990000e+02\n",
       "max      5.095000e+03\n",
       "Name: distance, dtype: float64"
      ]
     },
     "execution_count": 109,
     "metadata": {},
     "output_type": "execute_result"
    }
   ],
   "source": [
    "df.distance.describe()"
   ]
  },
  {
   "cell_type": "code",
   "execution_count": 5,
   "metadata": {
    "collapsed": true,
    "jupyter": {
     "outputs_hidden": true
    }
   },
   "outputs": [
    {
     "data": {
      "text/plain": [
       "Index(['fl_date', 'mkt_unique_carrier', 'branded_code_share', 'mkt_carrier',\n",
       "       'mkt_carrier_fl_num', 'op_unique_carrier', 'tail_num',\n",
       "       'op_carrier_fl_num', 'origin_airport_id', 'origin', 'origin_city_name',\n",
       "       'dest_airport_id', 'dest', 'dest_city_name', 'crs_dep_time', 'dep_time',\n",
       "       'dep_delay', 'taxi_out', 'wheels_off', 'wheels_on', 'taxi_in',\n",
       "       'crs_arr_time', 'arr_time', 'arr_delay', 'cancelled',\n",
       "       'cancellation_code', 'diverted', 'dup', 'crs_elapsed_time',\n",
       "       'actual_elapsed_time', 'air_time', 'flights', 'distance',\n",
       "       'carrier_delay', 'weather_delay', 'nas_delay', 'security_delay',\n",
       "       'late_aircraft_delay', 'first_dep_time', 'total_add_gtime',\n",
       "       'longest_add_gtime'],\n",
       "      dtype='object')"
      ]
     },
     "execution_count": 5,
     "metadata": {},
     "output_type": "execute_result"
    }
   ],
   "source": [
    "df.columns"
   ]
  },
  {
   "cell_type": "code",
   "execution_count": 6,
   "metadata": {},
   "outputs": [],
   "source": [
    "def define_haul_length(distance):\n",
    "    \"\"\"Determine the haul length of a given distance\n",
    "    INPUT distance (in miles)\n",
    "    RETURNS {0: short haul, 1: medium haul, 2: long haul}\"\"\"\n",
    "    \n",
    "    if distance < 700:\n",
    "        return 0 \n",
    "    elif distance < 3000:\n",
    "        return 1\n",
    "    else: \n",
    "        return 2"
   ]
  },
  {
   "cell_type": "code",
   "execution_count": 12,
   "metadata": {},
   "outputs": [],
   "source": [
    "def check_time_block(time):\n",
    "    \"\"\"Determine the hour of the day\n",
    "    INPUT time HHMM\n",
    "    RETURNS hour 0-23 where 0 == 12am and 23 == 11pm\"\"\"\n",
    "    if type(time) == 'numpy.ndarray':\n",
    "        time = time.astype(int)\n",
    "    time = int(time)\n",
    "    \n",
    "    t = time // 100\n",
    "    if t == 0:\n",
    "        return 0\n",
    "    return t-1"
   ]
  },
  {
   "cell_type": "markdown",
   "metadata": {},
   "source": [
    "**Expectations** \n",
    "- I would anticipate seeing long hauls leaving in the morning and arriving at night and the medium and short interspersed throughout\n",
    "\n",
    "*Looking first at departures*"
   ]
  },
  {
   "cell_type": "code",
   "execution_count": 93,
   "metadata": {},
   "outputs": [],
   "source": [
    "taskeight_dep = df[['crs_dep_time', 'dep_time','distance']]"
   ]
  },
  {
   "cell_type": "code",
   "execution_count": 94,
   "metadata": {},
   "outputs": [],
   "source": [
    "#convert the HHMM to an hour bin \n",
    "taskeight_dep[\"crs_dep_time\"] = taskeight_dep[\"crs_dep_time\"].map(check_time_block)\n",
    "taskeight_dep[\"dep_time\"] = taskeight_dep[\"dep_time\"].map(check_time_block)\n",
    "#convert the distance to a haul length\n",
    "taskeight_dep[\"distance\"] = taskeight_dep[\"distance\"].map(define_haul_length)"
   ]
  },
  {
   "cell_type": "code",
   "execution_count": 95,
   "metadata": {},
   "outputs": [],
   "source": [
    "#create dummies for the haul length\n",
    "dummies = pd.get_dummies(taskeight_dep.distance)\n",
    "dummies.rename(columns = {0: \"short_haul\", 1: \"medium_haul\", 2:\"long_haul\"}, inplace=True)\n",
    "taskeight_dep = taskeight_dep.merge(dummies, right_index=True, left_index=True)\n",
    "taskeight_dep.drop(\"distance\",axis=1, inplace=True)"
   ]
  },
  {
   "cell_type": "code",
   "execution_count": 96,
   "metadata": {},
   "outputs": [],
   "source": [
    "# create a df grouped by hour -- for both crs and actual dep time\n",
    "taskeight_depcrs = taskeight_dep.groupby(\"crs_dep_time\", as_index=False)[[\"short_haul\", \"medium_haul\", \"long_haul\"]].sum()\n",
    "taskeight_depact = taskeight_dep.groupby(\"dep_time\", as_index=False)[[\"short_haul\", \"medium_haul\", \"long_haul\"]].sum()"
   ]
  },
  {
   "cell_type": "code",
   "execution_count": 97,
   "metadata": {},
   "outputs": [
    {
     "data": {
      "text/plain": [
       "Text(0.5, 0.98, 'Haul Frequency by CRS Departure Hour')"
      ]
     },
     "execution_count": 97,
     "metadata": {},
     "output_type": "execute_result"
    },
    {
     "data": {
      "image/png": "[encoded data removed]",
      "text/plain": [
       "<Figure size 463.75x360 with 1 Axes>"
      ]
     },
     "metadata": {
      "needs_background": "light"
     },
     "output_type": "display_data"
    }
   ],
   "source": [
    "taskeight_depcrs = pd.melt(taskeight_depcrs, id_vars=\"crs_dep_time\", var_name=\"haul\", value_name=\"haul frequency\")\n",
    "g = sns.factorplot(x='crs_dep_time', y='haul frequency', hue='haul', data=taskeight_depcrs, kind='bar')\n",
    "plt.subplots_adjust(top=0.9)\n",
    "g.fig.suptitle('Haul Frequency by CRS Departure Hour')"
   ]
  },
  {
   "cell_type": "code",
   "execution_count": 98,
   "metadata": {
    "jupyter": {
     "source_hidden": true
    }
   },
   "outputs": [
    {
     "data": {
      "text/plain": [
       "Text(0.5, 0.98, 'Haul Length Frequency by Actual Departure Hour')"
      ]
     },
     "execution_count": 98,
     "metadata": {},
     "output_type": "execute_result"
    },
    {
     "data": {
      "image/png": "[encoded data removed]",
      "text/plain": [
       "<Figure size 463.75x360 with 1 Axes>"
      ]
     },
     "metadata": {
      "needs_background": "light"
     },
     "output_type": "display_data"
    }
   ],
   "source": [
    "taskeight_depact = pd.melt(taskeight_depact, id_vars=\"dep_time\", var_name=\"haul\", value_name=\"haul frequency\")\n",
    "g = sns.factorplot(x='dep_time', y='haul frequency', hue='haul', data=taskeight_depact, kind='bar')\n",
    "plt.subplots_adjust(top=0.9)\n",
    "g.fig.suptitle('Haul Length Frequency by Actual Departure Hour')"
   ]
  },
  {
   "cell_type": "markdown",
   "metadata": {},
   "source": [
    "*Looking at arrivals*"
   ]
  },
  {
   "cell_type": "code",
   "execution_count": 99,
   "metadata": {
    "jupyter": {
     "source_hidden": true
    }
   },
   "outputs": [],
   "source": [
    "taskeight_arr = df[['crs_arr_time', 'arr_time','distance']]"
   ]
  },
  {
   "cell_type": "code",
   "execution_count": 100,
   "metadata": {
    "jupyter": {
     "source_hidden": true
    }
   },
   "outputs": [],
   "source": [
    "#convert the HHMM to an hour bin \n",
    "taskeight_arr[\"crs_arr_time\"] = taskeight_arr[\"crs_arr_time\"].map(check_time_block)\n",
    "taskeight_arr[\"arr_time\"] = taskeight_arr[\"arr_time\"].map(check_time_block)\n",
    "#convert the distance to a haul length\n",
    "taskeight_arr[\"distance\"] = taskeight_arr[\"distance\"].map(define_haul_length)"
   ]
  },
  {
   "cell_type": "code",
   "execution_count": 101,
   "metadata": {
    "jupyter": {
     "source_hidden": true
    }
   },
   "outputs": [],
   "source": [
    "#create dummies for the haul length\n",
    "dummies = pd.get_dummies(taskeight_arr.distance)\n",
    "dummies.rename(columns = {0: \"short_haul\", 1: \"medium_haul\", 2:\"long_haul\"}, inplace=True)\n",
    "taskeight_arr = taskeight_arr.merge(dummies, right_index=True, left_index=True)\n",
    "taskeight_arr.drop(\"distance\",axis=1, inplace=True)"
   ]
  },
  {
   "cell_type": "code",
   "execution_count": 102,
   "metadata": {
    "jupyter": {
     "source_hidden": true
    }
   },
   "outputs": [],
   "source": [
    "#create a df grouped by hour -- for both crs and actual dep time\n",
    "taskeight_arrcrs = taskeight_arr.groupby(\"crs_arr_time\", as_index=False)[[\"short_haul\", \"medium_haul\", \"long_haul\"]].sum()\n",
    "taskeight_arract = taskeight_arr.groupby(\"arr_time\", as_index=False)[[\"short_haul\", \"medium_haul\", \"long_haul\"]].sum()"
   ]
  },
  {
   "cell_type": "code",
   "execution_count": 103,
   "metadata": {
    "jupyter": {
     "source_hidden": true
    }
   },
   "outputs": [
    {
     "data": {
      "text/plain": [
       "Text(0.5, 0.98, 'Haul Length Frequency by CRS Arrival Hour')"
      ]
     },
     "execution_count": 103,
     "metadata": {},
     "output_type": "execute_result"
    },
    {
     "data": {
      "image/png": "[encoded data removed]",
      "text/plain": [
       "<Figure size 463.75x360 with 1 Axes>"
      ]
     },
     "metadata": {
      "needs_background": "light"
     },
     "output_type": "display_data"
    }
   ],
   "source": [
    "taskeight_arrcrs = pd.melt(taskeight_arrcrs, id_vars=\"crs_arr_time\", var_name=\"haul\", value_name=\"haul frequency\")\n",
    "g = sns.factorplot(x='crs_arr_time', y='haul frequency', hue='haul', data=taskeight_arrcrs, kind='bar')\n",
    "plt.subplots_adjust(top=0.9)\n",
    "g.fig.suptitle('Haul Length Frequency by CRS Arrival Hour')"
   ]
  },
  {
   "cell_type": "code",
   "execution_count": 104,
   "metadata": {
    "jupyter": {
     "source_hidden": true
    }
   },
   "outputs": [
    {
     "data": {
      "text/plain": [
       "Text(0.5, 0.98, 'Haul Length Frequency by Actual Arrival Hour')"
      ]
     },
     "execution_count": 104,
     "metadata": {},
     "output_type": "execute_result"
    },
    {
     "data": {
      "image/png": "[encoded data removed]",
      "text/plain": [
       "<Figure size 463.75x360 with 1 Axes>"
      ]
     },
     "metadata": {
      "needs_background": "light"
     },
     "output_type": "display_data"
    }
   ],
   "source": [
    "taskeight_arract = pd.melt(taskeight_arract, id_vars=\"arr_time\", var_name=\"haul\", value_name=\"haul frequency\")\n",
    "g = sns.factorplot(x='arr_time', y='haul frequency', hue='haul', data=taskeight_arract, kind='bar')\n",
    "plt.subplots_adjust(top=0.9)\n",
    "g.fig.suptitle('Haul Length Frequency by Actual Arrival Hour')"
   ]
  },
  {
   "cell_type": "markdown",
   "metadata": {},
   "source": [
    "**Summarize General Frequencies of Flight Types**"
   ]
  },
  {
   "cell_type": "code",
   "execution_count": 105,
   "metadata": {
    "jupyter": {
     "source_hidden": true
    }
   },
   "outputs": [],
   "source": [
    "hauls = taskeight_arract.groupby(\"haul\")['haul frequency'].sum()"
   ]
  },
  {
   "cell_type": "code",
   "execution_count": 107,
   "metadata": {
    "jupyter": {
     "source_hidden": true
    }
   },
   "outputs": [
    {
     "name": "stdout",
     "output_type": "stream",
     "text": [
      "there are:  5000000  flights\n",
      "there are:  7682.0  long haul flights\n",
      "there are:  2105445.0  medium haul flights\n",
      "there are:  2886873.0  short haul flights\n"
     ]
    }
   ],
   "source": [
    "print(\"there are: \", len(df), \" flights\")\n",
    "print(\"there are: \", hauls['long_haul'],  \" long haul flights\")\n",
    "print(\"there are: \", hauls['medium_haul'],  \" medium haul flights\")\n",
    "print(\"there are: \", hauls['short_haul'],  \" short haul flights\")"
   ]
  },
  {
   "cell_type": "code",
   "execution_count": 108,
   "metadata": {
    "jupyter": {
     "source_hidden": true
    }
   },
   "outputs": [
    {
     "data": {
      "image/png": "[encoded data removed]",
      "text/plain": [
       "<Figure size 432x288 with 1 Axes>"
      ]
     },
     "metadata": {},
     "output_type": "display_data"
    }
   ],
   "source": [
    "# Pie chart, where the slices will be ordered and plotted counter-clockwise:\n",
    "labels = 'Long Haul Flights', 'Medium Haul Flights', 'Short Haul Flights'\n",
    "sizes = [hauls['long_haul'], hauls['medium_haul'],hauls['short_haul']]\n",
    "explode = (0.1, 0.1, 0.1)  # only \"explode\" the 2nd slice (i.e. 'Hogs')\n",
    "\n",
    "fig1, ax1 = plt.subplots()\n",
    "ax1.pie(sizes, explode=explode, labels=labels, autopct='%1.1f%%',\n",
    "        shadow=True, startangle=90)\n",
    "ax1.axis('equal')  # Equal aspect ratio ensures that pie is drawn as a circle.\n",
    "plt.title('Breakdown of Haul Length')\n",
    "plt.show()"
   ]
  },
  {
   "cell_type": "code",
   "execution_count": 110,
   "metadata": {},
   "outputs": [],
   "source": [
    "taskeight_dep = df[['crs_dep_time', 'dep_time','distance']]\n",
    "#convert the HHMM to an hour bin \n",
    "taskeight_dep[\"crs_dep_time\"] = taskeight_dep[\"crs_dep_time\"].map(check_time_block)\n",
    "taskeight_dep[\"dep_time\"] = taskeight_dep[\"dep_time\"].map(check_time_block)\n",
    "#convert the distance to a haul length\n",
    "taskeight_dep[\"distance\"] = taskeight_dep[\"distance\"].map(define_haul_length)\n",
    "#create dummies for the haul length\n",
    "dummies = pd.get_dummies(taskeight_dep.distance)\n",
    "dummies.rename(columns = {0: \"short_haul\", 1: \"medium_haul\", 2:\"long_haul\"}, inplace=True)\n",
    "taskeight_dep = taskeight_dep.merge(dummies, right_index=True, left_index=True)\n",
    "taskeight_dep.drop(\"distance\",axis=1, inplace=True)"
   ]
  },
  {
   "cell_type": "code",
   "execution_count": 112,
   "metadata": {},
   "outputs": [],
   "source": [
    "taskeight_dep.to_csv(\"taskeight_dep.csv\", index=False)"
   ]
  },
  {
   "cell_type": "code",
   "execution_count": null,
   "metadata": {},
   "outputs": [],
   "source": []
  }
 ],
 "metadata": {
  "kernelspec": {
   "display_name": "Python 3",
   "language": "python",
   "name": "python3"
  },
  "language_info": {
   "codemirror_mode": {
    "name": "ipython",
    "version": 3
   },
   "file_extension": ".py",
   "mimetype": "text/x-python",
   "name": "python",
   "nbconvert_exporter": "python",
   "pygments_lexer": "ipython3",
   "version": "3.8.3"
  }
 },
 "nbformat": 4,
 "nbformat_minor": 4
}
