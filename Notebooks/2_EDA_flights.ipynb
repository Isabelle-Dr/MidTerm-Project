{
 "cells": [
  {
   "cell_type": "markdown",
   "metadata": {},
   "source": [
    "### EDA Flights\n",
    "\n",
    "additional space for completing EDA on flights data"
   ]
  },
  {
   "cell_type": "markdown",
   "metadata": {},
   "source": [
    "---\n",
    "**INPUT**: flights with nulls removed\n",
    "\n",
    "---"
   ]
  },
  {
   "cell_type": "code",
   "execution_count": 2,
   "metadata": {},
   "outputs": [],
   "source": [
    "#import packages\n",
    "import pandas as pd\n",
    "import numpy as np\n",
    "import seaborn as sns\n",
    "import scipy.stats as st"
   ]
  },
  {
   "cell_type": "code",
   "execution_count": null,
   "metadata": {},
   "outputs": [],
   "source": [
    "df = pd.read_csv(\"flight_sample_small.csv\")"
   ]
  },
  {
   "cell_type": "code",
   "execution_count": 3,
   "metadata": {},
   "outputs": [],
   "source": [
    "df = pd.read_csv(\"flight_sample_large.csv\")"
   ]
  },
  {
   "cell_type": "code",
   "execution_count": 5,
   "metadata": {},
   "outputs": [
    {
     "data": {
      "text/html": [
       "<div>\n",
       "<style scoped>\n",
       "    .dataframe tbody tr th:only-of-type {\n",
       "        vertical-align: middle;\n",
       "    }\n",
       "\n",
       "    .dataframe tbody tr th {\n",
       "        vertical-align: top;\n",
       "    }\n",
       "\n",
       "    .dataframe thead th {\n",
       "        text-align: right;\n",
       "    }\n",
       "</style>\n",
       "<table border=\"1\" class=\"dataframe\">\n",
       "  <thead>\n",
       "    <tr style=\"text-align: right;\">\n",
       "      <th></th>\n",
       "      <th>fl_date</th>\n",
       "      <th>mkt_unique_carrier</th>\n",
       "      <th>branded_code_share</th>\n",
       "      <th>mkt_carrier</th>\n",
       "      <th>mkt_carrier_fl_num</th>\n",
       "      <th>op_unique_carrier</th>\n",
       "      <th>tail_num</th>\n",
       "      <th>op_carrier_fl_num</th>\n",
       "      <th>origin_airport_id</th>\n",
       "      <th>origin</th>\n",
       "      <th>...</th>\n",
       "      <th>flights</th>\n",
       "      <th>distance</th>\n",
       "      <th>carrier_delay</th>\n",
       "      <th>weather_delay</th>\n",
       "      <th>nas_delay</th>\n",
       "      <th>security_delay</th>\n",
       "      <th>late_aircraft_delay</th>\n",
       "      <th>first_dep_time</th>\n",
       "      <th>total_add_gtime</th>\n",
       "      <th>longest_add_gtime</th>\n",
       "    </tr>\n",
       "  </thead>\n",
       "  <tbody>\n",
       "    <tr>\n",
       "      <th>0</th>\n",
       "      <td>2019-01-11</td>\n",
       "      <td>AS</td>\n",
       "      <td>AS</td>\n",
       "      <td>AS</td>\n",
       "      <td>64</td>\n",
       "      <td>AS</td>\n",
       "      <td>N611AS</td>\n",
       "      <td>64</td>\n",
       "      <td>15841</td>\n",
       "      <td>WRG</td>\n",
       "      <td>...</td>\n",
       "      <td>1.0</td>\n",
       "      <td>82.0</td>\n",
       "      <td>0.0</td>\n",
       "      <td>0.0</td>\n",
       "      <td>0.0</td>\n",
       "      <td>0.0</td>\n",
       "      <td>0.0</td>\n",
       "      <td>1620.0</td>\n",
       "      <td>0.0</td>\n",
       "      <td>0.0</td>\n",
       "    </tr>\n",
       "    <tr>\n",
       "      <th>1</th>\n",
       "      <td>2018-01-21</td>\n",
       "      <td>AA</td>\n",
       "      <td>AA_CODESHARE</td>\n",
       "      <td>AA</td>\n",
       "      <td>5206</td>\n",
       "      <td>OH</td>\n",
       "      <td>N587NN</td>\n",
       "      <td>5206</td>\n",
       "      <td>13577</td>\n",
       "      <td>MYR</td>\n",
       "      <td>...</td>\n",
       "      <td>1.0</td>\n",
       "      <td>157.0</td>\n",
       "      <td>0.0</td>\n",
       "      <td>0.0</td>\n",
       "      <td>0.0</td>\n",
       "      <td>0.0</td>\n",
       "      <td>0.0</td>\n",
       "      <td>922.0</td>\n",
       "      <td>0.0</td>\n",
       "      <td>0.0</td>\n",
       "    </tr>\n",
       "    <tr>\n",
       "      <th>2</th>\n",
       "      <td>2019-12-22</td>\n",
       "      <td>DL</td>\n",
       "      <td>DL_CODESHARE</td>\n",
       "      <td>DL</td>\n",
       "      <td>4861</td>\n",
       "      <td>9E</td>\n",
       "      <td>N478PX</td>\n",
       "      <td>4861</td>\n",
       "      <td>14576</td>\n",
       "      <td>ROC</td>\n",
       "      <td>...</td>\n",
       "      <td>1.0</td>\n",
       "      <td>783.0</td>\n",
       "      <td>0.0</td>\n",
       "      <td>0.0</td>\n",
       "      <td>0.0</td>\n",
       "      <td>0.0</td>\n",
       "      <td>0.0</td>\n",
       "      <td>606.0</td>\n",
       "      <td>0.0</td>\n",
       "      <td>0.0</td>\n",
       "    </tr>\n",
       "    <tr>\n",
       "      <th>3</th>\n",
       "      <td>2019-01-11</td>\n",
       "      <td>WN</td>\n",
       "      <td>WN</td>\n",
       "      <td>WN</td>\n",
       "      <td>1572</td>\n",
       "      <td>WN</td>\n",
       "      <td>N404WN</td>\n",
       "      <td>1572</td>\n",
       "      <td>14683</td>\n",
       "      <td>SAT</td>\n",
       "      <td>...</td>\n",
       "      <td>1.0</td>\n",
       "      <td>247.0</td>\n",
       "      <td>0.0</td>\n",
       "      <td>0.0</td>\n",
       "      <td>0.0</td>\n",
       "      <td>0.0</td>\n",
       "      <td>0.0</td>\n",
       "      <td>825.0</td>\n",
       "      <td>0.0</td>\n",
       "      <td>0.0</td>\n",
       "    </tr>\n",
       "    <tr>\n",
       "      <th>4</th>\n",
       "      <td>2018-11-30</td>\n",
       "      <td>WN</td>\n",
       "      <td>WN</td>\n",
       "      <td>WN</td>\n",
       "      <td>1006</td>\n",
       "      <td>WN</td>\n",
       "      <td>N906WN</td>\n",
       "      <td>1006</td>\n",
       "      <td>14679</td>\n",
       "      <td>SAN</td>\n",
       "      <td>...</td>\n",
       "      <td>1.0</td>\n",
       "      <td>853.0</td>\n",
       "      <td>0.0</td>\n",
       "      <td>0.0</td>\n",
       "      <td>0.0</td>\n",
       "      <td>0.0</td>\n",
       "      <td>0.0</td>\n",
       "      <td>1240.0</td>\n",
       "      <td>0.0</td>\n",
       "      <td>0.0</td>\n",
       "    </tr>\n",
       "  </tbody>\n",
       "</table>\n",
       "<p>5 rows × 41 columns</p>\n",
       "</div>"
      ],
      "text/plain": [
       "      fl_date mkt_unique_carrier branded_code_share mkt_carrier  \\\n",
       "0  2019-01-11                 AS                 AS          AS   \n",
       "1  2018-01-21                 AA       AA_CODESHARE          AA   \n",
       "2  2019-12-22                 DL       DL_CODESHARE          DL   \n",
       "3  2019-01-11                 WN                 WN          WN   \n",
       "4  2018-11-30                 WN                 WN          WN   \n",
       "\n",
       "   mkt_carrier_fl_num op_unique_carrier tail_num  op_carrier_fl_num  \\\n",
       "0                  64                AS   N611AS                 64   \n",
       "1                5206                OH   N587NN               5206   \n",
       "2                4861                9E   N478PX               4861   \n",
       "3                1572                WN   N404WN               1572   \n",
       "4                1006                WN   N906WN               1006   \n",
       "\n",
       "   origin_airport_id origin  ... flights  distance carrier_delay  \\\n",
       "0              15841    WRG  ...     1.0      82.0           0.0   \n",
       "1              13577    MYR  ...     1.0     157.0           0.0   \n",
       "2              14576    ROC  ...     1.0     783.0           0.0   \n",
       "3              14683    SAT  ...     1.0     247.0           0.0   \n",
       "4              14679    SAN  ...     1.0     853.0           0.0   \n",
       "\n",
       "  weather_delay  nas_delay  security_delay  late_aircraft_delay  \\\n",
       "0           0.0        0.0             0.0                  0.0   \n",
       "1           0.0        0.0             0.0                  0.0   \n",
       "2           0.0        0.0             0.0                  0.0   \n",
       "3           0.0        0.0             0.0                  0.0   \n",
       "4           0.0        0.0             0.0                  0.0   \n",
       "\n",
       "   first_dep_time  total_add_gtime  longest_add_gtime  \n",
       "0          1620.0              0.0                0.0  \n",
       "1           922.0              0.0                0.0  \n",
       "2           606.0              0.0                0.0  \n",
       "3           825.0              0.0                0.0  \n",
       "4          1240.0              0.0                0.0  \n",
       "\n",
       "[5 rows x 41 columns]"
      ]
     },
     "execution_count": 5,
     "metadata": {},
     "output_type": "execute_result"
    }
   ],
   "source": [
    "df.head()"
   ]
  },
  {
   "cell_type": "markdown",
   "metadata": {},
   "source": [
    "---"
   ]
  },
  {
   "cell_type": "markdown",
   "metadata": {},
   "source": [
    "Q: What information is the tail_num providing <br>\n",
    "A: When combined with date we can determine how many trips a single plane makes\n",
    "\n",
    "Expectations: planes that make more than 1 trip in a day are more likely to have a net delay\n",
    "<br>True"
   ]
  },
  {
   "cell_type": "markdown",
   "metadata": {},
   "source": [
    "---"
   ]
  },
  {
   "cell_type": "code",
   "execution_count": 3,
   "metadata": {},
   "outputs": [],
   "source": [
    "tail = df[df.tail_num != \"EMPTY\"]\n",
    "tail = tail.groupby([\"tail_num\", \"fl_date\"], as_index=False).arr_delay.count()\n",
    "tail.rename(columns={\"arr_delay\": \"num_of_arr\"}, inplace=True)\n",
    "tail2 = df.groupby([\"tail_num\", \"fl_date\"], as_index=False).arr_delay.sum()\n",
    "tail2.rename(columns={\"arr_delay\": \"net_arr_delay\"}, inplace=True)\n",
    "tail = tail.merge(tail2, on = [\"tail_num\", \"fl_date\"])"
   ]
  },
  {
   "cell_type": "code",
   "execution_count": 4,
   "metadata": {},
   "outputs": [],
   "source": [
    "tailmultiple = tail[tail.num_of_arr > 1]\n",
    "tailsingle = tail[tail.num_of_arr <= 1]"
   ]
  },
  {
   "cell_type": "code",
   "execution_count": 5,
   "metadata": {},
   "outputs": [
    {
     "name": "stdout",
     "output_type": "stream",
     "text": [
      "the average net arrival delay for planes making more than one trip per day is:  12.53\n",
      "the average net arrival delay for planes making one trip per day is:  6.75\n"
     ]
    }
   ],
   "source": [
    "print(\"the average net arrival delay for planes making more than one trip per day is: \",\n",
    "     round(tailmultiple.net_arr_delay.mean(),2))\n",
    "print(\"the average net arrival delay for planes making one trip per day is: \",\n",
    "     round(tailsingle.net_arr_delay.mean(),2))"
   ]
  },
  {
   "cell_type": "code",
   "execution_count": 6,
   "metadata": {},
   "outputs": [],
   "source": [
    "tails = tail.num_of_arr.unique()"
   ]
  },
  {
   "cell_type": "code",
   "execution_count": 18,
   "metadata": {},
   "outputs": [],
   "source": [
    "netArrivalDelayMean = list(range(tails.max()))"
   ]
  },
  {
   "cell_type": "code",
   "execution_count": 37,
   "metadata": {},
   "outputs": [],
   "source": [
    "for i in range(tails.max()):\n",
    "    netArrivalDelayMean[i] = tail[tail.num_of_arr == i].net_arr_delay.mean()\n",
    "arr_delay_mean_df = pd.DataFrame(netArrivalDelayMean)"
   ]
  },
  {
   "cell_type": "code",
   "execution_count": 38,
   "metadata": {},
   "outputs": [],
   "source": [
    "arr_delay_mean_df.reset_index(inplace = True)\n",
    "arr_delay_mean_df.rename(columns = {\"index\":\"Number of Arrivals\", 0:\"net_arr_delay_mean\"}, inplace=True)"
   ]
  },
  {
   "cell_type": "code",
   "execution_count": 42,
   "metadata": {},
   "outputs": [],
   "source": [
    "arr_delay_mean_df.dropna(inplace=True)"
   ]
  },
  {
   "cell_type": "code",
   "execution_count": 48,
   "metadata": {},
   "outputs": [],
   "source": [
    "arr_delay_mean_df['dA'] = arr_delay_mean_df['net_arr_delay_mean'] - arr_delay_mean_df['net_arr_delay_mean'].shift(1)"
   ]
  },
  {
   "cell_type": "code",
   "execution_count": 49,
   "metadata": {},
   "outputs": [
    {
     "data": {
      "text/html": [
       "<div>\n",
       "<style scoped>\n",
       "    .dataframe tbody tr th:only-of-type {\n",
       "        vertical-align: middle;\n",
       "    }\n",
       "\n",
       "    .dataframe tbody tr th {\n",
       "        vertical-align: top;\n",
       "    }\n",
       "\n",
       "    .dataframe thead th {\n",
       "        text-align: right;\n",
       "    }\n",
       "</style>\n",
       "<table border=\"1\" class=\"dataframe\">\n",
       "  <thead>\n",
       "    <tr style=\"text-align: right;\">\n",
       "      <th></th>\n",
       "      <th>Number of Arrivals</th>\n",
       "      <th>net_arr_delay_mean</th>\n",
       "      <th>dA</th>\n",
       "    </tr>\n",
       "  </thead>\n",
       "  <tbody>\n",
       "    <tr>\n",
       "      <th>1</th>\n",
       "      <td>1</td>\n",
       "      <td>6.747790</td>\n",
       "      <td>NaN</td>\n",
       "    </tr>\n",
       "    <tr>\n",
       "      <th>2</th>\n",
       "      <td>2</td>\n",
       "      <td>10.529565</td>\n",
       "      <td>3.781775</td>\n",
       "    </tr>\n",
       "    <tr>\n",
       "      <th>3</th>\n",
       "      <td>3</td>\n",
       "      <td>13.978261</td>\n",
       "      <td>3.448696</td>\n",
       "    </tr>\n",
       "    <tr>\n",
       "      <th>4</th>\n",
       "      <td>4</td>\n",
       "      <td>18.058546</td>\n",
       "      <td>4.080285</td>\n",
       "    </tr>\n",
       "    <tr>\n",
       "      <th>5</th>\n",
       "      <td>5</td>\n",
       "      <td>24.198052</td>\n",
       "      <td>6.139506</td>\n",
       "    </tr>\n",
       "    <tr>\n",
       "      <th>6</th>\n",
       "      <td>6</td>\n",
       "      <td>29.075430</td>\n",
       "      <td>4.877377</td>\n",
       "    </tr>\n",
       "    <tr>\n",
       "      <th>7</th>\n",
       "      <td>7</td>\n",
       "      <td>25.603837</td>\n",
       "      <td>-3.471592</td>\n",
       "    </tr>\n",
       "    <tr>\n",
       "      <th>8</th>\n",
       "      <td>8</td>\n",
       "      <td>31.207317</td>\n",
       "      <td>5.603480</td>\n",
       "    </tr>\n",
       "    <tr>\n",
       "      <th>9</th>\n",
       "      <td>9</td>\n",
       "      <td>16.214286</td>\n",
       "      <td>-14.993031</td>\n",
       "    </tr>\n",
       "    <tr>\n",
       "      <th>10</th>\n",
       "      <td>10</td>\n",
       "      <td>42.000000</td>\n",
       "      <td>25.785714</td>\n",
       "    </tr>\n",
       "    <tr>\n",
       "      <th>11</th>\n",
       "      <td>11</td>\n",
       "      <td>60.000000</td>\n",
       "      <td>18.000000</td>\n",
       "    </tr>\n",
       "  </tbody>\n",
       "</table>\n",
       "</div>"
      ],
      "text/plain": [
       "    Number of Arrivals  net_arr_delay_mean         dA\n",
       "1                    1            6.747790        NaN\n",
       "2                    2           10.529565   3.781775\n",
       "3                    3           13.978261   3.448696\n",
       "4                    4           18.058546   4.080285\n",
       "5                    5           24.198052   6.139506\n",
       "6                    6           29.075430   4.877377\n",
       "7                    7           25.603837  -3.471592\n",
       "8                    8           31.207317   5.603480\n",
       "9                    9           16.214286 -14.993031\n",
       "10                  10           42.000000  25.785714\n",
       "11                  11           60.000000  18.000000"
      ]
     },
     "execution_count": 49,
     "metadata": {},
     "output_type": "execute_result"
    }
   ],
   "source": [
    "arr_delay_mean_df"
   ]
  },
  {
   "cell_type": "markdown",
   "metadata": {},
   "source": [
    "---"
   ]
  },
  {
   "cell_type": "markdown",
   "metadata": {},
   "source": [
    "Q: What are the roles of the carriers? <br>\n",
    "A: Providing infromation about flights for various levels of personel interactions<br>\n",
    "\n",
    "Expectations: \n",
    "- code_share have higher delays\n",
    "    - true"
   ]
  },
  {
   "cell_type": "markdown",
   "metadata": {},
   "source": [
    "---"
   ]
  },
  {
   "cell_type": "code",
   "execution_count": 58,
   "metadata": {},
   "outputs": [],
   "source": [
    "carriers = df[['fl_date', 'mkt_unique_carrier', 'branded_code_share', 'mkt_carrier',\n",
    "       'mkt_carrier_fl_num', 'op_unique_carrier','op_carrier_fl_num','arr_delay']]"
   ]
  },
  {
   "cell_type": "code",
   "execution_count": 53,
   "metadata": {},
   "outputs": [
    {
     "data": {
      "text/html": [
       "<div>\n",
       "<style scoped>\n",
       "    .dataframe tbody tr th:only-of-type {\n",
       "        vertical-align: middle;\n",
       "    }\n",
       "\n",
       "    .dataframe tbody tr th {\n",
       "        vertical-align: top;\n",
       "    }\n",
       "\n",
       "    .dataframe thead th {\n",
       "        text-align: right;\n",
       "    }\n",
       "</style>\n",
       "<table border=\"1\" class=\"dataframe\">\n",
       "  <thead>\n",
       "    <tr style=\"text-align: right;\">\n",
       "      <th></th>\n",
       "      <th>fl_date</th>\n",
       "      <th>mkt_unique_carrier</th>\n",
       "      <th>branded_code_share</th>\n",
       "      <th>mkt_carrier</th>\n",
       "      <th>mkt_carrier_fl_num</th>\n",
       "      <th>op_unique_carrier</th>\n",
       "      <th>arr_delay</th>\n",
       "    </tr>\n",
       "  </thead>\n",
       "  <tbody>\n",
       "    <tr>\n",
       "      <th>0</th>\n",
       "      <td>2018-10-04</td>\n",
       "      <td>WN</td>\n",
       "      <td>WN</td>\n",
       "      <td>WN</td>\n",
       "      <td>1772</td>\n",
       "      <td>WN</td>\n",
       "      <td>-8.0</td>\n",
       "    </tr>\n",
       "    <tr>\n",
       "      <th>1</th>\n",
       "      <td>2019-02-18</td>\n",
       "      <td>DL</td>\n",
       "      <td>DL</td>\n",
       "      <td>DL</td>\n",
       "      <td>797</td>\n",
       "      <td>DL</td>\n",
       "      <td>-43.0</td>\n",
       "    </tr>\n",
       "    <tr>\n",
       "      <th>2</th>\n",
       "      <td>2019-08-21</td>\n",
       "      <td>AA</td>\n",
       "      <td>AA_CODESHARE</td>\n",
       "      <td>AA</td>\n",
       "      <td>3648</td>\n",
       "      <td>MQ</td>\n",
       "      <td>13.0</td>\n",
       "    </tr>\n",
       "    <tr>\n",
       "      <th>3</th>\n",
       "      <td>2019-08-29</td>\n",
       "      <td>AA</td>\n",
       "      <td>AA</td>\n",
       "      <td>AA</td>\n",
       "      <td>2409</td>\n",
       "      <td>AA</td>\n",
       "      <td>-7.0</td>\n",
       "    </tr>\n",
       "    <tr>\n",
       "      <th>4</th>\n",
       "      <td>2018-02-12</td>\n",
       "      <td>AS</td>\n",
       "      <td>AS</td>\n",
       "      <td>AS</td>\n",
       "      <td>39</td>\n",
       "      <td>AS</td>\n",
       "      <td>7.0</td>\n",
       "    </tr>\n",
       "  </tbody>\n",
       "</table>\n",
       "</div>"
      ],
      "text/plain": [
       "      fl_date mkt_unique_carrier branded_code_share mkt_carrier  \\\n",
       "0  2018-10-04                 WN                 WN          WN   \n",
       "1  2019-02-18                 DL                 DL          DL   \n",
       "2  2019-08-21                 AA       AA_CODESHARE          AA   \n",
       "3  2019-08-29                 AA                 AA          AA   \n",
       "4  2018-02-12                 AS                 AS          AS   \n",
       "\n",
       "   mkt_carrier_fl_num op_unique_carrier  arr_delay  \n",
       "0                1772                WN       -8.0  \n",
       "1                 797                DL      -43.0  \n",
       "2                3648                MQ       13.0  \n",
       "3                2409                AA       -7.0  \n",
       "4                  39                AS        7.0  "
      ]
     },
     "execution_count": 53,
     "metadata": {},
     "output_type": "execute_result"
    }
   ],
   "source": [
    "carriers.head()"
   ]
  },
  {
   "cell_type": "markdown",
   "metadata": {},
   "source": [
    "***Look at branded_code_share***"
   ]
  },
  {
   "cell_type": "code",
   "execution_count": 4,
   "metadata": {},
   "outputs": [],
   "source": [
    "carriers_codeshare = carriers[['mkt_unique_carrier', 'branded_code_share', 'arr_delay']]"
   ]
  },
  {
   "cell_type": "code",
   "execution_count": 61,
   "metadata": {},
   "outputs": [],
   "source": [
    "carriers_codeshare_g = carriers.groupby(['mkt_unique_carrier', 'branded_code_share'], as_index=False)[\"arr_delay\"].mean()\n",
    "carriers_codeshare_g.rename(columns={\"arr_delay\":\"arr_delay_mean\"}, inplace = True)"
   ]
  },
  {
   "cell_type": "code",
   "execution_count": 6,
   "metadata": {},
   "outputs": [],
   "source": [
    "def check_codeshare(branded_codeshare):\n",
    "    words = branded_codeshare.split(\"_\")\n",
    "    if len(words) == 2:\n",
    "        return 1\n",
    "    return 0"
   ]
  },
  {
   "cell_type": "code",
   "execution_count": 7,
   "metadata": {},
   "outputs": [
    {
     "name": "stderr",
     "output_type": "stream",
     "text": [
      "<ipython-input-7-5927ff01643c>:1: SettingWithCopyWarning: \n",
      "A value is trying to be set on a copy of a slice from a DataFrame.\n",
      "Try using .loc[row_indexer,col_indexer] = value instead\n",
      "\n",
      "See the caveats in the documentation: https://pandas.pydata.org/pandas-docs/stable/user_guide/indexing.html#returning-a-view-versus-a-copy\n",
      "  carriers_codeshare[\"is_codeshare\"] = carriers_codeshare[\"branded_code_share\"].map(check_codeshare)\n"
     ]
    }
   ],
   "source": [
    "carriers_codeshare[\"is_codeshare\"] = carriers_codeshare[\"branded_code_share\"].map(check_codeshare)"
   ]
  },
  {
   "cell_type": "code",
   "execution_count": 17,
   "metadata": {},
   "outputs": [],
   "source": [
    "yescodeshare = carriers_codeshare[carriers_codeshare[\"is_codeshare\"]==1].arr_delay\n",
    "nocodeshare = carriers_codeshare[carriers_codeshare[\"is_codeshare\"]==0].arr_delay"
   ]
  },
  {
   "cell_type": "code",
   "execution_count": 23,
   "metadata": {},
   "outputs": [
    {
     "name": "stdout",
     "output_type": "stream",
     "text": [
      "sample taken of nocodeshare\n"
     ]
    }
   ],
   "source": [
    "if len(yescodeshare) == len(nocodeshare):\n",
    "    print(\"equal size\")\n",
    "elif len(yescodeshare) > len(nocodeshare):\n",
    "    yescodeshare = yescodeshare.sample(len(nocodeshare))\n",
    "    print(\"sample taken of yescodeshare\")\n",
    "else: \n",
    "    nocodeshare = nocodeshare.sample(len(nocodeshare))\n",
    "    print(\"sample taken of nocodeshare\")    "
   ]
  },
  {
   "cell_type": "code",
   "execution_count": 27,
   "metadata": {},
   "outputs": [],
   "source": [
    "result = st.ttest_ind(yescodeshare,nocodeshare)"
   ]
  },
  {
   "cell_type": "code",
   "execution_count": 28,
   "metadata": {},
   "outputs": [
    {
     "data": {
      "text/plain": [
       "0.0"
      ]
     },
     "execution_count": 28,
     "metadata": {},
     "output_type": "execute_result"
    }
   ],
   "source": [
    "result[1]"
   ]
  },
  {
   "cell_type": "markdown",
   "metadata": {},
   "source": [
    "***Mkt_unique_carrier vs mkt_carrier***"
   ]
  },
  {
   "cell_type": "code",
   "execution_count": 4,
   "metadata": {},
   "outputs": [
    {
     "data": {
      "text/html": [
       "<div>\n",
       "<style scoped>\n",
       "    .dataframe tbody tr th:only-of-type {\n",
       "        vertical-align: middle;\n",
       "    }\n",
       "\n",
       "    .dataframe tbody tr th {\n",
       "        vertical-align: top;\n",
       "    }\n",
       "\n",
       "    .dataframe thead th {\n",
       "        text-align: right;\n",
       "    }\n",
       "</style>\n",
       "<table border=\"1\" class=\"dataframe\">\n",
       "  <thead>\n",
       "    <tr style=\"text-align: right;\">\n",
       "      <th></th>\n",
       "      <th>mkt_unique_carrier</th>\n",
       "      <th>fl_date</th>\n",
       "    </tr>\n",
       "  </thead>\n",
       "  <tbody>\n",
       "    <tr>\n",
       "      <th>0</th>\n",
       "      <td>AA</td>\n",
       "      <td>1299724</td>\n",
       "    </tr>\n",
       "    <tr>\n",
       "      <th>1</th>\n",
       "      <td>AS</td>\n",
       "      <td>268190</td>\n",
       "    </tr>\n",
       "    <tr>\n",
       "      <th>2</th>\n",
       "      <td>B6</td>\n",
       "      <td>188410</td>\n",
       "    </tr>\n",
       "    <tr>\n",
       "      <th>3</th>\n",
       "      <td>DL</td>\n",
       "      <td>1093826</td>\n",
       "    </tr>\n",
       "    <tr>\n",
       "      <th>4</th>\n",
       "      <td>F9</td>\n",
       "      <td>80314</td>\n",
       "    </tr>\n",
       "    <tr>\n",
       "      <th>5</th>\n",
       "      <td>G4</td>\n",
       "      <td>62986</td>\n",
       "    </tr>\n",
       "    <tr>\n",
       "      <th>6</th>\n",
       "      <td>HA</td>\n",
       "      <td>55724</td>\n",
       "    </tr>\n",
       "    <tr>\n",
       "      <th>7</th>\n",
       "      <td>NK</td>\n",
       "      <td>119435</td>\n",
       "    </tr>\n",
       "    <tr>\n",
       "      <th>8</th>\n",
       "      <td>UA</td>\n",
       "      <td>972628</td>\n",
       "    </tr>\n",
       "    <tr>\n",
       "      <th>9</th>\n",
       "      <td>VX</td>\n",
       "      <td>5600</td>\n",
       "    </tr>\n",
       "    <tr>\n",
       "      <th>10</th>\n",
       "      <td>WN</td>\n",
       "      <td>853163</td>\n",
       "    </tr>\n",
       "  </tbody>\n",
       "</table>\n",
       "</div>"
      ],
      "text/plain": [
       "   mkt_unique_carrier  fl_date\n",
       "0                  AA  1299724\n",
       "1                  AS   268190\n",
       "2                  B6   188410\n",
       "3                  DL  1093826\n",
       "4                  F9    80314\n",
       "5                  G4    62986\n",
       "6                  HA    55724\n",
       "7                  NK   119435\n",
       "8                  UA   972628\n",
       "9                  VX     5600\n",
       "10                 WN   853163"
      ]
     },
     "execution_count": 4,
     "metadata": {},
     "output_type": "execute_result"
    }
   ],
   "source": [
    "carriers.groupby(\"mkt_unique_carrier\", as_index=False)[\"fl_date\"].count()"
   ]
  },
  {
   "cell_type": "code",
   "execution_count": 5,
   "metadata": {},
   "outputs": [
    {
     "data": {
      "text/html": [
       "<div>\n",
       "<style scoped>\n",
       "    .dataframe tbody tr th:only-of-type {\n",
       "        vertical-align: middle;\n",
       "    }\n",
       "\n",
       "    .dataframe tbody tr th {\n",
       "        vertical-align: top;\n",
       "    }\n",
       "\n",
       "    .dataframe thead th {\n",
       "        text-align: right;\n",
       "    }\n",
       "</style>\n",
       "<table border=\"1\" class=\"dataframe\">\n",
       "  <thead>\n",
       "    <tr style=\"text-align: right;\">\n",
       "      <th></th>\n",
       "      <th>mkt_carrier</th>\n",
       "      <th>fl_date</th>\n",
       "    </tr>\n",
       "  </thead>\n",
       "  <tbody>\n",
       "    <tr>\n",
       "      <th>0</th>\n",
       "      <td>AA</td>\n",
       "      <td>1299724</td>\n",
       "    </tr>\n",
       "    <tr>\n",
       "      <th>1</th>\n",
       "      <td>AS</td>\n",
       "      <td>268190</td>\n",
       "    </tr>\n",
       "    <tr>\n",
       "      <th>2</th>\n",
       "      <td>B6</td>\n",
       "      <td>188410</td>\n",
       "    </tr>\n",
       "    <tr>\n",
       "      <th>3</th>\n",
       "      <td>DL</td>\n",
       "      <td>1093826</td>\n",
       "    </tr>\n",
       "    <tr>\n",
       "      <th>4</th>\n",
       "      <td>F9</td>\n",
       "      <td>80314</td>\n",
       "    </tr>\n",
       "    <tr>\n",
       "      <th>5</th>\n",
       "      <td>G4</td>\n",
       "      <td>62986</td>\n",
       "    </tr>\n",
       "    <tr>\n",
       "      <th>6</th>\n",
       "      <td>HA</td>\n",
       "      <td>55724</td>\n",
       "    </tr>\n",
       "    <tr>\n",
       "      <th>7</th>\n",
       "      <td>NK</td>\n",
       "      <td>119435</td>\n",
       "    </tr>\n",
       "    <tr>\n",
       "      <th>8</th>\n",
       "      <td>UA</td>\n",
       "      <td>972628</td>\n",
       "    </tr>\n",
       "    <tr>\n",
       "      <th>9</th>\n",
       "      <td>VX</td>\n",
       "      <td>5600</td>\n",
       "    </tr>\n",
       "    <tr>\n",
       "      <th>10</th>\n",
       "      <td>WN</td>\n",
       "      <td>853163</td>\n",
       "    </tr>\n",
       "  </tbody>\n",
       "</table>\n",
       "</div>"
      ],
      "text/plain": [
       "   mkt_carrier  fl_date\n",
       "0           AA  1299724\n",
       "1           AS   268190\n",
       "2           B6   188410\n",
       "3           DL  1093826\n",
       "4           F9    80314\n",
       "5           G4    62986\n",
       "6           HA    55724\n",
       "7           NK   119435\n",
       "8           UA   972628\n",
       "9           VX     5600\n",
       "10          WN   853163"
      ]
     },
     "execution_count": 5,
     "metadata": {},
     "output_type": "execute_result"
    }
   ],
   "source": [
    "carriers.groupby(\"mkt_carrier\", as_index=False)[\"fl_date\"].count()"
   ]
  },
  {
   "cell_type": "markdown",
   "metadata": {},
   "source": [
    "> Identical values lets drop one"
   ]
  },
  {
   "cell_type": "markdown",
   "metadata": {},
   "source": [
    "***mkt_carrier_fl_num***"
   ]
  },
  {
   "cell_type": "code",
   "execution_count": 44,
   "metadata": {},
   "outputs": [],
   "source": [
    "temp1 = carriers.groupby([\"mkt_carrier\",\"mkt_carrier_fl_num\", \"fl_date\"], as_index=False)[\"arr_delay\"].mean()\n",
    "temp1.rename(columns = {\"arr_delay\": \"mean_arr_delay\"}, inplace=True)\n",
    "temp = carriers.groupby([\"mkt_carrier\",\"mkt_carrier_fl_num\", \"fl_date\"], as_index=False)[\"arr_delay\"].count()\n",
    "temp.rename(columns = {\"arr_delay\": \"arrival_count\"}, inplace=True)\n",
    "temp = temp.merge(temp1, on=[\"mkt_carrier\",\"mkt_carrier_fl_num\", \"fl_date\"])"
   ]
  },
  {
   "cell_type": "code",
   "execution_count": 46,
   "metadata": {
    "collapsed": true,
    "jupyter": {
     "outputs_hidden": true
    }
   },
   "outputs": [
    {
     "data": {
      "text/html": [
       "<div>\n",
       "<style scoped>\n",
       "    .dataframe tbody tr th:only-of-type {\n",
       "        vertical-align: middle;\n",
       "    }\n",
       "\n",
       "    .dataframe tbody tr th {\n",
       "        vertical-align: top;\n",
       "    }\n",
       "\n",
       "    .dataframe thead th {\n",
       "        text-align: right;\n",
       "    }\n",
       "</style>\n",
       "<table border=\"1\" class=\"dataframe\">\n",
       "  <thead>\n",
       "    <tr style=\"text-align: right;\">\n",
       "      <th></th>\n",
       "      <th>mkt_carrier</th>\n",
       "      <th>mkt_carrier_fl_num</th>\n",
       "      <th>fl_date</th>\n",
       "      <th>arrival_count</th>\n",
       "      <th>mean_arr_delay</th>\n",
       "    </tr>\n",
       "  </thead>\n",
       "  <tbody>\n",
       "    <tr>\n",
       "      <th>2641357</th>\n",
       "      <td>DL</td>\n",
       "      <td>6237</td>\n",
       "      <td>2019-11-21</td>\n",
       "      <td>1</td>\n",
       "      <td>2973.0</td>\n",
       "    </tr>\n",
       "    <tr>\n",
       "      <th>2855950</th>\n",
       "      <td>HA</td>\n",
       "      <td>466</td>\n",
       "      <td>2018-02-09</td>\n",
       "      <td>1</td>\n",
       "      <td>2454.0</td>\n",
       "    </tr>\n",
       "    <tr>\n",
       "      <th>2795516</th>\n",
       "      <td>G4</td>\n",
       "      <td>1756</td>\n",
       "      <td>2019-11-26</td>\n",
       "      <td>1</td>\n",
       "      <td>1966.0</td>\n",
       "    </tr>\n",
       "    <tr>\n",
       "      <th>33205</th>\n",
       "      <td>AA</td>\n",
       "      <td>284</td>\n",
       "      <td>2019-03-05</td>\n",
       "      <td>1</td>\n",
       "      <td>1928.0</td>\n",
       "    </tr>\n",
       "    <tr>\n",
       "      <th>2423935</th>\n",
       "      <td>DL</td>\n",
       "      <td>4538</td>\n",
       "      <td>2018-10-21</td>\n",
       "      <td>1</td>\n",
       "      <td>1916.0</td>\n",
       "    </tr>\n",
       "    <tr>\n",
       "      <th>251439</th>\n",
       "      <td>AA</td>\n",
       "      <td>1478</td>\n",
       "      <td>2018-10-13</td>\n",
       "      <td>1</td>\n",
       "      <td>1866.0</td>\n",
       "    </tr>\n",
       "    <tr>\n",
       "      <th>2664634</th>\n",
       "      <td>DL</td>\n",
       "      <td>7406</td>\n",
       "      <td>2018-06-17</td>\n",
       "      <td>1</td>\n",
       "      <td>1848.0</td>\n",
       "    </tr>\n",
       "    <tr>\n",
       "      <th>592017</th>\n",
       "      <td>AA</td>\n",
       "      <td>3115</td>\n",
       "      <td>2019-12-24</td>\n",
       "      <td>1</td>\n",
       "      <td>1847.0</td>\n",
       "    </tr>\n",
       "    <tr>\n",
       "      <th>952832</th>\n",
       "      <td>AA</td>\n",
       "      <td>5027</td>\n",
       "      <td>2019-11-16</td>\n",
       "      <td>1</td>\n",
       "      <td>1842.0</td>\n",
       "    </tr>\n",
       "    <tr>\n",
       "      <th>346770</th>\n",
       "      <td>AA</td>\n",
       "      <td>1911</td>\n",
       "      <td>2019-11-18</td>\n",
       "      <td>1</td>\n",
       "      <td>1795.0</td>\n",
       "    </tr>\n",
       "    <tr>\n",
       "      <th>178857</th>\n",
       "      <td>AA</td>\n",
       "      <td>1099</td>\n",
       "      <td>2018-01-02</td>\n",
       "      <td>1</td>\n",
       "      <td>1778.0</td>\n",
       "    </tr>\n",
       "    <tr>\n",
       "      <th>196910</th>\n",
       "      <td>AA</td>\n",
       "      <td>1200</td>\n",
       "      <td>2018-02-16</td>\n",
       "      <td>1</td>\n",
       "      <td>1757.0</td>\n",
       "    </tr>\n",
       "    <tr>\n",
       "      <th>3497173</th>\n",
       "      <td>UA</td>\n",
       "      <td>4090</td>\n",
       "      <td>2019-06-08</td>\n",
       "      <td>1</td>\n",
       "      <td>1737.0</td>\n",
       "    </tr>\n",
       "    <tr>\n",
       "      <th>32515</th>\n",
       "      <td>AA</td>\n",
       "      <td>277</td>\n",
       "      <td>2019-12-28</td>\n",
       "      <td>1</td>\n",
       "      <td>1701.0</td>\n",
       "    </tr>\n",
       "    <tr>\n",
       "      <th>2633692</th>\n",
       "      <td>DL</td>\n",
       "      <td>6203</td>\n",
       "      <td>2019-05-19</td>\n",
       "      <td>1</td>\n",
       "      <td>1657.0</td>\n",
       "    </tr>\n",
       "    <tr>\n",
       "      <th>550163</th>\n",
       "      <td>AA</td>\n",
       "      <td>2898</td>\n",
       "      <td>2018-05-21</td>\n",
       "      <td>1</td>\n",
       "      <td>1649.0</td>\n",
       "    </tr>\n",
       "    <tr>\n",
       "      <th>270660</th>\n",
       "      <td>AA</td>\n",
       "      <td>1585</td>\n",
       "      <td>2019-04-12</td>\n",
       "      <td>1</td>\n",
       "      <td>1638.0</td>\n",
       "    </tr>\n",
       "    <tr>\n",
       "      <th>3754280</th>\n",
       "      <td>UA</td>\n",
       "      <td>5452</td>\n",
       "      <td>2019-12-17</td>\n",
       "      <td>1</td>\n",
       "      <td>1631.0</td>\n",
       "    </tr>\n",
       "    <tr>\n",
       "      <th>769484</th>\n",
       "      <td>AA</td>\n",
       "      <td>4050</td>\n",
       "      <td>2019-04-09</td>\n",
       "      <td>1</td>\n",
       "      <td>1628.0</td>\n",
       "    </tr>\n",
       "    <tr>\n",
       "      <th>16804</th>\n",
       "      <td>AA</td>\n",
       "      <td>162</td>\n",
       "      <td>2018-07-24</td>\n",
       "      <td>1</td>\n",
       "      <td>1594.0</td>\n",
       "    </tr>\n",
       "    <tr>\n",
       "      <th>3512151</th>\n",
       "      <td>UA</td>\n",
       "      <td>4176</td>\n",
       "      <td>2019-02-24</td>\n",
       "      <td>1</td>\n",
       "      <td>1594.0</td>\n",
       "    </tr>\n",
       "    <tr>\n",
       "      <th>1159320</th>\n",
       "      <td>AA</td>\n",
       "      <td>5930</td>\n",
       "      <td>2019-11-09</td>\n",
       "      <td>1</td>\n",
       "      <td>1576.0</td>\n",
       "    </tr>\n",
       "    <tr>\n",
       "      <th>2333763</th>\n",
       "      <td>DL</td>\n",
       "      <td>3787</td>\n",
       "      <td>2019-11-13</td>\n",
       "      <td>1</td>\n",
       "      <td>1575.0</td>\n",
       "    </tr>\n",
       "    <tr>\n",
       "      <th>271897</th>\n",
       "      <td>AA</td>\n",
       "      <td>1593</td>\n",
       "      <td>2019-03-12</td>\n",
       "      <td>1</td>\n",
       "      <td>1570.0</td>\n",
       "    </tr>\n",
       "    <tr>\n",
       "      <th>3798472</th>\n",
       "      <td>UA</td>\n",
       "      <td>5676</td>\n",
       "      <td>2019-11-29</td>\n",
       "      <td>1</td>\n",
       "      <td>1570.0</td>\n",
       "    </tr>\n",
       "    <tr>\n",
       "      <th>3509917</th>\n",
       "      <td>UA</td>\n",
       "      <td>4162</td>\n",
       "      <td>2019-09-02</td>\n",
       "      <td>1</td>\n",
       "      <td>1567.0</td>\n",
       "    </tr>\n",
       "    <tr>\n",
       "      <th>75739</th>\n",
       "      <td>AA</td>\n",
       "      <td>484</td>\n",
       "      <td>2019-11-15</td>\n",
       "      <td>1</td>\n",
       "      <td>1567.0</td>\n",
       "    </tr>\n",
       "    <tr>\n",
       "      <th>192148</th>\n",
       "      <td>AA</td>\n",
       "      <td>1174</td>\n",
       "      <td>2018-02-18</td>\n",
       "      <td>1</td>\n",
       "      <td>1558.0</td>\n",
       "    </tr>\n",
       "    <tr>\n",
       "      <th>690983</th>\n",
       "      <td>AA</td>\n",
       "      <td>3629</td>\n",
       "      <td>2019-05-03</td>\n",
       "      <td>1</td>\n",
       "      <td>1548.0</td>\n",
       "    </tr>\n",
       "    <tr>\n",
       "      <th>749654</th>\n",
       "      <td>AA</td>\n",
       "      <td>3929</td>\n",
       "      <td>2019-02-16</td>\n",
       "      <td>1</td>\n",
       "      <td>1540.0</td>\n",
       "    </tr>\n",
       "  </tbody>\n",
       "</table>\n",
       "</div>"
      ],
      "text/plain": [
       "        mkt_carrier  mkt_carrier_fl_num     fl_date  arrival_count  \\\n",
       "2641357          DL                6237  2019-11-21              1   \n",
       "2855950          HA                 466  2018-02-09              1   \n",
       "2795516          G4                1756  2019-11-26              1   \n",
       "33205            AA                 284  2019-03-05              1   \n",
       "2423935          DL                4538  2018-10-21              1   \n",
       "251439           AA                1478  2018-10-13              1   \n",
       "2664634          DL                7406  2018-06-17              1   \n",
       "592017           AA                3115  2019-12-24              1   \n",
       "952832           AA                5027  2019-11-16              1   \n",
       "346770           AA                1911  2019-11-18              1   \n",
       "178857           AA                1099  2018-01-02              1   \n",
       "196910           AA                1200  2018-02-16              1   \n",
       "3497173          UA                4090  2019-06-08              1   \n",
       "32515            AA                 277  2019-12-28              1   \n",
       "2633692          DL                6203  2019-05-19              1   \n",
       "550163           AA                2898  2018-05-21              1   \n",
       "270660           AA                1585  2019-04-12              1   \n",
       "3754280          UA                5452  2019-12-17              1   \n",
       "769484           AA                4050  2019-04-09              1   \n",
       "16804            AA                 162  2018-07-24              1   \n",
       "3512151          UA                4176  2019-02-24              1   \n",
       "1159320          AA                5930  2019-11-09              1   \n",
       "2333763          DL                3787  2019-11-13              1   \n",
       "271897           AA                1593  2019-03-12              1   \n",
       "3798472          UA                5676  2019-11-29              1   \n",
       "3509917          UA                4162  2019-09-02              1   \n",
       "75739            AA                 484  2019-11-15              1   \n",
       "192148           AA                1174  2018-02-18              1   \n",
       "690983           AA                3629  2019-05-03              1   \n",
       "749654           AA                3929  2019-02-16              1   \n",
       "\n",
       "         mean_arr_delay  \n",
       "2641357          2973.0  \n",
       "2855950          2454.0  \n",
       "2795516          1966.0  \n",
       "33205            1928.0  \n",
       "2423935          1916.0  \n",
       "251439           1866.0  \n",
       "2664634          1848.0  \n",
       "592017           1847.0  \n",
       "952832           1842.0  \n",
       "346770           1795.0  \n",
       "178857           1778.0  \n",
       "196910           1757.0  \n",
       "3497173          1737.0  \n",
       "32515            1701.0  \n",
       "2633692          1657.0  \n",
       "550163           1649.0  \n",
       "270660           1638.0  \n",
       "3754280          1631.0  \n",
       "769484           1628.0  \n",
       "16804            1594.0  \n",
       "3512151          1594.0  \n",
       "1159320          1576.0  \n",
       "2333763          1575.0  \n",
       "271897           1570.0  \n",
       "3798472          1570.0  \n",
       "3509917          1567.0  \n",
       "75739            1567.0  \n",
       "192148           1558.0  \n",
       "690983           1548.0  \n",
       "749654           1540.0  "
      ]
     },
     "execution_count": 46,
     "metadata": {},
     "output_type": "execute_result"
    }
   ],
   "source": [
    "temp.sort_values(by=\"mean_arr_delay\", ascending=False).head(30)"
   ]
  },
  {
   "cell_type": "code",
   "execution_count": 22,
   "metadata": {},
   "outputs": [],
   "source": [
    "temp = temp.groupby(\"arrival_count\",as_index = False)[\"mean_arr_delay\"].mean()"
   ]
  },
  {
   "cell_type": "code",
   "execution_count": 24,
   "metadata": {},
   "outputs": [
    {
     "data": {
      "text/plain": [
       "Text(0.5, 1.0, 'Delays related to Frequency of Arrivals per Day by Carrier Flight Number')"
      ]
     },
     "execution_count": 24,
     "metadata": {},
     "output_type": "execute_result"
    },
    {
     "data": {
      "image/png": "[encoded data removed]",
      "text/plain": [
       "<Figure size 432x288 with 1 Axes>"
      ]
     },
     "metadata": {
      "needs_background": "light"
     },
     "output_type": "display_data"
    }
   ],
   "source": [
    "sns.barplot(x=\"arrival_count\", y=\"mean_arr_delay\", data=temp).set_title(\"Delays related to Frequency of Arrivals per Day by Carrier Flight Number\")"
   ]
  },
  {
   "cell_type": "code",
   "execution_count": 35,
   "metadata": {},
   "outputs": [],
   "source": [
    "carriers_flnum = carriers.groupby([\"mkt_unique_carrier\", \"mkt_carrier_fl_num\"], as_index=False)[\"arr_delay\"].mean()"
   ]
  },
  {
   "cell_type": "code",
   "execution_count": 38,
   "metadata": {},
   "outputs": [
    {
     "name": "stderr",
     "output_type": "stream",
     "text": [
      "/opt/anaconda3/lib/python3.8/site-packages/seaborn/distributions.py:2551: FutureWarning: `distplot` is a deprecated function and will be removed in a future version. Please adapt your code to use either `displot` (a figure-level function with similar flexibility) or `histplot` (an axes-level function for histograms).\n",
      "  warnings.warn(msg, FutureWarning)\n"
     ]
    },
    {
     "data": {
      "text/plain": [
       "Text(0.5, 1.0, 'Mean Delays by mkt_carrier_fl_num ')"
      ]
     },
     "execution_count": 38,
     "metadata": {},
     "output_type": "execute_result"
    },
    {
     "data": {
      "image/png": "[encoded data removed]",
      "text/plain": [
       "<Figure size 432x288 with 1 Axes>"
      ]
     },
     "metadata": {
      "needs_background": "light"
     },
     "output_type": "display_data"
    }
   ],
   "source": [
    "sns.distplot(carriers_flnum.arr_delay).set_title(\"Mean Delays by mkt_carrier_fl_num \")"
   ]
  },
  {
   "cell_type": "code",
   "execution_count": 43,
   "metadata": {
    "collapsed": true,
    "jupyter": {
     "outputs_hidden": true
    }
   },
   "outputs": [
    {
     "data": {
      "text/html": [
       "<div>\n",
       "<style scoped>\n",
       "    .dataframe tbody tr th:only-of-type {\n",
       "        vertical-align: middle;\n",
       "    }\n",
       "\n",
       "    .dataframe tbody tr th {\n",
       "        vertical-align: top;\n",
       "    }\n",
       "\n",
       "    .dataframe thead th {\n",
       "        text-align: right;\n",
       "    }\n",
       "</style>\n",
       "<table border=\"1\" class=\"dataframe\">\n",
       "  <thead>\n",
       "    <tr style=\"text-align: right;\">\n",
       "      <th></th>\n",
       "      <th>mkt_unique_carrier</th>\n",
       "      <th>mkt_carrier_fl_num</th>\n",
       "      <th>arr_delay</th>\n",
       "    </tr>\n",
       "  </thead>\n",
       "  <tbody>\n",
       "    <tr>\n",
       "      <th>5903</th>\n",
       "      <td>AA</td>\n",
       "      <td>9378</td>\n",
       "      <td>1239.000000</td>\n",
       "    </tr>\n",
       "    <tr>\n",
       "      <th>18772</th>\n",
       "      <td>G4</td>\n",
       "      <td>1128</td>\n",
       "      <td>916.000000</td>\n",
       "    </tr>\n",
       "    <tr>\n",
       "      <th>5874</th>\n",
       "      <td>AA</td>\n",
       "      <td>9301</td>\n",
       "      <td>794.000000</td>\n",
       "    </tr>\n",
       "    <tr>\n",
       "      <th>5885</th>\n",
       "      <td>AA</td>\n",
       "      <td>9330</td>\n",
       "      <td>555.000000</td>\n",
       "    </tr>\n",
       "    <tr>\n",
       "      <th>17781</th>\n",
       "      <td>F9</td>\n",
       "      <td>7306</td>\n",
       "      <td>492.000000</td>\n",
       "    </tr>\n",
       "    <tr>\n",
       "      <th>20026</th>\n",
       "      <td>G4</td>\n",
       "      <td>2527</td>\n",
       "      <td>442.000000</td>\n",
       "    </tr>\n",
       "    <tr>\n",
       "      <th>32</th>\n",
       "      <td>AA</td>\n",
       "      <td>38</td>\n",
       "      <td>411.000000</td>\n",
       "    </tr>\n",
       "    <tr>\n",
       "      <th>5918</th>\n",
       "      <td>AA</td>\n",
       "      <td>9400</td>\n",
       "      <td>409.000000</td>\n",
       "    </tr>\n",
       "    <tr>\n",
       "      <th>5886</th>\n",
       "      <td>AA</td>\n",
       "      <td>9332</td>\n",
       "      <td>387.000000</td>\n",
       "    </tr>\n",
       "    <tr>\n",
       "      <th>5915</th>\n",
       "      <td>AA</td>\n",
       "      <td>9391</td>\n",
       "      <td>354.500000</td>\n",
       "    </tr>\n",
       "    <tr>\n",
       "      <th>5900</th>\n",
       "      <td>AA</td>\n",
       "      <td>9373</td>\n",
       "      <td>313.600000</td>\n",
       "    </tr>\n",
       "    <tr>\n",
       "      <th>19622</th>\n",
       "      <td>G4</td>\n",
       "      <td>2030</td>\n",
       "      <td>312.250000</td>\n",
       "    </tr>\n",
       "    <tr>\n",
       "      <th>17777</th>\n",
       "      <td>F9</td>\n",
       "      <td>7215</td>\n",
       "      <td>304.000000</td>\n",
       "    </tr>\n",
       "    <tr>\n",
       "      <th>5891</th>\n",
       "      <td>AA</td>\n",
       "      <td>9342</td>\n",
       "      <td>303.000000</td>\n",
       "    </tr>\n",
       "    <tr>\n",
       "      <th>20060</th>\n",
       "      <td>G4</td>\n",
       "      <td>2630</td>\n",
       "      <td>290.500000</td>\n",
       "    </tr>\n",
       "    <tr>\n",
       "      <th>19982</th>\n",
       "      <td>G4</td>\n",
       "      <td>2453</td>\n",
       "      <td>262.000000</td>\n",
       "    </tr>\n",
       "    <tr>\n",
       "      <th>18810</th>\n",
       "      <td>G4</td>\n",
       "      <td>1167</td>\n",
       "      <td>250.500000</td>\n",
       "    </tr>\n",
       "    <tr>\n",
       "      <th>23073</th>\n",
       "      <td>UA</td>\n",
       "      <td>1470</td>\n",
       "      <td>249.000000</td>\n",
       "    </tr>\n",
       "    <tr>\n",
       "      <th>19091</th>\n",
       "      <td>G4</td>\n",
       "      <td>1484</td>\n",
       "      <td>237.000000</td>\n",
       "    </tr>\n",
       "    <tr>\n",
       "      <th>19355</th>\n",
       "      <td>G4</td>\n",
       "      <td>1756</td>\n",
       "      <td>225.777778</td>\n",
       "    </tr>\n",
       "    <tr>\n",
       "      <th>19550</th>\n",
       "      <td>G4</td>\n",
       "      <td>1955</td>\n",
       "      <td>220.000000</td>\n",
       "    </tr>\n",
       "    <tr>\n",
       "      <th>20163</th>\n",
       "      <td>G4</td>\n",
       "      <td>2843</td>\n",
       "      <td>214.000000</td>\n",
       "    </tr>\n",
       "    <tr>\n",
       "      <th>18814</th>\n",
       "      <td>G4</td>\n",
       "      <td>1171</td>\n",
       "      <td>205.125000</td>\n",
       "    </tr>\n",
       "    <tr>\n",
       "      <th>6166</th>\n",
       "      <td>AS</td>\n",
       "      <td>282</td>\n",
       "      <td>205.000000</td>\n",
       "    </tr>\n",
       "    <tr>\n",
       "      <th>5905</th>\n",
       "      <td>AA</td>\n",
       "      <td>9380</td>\n",
       "      <td>200.333333</td>\n",
       "    </tr>\n",
       "    <tr>\n",
       "      <th>8460</th>\n",
       "      <td>AS</td>\n",
       "      <td>2934</td>\n",
       "      <td>198.000000</td>\n",
       "    </tr>\n",
       "    <tr>\n",
       "      <th>24032</th>\n",
       "      <td>UA</td>\n",
       "      <td>2770</td>\n",
       "      <td>198.000000</td>\n",
       "    </tr>\n",
       "    <tr>\n",
       "      <th>19628</th>\n",
       "      <td>G4</td>\n",
       "      <td>2038</td>\n",
       "      <td>197.666667</td>\n",
       "    </tr>\n",
       "    <tr>\n",
       "      <th>21775</th>\n",
       "      <td>NK</td>\n",
       "      <td>1304</td>\n",
       "      <td>196.500000</td>\n",
       "    </tr>\n",
       "    <tr>\n",
       "      <th>5884</th>\n",
       "      <td>AA</td>\n",
       "      <td>9318</td>\n",
       "      <td>192.000000</td>\n",
       "    </tr>\n",
       "  </tbody>\n",
       "</table>\n",
       "</div>"
      ],
      "text/plain": [
       "      mkt_unique_carrier  mkt_carrier_fl_num    arr_delay\n",
       "5903                  AA                9378  1239.000000\n",
       "18772                 G4                1128   916.000000\n",
       "5874                  AA                9301   794.000000\n",
       "5885                  AA                9330   555.000000\n",
       "17781                 F9                7306   492.000000\n",
       "20026                 G4                2527   442.000000\n",
       "32                    AA                  38   411.000000\n",
       "5918                  AA                9400   409.000000\n",
       "5886                  AA                9332   387.000000\n",
       "5915                  AA                9391   354.500000\n",
       "5900                  AA                9373   313.600000\n",
       "19622                 G4                2030   312.250000\n",
       "17777                 F9                7215   304.000000\n",
       "5891                  AA                9342   303.000000\n",
       "20060                 G4                2630   290.500000\n",
       "19982                 G4                2453   262.000000\n",
       "18810                 G4                1167   250.500000\n",
       "23073                 UA                1470   249.000000\n",
       "19091                 G4                1484   237.000000\n",
       "19355                 G4                1756   225.777778\n",
       "19550                 G4                1955   220.000000\n",
       "20163                 G4                2843   214.000000\n",
       "18814                 G4                1171   205.125000\n",
       "6166                  AS                 282   205.000000\n",
       "5905                  AA                9380   200.333333\n",
       "8460                  AS                2934   198.000000\n",
       "24032                 UA                2770   198.000000\n",
       "19628                 G4                2038   197.666667\n",
       "21775                 NK                1304   196.500000\n",
       "5884                  AA                9318   192.000000"
      ]
     },
     "execution_count": 43,
     "metadata": {},
     "output_type": "execute_result"
    }
   ],
   "source": [
    "carriers_flnum.sort_values(by=\"arr_delay\", ascending = False).head(30)"
   ]
  },
  {
   "cell_type": "markdown",
   "metadata": {},
   "source": [
    "> it doesn't appear that reccuring flight numbers cause significant problems for delays"
   ]
  },
  {
   "cell_type": "markdown",
   "metadata": {},
   "source": [
    "***op_unique_carrier***"
   ]
  },
  {
   "cell_type": "code",
   "execution_count": 55,
   "metadata": {},
   "outputs": [],
   "source": [
    "carrier_op = carriers.groupby(['mkt_unique_carrier',\"op_unique_carrier\"], as_index=False)[\"arr_delay\"].mean()"
   ]
  },
  {
   "cell_type": "code",
   "execution_count": 57,
   "metadata": {},
   "outputs": [
    {
     "data": {
      "text/plain": [
       "Text(0.5, 1.0, 'Delays related to Operator Unique Carrier')"
      ]
     },
     "execution_count": 57,
     "metadata": {},
     "output_type": "execute_result"
    },
    {
     "data": {
      "image/png": "[encoded data removed]",
      "text/plain": [
       "<Figure size 432x288 with 1 Axes>"
      ]
     },
     "metadata": {
      "needs_background": "light"
     },
     "output_type": "display_data"
    }
   ],
   "source": [
    "sns.barplot(x=\"op_unique_carrier\", y=\"arr_delay\", data=carrier_op).set_title(\"Delays related to Operator Unique Carrier\")"
   ]
  },
  {
   "cell_type": "markdown",
   "metadata": {},
   "source": [
    "***op_carrier_fl_num***"
   ]
  },
  {
   "cell_type": "code",
   "execution_count": 60,
   "metadata": {},
   "outputs": [
    {
     "data": {
      "text/plain": [
       "op_unique_carrier  mkt_carrier_fl_num  op_carrier_fl_num\n",
       "9E                 3280                3280                   9.941176\n",
       "                   3281                3281                   8.159420\n",
       "                   3282                3282                   2.720000\n",
       "                   3283                3283                   4.381526\n",
       "                   3284                3284                   3.852590\n",
       "                                                               ...    \n",
       "ZW                 5829                3150                 488.000000\n",
       "                   6020                3150                   3.000000\n",
       "                   6104                3151                  19.000000\n",
       "                   6107                3151                  37.000000\n",
       "                   6270                3151                  29.000000\n",
       "Name: arr_delay, Length: 36341, dtype: float64"
      ]
     },
     "execution_count": 60,
     "metadata": {},
     "output_type": "execute_result"
    }
   ],
   "source": [
    "carriers.groupby([\"op_unique_carrier\",'mkt_carrier_fl_num', 'op_carrier_fl_num'])[\"arr_delay\"].mean()"
   ]
  },
  {
   "cell_type": "code",
   "execution_count": 64,
   "metadata": {},
   "outputs": [
    {
     "data": {
      "text/plain": [
       "34190"
      ]
     },
     "execution_count": 64,
     "metadata": {},
     "output_type": "execute_result"
    }
   ],
   "source": [
    "len(carriers.groupby([\"mkt_unique_carrier\",'mkt_carrier_fl_num'])[\"arr_delay\"].mean())"
   ]
  },
  {
   "cell_type": "code",
   "execution_count": 65,
   "metadata": {},
   "outputs": [
    {
     "data": {
      "text/plain": [
       "34278"
      ]
     },
     "execution_count": 65,
     "metadata": {},
     "output_type": "execute_result"
    }
   ],
   "source": [
    "len(carriers.groupby([\"mkt_unique_carrier\",'op_carrier_fl_num'])[\"arr_delay\"].mean())"
   ]
  },
  {
   "cell_type": "code",
   "execution_count": 69,
   "metadata": {},
   "outputs": [
    {
     "data": {
      "text/plain": [
       "array(['WN', 'DL', 'AA', 'AS', 'UA', 'NK', 'B6', 'F9', 'HA', 'G4', 'VX'],\n",
       "      dtype=object)"
      ]
     },
     "execution_count": 69,
     "metadata": {},
     "output_type": "execute_result"
    }
   ],
   "source": [
    "carriers.mkt_unique_carrier.unique()"
   ]
  },
  {
   "cell_type": "code",
   "execution_count": 77,
   "metadata": {},
   "outputs": [],
   "source": [
    "carriers_flnum = carriers.groupby([\"mkt_unique_carrier\", \"op_unique_carrier\"], as_index=False)[\"arr_delay\"].mean()"
   ]
  },
  {
   "cell_type": "code",
   "execution_count": 81,
   "metadata": {
    "collapsed": true,
    "jupyter": {
     "outputs_hidden": true
    }
   },
   "outputs": [
    {
     "data": {
      "text/html": [
       "<div>\n",
       "<style scoped>\n",
       "    .dataframe tbody tr th:only-of-type {\n",
       "        vertical-align: middle;\n",
       "    }\n",
       "\n",
       "    .dataframe tbody tr th {\n",
       "        vertical-align: top;\n",
       "    }\n",
       "\n",
       "    .dataframe thead th {\n",
       "        text-align: right;\n",
       "    }\n",
       "</style>\n",
       "<table border=\"1\" class=\"dataframe\">\n",
       "  <thead>\n",
       "    <tr style=\"text-align: right;\">\n",
       "      <th></th>\n",
       "      <th>mkt_unique_carrier</th>\n",
       "      <th>op_unique_carrier</th>\n",
       "      <th>arr_delay</th>\n",
       "    </tr>\n",
       "  </thead>\n",
       "  <tbody>\n",
       "    <tr>\n",
       "      <th>0</th>\n",
       "      <td>AA</td>\n",
       "      <td>AA</td>\n",
       "      <td>6.154631</td>\n",
       "    </tr>\n",
       "    <tr>\n",
       "      <th>1</th>\n",
       "      <td>AA</td>\n",
       "      <td>AX</td>\n",
       "      <td>14.767719</td>\n",
       "    </tr>\n",
       "    <tr>\n",
       "      <th>2</th>\n",
       "      <td>AA</td>\n",
       "      <td>CP</td>\n",
       "      <td>0.338263</td>\n",
       "    </tr>\n",
       "    <tr>\n",
       "      <th>3</th>\n",
       "      <td>AA</td>\n",
       "      <td>EV</td>\n",
       "      <td>10.472747</td>\n",
       "    </tr>\n",
       "    <tr>\n",
       "      <th>4</th>\n",
       "      <td>AA</td>\n",
       "      <td>MQ</td>\n",
       "      <td>6.060691</td>\n",
       "    </tr>\n",
       "    <tr>\n",
       "      <th>5</th>\n",
       "      <td>AA</td>\n",
       "      <td>OH</td>\n",
       "      <td>7.302339</td>\n",
       "    </tr>\n",
       "    <tr>\n",
       "      <th>6</th>\n",
       "      <td>AA</td>\n",
       "      <td>OO</td>\n",
       "      <td>9.899759</td>\n",
       "    </tr>\n",
       "    <tr>\n",
       "      <th>7</th>\n",
       "      <td>AA</td>\n",
       "      <td>PT</td>\n",
       "      <td>4.255860</td>\n",
       "    </tr>\n",
       "    <tr>\n",
       "      <th>8</th>\n",
       "      <td>AA</td>\n",
       "      <td>YV</td>\n",
       "      <td>11.045811</td>\n",
       "    </tr>\n",
       "    <tr>\n",
       "      <th>9</th>\n",
       "      <td>AA</td>\n",
       "      <td>YX</td>\n",
       "      <td>0.969016</td>\n",
       "    </tr>\n",
       "    <tr>\n",
       "      <th>10</th>\n",
       "      <td>AA</td>\n",
       "      <td>ZW</td>\n",
       "      <td>14.259615</td>\n",
       "    </tr>\n",
       "    <tr>\n",
       "      <th>11</th>\n",
       "      <td>AS</td>\n",
       "      <td>AS</td>\n",
       "      <td>0.462919</td>\n",
       "    </tr>\n",
       "    <tr>\n",
       "      <th>12</th>\n",
       "      <td>AS</td>\n",
       "      <td>KS</td>\n",
       "      <td>12.224138</td>\n",
       "    </tr>\n",
       "    <tr>\n",
       "      <th>13</th>\n",
       "      <td>AS</td>\n",
       "      <td>OO</td>\n",
       "      <td>-0.967287</td>\n",
       "    </tr>\n",
       "    <tr>\n",
       "      <th>14</th>\n",
       "      <td>AS</td>\n",
       "      <td>QX</td>\n",
       "      <td>2.062075</td>\n",
       "    </tr>\n",
       "    <tr>\n",
       "      <th>15</th>\n",
       "      <td>B6</td>\n",
       "      <td>B6</td>\n",
       "      <td>11.135460</td>\n",
       "    </tr>\n",
       "    <tr>\n",
       "      <th>16</th>\n",
       "      <td>DL</td>\n",
       "      <td>9E</td>\n",
       "      <td>3.762594</td>\n",
       "    </tr>\n",
       "    <tr>\n",
       "      <th>17</th>\n",
       "      <td>DL</td>\n",
       "      <td>CP</td>\n",
       "      <td>8.691715</td>\n",
       "    </tr>\n",
       "    <tr>\n",
       "      <th>18</th>\n",
       "      <td>DL</td>\n",
       "      <td>DL</td>\n",
       "      <td>0.492250</td>\n",
       "    </tr>\n",
       "    <tr>\n",
       "      <th>19</th>\n",
       "      <td>DL</td>\n",
       "      <td>EV</td>\n",
       "      <td>11.985391</td>\n",
       "    </tr>\n",
       "    <tr>\n",
       "      <th>20</th>\n",
       "      <td>DL</td>\n",
       "      <td>G7</td>\n",
       "      <td>6.270386</td>\n",
       "    </tr>\n",
       "    <tr>\n",
       "      <th>21</th>\n",
       "      <td>DL</td>\n",
       "      <td>OO</td>\n",
       "      <td>4.631984</td>\n",
       "    </tr>\n",
       "    <tr>\n",
       "      <th>22</th>\n",
       "      <td>DL</td>\n",
       "      <td>YX</td>\n",
       "      <td>7.313228</td>\n",
       "    </tr>\n",
       "    <tr>\n",
       "      <th>23</th>\n",
       "      <td>F9</td>\n",
       "      <td>F9</td>\n",
       "      <td>11.352716</td>\n",
       "    </tr>\n",
       "    <tr>\n",
       "      <th>24</th>\n",
       "      <td>G4</td>\n",
       "      <td>G4</td>\n",
       "      <td>9.255517</td>\n",
       "    </tr>\n",
       "    <tr>\n",
       "      <th>25</th>\n",
       "      <td>HA</td>\n",
       "      <td>EM</td>\n",
       "      <td>4.039771</td>\n",
       "    </tr>\n",
       "    <tr>\n",
       "      <th>26</th>\n",
       "      <td>HA</td>\n",
       "      <td>HA</td>\n",
       "      <td>0.741542</td>\n",
       "    </tr>\n",
       "    <tr>\n",
       "      <th>27</th>\n",
       "      <td>NK</td>\n",
       "      <td>NK</td>\n",
       "      <td>4.937037</td>\n",
       "    </tr>\n",
       "    <tr>\n",
       "      <th>28</th>\n",
       "      <td>UA</td>\n",
       "      <td>9K</td>\n",
       "      <td>-2.753788</td>\n",
       "    </tr>\n",
       "    <tr>\n",
       "      <th>29</th>\n",
       "      <td>UA</td>\n",
       "      <td>AX</td>\n",
       "      <td>15.080343</td>\n",
       "    </tr>\n",
       "    <tr>\n",
       "      <th>30</th>\n",
       "      <td>UA</td>\n",
       "      <td>C5</td>\n",
       "      <td>21.948089</td>\n",
       "    </tr>\n",
       "    <tr>\n",
       "      <th>31</th>\n",
       "      <td>UA</td>\n",
       "      <td>EV</td>\n",
       "      <td>10.700376</td>\n",
       "    </tr>\n",
       "    <tr>\n",
       "      <th>32</th>\n",
       "      <td>UA</td>\n",
       "      <td>G7</td>\n",
       "      <td>11.612727</td>\n",
       "    </tr>\n",
       "    <tr>\n",
       "      <th>33</th>\n",
       "      <td>UA</td>\n",
       "      <td>OO</td>\n",
       "      <td>10.049480</td>\n",
       "    </tr>\n",
       "    <tr>\n",
       "      <th>34</th>\n",
       "      <td>UA</td>\n",
       "      <td>UA</td>\n",
       "      <td>6.829376</td>\n",
       "    </tr>\n",
       "    <tr>\n",
       "      <th>35</th>\n",
       "      <td>UA</td>\n",
       "      <td>YV</td>\n",
       "      <td>7.801974</td>\n",
       "    </tr>\n",
       "    <tr>\n",
       "      <th>36</th>\n",
       "      <td>UA</td>\n",
       "      <td>YX</td>\n",
       "      <td>5.928000</td>\n",
       "    </tr>\n",
       "    <tr>\n",
       "      <th>37</th>\n",
       "      <td>UA</td>\n",
       "      <td>ZW</td>\n",
       "      <td>6.987761</td>\n",
       "    </tr>\n",
       "    <tr>\n",
       "      <th>38</th>\n",
       "      <td>VX</td>\n",
       "      <td>VX</td>\n",
       "      <td>1.569286</td>\n",
       "    </tr>\n",
       "    <tr>\n",
       "      <th>39</th>\n",
       "      <td>WN</td>\n",
       "      <td>WN</td>\n",
       "      <td>3.460853</td>\n",
       "    </tr>\n",
       "  </tbody>\n",
       "</table>\n",
       "</div>"
      ],
      "text/plain": [
       "   mkt_unique_carrier op_unique_carrier  arr_delay\n",
       "0                  AA                AA   6.154631\n",
       "1                  AA                AX  14.767719\n",
       "2                  AA                CP   0.338263\n",
       "3                  AA                EV  10.472747\n",
       "4                  AA                MQ   6.060691\n",
       "5                  AA                OH   7.302339\n",
       "6                  AA                OO   9.899759\n",
       "7                  AA                PT   4.255860\n",
       "8                  AA                YV  11.045811\n",
       "9                  AA                YX   0.969016\n",
       "10                 AA                ZW  14.259615\n",
       "11                 AS                AS   0.462919\n",
       "12                 AS                KS  12.224138\n",
       "13                 AS                OO  -0.967287\n",
       "14                 AS                QX   2.062075\n",
       "15                 B6                B6  11.135460\n",
       "16                 DL                9E   3.762594\n",
       "17                 DL                CP   8.691715\n",
       "18                 DL                DL   0.492250\n",
       "19                 DL                EV  11.985391\n",
       "20                 DL                G7   6.270386\n",
       "21                 DL                OO   4.631984\n",
       "22                 DL                YX   7.313228\n",
       "23                 F9                F9  11.352716\n",
       "24                 G4                G4   9.255517\n",
       "25                 HA                EM   4.039771\n",
       "26                 HA                HA   0.741542\n",
       "27                 NK                NK   4.937037\n",
       "28                 UA                9K  -2.753788\n",
       "29                 UA                AX  15.080343\n",
       "30                 UA                C5  21.948089\n",
       "31                 UA                EV  10.700376\n",
       "32                 UA                G7  11.612727\n",
       "33                 UA                OO  10.049480\n",
       "34                 UA                UA   6.829376\n",
       "35                 UA                YV   7.801974\n",
       "36                 UA                YX   5.928000\n",
       "37                 UA                ZW   6.987761\n",
       "38                 VX                VX   1.569286\n",
       "39                 WN                WN   3.460853"
      ]
     },
     "execution_count": 81,
     "metadata": {},
     "output_type": "execute_result"
    }
   ],
   "source": [
    "carriers_flnum"
   ]
  },
  {
   "cell_type": "markdown",
   "metadata": {},
   "source": [
    "---"
   ]
  },
  {
   "cell_type": "markdown",
   "metadata": {},
   "source": [
    "Q: What *unique* information is provided in the origin and destination information?\n",
    "<br>A: There are some cities with multiple airports"
   ]
  },
  {
   "cell_type": "markdown",
   "metadata": {},
   "source": [
    "---"
   ]
  },
  {
   "cell_type": "code",
   "execution_count": 83,
   "metadata": {},
   "outputs": [],
   "source": [
    "locations = df[['origin_airport_id', 'origin', 'origin_city_name',\n",
    "       'dest_airport_id', 'dest', 'dest_city_name']]"
   ]
  },
  {
   "cell_type": "code",
   "execution_count": 84,
   "metadata": {},
   "outputs": [
    {
     "data": {
      "text/html": [
       "<div>\n",
       "<style scoped>\n",
       "    .dataframe tbody tr th:only-of-type {\n",
       "        vertical-align: middle;\n",
       "    }\n",
       "\n",
       "    .dataframe tbody tr th {\n",
       "        vertical-align: top;\n",
       "    }\n",
       "\n",
       "    .dataframe thead th {\n",
       "        text-align: right;\n",
       "    }\n",
       "</style>\n",
       "<table border=\"1\" class=\"dataframe\">\n",
       "  <thead>\n",
       "    <tr style=\"text-align: right;\">\n",
       "      <th></th>\n",
       "      <th>origin_airport_id</th>\n",
       "      <th>origin</th>\n",
       "      <th>origin_city_name</th>\n",
       "      <th>dest_airport_id</th>\n",
       "      <th>dest</th>\n",
       "      <th>dest_city_name</th>\n",
       "    </tr>\n",
       "  </thead>\n",
       "  <tbody>\n",
       "    <tr>\n",
       "      <th>0</th>\n",
       "      <td>14679</td>\n",
       "      <td>SAN</td>\n",
       "      <td>San Diego, CA</td>\n",
       "      <td>11259</td>\n",
       "      <td>DAL</td>\n",
       "      <td>Dallas, TX</td>\n",
       "    </tr>\n",
       "    <tr>\n",
       "      <th>1</th>\n",
       "      <td>10423</td>\n",
       "      <td>AUS</td>\n",
       "      <td>Austin, TX</td>\n",
       "      <td>11433</td>\n",
       "      <td>DTW</td>\n",
       "      <td>Detroit, MI</td>\n",
       "    </tr>\n",
       "    <tr>\n",
       "      <th>2</th>\n",
       "      <td>10874</td>\n",
       "      <td>CAK</td>\n",
       "      <td>Akron, OH</td>\n",
       "      <td>13930</td>\n",
       "      <td>ORD</td>\n",
       "      <td>Chicago, IL</td>\n",
       "    </tr>\n",
       "    <tr>\n",
       "      <th>3</th>\n",
       "      <td>13930</td>\n",
       "      <td>ORD</td>\n",
       "      <td>Chicago, IL</td>\n",
       "      <td>15304</td>\n",
       "      <td>TPA</td>\n",
       "      <td>Tampa, FL</td>\n",
       "    </tr>\n",
       "    <tr>\n",
       "      <th>4</th>\n",
       "      <td>13487</td>\n",
       "      <td>MSP</td>\n",
       "      <td>Minneapolis, MN</td>\n",
       "      <td>14747</td>\n",
       "      <td>SEA</td>\n",
       "      <td>Seattle, WA</td>\n",
       "    </tr>\n",
       "  </tbody>\n",
       "</table>\n",
       "</div>"
      ],
      "text/plain": [
       "   origin_airport_id origin origin_city_name  dest_airport_id dest  \\\n",
       "0              14679    SAN    San Diego, CA            11259  DAL   \n",
       "1              10423    AUS       Austin, TX            11433  DTW   \n",
       "2              10874    CAK        Akron, OH            13930  ORD   \n",
       "3              13930    ORD      Chicago, IL            15304  TPA   \n",
       "4              13487    MSP  Minneapolis, MN            14747  SEA   \n",
       "\n",
       "  dest_city_name  \n",
       "0     Dallas, TX  \n",
       "1    Detroit, MI  \n",
       "2    Chicago, IL  \n",
       "3      Tampa, FL  \n",
       "4    Seattle, WA  "
      ]
     },
     "execution_count": 84,
     "metadata": {},
     "output_type": "execute_result"
    }
   ],
   "source": [
    "locations.head()"
   ]
  },
  {
   "cell_type": "code",
   "execution_count": 87,
   "metadata": {},
   "outputs": [
    {
     "data": {
      "text/plain": [
       "375"
      ]
     },
     "execution_count": 87,
     "metadata": {},
     "output_type": "execute_result"
    }
   ],
   "source": [
    "len(locations.origin_airport_id.unique())"
   ]
  },
  {
   "cell_type": "code",
   "execution_count": 88,
   "metadata": {},
   "outputs": [
    {
     "data": {
      "text/plain": [
       "375"
      ]
     },
     "execution_count": 88,
     "metadata": {},
     "output_type": "execute_result"
    }
   ],
   "source": [
    "len(locations.dest_airport_id.unique())"
   ]
  },
  {
   "cell_type": "code",
   "execution_count": 89,
   "metadata": {},
   "outputs": [
    {
     "data": {
      "text/plain": [
       "375"
      ]
     },
     "execution_count": 89,
     "metadata": {},
     "output_type": "execute_result"
    }
   ],
   "source": [
    "len(locations.origin.unique())"
   ]
  },
  {
   "cell_type": "code",
   "execution_count": 90,
   "metadata": {},
   "outputs": [
    {
     "data": {
      "text/plain": [
       "375"
      ]
     },
     "execution_count": 90,
     "metadata": {},
     "output_type": "execute_result"
    }
   ],
   "source": [
    "len(locations.dest.unique())"
   ]
  },
  {
   "cell_type": "code",
   "execution_count": 91,
   "metadata": {},
   "outputs": [
    {
     "data": {
      "text/plain": [
       "367"
      ]
     },
     "execution_count": 91,
     "metadata": {},
     "output_type": "execute_result"
    }
   ],
   "source": [
    "len(locations.origin_city_name.unique())"
   ]
  },
  {
   "cell_type": "code",
   "execution_count": 92,
   "metadata": {},
   "outputs": [
    {
     "data": {
      "text/plain": [
       "367"
      ]
     },
     "execution_count": 92,
     "metadata": {},
     "output_type": "execute_result"
    }
   ],
   "source": [
    "len(locations.dest_city_name.unique())"
   ]
  },
  {
   "cell_type": "markdown",
   "metadata": {},
   "source": [
    ">it is evident that the origin and origin airports are unique <br> but the city names are not unique there are 8 airports that are not related to unique cities"
   ]
  },
  {
   "cell_type": "code",
   "execution_count": 114,
   "metadata": {},
   "outputs": [],
   "source": [
    "origins = locations.groupby([\"origin_city_name\", \"origin_airport_id\"], as_index=False)[\"origin\"].count()"
   ]
  },
  {
   "cell_type": "code",
   "execution_count": 115,
   "metadata": {},
   "outputs": [],
   "source": [
    "origins = origins.groupby(\"origin_city_name\")[\"origin_airport_id\"].count()"
   ]
  },
  {
   "cell_type": "code",
   "execution_count": 119,
   "metadata": {},
   "outputs": [
    {
     "data": {
      "text/plain": [
       "origin_city_name\n",
       "Grand Junction, CO    1\n",
       "Yuma, AZ              1\n",
       "Washington, DC        2\n",
       "Phoenix, AZ           2\n",
       "Houston, TX           2\n",
       "Columbus, OH          2\n",
       "Mobile, AL            2\n",
       "Williston, ND         2\n",
       "New York, NY          2\n",
       "Chicago, IL           2\n",
       "Name: origin_airport_id, dtype: int64"
      ]
     },
     "execution_count": 119,
     "metadata": {},
     "output_type": "execute_result"
    }
   ],
   "source": [
    "origins.sort_values().tail(10)"
   ]
  },
  {
   "cell_type": "markdown",
   "metadata": {},
   "source": [
    "duplicate cities \n",
    "> Washington, DC     \n",
    "<br>Phoenix, AZ           \n",
    "<br>Houston, TX           \n",
    "<br>Columbus, OH          \n",
    "<br>Mobile, AL            \n",
    "<br>Williston, ND         \n",
    "<br>New York, NY          \n",
    "<br>Chicago, IL           "
   ]
  },
  {
   "cell_type": "code",
   "execution_count": 121,
   "metadata": {},
   "outputs": [
    {
     "data": {
      "text/html": [
       "<div>\n",
       "<style scoped>\n",
       "    .dataframe tbody tr th:only-of-type {\n",
       "        vertical-align: middle;\n",
       "    }\n",
       "\n",
       "    .dataframe tbody tr th {\n",
       "        vertical-align: top;\n",
       "    }\n",
       "\n",
       "    .dataframe thead th {\n",
       "        text-align: right;\n",
       "    }\n",
       "</style>\n",
       "<table border=\"1\" class=\"dataframe\">\n",
       "  <thead>\n",
       "    <tr style=\"text-align: right;\">\n",
       "      <th></th>\n",
       "      <th>origin_airport_id</th>\n",
       "      <th>origin</th>\n",
       "      <th>origin_city_name</th>\n",
       "      <th>dest_airport_id</th>\n",
       "      <th>dest</th>\n",
       "      <th>dest_city_name</th>\n",
       "    </tr>\n",
       "  </thead>\n",
       "  <tbody>\n",
       "    <tr>\n",
       "      <th>24</th>\n",
       "      <td>12953</td>\n",
       "      <td>LGA</td>\n",
       "      <td>New York, NY</td>\n",
       "      <td>11057</td>\n",
       "      <td>CLT</td>\n",
       "      <td>Charlotte, NC</td>\n",
       "    </tr>\n",
       "    <tr>\n",
       "      <th>33</th>\n",
       "      <td>12478</td>\n",
       "      <td>JFK</td>\n",
       "      <td>New York, NY</td>\n",
       "      <td>14492</td>\n",
       "      <td>RDU</td>\n",
       "      <td>Raleigh/Durham, NC</td>\n",
       "    </tr>\n",
       "    <tr>\n",
       "      <th>46</th>\n",
       "      <td>12478</td>\n",
       "      <td>JFK</td>\n",
       "      <td>New York, NY</td>\n",
       "      <td>14576</td>\n",
       "      <td>ROC</td>\n",
       "      <td>Rochester, NY</td>\n",
       "    </tr>\n",
       "    <tr>\n",
       "      <th>59</th>\n",
       "      <td>12478</td>\n",
       "      <td>JFK</td>\n",
       "      <td>New York, NY</td>\n",
       "      <td>14831</td>\n",
       "      <td>SJC</td>\n",
       "      <td>San Jose, CA</td>\n",
       "    </tr>\n",
       "    <tr>\n",
       "      <th>77</th>\n",
       "      <td>12478</td>\n",
       "      <td>JFK</td>\n",
       "      <td>New York, NY</td>\n",
       "      <td>13930</td>\n",
       "      <td>ORD</td>\n",
       "      <td>Chicago, IL</td>\n",
       "    </tr>\n",
       "  </tbody>\n",
       "</table>\n",
       "</div>"
      ],
      "text/plain": [
       "    origin_airport_id origin origin_city_name  dest_airport_id dest  \\\n",
       "24              12953    LGA     New York, NY            11057  CLT   \n",
       "33              12478    JFK     New York, NY            14492  RDU   \n",
       "46              12478    JFK     New York, NY            14576  ROC   \n",
       "59              12478    JFK     New York, NY            14831  SJC   \n",
       "77              12478    JFK     New York, NY            13930  ORD   \n",
       "\n",
       "        dest_city_name  \n",
       "24       Charlotte, NC  \n",
       "33  Raleigh/Durham, NC  \n",
       "46       Rochester, NY  \n",
       "59        San Jose, CA  \n",
       "77         Chicago, IL  "
      ]
     },
     "execution_count": 121,
     "metadata": {},
     "output_type": "execute_result"
    }
   ],
   "source": [
    "#spot check NY\n",
    "locations[locations.origin_city_name == \"New York, NY\"].head()"
   ]
  },
  {
   "cell_type": "markdown",
   "metadata": {},
   "source": [
    "> makes sense because you have both JFK and Ligardia"
   ]
  },
  {
   "cell_type": "markdown",
   "metadata": {},
   "source": [
    "---"
   ]
  },
  {
   "cell_type": "markdown",
   "metadata": {},
   "source": [
    "Q: What is dup\n",
    "<br> A: Not relevant"
   ]
  },
  {
   "cell_type": "markdown",
   "metadata": {},
   "source": [
    "---"
   ]
  },
  {
   "cell_type": "code",
   "execution_count": 122,
   "metadata": {},
   "outputs": [],
   "source": [
    "dup = df[[\"dup\", \"arr_delay\"]]"
   ]
  },
  {
   "cell_type": "code",
   "execution_count": 124,
   "metadata": {},
   "outputs": [
    {
     "data": {
      "text/plain": [
       "array(['N'], dtype=object)"
      ]
     },
     "execution_count": 124,
     "metadata": {},
     "output_type": "execute_result"
    }
   ],
   "source": [
    "dup.dup.unique()"
   ]
  },
  {
   "cell_type": "markdown",
   "metadata": {},
   "source": [
    "---"
   ]
  },
  {
   "cell_type": "markdown",
   "metadata": {},
   "source": [
    "Q: What is flights\n",
    "<br>A: Not useful"
   ]
  },
  {
   "cell_type": "markdown",
   "metadata": {},
   "source": [
    "---"
   ]
  },
  {
   "cell_type": "code",
   "execution_count": 125,
   "metadata": {},
   "outputs": [],
   "source": [
    "flights = df[[\"flights\",\"arr_time\"]]"
   ]
  },
  {
   "cell_type": "code",
   "execution_count": 126,
   "metadata": {},
   "outputs": [
    {
     "data": {
      "text/plain": [
       "array([1.])"
      ]
     },
     "execution_count": 126,
     "metadata": {},
     "output_type": "execute_result"
    }
   ],
   "source": [
    "flights.flights.unique()"
   ]
  },
  {
   "cell_type": "markdown",
   "metadata": {},
   "source": [
    "---"
   ]
  },
  {
   "cell_type": "markdown",
   "metadata": {},
   "source": [
    "Q: How does haul length impact the delay\n",
    "<br> A:"
   ]
  },
  {
   "cell_type": "markdown",
   "metadata": {},
   "source": [
    "---"
   ]
  },
  {
   "cell_type": "code",
   "execution_count": 162,
   "metadata": {},
   "outputs": [],
   "source": [
    "def define_haul_length(distance):\n",
    "    \"\"\"Determine the haul length of a given distance\n",
    "    INPUT distance (in miles)\n",
    "    RETURNS {0: short haul, 1: medium haul, 2: long haul}\"\"\"\n",
    "    \n",
    "    if distance < 600:\n",
    "        return 0 \n",
    "    elif distance < 1500:\n",
    "        return 1\n",
    "    else: \n",
    "        return 2"
   ]
  },
  {
   "cell_type": "code",
   "execution_count": 163,
   "metadata": {},
   "outputs": [],
   "source": [
    "haul = df[[\"distance\",\"fl_date\", \"arr_delay\"]]"
   ]
  },
  {
   "cell_type": "code",
   "execution_count": 164,
   "metadata": {},
   "outputs": [
    {
     "name": "stderr",
     "output_type": "stream",
     "text": [
      "<ipython-input-164-efd4f8fc829c>:1: SettingWithCopyWarning: \n",
      "A value is trying to be set on a copy of a slice from a DataFrame.\n",
      "Try using .loc[row_indexer,col_indexer] = value instead\n",
      "\n",
      "See the caveats in the documentation: https://pandas.pydata.org/pandas-docs/stable/user_guide/indexing.html#returning-a-view-versus-a-copy\n",
      "  haul[\"haul_len\"] = haul[\"distance\"].map(define_haul_length)\n"
     ]
    }
   ],
   "source": [
    "haul[\"haul_len\"] = haul[\"distance\"].map(define_haul_length)"
   ]
  },
  {
   "cell_type": "code",
   "execution_count": 156,
   "metadata": {},
   "outputs": [
    {
     "data": {
      "text/html": [
       "<div>\n",
       "<style scoped>\n",
       "    .dataframe tbody tr th:only-of-type {\n",
       "        vertical-align: middle;\n",
       "    }\n",
       "\n",
       "    .dataframe tbody tr th {\n",
       "        vertical-align: top;\n",
       "    }\n",
       "\n",
       "    .dataframe thead th {\n",
       "        text-align: right;\n",
       "    }\n",
       "</style>\n",
       "<table border=\"1\" class=\"dataframe\">\n",
       "  <thead>\n",
       "    <tr style=\"text-align: right;\">\n",
       "      <th></th>\n",
       "      <th>distance</th>\n",
       "      <th>fl_date</th>\n",
       "      <th>arr_delay</th>\n",
       "      <th>haul_len</th>\n",
       "    </tr>\n",
       "  </thead>\n",
       "  <tbody>\n",
       "    <tr>\n",
       "      <th>0</th>\n",
       "      <td>1182.0</td>\n",
       "      <td>2018-10-04</td>\n",
       "      <td>-8.0</td>\n",
       "      <td>1</td>\n",
       "    </tr>\n",
       "    <tr>\n",
       "      <th>1</th>\n",
       "      <td>1149.0</td>\n",
       "      <td>2019-02-18</td>\n",
       "      <td>-43.0</td>\n",
       "      <td>1</td>\n",
       "    </tr>\n",
       "    <tr>\n",
       "      <th>2</th>\n",
       "      <td>343.0</td>\n",
       "      <td>2019-08-21</td>\n",
       "      <td>13.0</td>\n",
       "      <td>0</td>\n",
       "    </tr>\n",
       "    <tr>\n",
       "      <th>3</th>\n",
       "      <td>1011.0</td>\n",
       "      <td>2019-08-29</td>\n",
       "      <td>-7.0</td>\n",
       "      <td>1</td>\n",
       "    </tr>\n",
       "    <tr>\n",
       "      <th>4</th>\n",
       "      <td>1399.0</td>\n",
       "      <td>2018-02-12</td>\n",
       "      <td>7.0</td>\n",
       "      <td>1</td>\n",
       "    </tr>\n",
       "  </tbody>\n",
       "</table>\n",
       "</div>"
      ],
      "text/plain": [
       "   distance     fl_date  arr_delay  haul_len\n",
       "0    1182.0  2018-10-04       -8.0         1\n",
       "1    1149.0  2019-02-18      -43.0         1\n",
       "2     343.0  2019-08-21       13.0         0\n",
       "3    1011.0  2019-08-29       -7.0         1\n",
       "4    1399.0  2018-02-12        7.0         1"
      ]
     },
     "execution_count": 156,
     "metadata": {},
     "output_type": "execute_result"
    }
   ],
   "source": [
    "haul.head()"
   ]
  },
  {
   "cell_type": "code",
   "execution_count": 165,
   "metadata": {},
   "outputs": [],
   "source": [
    "temp = haul.groupby([\"haul_len\",\"fl_date\"],as_index=False)[\"arr_delay\"].mean().sort_values(by = \"arr_delay\", ascending=False)"
   ]
  },
  {
   "cell_type": "code",
   "execution_count": 166,
   "metadata": {},
   "outputs": [
    {
     "data": {
      "text/plain": [
       "Text(0.5, 1.0, 'Delay by haul length')"
      ]
     },
     "execution_count": 166,
     "metadata": {},
     "output_type": "execute_result"
    },
    {
     "data": {
      "image/png": "[encoded data removed]",
      "text/plain": [
       "<Figure size 432x288 with 1 Axes>"
      ]
     },
     "metadata": {
      "needs_background": "light"
     },
     "output_type": "display_data"
    }
   ],
   "source": [
    "sns.barplot(x=\"haul_len\", y=\"arr_delay\", data=temp).set_title(\"Delay by haul length\")"
   ]
  },
  {
   "cell_type": "code",
   "execution_count": 167,
   "metadata": {},
   "outputs": [
    {
     "data": {
      "text/plain": [
       "2479553"
      ]
     },
     "execution_count": 167,
     "metadata": {},
     "output_type": "execute_result"
    }
   ],
   "source": [
    "len(haul[haul.haul_len == 0])"
   ]
  },
  {
   "cell_type": "code",
   "execution_count": 168,
   "metadata": {},
   "outputs": [
    {
     "data": {
      "text/plain": [
       "1952846"
      ]
     },
     "execution_count": 168,
     "metadata": {},
     "output_type": "execute_result"
    }
   ],
   "source": [
    "len(haul[haul.haul_len == 1])"
   ]
  },
  {
   "cell_type": "code",
   "execution_count": 169,
   "metadata": {},
   "outputs": [
    {
     "data": {
      "text/plain": [
       "1952846"
      ]
     },
     "execution_count": 169,
     "metadata": {},
     "output_type": "execute_result"
    }
   ],
   "source": [
    "len(haul[haul.haul_len == 1])"
   ]
  },
  {
   "cell_type": "markdown",
   "metadata": {},
   "source": [
    "***Check Percent Cancelled***"
   ]
  },
  {
   "cell_type": "code",
   "execution_count": 170,
   "metadata": {},
   "outputs": [
    {
     "data": {
      "text/plain": [
       "0          0.0\n",
       "1          0.0\n",
       "2          0.0\n",
       "3          0.0\n",
       "4          0.0\n",
       "          ... \n",
       "4999995    0.0\n",
       "4999996    0.0\n",
       "4999997    0.0\n",
       "4999998    0.0\n",
       "4999999    0.0\n",
       "Name: cancelled, Length: 5000000, dtype: float64"
      ]
     },
     "execution_count": 170,
     "metadata": {},
     "output_type": "execute_result"
    }
   ],
   "source": [
    "df[\"cancelled\"]"
   ]
  },
  {
   "cell_type": "code",
   "execution_count": 172,
   "metadata": {},
   "outputs": [
    {
     "data": {
      "text/plain": [
       "85067"
      ]
     },
     "execution_count": 172,
     "metadata": {},
     "output_type": "execute_result"
    }
   ],
   "source": [
    "len(df[df[\"cancelled\"]==1])"
   ]
  },
  {
   "cell_type": "code",
   "execution_count": 174,
   "metadata": {},
   "outputs": [
    {
     "data": {
      "text/plain": [
       "5000000"
      ]
     },
     "execution_count": 174,
     "metadata": {},
     "output_type": "execute_result"
    }
   ],
   "source": [
    "len(df)"
   ]
  },
  {
   "cell_type": "code",
   "execution_count": 177,
   "metadata": {},
   "outputs": [
    {
     "data": {
      "text/plain": [
       "1.70134"
      ]
     },
     "execution_count": 177,
     "metadata": {},
     "output_type": "execute_result"
    }
   ],
   "source": [
    "len(df[df[\"cancelled\"]==1])/len(df)*100"
   ]
  },
  {
   "cell_type": "markdown",
   "metadata": {},
   "source": [
    "---"
   ]
  },
  {
   "cell_type": "markdown",
   "metadata": {},
   "source": [
    "***Flight Num Revisited***\n",
    "\n",
    "A number of conventions have been developed for defining flight numbers, although these vary widely from airline to airline, and are increasingly being modified. Eastbound and northbound flights are traditionally assigned even numbers, while westbound and southbound flights have odd numbers. Other airlines will use an odd number for an outbound flight and use the next even number for the reverse inbound flight. For destinations served by multiple flights per day, numbers tend to increase during the day. Hence, a flight from point A to point B might be flight 101 and the return flight from B to A would be 102, while the next pair of flights on the same route would usually be assigned codes 103 and 104.\n",
    "\n",
    "Flight numbers of less than three digits are often assigned to long-haul or otherwise premium flights. For example, flight number 1 is often used for an airline's \"flagship\" service (see below for a ‘List of flight number 1 by airlines’).\n",
    "\n",
    "Four-digit numbers in the range 3000 to 5999 typically represent regional affiliate flights, while numbers larger than 6000 are generally codeshare numbers for flights operated by different airlines or even railways.\n",
    "\n",
    "Likewise, flight numbers larger than 9000 usually refer to ferry flights; these carry no passengers and are used to relocate aircraft to or from a maintenance base, or from one air travel market to another in order to start new commercial flights. Flight numbers starting with 8 are often used for charter flights, but it always depends on the commercial carrier's choice. United, for example, usually uses flight numbers 2500-2599 as either cargo or charter flights. [link](https://en.wikipedia.org/wiki/Flight_number)"
   ]
  },
  {
   "cell_type": "code",
   "execution_count": 196,
   "metadata": {},
   "outputs": [],
   "source": [
    "flightnums = df[df.cancelled == 0]\n",
    "flightnums = df[[\"mkt_carrier_fl_num\", \"op_carrier_fl_num\", \"arr_delay\"]]"
   ]
  },
  {
   "cell_type": "code",
   "execution_count": 188,
   "metadata": {},
   "outputs": [],
   "source": [
    "def flight_type(fl_num):\n",
    "    \"\"\"Takes in a fl_num and returns the type of flight\n",
    "        INPUT fl_num\n",
    "        RETURNs flight_type \n",
    "                0 : premium, 1 : regular, 2 : regional, ferry, codeshare\"\"\"\n",
    "    fl_num = str(fl_num)\n",
    "    if len(fl_num) < 3:\n",
    "        return 0 #preimum\n",
    "    if len(fl_num) == 3:\n",
    "        return 1 #reg\n",
    "    else: \n",
    "        return 2 #regional affiliate, ferry, codeshare, etc."
   ]
  },
  {
   "cell_type": "code",
   "execution_count": 197,
   "metadata": {},
   "outputs": [
    {
     "name": "stderr",
     "output_type": "stream",
     "text": [
      "<ipython-input-197-4473a0a6be7f>:1: SettingWithCopyWarning: \n",
      "A value is trying to be set on a copy of a slice from a DataFrame.\n",
      "Try using .loc[row_indexer,col_indexer] = value instead\n",
      "\n",
      "See the caveats in the documentation: https://pandas.pydata.org/pandas-docs/stable/user_guide/indexing.html#returning-a-view-versus-a-copy\n",
      "  flightnums[\"mkt_flight_type\"] = flightnums[\"mkt_carrier_fl_num\"].map(flight_type)\n",
      "<ipython-input-197-4473a0a6be7f>:2: SettingWithCopyWarning: \n",
      "A value is trying to be set on a copy of a slice from a DataFrame.\n",
      "Try using .loc[row_indexer,col_indexer] = value instead\n",
      "\n",
      "See the caveats in the documentation: https://pandas.pydata.org/pandas-docs/stable/user_guide/indexing.html#returning-a-view-versus-a-copy\n",
      "  flightnums[\"op_flight_type\"] = flightnums[\"op_carrier_fl_num\"].map(flight_type)\n"
     ]
    }
   ],
   "source": [
    "flightnums[\"mkt_flight_type\"] = flightnums[\"mkt_carrier_fl_num\"].map(flight_type)\n",
    "flightnums[\"op_flight_type\"] = flightnums[\"op_carrier_fl_num\"].map(flight_type)"
   ]
  },
  {
   "cell_type": "code",
   "execution_count": 198,
   "metadata": {},
   "outputs": [
    {
     "data": {
      "text/plain": [
       "mkt_flight_type\n",
       "0    3.447512\n",
       "1    4.338777\n",
       "2    5.708284\n",
       "Name: arr_delay, dtype: float64"
      ]
     },
     "execution_count": 198,
     "metadata": {},
     "output_type": "execute_result"
    }
   ],
   "source": [
    "flightnums.groupby(\"mkt_flight_type\")[\"arr_delay\"].mean()"
   ]
  },
  {
   "cell_type": "code",
   "execution_count": 199,
   "metadata": {},
   "outputs": [
    {
     "data": {
      "text/plain": [
       "mkt_flight_type\n",
       "0      88516\n",
       "1    1041356\n",
       "2    3870128\n",
       "Name: arr_delay, dtype: int64"
      ]
     },
     "execution_count": 199,
     "metadata": {},
     "output_type": "execute_result"
    }
   ],
   "source": [
    "flightnums.groupby(\"mkt_flight_type\")[\"arr_delay\"].count()"
   ]
  },
  {
   "cell_type": "code",
   "execution_count": 200,
   "metadata": {},
   "outputs": [
    {
     "data": {
      "text/plain": [
       "op_flight_type\n",
       "0    3.447512\n",
       "1    4.338772\n",
       "2    5.708286\n",
       "Name: arr_delay, dtype: float64"
      ]
     },
     "execution_count": 200,
     "metadata": {},
     "output_type": "execute_result"
    }
   ],
   "source": [
    "flightnums.groupby(\"op_flight_type\")[\"arr_delay\"].mean()"
   ]
  },
  {
   "cell_type": "code",
   "execution_count": null,
   "metadata": {},
   "outputs": [],
   "source": [
    "flightnums.groupby(\"op_flight_type\")[\"arr_delay\"].mean()"
   ]
  },
  {
   "cell_type": "code",
   "execution_count": 203,
   "metadata": {},
   "outputs": [
    {
     "data": {
      "text/plain": [
       "6471"
      ]
     },
     "execution_count": 203,
     "metadata": {},
     "output_type": "execute_result"
    }
   ],
   "source": [
    "len(df.tail_num.unique())"
   ]
  },
  {
   "cell_type": "code",
   "execution_count": null,
   "metadata": {},
   "outputs": [],
   "source": []
  }
 ],
 "metadata": {
  "kernelspec": {
   "display_name": "Python 3",
   "language": "python",
   "name": "python3"
  },
  "language_info": {
   "codemirror_mode": {
    "name": "ipython",
    "version": 3
   },
   "file_extension": ".py",
   "mimetype": "text/x-python",
   "name": "python",
   "nbconvert_exporter": "python",
   "pygments_lexer": "ipython3",
   "version": "3.8.3"
  }
 },
 "nbformat": 4,
 "nbformat_minor": 4
}
