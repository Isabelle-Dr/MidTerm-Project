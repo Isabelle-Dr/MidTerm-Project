{
 "cells": [
  {
   "cell_type": "markdown",
   "metadata": {},
   "source": [
    "## Training Prep"
   ]
  },
  {
   "cell_type": "markdown",
   "metadata": {},
   "source": [
    "The purpose of this notebook is to provide test_train splits for the various models we will be working with and scale the data\n",
    "\n",
    "Notebook Input: Clean Model Input\n",
    "Notebook Output: <br>\n",
    "    - model_train.csv <br>\n",
    "    - model_test.csv <br>\n",
    "    - scaler.pkl <br>"
   ]
  },
  {
   "cell_type": "markdown",
   "metadata": {},
   "source": [
    "---"
   ]
  },
  {
   "cell_type": "markdown",
   "metadata": {},
   "source": [
    "### Import Packages"
   ]
  },
  {
   "cell_type": "code",
   "execution_count": 16,
   "metadata": {},
   "outputs": [],
   "source": [
    "import pandas as pd\n",
    "import numpy as np\n",
    "from sklearn.model_selection import train_test_split\n",
    "from sklearn.preprocessing import StandardScaler\n",
    "from pickle import dump"
   ]
  },
  {
   "cell_type": "markdown",
   "metadata": {},
   "source": [
    "---"
   ]
  },
  {
   "cell_type": "markdown",
   "metadata": {},
   "source": [
    "*import cleaned data*"
   ]
  },
  {
   "cell_type": "code",
   "execution_count": 2,
   "metadata": {},
   "outputs": [],
   "source": [
    "df = pd.read_csv(\"flights_cleaned.csv\")"
   ]
  },
  {
   "cell_type": "code",
   "execution_count": 3,
   "metadata": {},
   "outputs": [
    {
     "data": {
      "text/html": [
       "<div>\n",
       "<style scoped>\n",
       "    .dataframe tbody tr th:only-of-type {\n",
       "        vertical-align: middle;\n",
       "    }\n",
       "\n",
       "    .dataframe tbody tr th {\n",
       "        vertical-align: top;\n",
       "    }\n",
       "\n",
       "    .dataframe thead th {\n",
       "        text-align: right;\n",
       "    }\n",
       "</style>\n",
       "<table border=\"1\" class=\"dataframe\">\n",
       "  <thead>\n",
       "    <tr style=\"text-align: right;\">\n",
       "      <th></th>\n",
       "      <th>branded_code_share</th>\n",
       "      <th>crs_dep_time</th>\n",
       "      <th>crs_arr_time</th>\n",
       "      <th>arr_delay</th>\n",
       "      <th>cancelled</th>\n",
       "      <th>crs_elapsed_time</th>\n",
       "      <th>air_time</th>\n",
       "      <th>distance</th>\n",
       "      <th>carrier_delay</th>\n",
       "      <th>weather_delay</th>\n",
       "      <th>nas_delay</th>\n",
       "      <th>security_delay</th>\n",
       "      <th>late_aircraft_delay</th>\n",
       "      <th>fl_month</th>\n",
       "      <th>fl_day_of_week</th>\n",
       "      <th>fl_type</th>\n",
       "      <th>state_travel_type</th>\n",
       "      <th>origin_cat</th>\n",
       "      <th>dest_cat</th>\n",
       "      <th>mkt_op_combo_cat</th>\n",
       "    </tr>\n",
       "  </thead>\n",
       "  <tbody>\n",
       "    <tr>\n",
       "      <th>0</th>\n",
       "      <td>1</td>\n",
       "      <td>16</td>\n",
       "      <td>18</td>\n",
       "      <td>11.0</td>\n",
       "      <td>0.0</td>\n",
       "      <td>118.0</td>\n",
       "      <td>91.0</td>\n",
       "      <td>573.0</td>\n",
       "      <td>0.0</td>\n",
       "      <td>0.0</td>\n",
       "      <td>0.0</td>\n",
       "      <td>0.0</td>\n",
       "      <td>0.0</td>\n",
       "      <td>11</td>\n",
       "      <td>0</td>\n",
       "      <td>0</td>\n",
       "      <td>1</td>\n",
       "      <td>144</td>\n",
       "      <td>271</td>\n",
       "      <td>7</td>\n",
       "    </tr>\n",
       "    <tr>\n",
       "      <th>1</th>\n",
       "      <td>1</td>\n",
       "      <td>14</td>\n",
       "      <td>16</td>\n",
       "      <td>6.0</td>\n",
       "      <td>0.0</td>\n",
       "      <td>130.0</td>\n",
       "      <td>93.0</td>\n",
       "      <td>573.0</td>\n",
       "      <td>0.0</td>\n",
       "      <td>0.0</td>\n",
       "      <td>0.0</td>\n",
       "      <td>0.0</td>\n",
       "      <td>0.0</td>\n",
       "      <td>11</td>\n",
       "      <td>0</td>\n",
       "      <td>0</td>\n",
       "      <td>1</td>\n",
       "      <td>271</td>\n",
       "      <td>144</td>\n",
       "      <td>7</td>\n",
       "    </tr>\n",
       "    <tr>\n",
       "      <th>2</th>\n",
       "      <td>1</td>\n",
       "      <td>9</td>\n",
       "      <td>10</td>\n",
       "      <td>-18.0</td>\n",
       "      <td>0.0</td>\n",
       "      <td>79.0</td>\n",
       "      <td>55.0</td>\n",
       "      <td>196.0</td>\n",
       "      <td>0.0</td>\n",
       "      <td>0.0</td>\n",
       "      <td>0.0</td>\n",
       "      <td>0.0</td>\n",
       "      <td>0.0</td>\n",
       "      <td>11</td>\n",
       "      <td>0</td>\n",
       "      <td>0</td>\n",
       "      <td>1</td>\n",
       "      <td>30</td>\n",
       "      <td>271</td>\n",
       "      <td>7</td>\n",
       "    </tr>\n",
       "    <tr>\n",
       "      <th>3</th>\n",
       "      <td>1</td>\n",
       "      <td>7</td>\n",
       "      <td>8</td>\n",
       "      <td>2.0</td>\n",
       "      <td>0.0</td>\n",
       "      <td>75.0</td>\n",
       "      <td>35.0</td>\n",
       "      <td>196.0</td>\n",
       "      <td>0.0</td>\n",
       "      <td>0.0</td>\n",
       "      <td>0.0</td>\n",
       "      <td>0.0</td>\n",
       "      <td>0.0</td>\n",
       "      <td>11</td>\n",
       "      <td>0</td>\n",
       "      <td>0</td>\n",
       "      <td>1</td>\n",
       "      <td>271</td>\n",
       "      <td>30</td>\n",
       "      <td>7</td>\n",
       "    </tr>\n",
       "    <tr>\n",
       "      <th>4</th>\n",
       "      <td>1</td>\n",
       "      <td>9</td>\n",
       "      <td>10</td>\n",
       "      <td>34.0</td>\n",
       "      <td>0.0</td>\n",
       "      <td>93.0</td>\n",
       "      <td>63.0</td>\n",
       "      <td>406.0</td>\n",
       "      <td>10.0</td>\n",
       "      <td>0.0</td>\n",
       "      <td>0.0</td>\n",
       "      <td>0.0</td>\n",
       "      <td>24.0</td>\n",
       "      <td>11</td>\n",
       "      <td>0</td>\n",
       "      <td>0</td>\n",
       "      <td>1</td>\n",
       "      <td>75</td>\n",
       "      <td>271</td>\n",
       "      <td>7</td>\n",
       "    </tr>\n",
       "  </tbody>\n",
       "</table>\n",
       "</div>"
      ],
      "text/plain": [
       "   branded_code_share  crs_dep_time  crs_arr_time  arr_delay  cancelled  \\\n",
       "0                   1            16            18       11.0        0.0   \n",
       "1                   1            14            16        6.0        0.0   \n",
       "2                   1             9            10      -18.0        0.0   \n",
       "3                   1             7             8        2.0        0.0   \n",
       "4                   1             9            10       34.0        0.0   \n",
       "\n",
       "   crs_elapsed_time  air_time  distance  carrier_delay  weather_delay  \\\n",
       "0             118.0      91.0     573.0            0.0            0.0   \n",
       "1             130.0      93.0     573.0            0.0            0.0   \n",
       "2              79.0      55.0     196.0            0.0            0.0   \n",
       "3              75.0      35.0     196.0            0.0            0.0   \n",
       "4              93.0      63.0     406.0           10.0            0.0   \n",
       "\n",
       "   nas_delay  security_delay  late_aircraft_delay  fl_month  fl_day_of_week  \\\n",
       "0        0.0             0.0                  0.0        11               0   \n",
       "1        0.0             0.0                  0.0        11               0   \n",
       "2        0.0             0.0                  0.0        11               0   \n",
       "3        0.0             0.0                  0.0        11               0   \n",
       "4        0.0             0.0                 24.0        11               0   \n",
       "\n",
       "   fl_type  state_travel_type  origin_cat  dest_cat  mkt_op_combo_cat  \n",
       "0        0                  1         144       271                 7  \n",
       "1        0                  1         271       144                 7  \n",
       "2        0                  1          30       271                 7  \n",
       "3        0                  1         271        30                 7  \n",
       "4        0                  1          75       271                 7  "
      ]
     },
     "execution_count": 3,
     "metadata": {},
     "output_type": "execute_result"
    }
   ],
   "source": [
    "df.head()"
   ]
  },
  {
   "cell_type": "code",
   "execution_count": 4,
   "metadata": {},
   "outputs": [
    {
     "data": {
      "text/plain": [
       "Index(['branded_code_share', 'crs_dep_time', 'crs_arr_time', 'arr_delay',\n",
       "       'cancelled', 'crs_elapsed_time', 'air_time', 'distance',\n",
       "       'carrier_delay', 'weather_delay', 'nas_delay', 'security_delay',\n",
       "       'late_aircraft_delay', 'fl_month', 'fl_day_of_week', 'fl_type',\n",
       "       'state_travel_type', 'origin_cat', 'dest_cat', 'mkt_op_combo_cat'],\n",
       "      dtype='object')"
      ]
     },
     "execution_count": 4,
     "metadata": {},
     "output_type": "execute_result"
    }
   ],
   "source": [
    "df.columns"
   ]
  },
  {
   "cell_type": "markdown",
   "metadata": {},
   "source": [
    "*work with regression df*"
   ]
  },
  {
   "cell_type": "code",
   "execution_count": 5,
   "metadata": {},
   "outputs": [],
   "source": [
    "df_regression = df[['branded_code_share', 'crs_dep_time', 'crs_arr_time', \n",
    "                    'arr_delay','crs_elapsed_time', 'air_time', 'distance',\n",
    "                    'fl_month', 'fl_day_of_week', 'fl_type','state_travel_type',\n",
    "                    'origin_cat', 'dest_cat', 'mkt_op_combo_cat']].copy()"
   ]
  },
  {
   "cell_type": "code",
   "execution_count": 6,
   "metadata": {},
   "outputs": [
    {
     "data": {
      "text/plain": [
       "Index(['branded_code_share', 'crs_dep_time', 'crs_arr_time', 'arr_delay',\n",
       "       'crs_elapsed_time', 'air_time', 'distance', 'fl_month',\n",
       "       'fl_day_of_week', 'fl_type', 'state_travel_type', 'origin_cat',\n",
       "       'dest_cat', 'mkt_op_combo_cat'],\n",
       "      dtype='object')"
      ]
     },
     "execution_count": 6,
     "metadata": {},
     "output_type": "execute_result"
    }
   ],
   "source": [
    "df_regression.columns"
   ]
  },
  {
   "cell_type": "code",
   "execution_count": 9,
   "metadata": {},
   "outputs": [],
   "source": [
    "y_regression = df_regression.arr_delay.values"
   ]
  },
  {
   "cell_type": "code",
   "execution_count": 13,
   "metadata": {},
   "outputs": [],
   "source": [
    "X_regression = df_regression.drop(columns = [\"arr_delay\"]).values"
   ]
  },
  {
   "cell_type": "code",
   "execution_count": 15,
   "metadata": {},
   "outputs": [],
   "source": [
    "X_train_reg, X_test_reg, y_train_reg, y_test_reg = train_test_split(X_regression,\n",
    "                                                                    y_regression,\n",
    "                                                                    test_size=0.25,\n",
    "                                                                    random_state=1)"
   ]
  },
  {
   "cell_type": "code",
   "execution_count": 22,
   "metadata": {},
   "outputs": [],
   "source": [
    "scaler_r = StandardScaler()"
   ]
  },
  {
   "cell_type": "code",
   "execution_count": 23,
   "metadata": {},
   "outputs": [
    {
     "data": {
      "text/plain": [
       "StandardScaler()"
      ]
     },
     "execution_count": 23,
     "metadata": {},
     "output_type": "execute_result"
    }
   ],
   "source": [
    "scaler.fit(X_train_reg)"
   ]
  },
  {
   "cell_type": "code",
   "execution_count": 24,
   "metadata": {},
   "outputs": [],
   "source": [
    "X_train_reg_scaled = scaler.transform(X_train_reg)"
   ]
  },
  {
   "cell_type": "code",
   "execution_count": 25,
   "metadata": {},
   "outputs": [],
   "source": [
    "X_test_reg_scaled = scaler.transform(X_test_reg)"
   ]
  },
  {
   "cell_type": "code",
   "execution_count": 26,
   "metadata": {},
   "outputs": [],
   "source": [
    "#save the scaler\n",
    "dump(scaler, open('scaler_r.pkl', 'wb'))"
   ]
  },
  {
   "cell_type": "code",
   "execution_count": 32,
   "metadata": {},
   "outputs": [],
   "source": [
    "#prep train and test files\n",
    "trainX = pd.DataFrame(data = X_train_reg_scaled,\n",
    "              columns = ['branded_code_share', 'crs_dep_time', 'crs_arr_time',\n",
    "       'crs_elapsed_time', 'air_time', 'distance', 'fl_month',\n",
    "       'fl_day_of_week', 'fl_type', 'state_travel_type', 'origin_cat',\n",
    "       'dest_cat', 'mkt_op_combo_cat'])\n",
    "trainY = pd.DataFrame(data = y_train_reg,\n",
    "                     columns = ['arr_delay'])\n",
    "train = trainX.merge(trainY, right_index=True, left_index=True)"
   ]
  },
  {
   "cell_type": "code",
   "execution_count": 34,
   "metadata": {},
   "outputs": [],
   "source": [
    "testX = pd.DataFrame(data = X_test_reg_scaled,\n",
    "              columns = ['branded_code_share', 'crs_dep_time', 'crs_arr_time',\n",
    "       'crs_elapsed_time', 'air_time', 'distance', 'fl_month',\n",
    "       'fl_day_of_week', 'fl_type', 'state_travel_type', 'origin_cat',\n",
    "       'dest_cat', 'mkt_op_combo_cat'])\n",
    "testY = pd.DataFrame(data = y_test_reg,\n",
    "                     columns = ['arr_delay'])\n",
    "test = testX.merge(testY, right_index=True, left_index=True)"
   ]
  },
  {
   "cell_type": "code",
   "execution_count": 39,
   "metadata": {},
   "outputs": [],
   "source": [
    "train.to_csv(\"regression_train.csv\", index=False)\n",
    "test.to_csv(\"regression_test.csv\", index=False)"
   ]
  },
  {
   "cell_type": "code",
   "execution_count": null,
   "metadata": {},
   "outputs": [],
   "source": []
  }
 ],
 "metadata": {
  "kernelspec": {
   "display_name": "Python 3",
   "language": "python",
   "name": "python3"
  },
  "language_info": {
   "codemirror_mode": {
    "name": "ipython",
    "version": 3
   },
   "file_extension": ".py",
   "mimetype": "text/x-python",
   "name": "python",
   "nbconvert_exporter": "python",
   "pygments_lexer": "ipython3",
   "version": "3.8.3"
  }
 },
 "nbformat": 4,
 "nbformat_minor": 4
}
