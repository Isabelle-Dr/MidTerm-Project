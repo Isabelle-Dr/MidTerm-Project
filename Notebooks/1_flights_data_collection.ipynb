{
 "cells": [
  {
   "cell_type": "markdown",
   "metadata": {},
   "source": [
    "# Data Gathering\n",
    "Gather the information for the flights and flights_test tables"
   ]
  },
  {
   "cell_type": "code",
   "execution_count": 1,
   "metadata": {},
   "outputs": [],
   "source": [
    "import psycopg2"
   ]
  },
  {
   "cell_type": "code",
   "execution_count": 2,
   "metadata": {},
   "outputs": [],
   "source": [
    "import pandas as pd"
   ]
  },
  {
   "cell_type": "code",
   "execution_count": 479,
   "metadata": {},
   "outputs": [
    {
     "name": "stdout",
     "output_type": "stream",
     "text": [
      "Database opened successfully\n"
     ]
    }
   ],
   "source": [
    "con = psycopg2.connect(database=\"mid_term_project\", user=\"lhl_student\", password=\"lhl_student\", host=\"mid-term-project.ca2jkepgjpne.us-east-2.rds.amazonaws.com\", port=\"5432\")\n",
    "print(\"Database opened successfully\")"
   ]
  },
  {
   "cell_type": "code",
   "execution_count": null,
   "metadata": {},
   "outputs": [],
   "source": [
    "cur.execute(\"SELECT fl_date FROM flights\")"
   ]
  },
  {
   "cell_type": "markdown",
   "metadata": {},
   "source": [
    "***Collect the flights table***\n",
    "- Extract by carrier and export to csv"
   ]
  },
  {
   "cell_type": "code",
   "execution_count": 4,
   "metadata": {},
   "outputs": [],
   "source": [
    "df_dl = pd.read_sql(\"\"\"SELECT *\n",
    "                        FROM flights\n",
    "                        WHERE mkt_unique_carrier = 'DL' \"\"\", con\n",
    "                    )"
   ]
  },
  {
   "cell_type": "code",
   "execution_count": 7,
   "metadata": {},
   "outputs": [],
   "source": [
    "df_dl.to_csv(\"carrier_dl.csv\", index = False)"
   ]
  },
  {
   "cell_type": "code",
   "execution_count": 24,
   "metadata": {},
   "outputs": [
    {
     "data": {
      "text/plain": [
       "array(['DL', 'UA', 'WN', 'G4', 'AA', 'NK', 'HA', 'F9', 'AS', 'B6', 'VX'],\n",
       "      dtype=object)"
      ]
     },
     "execution_count": 24,
     "metadata": {},
     "output_type": "execute_result"
    }
   ],
   "source": [
    "df.mkt_unique_carrier.unique()"
   ]
  },
  {
   "cell_type": "code",
   "execution_count": 8,
   "metadata": {},
   "outputs": [],
   "source": [
    "df_WN = pd.read_sql(\"\"\"SELECT *\n",
    "                        FROM flights\n",
    "                        WHERE mkt_unique_carrier = 'WN' \"\"\", con\n",
    "                    )"
   ]
  },
  {
   "cell_type": "code",
   "execution_count": 10,
   "metadata": {},
   "outputs": [],
   "source": [
    "df_WN.to_csv(\"carrier_WN.csv\", index=False)"
   ]
  },
  {
   "cell_type": "code",
   "execution_count": 11,
   "metadata": {},
   "outputs": [],
   "source": [
    "df_UA = pd.read_sql(\"\"\"SELECT *\n",
    "                        FROM flights\n",
    "                        WHERE mkt_unique_carrier = 'UA' \"\"\", con\n",
    "                    )"
   ]
  },
  {
   "cell_type": "code",
   "execution_count": 14,
   "metadata": {},
   "outputs": [],
   "source": [
    "df_UA.to_csv(\"carrier_UA.csv\", index=False)"
   ]
  },
  {
   "cell_type": "code",
   "execution_count": 15,
   "metadata": {},
   "outputs": [],
   "source": [
    "df_G4 = pd.read_sql(\"\"\"SELECT *\n",
    "                        FROM flights\n",
    "                        WHERE mkt_unique_carrier = 'G4' \"\"\", con\n",
    "                    )"
   ]
  },
  {
   "cell_type": "code",
   "execution_count": 17,
   "metadata": {},
   "outputs": [],
   "source": [
    "df_G4.to_csv(\"carrier_G4.csv\", index = False)"
   ]
  },
  {
   "cell_type": "code",
   "execution_count": 18,
   "metadata": {},
   "outputs": [],
   "source": [
    "df_AA = pd.read_sql(\"\"\"SELECT *\n",
    "                        FROM flights\n",
    "                        WHERE mkt_unique_carrier = 'AA' \"\"\", con\n",
    "                    )"
   ]
  },
  {
   "cell_type": "code",
   "execution_count": 20,
   "metadata": {},
   "outputs": [],
   "source": [
    "df_AA.to_csv(\"carrier_AA.csv\", index = False)"
   ]
  },
  {
   "cell_type": "code",
   "execution_count": 21,
   "metadata": {},
   "outputs": [],
   "source": [
    "df_NK = pd.read_sql(\"\"\"SELECT *\n",
    "                        FROM flights\n",
    "                        WHERE mkt_unique_carrier = 'NK' \"\"\", con\n",
    "                    )"
   ]
  },
  {
   "cell_type": "code",
   "execution_count": 22,
   "metadata": {},
   "outputs": [],
   "source": [
    "df_NK.to_csv(\"carrier_NK.csv\", index = False)"
   ]
  },
  {
   "cell_type": "code",
   "execution_count": 23,
   "metadata": {},
   "outputs": [],
   "source": [
    "df_HA = pd.read_sql(\"\"\"SELECT *\n",
    "                        FROM flights\n",
    "                        WHERE mkt_unique_carrier = 'HA' \"\"\", con\n",
    "                    )"
   ]
  },
  {
   "cell_type": "code",
   "execution_count": 24,
   "metadata": {},
   "outputs": [],
   "source": [
    "df_HA.to_csv(\"carrier_HA.csv\" , index = False)"
   ]
  },
  {
   "cell_type": "code",
   "execution_count": 25,
   "metadata": {},
   "outputs": [],
   "source": [
    "df_F9 = pd.read_sql(\"\"\"SELECT *\n",
    "                        FROM flights\n",
    "                        WHERE mkt_unique_carrier = 'F9' \"\"\", con\n",
    "                    )"
   ]
  },
  {
   "cell_type": "code",
   "execution_count": 26,
   "metadata": {},
   "outputs": [],
   "source": [
    "df_F9.to_csv(\"carrier_F9.csv\", index = False)"
   ]
  },
  {
   "cell_type": "code",
   "execution_count": 27,
   "metadata": {},
   "outputs": [],
   "source": [
    "df_AS = pd.read_sql(\"\"\"SELECT *\n",
    "                        FROM flights\n",
    "                        WHERE mkt_unique_carrier = 'AS' \"\"\", con\n",
    "                    )"
   ]
  },
  {
   "cell_type": "code",
   "execution_count": 28,
   "metadata": {},
   "outputs": [],
   "source": [
    "df_AS.to_csv(\"carrier_AS.csv\", index = False)"
   ]
  },
  {
   "cell_type": "code",
   "execution_count": 29,
   "metadata": {},
   "outputs": [],
   "source": [
    "df_B6 = pd.read_sql(\"\"\"SELECT *\n",
    "                        FROM flights\n",
    "                        WHERE mkt_unique_carrier = 'B6' \"\"\", con\n",
    "                    )"
   ]
  },
  {
   "cell_type": "code",
   "execution_count": 30,
   "metadata": {},
   "outputs": [],
   "source": [
    "df_B6.to_csv(\"carrier_B6.csv\", index = False)"
   ]
  },
  {
   "cell_type": "code",
   "execution_count": 31,
   "metadata": {},
   "outputs": [],
   "source": [
    "df_VX = pd.read_sql(\"\"\"SELECT *\n",
    "                        FROM flights\n",
    "                        WHERE mkt_unique_carrier = 'VX' \"\"\", con\n",
    "                    )"
   ]
  },
  {
   "cell_type": "code",
   "execution_count": 33,
   "metadata": {},
   "outputs": [],
   "source": [
    "df_VX.to_csv(\"carrier_VX.csv\", index=False)"
   ]
  },
  {
   "cell_type": "code",
   "execution_count": 34,
   "metadata": {},
   "outputs": [],
   "source": [
    "df = pd.read_sql(\"\"\"SELECT mkt_unique_carrier\n",
    "                        FROM flights\"\"\", con\n",
    "                    )"
   ]
  },
  {
   "cell_type": "code",
   "execution_count": 36,
   "metadata": {},
   "outputs": [],
   "source": [
    "df = pd.read_sql(\"\"\"SELECT mkt_unique_carrier, COUNT(fl_date)\n",
    "                        FROM flights_test \n",
    "                        GROUP BY mkt_unique_carrier\"\"\", con\n",
    "                    )"
   ]
  },
  {
   "cell_type": "code",
   "execution_count": 37,
   "metadata": {},
   "outputs": [
    {
     "data": {
      "text/html": [
       "<div>\n",
       "<style scoped>\n",
       "    .dataframe tbody tr th:only-of-type {\n",
       "        vertical-align: middle;\n",
       "    }\n",
       "\n",
       "    .dataframe tbody tr th {\n",
       "        vertical-align: top;\n",
       "    }\n",
       "\n",
       "    .dataframe thead th {\n",
       "        text-align: right;\n",
       "    }\n",
       "</style>\n",
       "<table border=\"1\" class=\"dataframe\">\n",
       "  <thead>\n",
       "    <tr style=\"text-align: right;\">\n",
       "      <th></th>\n",
       "      <th>mkt_unique_carrier</th>\n",
       "      <th>count</th>\n",
       "    </tr>\n",
       "  </thead>\n",
       "  <tbody>\n",
       "    <tr>\n",
       "      <th>0</th>\n",
       "      <td>AA</td>\n",
       "      <td>172420</td>\n",
       "    </tr>\n",
       "    <tr>\n",
       "      <th>1</th>\n",
       "      <td>AS</td>\n",
       "      <td>36197</td>\n",
       "    </tr>\n",
       "    <tr>\n",
       "      <th>2</th>\n",
       "      <td>B6</td>\n",
       "      <td>24709</td>\n",
       "    </tr>\n",
       "    <tr>\n",
       "      <th>3</th>\n",
       "      <td>DL</td>\n",
       "      <td>143649</td>\n",
       "    </tr>\n",
       "    <tr>\n",
       "      <th>4</th>\n",
       "      <td>F9</td>\n",
       "      <td>12467</td>\n",
       "    </tr>\n",
       "    <tr>\n",
       "      <th>5</th>\n",
       "      <td>G4</td>\n",
       "      <td>7774</td>\n",
       "    </tr>\n",
       "    <tr>\n",
       "      <th>6</th>\n",
       "      <td>HA</td>\n",
       "      <td>7787</td>\n",
       "    </tr>\n",
       "    <tr>\n",
       "      <th>7</th>\n",
       "      <td>NK</td>\n",
       "      <td>17477</td>\n",
       "    </tr>\n",
       "    <tr>\n",
       "      <th>8</th>\n",
       "      <td>UA</td>\n",
       "      <td>128306</td>\n",
       "    </tr>\n",
       "    <tr>\n",
       "      <th>9</th>\n",
       "      <td>WN</td>\n",
       "      <td>109770</td>\n",
       "    </tr>\n",
       "  </tbody>\n",
       "</table>\n",
       "</div>"
      ],
      "text/plain": [
       "  mkt_unique_carrier   count\n",
       "0                 AA  172420\n",
       "1                 AS   36197\n",
       "2                 B6   24709\n",
       "3                 DL  143649\n",
       "4                 F9   12467\n",
       "5                 G4    7774\n",
       "6                 HA    7787\n",
       "7                 NK   17477\n",
       "8                 UA  128306\n",
       "9                 WN  109770"
      ]
     },
     "execution_count": 37,
     "metadata": {},
     "output_type": "execute_result"
    }
   ],
   "source": [
    "df"
   ]
  },
  {
   "cell_type": "markdown",
   "metadata": {},
   "source": [
    "***Collect the flights table***\n",
    "- Extract by carrier and export to csv"
   ]
  },
  {
   "cell_type": "code",
   "execution_count": 39,
   "metadata": {},
   "outputs": [],
   "source": [
    "df_test_AA = pd.read_sql(\"\"\"SELECT *\n",
    "                            FROM flights_test\n",
    "                            WHERE mkt_unique_carrier = 'AA'\"\"\",con)"
   ]
  },
  {
   "cell_type": "code",
   "execution_count": 42,
   "metadata": {},
   "outputs": [],
   "source": [
    "df_test_AA.to_csv(\"AA_test.csv\", index=False)"
   ]
  },
  {
   "cell_type": "code",
   "execution_count": 43,
   "metadata": {},
   "outputs": [],
   "source": [
    "df_test_AS = pd.read_sql(\"\"\"SELECT *\n",
    "                            FROM flights_test\n",
    "                            WHERE mkt_unique_carrier = 'AS'\"\"\",con)"
   ]
  },
  {
   "cell_type": "code",
   "execution_count": 44,
   "metadata": {},
   "outputs": [],
   "source": [
    "df_test_AS.to_csv(\"AS_test.csv\", index=False)"
   ]
  },
  {
   "cell_type": "code",
   "execution_count": 45,
   "metadata": {},
   "outputs": [],
   "source": [
    "df_test_B6 = pd.read_sql(\"\"\"SELECT *\n",
    "                            FROM flights_test\n",
    "                            WHERE mkt_unique_carrier = 'B6'\"\"\",con)"
   ]
  },
  {
   "cell_type": "code",
   "execution_count": 482,
   "metadata": {},
   "outputs": [],
   "source": [
    "df_test_B6.to_csv(\"B6_test.csv\", index=False)"
   ]
  },
  {
   "cell_type": "code",
   "execution_count": 47,
   "metadata": {},
   "outputs": [],
   "source": [
    "df_test_DL = pd.read_sql(\"\"\"SELECT *\n",
    "                            FROM flights_test\n",
    "                            WHERE mkt_unique_carrier = 'DL'\"\"\",con)"
   ]
  },
  {
   "cell_type": "code",
   "execution_count": 483,
   "metadata": {},
   "outputs": [],
   "source": [
    "df_test_DL.to_csv(\"DL_test.csv\", index=False)"
   ]
  },
  {
   "cell_type": "code",
   "execution_count": 49,
   "metadata": {},
   "outputs": [],
   "source": [
    "df_test_F9 = pd.read_sql(\"\"\"SELECT *\n",
    "                            FROM flights_test\n",
    "                            WHERE mkt_unique_carrier = 'F9'\"\"\",con)"
   ]
  },
  {
   "cell_type": "code",
   "execution_count": 50,
   "metadata": {},
   "outputs": [],
   "source": [
    "df_test_F9.to_csv(\"F9_test.csv\", index=False)"
   ]
  },
  {
   "cell_type": "code",
   "execution_count": 51,
   "metadata": {},
   "outputs": [],
   "source": [
    "df_test_G4 = pd.read_sql(\"\"\"SELECT *\n",
    "                            FROM flights_test\n",
    "                            WHERE mkt_unique_carrier = 'G4'\"\"\",con)"
   ]
  },
  {
   "cell_type": "code",
   "execution_count": 52,
   "metadata": {},
   "outputs": [],
   "source": [
    "df_test_G4.to_csv(\"G4_test.csv\", index=False)"
   ]
  },
  {
   "cell_type": "code",
   "execution_count": 53,
   "metadata": {},
   "outputs": [],
   "source": [
    "df_test_HA = pd.read_sql(\"\"\"SELECT *\n",
    "                            FROM flights_test\n",
    "                            WHERE mkt_unique_carrier = 'HA'\"\"\",con)"
   ]
  },
  {
   "cell_type": "code",
   "execution_count": 54,
   "metadata": {},
   "outputs": [],
   "source": [
    "df_test_HA.to_csv(\"HA_test.csv\", index=False)"
   ]
  },
  {
   "cell_type": "code",
   "execution_count": 55,
   "metadata": {},
   "outputs": [],
   "source": [
    "df_test_NK = pd.read_sql(\"\"\"SELECT *\n",
    "                            FROM flights_test\n",
    "                            WHERE mkt_unique_carrier = 'NK'\"\"\",con)"
   ]
  },
  {
   "cell_type": "code",
   "execution_count": 56,
   "metadata": {},
   "outputs": [],
   "source": [
    "df_test_NK.to_csv(\"NK_test.csv\", index=False)"
   ]
  },
  {
   "cell_type": "code",
   "execution_count": 57,
   "metadata": {},
   "outputs": [],
   "source": [
    "df_test_UA = pd.read_sql(\"\"\"SELECT *\n",
    "                            FROM flights_test\n",
    "                            WHERE mkt_unique_carrier = 'UA'\"\"\",con)"
   ]
  },
  {
   "cell_type": "code",
   "execution_count": 58,
   "metadata": {},
   "outputs": [],
   "source": [
    "df_test_UA.to_csv(\"UA_test.csv\", index=False)"
   ]
  },
  {
   "cell_type": "code",
   "execution_count": 59,
   "metadata": {},
   "outputs": [],
   "source": [
    "df_test_WN = pd.read_sql(\"\"\"SELECT *\n",
    "                            FROM flights_test\n",
    "                            WHERE mkt_unique_carrier = 'WN'\"\"\",con)"
   ]
  },
  {
   "cell_type": "code",
   "execution_count": 60,
   "metadata": {},
   "outputs": [],
   "source": [
    "df_test_WN.to_csv(\"WN_test.csv\", index=False)"
   ]
  },
  {
   "cell_type": "code",
   "execution_count": 480,
   "metadata": {},
   "outputs": [],
   "source": [
    "df_test_VX = pd.read_sql(\"\"\"SELECT *\n",
    "                            FROM flights_test\n",
    "                            WHERE mkt_unique_carrier = 'VX'\"\"\",con)"
   ]
  },
  {
   "cell_type": "markdown",
   "metadata": {},
   "source": [
    "***Complete Preliminary Data Exploration***\n",
    "- work with a single carrier\n",
    "- explore null values"
   ]
  },
  {
   "cell_type": "code",
   "execution_count": 61,
   "metadata": {},
   "outputs": [
    {
     "data": {
      "text/plain": [
       "(2713963, 42)"
      ]
     },
     "execution_count": 61,
     "metadata": {},
     "output_type": "execute_result"
    }
   ],
   "source": [
    "df_WN.shape"
   ]
  },
  {
   "cell_type": "code",
   "execution_count": 74,
   "metadata": {},
   "outputs": [
    {
     "data": {
      "text/plain": [
       "Index(['fl_date', 'mkt_unique_carrier', 'branded_code_share', 'mkt_carrier',\n",
       "       'mkt_carrier_fl_num', 'op_unique_carrier', 'tail_num',\n",
       "       'op_carrier_fl_num', 'origin_airport_id', 'origin', 'origin_city_name',\n",
       "       'dest_airport_id', 'dest', 'dest_city_name', 'crs_dep_time', 'dep_time',\n",
       "       'dep_delay', 'taxi_out', 'wheels_off', 'wheels_on', 'taxi_in',\n",
       "       'crs_arr_time', 'arr_time', 'arr_delay', 'cancelled',\n",
       "       'cancellation_code', 'diverted', 'dup', 'crs_elapsed_time',\n",
       "       'actual_elapsed_time', 'air_time', 'flights', 'distance',\n",
       "       'carrier_delay', 'weather_delay', 'nas_delay', 'security_delay',\n",
       "       'late_aircraft_delay', 'first_dep_time', 'total_add_gtime',\n",
       "       'longest_add_gtime', 'no_name'],\n",
       "      dtype='object')"
      ]
     },
     "execution_count": 74,
     "metadata": {},
     "output_type": "execute_result"
    }
   ],
   "source": [
    "df_WN.columns"
   ]
  },
  {
   "cell_type": "code",
   "execution_count": 449,
   "metadata": {},
   "outputs": [],
   "source": [
    "temp = df_VX[df_VX.weather_delay.isnull()==True]"
   ]
  },
  {
   "cell_type": "code",
   "execution_count": 450,
   "metadata": {},
   "outputs": [],
   "source": [
    "tmep = temp[[\"dep_delay\", \"arr_delay\", \"cancelled\",\"carrier_delay\", \"weather_delay\", \"nas_delay\", \"security_delay\", \"late_aircraft_delay\"]]"
   ]
  },
  {
   "cell_type": "code",
   "execution_count": 451,
   "metadata": {},
   "outputs": [],
   "source": [
    "t_can = tmep[tmep.cancelled == 1]\n",
    "t_not = tmep[tmep.cancelled == 0]"
   ]
  },
  {
   "cell_type": "code",
   "execution_count": 452,
   "metadata": {},
   "outputs": [],
   "source": [
    "t_not_out = t_not.sort_values(by = \"dep_delay\", ascending = False)"
   ]
  },
  {
   "cell_type": "code",
   "execution_count": 453,
   "metadata": {},
   "outputs": [
    {
     "data": {
      "text/html": [
       "<div>\n",
       "<style scoped>\n",
       "    .dataframe tbody tr th:only-of-type {\n",
       "        vertical-align: middle;\n",
       "    }\n",
       "\n",
       "    .dataframe tbody tr th {\n",
       "        vertical-align: top;\n",
       "    }\n",
       "\n",
       "    .dataframe thead th {\n",
       "        text-align: right;\n",
       "    }\n",
       "</style>\n",
       "<table border=\"1\" class=\"dataframe\">\n",
       "  <thead>\n",
       "    <tr style=\"text-align: right;\">\n",
       "      <th></th>\n",
       "      <th>dep_delay</th>\n",
       "      <th>arr_delay</th>\n",
       "      <th>cancelled</th>\n",
       "      <th>carrier_delay</th>\n",
       "      <th>weather_delay</th>\n",
       "      <th>nas_delay</th>\n",
       "      <th>security_delay</th>\n",
       "      <th>late_aircraft_delay</th>\n",
       "    </tr>\n",
       "  </thead>\n",
       "  <tbody>\n",
       "    <tr>\n",
       "      <th>14947</th>\n",
       "      <td>101.0</td>\n",
       "      <td>NaN</td>\n",
       "      <td>0.0</td>\n",
       "      <td>NaN</td>\n",
       "      <td>NaN</td>\n",
       "      <td>NaN</td>\n",
       "      <td>NaN</td>\n",
       "      <td>NaN</td>\n",
       "    </tr>\n",
       "    <tr>\n",
       "      <th>14870</th>\n",
       "      <td>59.0</td>\n",
       "      <td>14.0</td>\n",
       "      <td>0.0</td>\n",
       "      <td>NaN</td>\n",
       "      <td>NaN</td>\n",
       "      <td>NaN</td>\n",
       "      <td>NaN</td>\n",
       "      <td>NaN</td>\n",
       "    </tr>\n",
       "    <tr>\n",
       "      <th>8721</th>\n",
       "      <td>58.0</td>\n",
       "      <td>13.0</td>\n",
       "      <td>0.0</td>\n",
       "      <td>NaN</td>\n",
       "      <td>NaN</td>\n",
       "      <td>NaN</td>\n",
       "      <td>NaN</td>\n",
       "      <td>NaN</td>\n",
       "    </tr>\n",
       "    <tr>\n",
       "      <th>8566</th>\n",
       "      <td>55.0</td>\n",
       "      <td>12.0</td>\n",
       "      <td>0.0</td>\n",
       "      <td>NaN</td>\n",
       "      <td>NaN</td>\n",
       "      <td>NaN</td>\n",
       "      <td>NaN</td>\n",
       "      <td>NaN</td>\n",
       "    </tr>\n",
       "    <tr>\n",
       "      <th>10528</th>\n",
       "      <td>54.0</td>\n",
       "      <td>14.0</td>\n",
       "      <td>0.0</td>\n",
       "      <td>NaN</td>\n",
       "      <td>NaN</td>\n",
       "      <td>NaN</td>\n",
       "      <td>NaN</td>\n",
       "      <td>NaN</td>\n",
       "    </tr>\n",
       "    <tr>\n",
       "      <th>17185</th>\n",
       "      <td>54.0</td>\n",
       "      <td>5.0</td>\n",
       "      <td>0.0</td>\n",
       "      <td>NaN</td>\n",
       "      <td>NaN</td>\n",
       "      <td>NaN</td>\n",
       "      <td>NaN</td>\n",
       "      <td>NaN</td>\n",
       "    </tr>\n",
       "    <tr>\n",
       "      <th>9503</th>\n",
       "      <td>53.0</td>\n",
       "      <td>NaN</td>\n",
       "      <td>0.0</td>\n",
       "      <td>NaN</td>\n",
       "      <td>NaN</td>\n",
       "      <td>NaN</td>\n",
       "      <td>NaN</td>\n",
       "      <td>NaN</td>\n",
       "    </tr>\n",
       "    <tr>\n",
       "      <th>10345</th>\n",
       "      <td>53.0</td>\n",
       "      <td>10.0</td>\n",
       "      <td>0.0</td>\n",
       "      <td>NaN</td>\n",
       "      <td>NaN</td>\n",
       "      <td>NaN</td>\n",
       "      <td>NaN</td>\n",
       "      <td>NaN</td>\n",
       "    </tr>\n",
       "    <tr>\n",
       "      <th>15156</th>\n",
       "      <td>53.0</td>\n",
       "      <td>6.0</td>\n",
       "      <td>0.0</td>\n",
       "      <td>NaN</td>\n",
       "      <td>NaN</td>\n",
       "      <td>NaN</td>\n",
       "      <td>NaN</td>\n",
       "      <td>NaN</td>\n",
       "    </tr>\n",
       "    <tr>\n",
       "      <th>10360</th>\n",
       "      <td>51.0</td>\n",
       "      <td>11.0</td>\n",
       "      <td>0.0</td>\n",
       "      <td>NaN</td>\n",
       "      <td>NaN</td>\n",
       "      <td>NaN</td>\n",
       "      <td>NaN</td>\n",
       "      <td>NaN</td>\n",
       "    </tr>\n",
       "    <tr>\n",
       "      <th>8142</th>\n",
       "      <td>50.0</td>\n",
       "      <td>NaN</td>\n",
       "      <td>0.0</td>\n",
       "      <td>NaN</td>\n",
       "      <td>NaN</td>\n",
       "      <td>NaN</td>\n",
       "      <td>NaN</td>\n",
       "      <td>NaN</td>\n",
       "    </tr>\n",
       "    <tr>\n",
       "      <th>4637</th>\n",
       "      <td>50.0</td>\n",
       "      <td>6.0</td>\n",
       "      <td>0.0</td>\n",
       "      <td>NaN</td>\n",
       "      <td>NaN</td>\n",
       "      <td>NaN</td>\n",
       "      <td>NaN</td>\n",
       "      <td>NaN</td>\n",
       "    </tr>\n",
       "    <tr>\n",
       "      <th>10913</th>\n",
       "      <td>50.0</td>\n",
       "      <td>7.0</td>\n",
       "      <td>0.0</td>\n",
       "      <td>NaN</td>\n",
       "      <td>NaN</td>\n",
       "      <td>NaN</td>\n",
       "      <td>NaN</td>\n",
       "      <td>NaN</td>\n",
       "    </tr>\n",
       "    <tr>\n",
       "      <th>12664</th>\n",
       "      <td>49.0</td>\n",
       "      <td>11.0</td>\n",
       "      <td>0.0</td>\n",
       "      <td>NaN</td>\n",
       "      <td>NaN</td>\n",
       "      <td>NaN</td>\n",
       "      <td>NaN</td>\n",
       "      <td>NaN</td>\n",
       "    </tr>\n",
       "    <tr>\n",
       "      <th>7336</th>\n",
       "      <td>48.0</td>\n",
       "      <td>NaN</td>\n",
       "      <td>0.0</td>\n",
       "      <td>NaN</td>\n",
       "      <td>NaN</td>\n",
       "      <td>NaN</td>\n",
       "      <td>NaN</td>\n",
       "      <td>NaN</td>\n",
       "    </tr>\n",
       "  </tbody>\n",
       "</table>\n",
       "</div>"
      ],
      "text/plain": [
       "       dep_delay  arr_delay  cancelled  carrier_delay  weather_delay  \\\n",
       "14947      101.0        NaN        0.0            NaN            NaN   \n",
       "14870       59.0       14.0        0.0            NaN            NaN   \n",
       "8721        58.0       13.0        0.0            NaN            NaN   \n",
       "8566        55.0       12.0        0.0            NaN            NaN   \n",
       "10528       54.0       14.0        0.0            NaN            NaN   \n",
       "17185       54.0        5.0        0.0            NaN            NaN   \n",
       "9503        53.0        NaN        0.0            NaN            NaN   \n",
       "10345       53.0       10.0        0.0            NaN            NaN   \n",
       "15156       53.0        6.0        0.0            NaN            NaN   \n",
       "10360       51.0       11.0        0.0            NaN            NaN   \n",
       "8142        50.0        NaN        0.0            NaN            NaN   \n",
       "4637        50.0        6.0        0.0            NaN            NaN   \n",
       "10913       50.0        7.0        0.0            NaN            NaN   \n",
       "12664       49.0       11.0        0.0            NaN            NaN   \n",
       "7336        48.0        NaN        0.0            NaN            NaN   \n",
       "\n",
       "       nas_delay  security_delay  late_aircraft_delay  \n",
       "14947        NaN             NaN                  NaN  \n",
       "14870        NaN             NaN                  NaN  \n",
       "8721         NaN             NaN                  NaN  \n",
       "8566         NaN             NaN                  NaN  \n",
       "10528        NaN             NaN                  NaN  \n",
       "17185        NaN             NaN                  NaN  \n",
       "9503         NaN             NaN                  NaN  \n",
       "10345        NaN             NaN                  NaN  \n",
       "15156        NaN             NaN                  NaN  \n",
       "10360        NaN             NaN                  NaN  \n",
       "8142         NaN             NaN                  NaN  \n",
       "4637         NaN             NaN                  NaN  \n",
       "10913        NaN             NaN                  NaN  \n",
       "12664        NaN             NaN                  NaN  \n",
       "7336         NaN             NaN                  NaN  "
      ]
     },
     "execution_count": 453,
     "metadata": {},
     "output_type": "execute_result"
    }
   ],
   "source": [
    "t_not_out.head(15)"
   ]
  },
  {
   "cell_type": "code",
   "execution_count": 454,
   "metadata": {},
   "outputs": [
    {
     "name": "stdout",
     "output_type": "stream",
     "text": [
      "Max Not Cancelled dep_delay:  101.0\n",
      "Max Not Cancelled arr_delay:  14.0\n",
      "Max Cancelled dep_delay:  180.0\n",
      "Max Cancelled arr_delay:  nan\n"
     ]
    }
   ],
   "source": [
    "print(\"Max Not Cancelled dep_delay: \", t_not.dep_delay.max())\n",
    "print(\"Max Not Cancelled arr_delay: \", t_not.arr_delay.max())\n",
    "print(\"Max Cancelled dep_delay: \", t_can.dep_delay.max())\n",
    "print(\"Max Cancelled arr_delay: \", t_can.arr_delay.max())"
   ]
  },
  {
   "cell_type": "code",
   "execution_count": 434,
   "metadata": {},
   "outputs": [],
   "source": [
    "temp = df_B6[df_B6.weather_delay.isnull()==False]"
   ]
  },
  {
   "cell_type": "code",
   "execution_count": 435,
   "metadata": {},
   "outputs": [],
   "source": [
    "tmep = temp[[\"dep_delay\", \"arr_delay\", \"cancelled\",\"carrier_delay\", \"weather_delay\", \"nas_delay\", \"security_delay\", \"late_aircraft_delay\"]]"
   ]
  },
  {
   "cell_type": "code",
   "execution_count": 436,
   "metadata": {},
   "outputs": [],
   "source": [
    "t_not = tmep[tmep.cancelled == 0]"
   ]
  },
  {
   "cell_type": "code",
   "execution_count": 438,
   "metadata": {},
   "outputs": [
    {
     "data": {
      "text/html": [
       "<div>\n",
       "<style scoped>\n",
       "    .dataframe tbody tr th:only-of-type {\n",
       "        vertical-align: middle;\n",
       "    }\n",
       "\n",
       "    .dataframe tbody tr th {\n",
       "        vertical-align: top;\n",
       "    }\n",
       "\n",
       "    .dataframe thead th {\n",
       "        text-align: right;\n",
       "    }\n",
       "</style>\n",
       "<table border=\"1\" class=\"dataframe\">\n",
       "  <thead>\n",
       "    <tr style=\"text-align: right;\">\n",
       "      <th></th>\n",
       "      <th>dep_delay</th>\n",
       "      <th>arr_delay</th>\n",
       "      <th>cancelled</th>\n",
       "      <th>carrier_delay</th>\n",
       "      <th>weather_delay</th>\n",
       "      <th>nas_delay</th>\n",
       "      <th>security_delay</th>\n",
       "      <th>late_aircraft_delay</th>\n",
       "    </tr>\n",
       "  </thead>\n",
       "  <tbody>\n",
       "    <tr>\n",
       "      <th>66555</th>\n",
       "      <td>-23.0</td>\n",
       "      <td>28.0</td>\n",
       "      <td>0.0</td>\n",
       "      <td>0.0</td>\n",
       "      <td>0.0</td>\n",
       "      <td>28.0</td>\n",
       "      <td>0.0</td>\n",
       "      <td>0.0</td>\n",
       "    </tr>\n",
       "    <tr>\n",
       "      <th>368884</th>\n",
       "      <td>-23.0</td>\n",
       "      <td>31.0</td>\n",
       "      <td>0.0</td>\n",
       "      <td>0.0</td>\n",
       "      <td>0.0</td>\n",
       "      <td>31.0</td>\n",
       "      <td>0.0</td>\n",
       "      <td>0.0</td>\n",
       "    </tr>\n",
       "    <tr>\n",
       "      <th>175743</th>\n",
       "      <td>-22.0</td>\n",
       "      <td>29.0</td>\n",
       "      <td>0.0</td>\n",
       "      <td>0.0</td>\n",
       "      <td>0.0</td>\n",
       "      <td>29.0</td>\n",
       "      <td>0.0</td>\n",
       "      <td>0.0</td>\n",
       "    </tr>\n",
       "    <tr>\n",
       "      <th>267320</th>\n",
       "      <td>-21.0</td>\n",
       "      <td>26.0</td>\n",
       "      <td>0.0</td>\n",
       "      <td>0.0</td>\n",
       "      <td>0.0</td>\n",
       "      <td>26.0</td>\n",
       "      <td>0.0</td>\n",
       "      <td>0.0</td>\n",
       "    </tr>\n",
       "    <tr>\n",
       "      <th>65668</th>\n",
       "      <td>-20.0</td>\n",
       "      <td>75.0</td>\n",
       "      <td>0.0</td>\n",
       "      <td>0.0</td>\n",
       "      <td>0.0</td>\n",
       "      <td>75.0</td>\n",
       "      <td>0.0</td>\n",
       "      <td>0.0</td>\n",
       "    </tr>\n",
       "    <tr>\n",
       "      <th>...</th>\n",
       "      <td>...</td>\n",
       "      <td>...</td>\n",
       "      <td>...</td>\n",
       "      <td>...</td>\n",
       "      <td>...</td>\n",
       "      <td>...</td>\n",
       "      <td>...</td>\n",
       "      <td>...</td>\n",
       "    </tr>\n",
       "    <tr>\n",
       "      <th>594650</th>\n",
       "      <td>1489.0</td>\n",
       "      <td>1473.0</td>\n",
       "      <td>0.0</td>\n",
       "      <td>1125.0</td>\n",
       "      <td>0.0</td>\n",
       "      <td>0.0</td>\n",
       "      <td>0.0</td>\n",
       "      <td>348.0</td>\n",
       "    </tr>\n",
       "    <tr>\n",
       "      <th>569004</th>\n",
       "      <td>1507.0</td>\n",
       "      <td>1501.0</td>\n",
       "      <td>0.0</td>\n",
       "      <td>1501.0</td>\n",
       "      <td>0.0</td>\n",
       "      <td>0.0</td>\n",
       "      <td>0.0</td>\n",
       "      <td>0.0</td>\n",
       "    </tr>\n",
       "    <tr>\n",
       "      <th>111638</th>\n",
       "      <td>1594.0</td>\n",
       "      <td>1624.0</td>\n",
       "      <td>0.0</td>\n",
       "      <td>1594.0</td>\n",
       "      <td>0.0</td>\n",
       "      <td>30.0</td>\n",
       "      <td>0.0</td>\n",
       "      <td>0.0</td>\n",
       "    </tr>\n",
       "    <tr>\n",
       "      <th>290362</th>\n",
       "      <td>1600.0</td>\n",
       "      <td>1596.0</td>\n",
       "      <td>0.0</td>\n",
       "      <td>1596.0</td>\n",
       "      <td>0.0</td>\n",
       "      <td>0.0</td>\n",
       "      <td>0.0</td>\n",
       "      <td>0.0</td>\n",
       "    </tr>\n",
       "    <tr>\n",
       "      <th>56965</th>\n",
       "      <td>1769.0</td>\n",
       "      <td>1756.0</td>\n",
       "      <td>0.0</td>\n",
       "      <td>1756.0</td>\n",
       "      <td>0.0</td>\n",
       "      <td>0.0</td>\n",
       "      <td>0.0</td>\n",
       "      <td>0.0</td>\n",
       "    </tr>\n",
       "  </tbody>\n",
       "</table>\n",
       "<p>155441 rows × 8 columns</p>\n",
       "</div>"
      ],
      "text/plain": [
       "        dep_delay  arr_delay  cancelled  carrier_delay  weather_delay  \\\n",
       "66555       -23.0       28.0        0.0            0.0            0.0   \n",
       "368884      -23.0       31.0        0.0            0.0            0.0   \n",
       "175743      -22.0       29.0        0.0            0.0            0.0   \n",
       "267320      -21.0       26.0        0.0            0.0            0.0   \n",
       "65668       -20.0       75.0        0.0            0.0            0.0   \n",
       "...           ...        ...        ...            ...            ...   \n",
       "594650     1489.0     1473.0        0.0         1125.0            0.0   \n",
       "569004     1507.0     1501.0        0.0         1501.0            0.0   \n",
       "111638     1594.0     1624.0        0.0         1594.0            0.0   \n",
       "290362     1600.0     1596.0        0.0         1596.0            0.0   \n",
       "56965      1769.0     1756.0        0.0         1756.0            0.0   \n",
       "\n",
       "        nas_delay  security_delay  late_aircraft_delay  \n",
       "66555        28.0             0.0                  0.0  \n",
       "368884       31.0             0.0                  0.0  \n",
       "175743       29.0             0.0                  0.0  \n",
       "267320       26.0             0.0                  0.0  \n",
       "65668        75.0             0.0                  0.0  \n",
       "...           ...             ...                  ...  \n",
       "594650        0.0             0.0                348.0  \n",
       "569004        0.0             0.0                  0.0  \n",
       "111638       30.0             0.0                  0.0  \n",
       "290362        0.0             0.0                  0.0  \n",
       "56965         0.0             0.0                  0.0  \n",
       "\n",
       "[155441 rows x 8 columns]"
      ]
     },
     "execution_count": 438,
     "metadata": {},
     "output_type": "execute_result"
    }
   ],
   "source": [
    "t_not.sort_values(by=\"dep_delay\")"
   ]
  },
  {
   "cell_type": "code",
   "execution_count": 350,
   "metadata": {},
   "outputs": [
    {
     "data": {
      "text/plain": [
       "array([0.])"
      ]
     },
     "execution_count": 350,
     "metadata": {},
     "output_type": "execute_result"
    }
   ],
   "source": [
    "tt.cancelled.unique()"
   ]
  },
  {
   "cell_type": "code",
   "execution_count": 444,
   "metadata": {},
   "outputs": [],
   "source": [
    "def delete_no_name (df):\n",
    "    df = df.drop(\"no_name\", axis=1)\n",
    "    return df"
   ]
  },
  {
   "cell_type": "code",
   "execution_count": 446,
   "metadata": {},
   "outputs": [
    {
     "data": {
      "text/html": [
       "<div>\n",
       "<style scoped>\n",
       "    .dataframe tbody tr th:only-of-type {\n",
       "        vertical-align: middle;\n",
       "    }\n",
       "\n",
       "    .dataframe tbody tr th {\n",
       "        vertical-align: top;\n",
       "    }\n",
       "\n",
       "    .dataframe thead th {\n",
       "        text-align: right;\n",
       "    }\n",
       "</style>\n",
       "<table border=\"1\" class=\"dataframe\">\n",
       "  <thead>\n",
       "    <tr style=\"text-align: right;\">\n",
       "      <th></th>\n",
       "      <th>fl_date</th>\n",
       "      <th>mkt_unique_carrier</th>\n",
       "      <th>branded_code_share</th>\n",
       "      <th>mkt_carrier</th>\n",
       "      <th>mkt_carrier_fl_num</th>\n",
       "      <th>op_unique_carrier</th>\n",
       "      <th>tail_num</th>\n",
       "      <th>op_carrier_fl_num</th>\n",
       "      <th>origin_airport_id</th>\n",
       "      <th>origin</th>\n",
       "      <th>...</th>\n",
       "      <th>flights</th>\n",
       "      <th>distance</th>\n",
       "      <th>carrier_delay</th>\n",
       "      <th>weather_delay</th>\n",
       "      <th>nas_delay</th>\n",
       "      <th>security_delay</th>\n",
       "      <th>late_aircraft_delay</th>\n",
       "      <th>first_dep_time</th>\n",
       "      <th>total_add_gtime</th>\n",
       "      <th>longest_add_gtime</th>\n",
       "    </tr>\n",
       "  </thead>\n",
       "  <tbody>\n",
       "    <tr>\n",
       "      <th>0</th>\n",
       "      <td>2018-11-26</td>\n",
       "      <td>AA</td>\n",
       "      <td>AA_CODESHARE</td>\n",
       "      <td>AA</td>\n",
       "      <td>4814</td>\n",
       "      <td>PT</td>\n",
       "      <td>N695AE</td>\n",
       "      <td>4814</td>\n",
       "      <td>11986</td>\n",
       "      <td>GRR</td>\n",
       "      <td>...</td>\n",
       "      <td>1.0</td>\n",
       "      <td>573.0</td>\n",
       "      <td>NaN</td>\n",
       "      <td>NaN</td>\n",
       "      <td>NaN</td>\n",
       "      <td>NaN</td>\n",
       "      <td>NaN</td>\n",
       "      <td>None</td>\n",
       "      <td>NaN</td>\n",
       "      <td>NaN</td>\n",
       "    </tr>\n",
       "    <tr>\n",
       "      <th>1</th>\n",
       "      <td>2018-11-26</td>\n",
       "      <td>AA</td>\n",
       "      <td>AA_CODESHARE</td>\n",
       "      <td>AA</td>\n",
       "      <td>4814</td>\n",
       "      <td>PT</td>\n",
       "      <td>N695AE</td>\n",
       "      <td>4814</td>\n",
       "      <td>14100</td>\n",
       "      <td>PHL</td>\n",
       "      <td>...</td>\n",
       "      <td>1.0</td>\n",
       "      <td>573.0</td>\n",
       "      <td>NaN</td>\n",
       "      <td>NaN</td>\n",
       "      <td>NaN</td>\n",
       "      <td>NaN</td>\n",
       "      <td>NaN</td>\n",
       "      <td>None</td>\n",
       "      <td>NaN</td>\n",
       "      <td>NaN</td>\n",
       "    </tr>\n",
       "    <tr>\n",
       "      <th>2</th>\n",
       "      <td>2018-11-26</td>\n",
       "      <td>AA</td>\n",
       "      <td>AA_CODESHARE</td>\n",
       "      <td>AA</td>\n",
       "      <td>4815</td>\n",
       "      <td>PT</td>\n",
       "      <td>N659AE</td>\n",
       "      <td>4815</td>\n",
       "      <td>10529</td>\n",
       "      <td>BDL</td>\n",
       "      <td>...</td>\n",
       "      <td>1.0</td>\n",
       "      <td>196.0</td>\n",
       "      <td>NaN</td>\n",
       "      <td>NaN</td>\n",
       "      <td>NaN</td>\n",
       "      <td>NaN</td>\n",
       "      <td>NaN</td>\n",
       "      <td>None</td>\n",
       "      <td>NaN</td>\n",
       "      <td>NaN</td>\n",
       "    </tr>\n",
       "    <tr>\n",
       "      <th>3</th>\n",
       "      <td>2018-11-26</td>\n",
       "      <td>AA</td>\n",
       "      <td>AA_CODESHARE</td>\n",
       "      <td>AA</td>\n",
       "      <td>4815</td>\n",
       "      <td>PT</td>\n",
       "      <td>N659AE</td>\n",
       "      <td>4815</td>\n",
       "      <td>14100</td>\n",
       "      <td>PHL</td>\n",
       "      <td>...</td>\n",
       "      <td>1.0</td>\n",
       "      <td>196.0</td>\n",
       "      <td>NaN</td>\n",
       "      <td>NaN</td>\n",
       "      <td>NaN</td>\n",
       "      <td>NaN</td>\n",
       "      <td>NaN</td>\n",
       "      <td>None</td>\n",
       "      <td>NaN</td>\n",
       "      <td>NaN</td>\n",
       "    </tr>\n",
       "    <tr>\n",
       "      <th>4</th>\n",
       "      <td>2018-11-26</td>\n",
       "      <td>AA</td>\n",
       "      <td>AA_CODESHARE</td>\n",
       "      <td>AA</td>\n",
       "      <td>4816</td>\n",
       "      <td>PT</td>\n",
       "      <td>N640AE</td>\n",
       "      <td>4816</td>\n",
       "      <td>11066</td>\n",
       "      <td>CMH</td>\n",
       "      <td>...</td>\n",
       "      <td>1.0</td>\n",
       "      <td>406.0</td>\n",
       "      <td>10.0</td>\n",
       "      <td>0.0</td>\n",
       "      <td>0.0</td>\n",
       "      <td>0.0</td>\n",
       "      <td>24.0</td>\n",
       "      <td>None</td>\n",
       "      <td>NaN</td>\n",
       "      <td>NaN</td>\n",
       "    </tr>\n",
       "  </tbody>\n",
       "</table>\n",
       "<p>5 rows × 41 columns</p>\n",
       "</div>"
      ],
      "text/plain": [
       "      fl_date mkt_unique_carrier branded_code_share mkt_carrier  \\\n",
       "0  2018-11-26                 AA       AA_CODESHARE          AA   \n",
       "1  2018-11-26                 AA       AA_CODESHARE          AA   \n",
       "2  2018-11-26                 AA       AA_CODESHARE          AA   \n",
       "3  2018-11-26                 AA       AA_CODESHARE          AA   \n",
       "4  2018-11-26                 AA       AA_CODESHARE          AA   \n",
       "\n",
       "   mkt_carrier_fl_num op_unique_carrier tail_num  op_carrier_fl_num  \\\n",
       "0                4814                PT   N695AE               4814   \n",
       "1                4814                PT   N695AE               4814   \n",
       "2                4815                PT   N659AE               4815   \n",
       "3                4815                PT   N659AE               4815   \n",
       "4                4816                PT   N640AE               4816   \n",
       "\n",
       "   origin_airport_id origin  ... flights  distance carrier_delay  \\\n",
       "0              11986    GRR  ...     1.0     573.0           NaN   \n",
       "1              14100    PHL  ...     1.0     573.0           NaN   \n",
       "2              10529    BDL  ...     1.0     196.0           NaN   \n",
       "3              14100    PHL  ...     1.0     196.0           NaN   \n",
       "4              11066    CMH  ...     1.0     406.0          10.0   \n",
       "\n",
       "  weather_delay  nas_delay  security_delay  late_aircraft_delay  \\\n",
       "0           NaN        NaN             NaN                  NaN   \n",
       "1           NaN        NaN             NaN                  NaN   \n",
       "2           NaN        NaN             NaN                  NaN   \n",
       "3           NaN        NaN             NaN                  NaN   \n",
       "4           0.0        0.0             0.0                 24.0   \n",
       "\n",
       "   first_dep_time  total_add_gtime  longest_add_gtime  \n",
       "0            None              NaN                NaN  \n",
       "1            None              NaN                NaN  \n",
       "2            None              NaN                NaN  \n",
       "3            None              NaN                NaN  \n",
       "4            None              NaN                NaN  \n",
       "\n",
       "[5 rows x 41 columns]"
      ]
     },
     "execution_count": 446,
     "metadata": {},
     "output_type": "execute_result"
    }
   ],
   "source": [
    "df_AA = delete_no_name(df_AA)\n",
    "df_AA.head()"
   ]
  },
  {
   "cell_type": "code",
   "execution_count": 447,
   "metadata": {},
   "outputs": [],
   "source": [
    "df_AS = delete_no_name(df_AS)\n",
    "df_B6 = delete_no_name(df_B6)\n",
    "df_DL = delete_no_name(df_dl)\n",
    "df_F9 = delete_no_name(df_F9)\n",
    "df_G4 = delete_no_name(df_G4)\n",
    "df_HA = delete_no_name(df_HA)\n",
    "df_NK = delete_no_name(df_NK)\n",
    "df_UA = delete_no_name(df_UA)\n",
    "df_WN = delete_no_name(df_WN)"
   ]
  },
  {
   "cell_type": "code",
   "execution_count": 448,
   "metadata": {},
   "outputs": [],
   "source": [
    "df_DL.to_csv(\"carrier_dl.csv\", index = False)\n",
    "df_AA.to_csv(\"carrier_AA.csv\", index = False)\n",
    "df_AS.to_csv(\"carrier_AS.csv\", index = False)\n",
    "df_B6.to_csv(\"carrier_B6.csv\", index = False)\n",
    "df_F9.to_csv(\"carrier_F9.csv\", index = False)\n",
    "df_G4.to_csv(\"carrier_G4.csv\", index = False)\n",
    "df_HA.to_csv(\"carrier_HA.csv\", index = False)\n",
    "df_NK.to_csv(\"carrier_NK.csv\", index = False)\n",
    "df_UA.to_csv(\"carrier_UA.csv\", index = False)\n",
    "df_WN.to_csv(\"carrier_WN.csv\", index = False)"
   ]
  },
  {
   "cell_type": "code",
   "execution_count": 455,
   "metadata": {},
   "outputs": [],
   "source": [
    "df_VX = delete_no_name(df_VX)\n",
    "df_VX.to_csv(\"carrier_VX.csv\", index = False)"
   ]
  },
  {
   "cell_type": "code",
   "execution_count": 478,
   "metadata": {},
   "outputs": [
    {
     "name": "stdout",
     "output_type": "stream",
     "text": [
      "<class 'pandas.core.frame.DataFrame'>\n",
      "RangeIndex: 109770 entries, 0 to 109769\n",
      "Data columns (total 20 columns):\n",
      " #   Column              Non-Null Count   Dtype         \n",
      "---  ------              --------------   -----         \n",
      " 0   fl_date             109770 non-null  datetime64[ns]\n",
      " 1   mkt_unique_carrier  109770 non-null  object        \n",
      " 2   branded_code_share  109770 non-null  object        \n",
      " 3   mkt_carrier         109770 non-null  object        \n",
      " 4   mkt_carrier_fl_num  109770 non-null  int64         \n",
      " 5   op_unique_carrier   109770 non-null  object        \n",
      " 6   tail_num            109674 non-null  object        \n",
      " 7   op_carrier_fl_num   109770 non-null  int64         \n",
      " 8   origin_airport_id   109770 non-null  int64         \n",
      " 9   origin              109770 non-null  object        \n",
      " 10  origin_city_name    109770 non-null  object        \n",
      " 11  dest_airport_id     109770 non-null  int64         \n",
      " 12  dest                109770 non-null  object        \n",
      " 13  dest_city_name      109770 non-null  object        \n",
      " 14  crs_dep_time        109770 non-null  int64         \n",
      " 15  crs_arr_time        109770 non-null  int64         \n",
      " 16  dup                 109770 non-null  object        \n",
      " 17  crs_elapsed_time    109770 non-null  int64         \n",
      " 18  flights             109770 non-null  int64         \n",
      " 19  distance            109770 non-null  int64         \n",
      "dtypes: datetime64[ns](1), int64(9), object(10)\n",
      "memory usage: 16.7+ MB\n"
     ]
    }
   ],
   "source": [
    "df_test_WN.info()"
   ]
  },
  {
   "cell_type": "code",
   "execution_count": 484,
   "metadata": {},
   "outputs": [
    {
     "data": {
      "text/html": [
       "<div>\n",
       "<style scoped>\n",
       "    .dataframe tbody tr th:only-of-type {\n",
       "        vertical-align: middle;\n",
       "    }\n",
       "\n",
       "    .dataframe tbody tr th {\n",
       "        vertical-align: top;\n",
       "    }\n",
       "\n",
       "    .dataframe thead th {\n",
       "        text-align: right;\n",
       "    }\n",
       "</style>\n",
       "<table border=\"1\" class=\"dataframe\">\n",
       "  <thead>\n",
       "    <tr style=\"text-align: right;\">\n",
       "      <th></th>\n",
       "      <th>fl_date</th>\n",
       "      <th>mkt_unique_carrier</th>\n",
       "      <th>branded_code_share</th>\n",
       "      <th>mkt_carrier</th>\n",
       "      <th>mkt_carrier_fl_num</th>\n",
       "      <th>op_unique_carrier</th>\n",
       "      <th>tail_num</th>\n",
       "      <th>op_carrier_fl_num</th>\n",
       "      <th>origin_airport_id</th>\n",
       "      <th>origin</th>\n",
       "      <th>...</th>\n",
       "      <th>flights</th>\n",
       "      <th>distance</th>\n",
       "      <th>carrier_delay</th>\n",
       "      <th>weather_delay</th>\n",
       "      <th>nas_delay</th>\n",
       "      <th>security_delay</th>\n",
       "      <th>late_aircraft_delay</th>\n",
       "      <th>first_dep_time</th>\n",
       "      <th>total_add_gtime</th>\n",
       "      <th>longest_add_gtime</th>\n",
       "    </tr>\n",
       "  </thead>\n",
       "  <tbody>\n",
       "    <tr>\n",
       "      <th>2</th>\n",
       "      <td>2019-06-14</td>\n",
       "      <td>WN</td>\n",
       "      <td>WN</td>\n",
       "      <td>WN</td>\n",
       "      <td>1020</td>\n",
       "      <td>WN</td>\n",
       "      <td>N707SA</td>\n",
       "      <td>1020</td>\n",
       "      <td>14893</td>\n",
       "      <td>SMF</td>\n",
       "      <td>...</td>\n",
       "      <td>1.0</td>\n",
       "      <td>909.0</td>\n",
       "      <td>4.0</td>\n",
       "      <td>0.0</td>\n",
       "      <td>8.0</td>\n",
       "      <td>0.0</td>\n",
       "      <td>3.0</td>\n",
       "      <td>None</td>\n",
       "      <td>NaN</td>\n",
       "      <td>NaN</td>\n",
       "    </tr>\n",
       "    <tr>\n",
       "      <th>5</th>\n",
       "      <td>2019-06-14</td>\n",
       "      <td>WN</td>\n",
       "      <td>WN</td>\n",
       "      <td>WN</td>\n",
       "      <td>600</td>\n",
       "      <td>WN</td>\n",
       "      <td>N550WN</td>\n",
       "      <td>600</td>\n",
       "      <td>14893</td>\n",
       "      <td>SMF</td>\n",
       "      <td>...</td>\n",
       "      <td>1.0</td>\n",
       "      <td>397.0</td>\n",
       "      <td>8.0</td>\n",
       "      <td>0.0</td>\n",
       "      <td>0.0</td>\n",
       "      <td>0.0</td>\n",
       "      <td>21.0</td>\n",
       "      <td>None</td>\n",
       "      <td>NaN</td>\n",
       "      <td>NaN</td>\n",
       "    </tr>\n",
       "    <tr>\n",
       "      <th>8</th>\n",
       "      <td>2019-06-14</td>\n",
       "      <td>WN</td>\n",
       "      <td>WN</td>\n",
       "      <td>WN</td>\n",
       "      <td>2484</td>\n",
       "      <td>WN</td>\n",
       "      <td>N912WN</td>\n",
       "      <td>2484</td>\n",
       "      <td>14893</td>\n",
       "      <td>SMF</td>\n",
       "      <td>...</td>\n",
       "      <td>1.0</td>\n",
       "      <td>397.0</td>\n",
       "      <td>0.0</td>\n",
       "      <td>0.0</td>\n",
       "      <td>11.0</td>\n",
       "      <td>0.0</td>\n",
       "      <td>7.0</td>\n",
       "      <td>None</td>\n",
       "      <td>NaN</td>\n",
       "      <td>NaN</td>\n",
       "    </tr>\n",
       "    <tr>\n",
       "      <th>9</th>\n",
       "      <td>2019-06-14</td>\n",
       "      <td>WN</td>\n",
       "      <td>WN</td>\n",
       "      <td>WN</td>\n",
       "      <td>2538</td>\n",
       "      <td>WN</td>\n",
       "      <td>N247WN</td>\n",
       "      <td>2538</td>\n",
       "      <td>14893</td>\n",
       "      <td>SMF</td>\n",
       "      <td>...</td>\n",
       "      <td>1.0</td>\n",
       "      <td>397.0</td>\n",
       "      <td>8.0</td>\n",
       "      <td>0.0</td>\n",
       "      <td>0.0</td>\n",
       "      <td>0.0</td>\n",
       "      <td>9.0</td>\n",
       "      <td>None</td>\n",
       "      <td>NaN</td>\n",
       "      <td>NaN</td>\n",
       "    </tr>\n",
       "    <tr>\n",
       "      <th>17</th>\n",
       "      <td>2019-06-14</td>\n",
       "      <td>WN</td>\n",
       "      <td>WN</td>\n",
       "      <td>WN</td>\n",
       "      <td>1292</td>\n",
       "      <td>WN</td>\n",
       "      <td>N404WN</td>\n",
       "      <td>1292</td>\n",
       "      <td>14893</td>\n",
       "      <td>SMF</td>\n",
       "      <td>...</td>\n",
       "      <td>1.0</td>\n",
       "      <td>373.0</td>\n",
       "      <td>4.0</td>\n",
       "      <td>0.0</td>\n",
       "      <td>2.0</td>\n",
       "      <td>0.0</td>\n",
       "      <td>34.0</td>\n",
       "      <td>None</td>\n",
       "      <td>NaN</td>\n",
       "      <td>NaN</td>\n",
       "    </tr>\n",
       "    <tr>\n",
       "      <th>...</th>\n",
       "      <td>...</td>\n",
       "      <td>...</td>\n",
       "      <td>...</td>\n",
       "      <td>...</td>\n",
       "      <td>...</td>\n",
       "      <td>...</td>\n",
       "      <td>...</td>\n",
       "      <td>...</td>\n",
       "      <td>...</td>\n",
       "      <td>...</td>\n",
       "      <td>...</td>\n",
       "      <td>...</td>\n",
       "      <td>...</td>\n",
       "      <td>...</td>\n",
       "      <td>...</td>\n",
       "      <td>...</td>\n",
       "      <td>...</td>\n",
       "      <td>...</td>\n",
       "      <td>...</td>\n",
       "      <td>...</td>\n",
       "      <td>...</td>\n",
       "    </tr>\n",
       "    <tr>\n",
       "      <th>2713926</th>\n",
       "      <td>2019-06-13</td>\n",
       "      <td>WN</td>\n",
       "      <td>WN</td>\n",
       "      <td>WN</td>\n",
       "      <td>984</td>\n",
       "      <td>WN</td>\n",
       "      <td>N7717D</td>\n",
       "      <td>984</td>\n",
       "      <td>13796</td>\n",
       "      <td>OAK</td>\n",
       "      <td>...</td>\n",
       "      <td>1.0</td>\n",
       "      <td>957.0</td>\n",
       "      <td>10.0</td>\n",
       "      <td>0.0</td>\n",
       "      <td>14.0</td>\n",
       "      <td>0.0</td>\n",
       "      <td>0.0</td>\n",
       "      <td>None</td>\n",
       "      <td>NaN</td>\n",
       "      <td>NaN</td>\n",
       "    </tr>\n",
       "    <tr>\n",
       "      <th>2713929</th>\n",
       "      <td>2019-06-13</td>\n",
       "      <td>WN</td>\n",
       "      <td>WN</td>\n",
       "      <td>WN</td>\n",
       "      <td>1853</td>\n",
       "      <td>WN</td>\n",
       "      <td>N440LV</td>\n",
       "      <td>1853</td>\n",
       "      <td>13796</td>\n",
       "      <td>OAK</td>\n",
       "      <td>...</td>\n",
       "      <td>1.0</td>\n",
       "      <td>723.0</td>\n",
       "      <td>24.0</td>\n",
       "      <td>0.0</td>\n",
       "      <td>12.0</td>\n",
       "      <td>0.0</td>\n",
       "      <td>0.0</td>\n",
       "      <td>None</td>\n",
       "      <td>NaN</td>\n",
       "      <td>NaN</td>\n",
       "    </tr>\n",
       "    <tr>\n",
       "      <th>2713938</th>\n",
       "      <td>2019-06-13</td>\n",
       "      <td>WN</td>\n",
       "      <td>WN</td>\n",
       "      <td>WN</td>\n",
       "      <td>713</td>\n",
       "      <td>WN</td>\n",
       "      <td>N8510E</td>\n",
       "      <td>713</td>\n",
       "      <td>13796</td>\n",
       "      <td>OAK</td>\n",
       "      <td>...</td>\n",
       "      <td>1.0</td>\n",
       "      <td>407.0</td>\n",
       "      <td>15.0</td>\n",
       "      <td>0.0</td>\n",
       "      <td>0.0</td>\n",
       "      <td>0.0</td>\n",
       "      <td>1.0</td>\n",
       "      <td>None</td>\n",
       "      <td>NaN</td>\n",
       "      <td>NaN</td>\n",
       "    </tr>\n",
       "    <tr>\n",
       "      <th>2713941</th>\n",
       "      <td>2019-06-13</td>\n",
       "      <td>WN</td>\n",
       "      <td>WN</td>\n",
       "      <td>WN</td>\n",
       "      <td>2044</td>\n",
       "      <td>WN</td>\n",
       "      <td>N449WN</td>\n",
       "      <td>2044</td>\n",
       "      <td>13796</td>\n",
       "      <td>OAK</td>\n",
       "      <td>...</td>\n",
       "      <td>1.0</td>\n",
       "      <td>407.0</td>\n",
       "      <td>6.0</td>\n",
       "      <td>0.0</td>\n",
       "      <td>0.0</td>\n",
       "      <td>0.0</td>\n",
       "      <td>115.0</td>\n",
       "      <td>None</td>\n",
       "      <td>NaN</td>\n",
       "      <td>NaN</td>\n",
       "    </tr>\n",
       "    <tr>\n",
       "      <th>2713952</th>\n",
       "      <td>2019-06-13</td>\n",
       "      <td>WN</td>\n",
       "      <td>WN</td>\n",
       "      <td>WN</td>\n",
       "      <td>2345</td>\n",
       "      <td>WN</td>\n",
       "      <td>N775SW</td>\n",
       "      <td>2345</td>\n",
       "      <td>13796</td>\n",
       "      <td>OAK</td>\n",
       "      <td>...</td>\n",
       "      <td>1.0</td>\n",
       "      <td>337.0</td>\n",
       "      <td>16.0</td>\n",
       "      <td>0.0</td>\n",
       "      <td>0.0</td>\n",
       "      <td>0.0</td>\n",
       "      <td>0.0</td>\n",
       "      <td>None</td>\n",
       "      <td>NaN</td>\n",
       "      <td>NaN</td>\n",
       "    </tr>\n",
       "  </tbody>\n",
       "</table>\n",
       "<p>493459 rows × 41 columns</p>\n",
       "</div>"
      ],
      "text/plain": [
       "            fl_date mkt_unique_carrier branded_code_share mkt_carrier  \\\n",
       "2        2019-06-14                 WN                 WN          WN   \n",
       "5        2019-06-14                 WN                 WN          WN   \n",
       "8        2019-06-14                 WN                 WN          WN   \n",
       "9        2019-06-14                 WN                 WN          WN   \n",
       "17       2019-06-14                 WN                 WN          WN   \n",
       "...             ...                ...                ...         ...   \n",
       "2713926  2019-06-13                 WN                 WN          WN   \n",
       "2713929  2019-06-13                 WN                 WN          WN   \n",
       "2713938  2019-06-13                 WN                 WN          WN   \n",
       "2713941  2019-06-13                 WN                 WN          WN   \n",
       "2713952  2019-06-13                 WN                 WN          WN   \n",
       "\n",
       "         mkt_carrier_fl_num op_unique_carrier tail_num  op_carrier_fl_num  \\\n",
       "2                      1020                WN   N707SA               1020   \n",
       "5                       600                WN   N550WN                600   \n",
       "8                      2484                WN   N912WN               2484   \n",
       "9                      2538                WN   N247WN               2538   \n",
       "17                     1292                WN   N404WN               1292   \n",
       "...                     ...               ...      ...                ...   \n",
       "2713926                 984                WN   N7717D                984   \n",
       "2713929                1853                WN   N440LV               1853   \n",
       "2713938                 713                WN   N8510E                713   \n",
       "2713941                2044                WN   N449WN               2044   \n",
       "2713952                2345                WN   N775SW               2345   \n",
       "\n",
       "         origin_airport_id origin  ... flights  distance carrier_delay  \\\n",
       "2                    14893    SMF  ...     1.0     909.0           4.0   \n",
       "5                    14893    SMF  ...     1.0     397.0           8.0   \n",
       "8                    14893    SMF  ...     1.0     397.0           0.0   \n",
       "9                    14893    SMF  ...     1.0     397.0           8.0   \n",
       "17                   14893    SMF  ...     1.0     373.0           4.0   \n",
       "...                    ...    ...  ...     ...       ...           ...   \n",
       "2713926              13796    OAK  ...     1.0     957.0          10.0   \n",
       "2713929              13796    OAK  ...     1.0     723.0          24.0   \n",
       "2713938              13796    OAK  ...     1.0     407.0          15.0   \n",
       "2713941              13796    OAK  ...     1.0     407.0           6.0   \n",
       "2713952              13796    OAK  ...     1.0     337.0          16.0   \n",
       "\n",
       "        weather_delay  nas_delay  security_delay  late_aircraft_delay  \\\n",
       "2                 0.0        8.0             0.0                  3.0   \n",
       "5                 0.0        0.0             0.0                 21.0   \n",
       "8                 0.0       11.0             0.0                  7.0   \n",
       "9                 0.0        0.0             0.0                  9.0   \n",
       "17                0.0        2.0             0.0                 34.0   \n",
       "...               ...        ...             ...                  ...   \n",
       "2713926           0.0       14.0             0.0                  0.0   \n",
       "2713929           0.0       12.0             0.0                  0.0   \n",
       "2713938           0.0        0.0             0.0                  1.0   \n",
       "2713941           0.0        0.0             0.0                115.0   \n",
       "2713952           0.0        0.0             0.0                  0.0   \n",
       "\n",
       "         first_dep_time  total_add_gtime  longest_add_gtime  \n",
       "2                  None              NaN                NaN  \n",
       "5                  None              NaN                NaN  \n",
       "8                  None              NaN                NaN  \n",
       "9                  None              NaN                NaN  \n",
       "17                 None              NaN                NaN  \n",
       "...                 ...              ...                ...  \n",
       "2713926            None              NaN                NaN  \n",
       "2713929            None              NaN                NaN  \n",
       "2713938            None              NaN                NaN  \n",
       "2713941            None              NaN                NaN  \n",
       "2713952            None              NaN                NaN  \n",
       "\n",
       "[493459 rows x 41 columns]"
      ]
     },
     "execution_count": 484,
     "metadata": {},
     "output_type": "execute_result"
    }
   ],
   "source": [
    "df_WN[df_WN.arr_delay > 14]"
   ]
  },
  {
   "cell_type": "code",
   "execution_count": null,
   "metadata": {},
   "outputs": [],
   "source": []
  }
 ],
 "metadata": {
  "kernelspec": {
   "display_name": "Python 3",
   "language": "python",
   "name": "python3"
  },
  "language_info": {
   "codemirror_mode": {
    "name": "ipython",
    "version": 3
   },
   "file_extension": ".py",
   "mimetype": "text/x-python",
   "name": "python",
   "nbconvert_exporter": "python",
   "pygments_lexer": "ipython3",
   "version": "3.8.3"
  }
 },
 "nbformat": 4,
 "nbformat_minor": 4
}
