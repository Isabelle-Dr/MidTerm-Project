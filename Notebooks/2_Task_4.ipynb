{
 "cells": [
  {
   "cell_type": "markdown",
   "metadata": {},
   "source": [
    "### Task 4\n",
    "How taxi times changing during the day? Does higher traffic lead to bigger taxi times?"
   ]
  },
  {
   "cell_type": "markdown",
   "metadata": {},
   "source": [
    "***What's Happening***\n",
    "- An increase in Taxi Time that varies with the hour of the day indicates that taxi supply cannot meet taxi demand. There are different scenarios that could cause this:\n",
    "    - if you have less staff on at night (thus less taxis available) and demand remains at a similar level regardless of time then we would have a case of *supply < demand*\n",
    "    - if you have increased demand at certain times which surpasses the number of taxis available at the airport then we would have a case of *demand > supply*\n",
    "\n",
    "***Strategy***\n",
    "- bin the flights by hour of the day they depart (both scheduled and actual)\n",
    "- determine if the flight frequency is consistent across the day\n",
    "- determine the mean and median taxi time throughout the day\n",
    "- repeat for arrival times with taxi in\n"
   ]
  },
  {
   "cell_type": "markdown",
   "metadata": {},
   "source": [
    "---"
   ]
  },
  {
   "cell_type": "markdown",
   "metadata": {},
   "source": [
    "**INPUT**: data with nulls removed"
   ]
  },
  {
   "cell_type": "markdown",
   "metadata": {},
   "source": [
    "---"
   ]
  },
  {
   "cell_type": "code",
   "execution_count": 256,
   "metadata": {},
   "outputs": [],
   "source": [
    "#import packages\n",
    "import pandas as pd\n",
    "import matplotlib.pyplot as plt\n",
    "import seaborn as sns\n",
    "import scipy.stats as st"
   ]
  },
  {
   "cell_type": "code",
   "execution_count": 219,
   "metadata": {},
   "outputs": [],
   "source": [
    "import warnings\n",
    "warnings.filterwarnings('ignore')"
   ]
  },
  {
   "cell_type": "code",
   "execution_count": 2,
   "metadata": {},
   "outputs": [],
   "source": [
    "df = pd.read_csv(\"flight_sample_small.csv\")"
   ]
  },
  {
   "cell_type": "code",
   "execution_count": 229,
   "metadata": {},
   "outputs": [],
   "source": [
    "df = pd.read_csv(\"flight_sample_large.csv\")"
   ]
  },
  {
   "cell_type": "code",
   "execution_count": 94,
   "metadata": {
    "collapsed": true,
    "jupyter": {
     "outputs_hidden": true
    }
   },
   "outputs": [
    {
     "data": {
      "text/plain": [
       "Index(['fl_date', 'mkt_unique_carrier', 'branded_code_share', 'mkt_carrier',\n",
       "       'mkt_carrier_fl_num', 'op_unique_carrier', 'tail_num',\n",
       "       'op_carrier_fl_num', 'origin_airport_id', 'origin', 'origin_city_name',\n",
       "       'dest_airport_id', 'dest', 'dest_city_name', 'crs_dep_time', 'dep_time',\n",
       "       'dep_delay', 'taxi_out', 'wheels_off', 'wheels_on', 'taxi_in',\n",
       "       'crs_arr_time', 'arr_time', 'arr_delay', 'cancelled',\n",
       "       'cancellation_code', 'diverted', 'dup', 'crs_elapsed_time',\n",
       "       'actual_elapsed_time', 'air_time', 'flights', 'distance',\n",
       "       'carrier_delay', 'weather_delay', 'nas_delay', 'security_delay',\n",
       "       'late_aircraft_delay', 'first_dep_time', 'total_add_gtime',\n",
       "       'longest_add_gtime'],\n",
       "      dtype='object')"
      ]
     },
     "execution_count": 94,
     "metadata": {},
     "output_type": "execute_result"
    }
   ],
   "source": [
    "df.columns"
   ]
  },
  {
   "cell_type": "code",
   "execution_count": 228,
   "metadata": {},
   "outputs": [],
   "source": [
    "def check_time_block(time):\n",
    "    \"\"\"Determine the hour of the day\n",
    "    INPUT time HHMM\n",
    "    RETURNS hour 0-23 where 0 == 12am and 23 == 11pm\"\"\"\n",
    "    if type(time) == 'numpy.ndarray':\n",
    "        time = time.astype(int)\n",
    "    time = int(time)\n",
    "    \n",
    "    t = time // 100\n",
    "    if t == 0:\n",
    "        return 0\n",
    "    return t-1"
   ]
  },
  {
   "cell_type": "markdown",
   "metadata": {},
   "source": [
    "--- \n",
    "Check if Constant Demand Over Hours"
   ]
  },
  {
   "cell_type": "markdown",
   "metadata": {},
   "source": [
    "*Taxi In*"
   ]
  },
  {
   "cell_type": "code",
   "execution_count": 230,
   "metadata": {
    "jupyter": {
     "source_hidden": true
    }
   },
   "outputs": [],
   "source": [
    "check = df[df.cancelled == 0]\n",
    "check = df[[\"arr_time\", \"arr_delay\"]]\n",
    "check[\"fl_hour\"] = check.arr_time.map(check_time_block)\n",
    "check = check.groupby(\"fl_hour\", as_index=False)[\"arr_delay\"].count()"
   ]
  },
  {
   "cell_type": "code",
   "execution_count": 231,
   "metadata": {
    "jupyter": {
     "source_hidden": true
    }
   },
   "outputs": [
    {
     "data": {
      "text/plain": [
       "Text(0.5, 1.0, 'Taxi In Demand by Hour')"
      ]
     },
     "execution_count": 231,
     "metadata": {},
     "output_type": "execute_result"
    },
    {
     "data": {
      "image/png": "[encoded data removed]",
      "text/plain": [
       "<Figure size 432x288 with 1 Axes>"
      ]
     },
     "metadata": {
      "needs_background": "light"
     },
     "output_type": "display_data"
    }
   ],
   "source": [
    "sns.barplot(x=\"fl_hour\", \n",
    "            y=\"arr_delay\", \n",
    "            data=check , \n",
    "            color='purple').set_title(\"Taxi In Demand by Hour\")"
   ]
  },
  {
   "cell_type": "markdown",
   "metadata": {},
   "source": [
    "*Taxi Out*"
   ]
  },
  {
   "cell_type": "code",
   "execution_count": 232,
   "metadata": {
    "jupyter": {
     "source_hidden": true
    }
   },
   "outputs": [],
   "source": [
    "check = df[df.cancelled == 0]\n",
    "check = df[[\"dep_time\", \"dep_delay\"]]\n",
    "check[\"fl_hour\"] = check.dep_time.map(check_time_block)\n",
    "check = check.groupby(\"fl_hour\", as_index=False)[\"dep_delay\"].count()"
   ]
  },
  {
   "cell_type": "code",
   "execution_count": 233,
   "metadata": {},
   "outputs": [
    {
     "data": {
      "text/plain": [
       "Text(0.5, 1.0, 'Taxi Out Demand by Hour')"
      ]
     },
     "execution_count": 233,
     "metadata": {},
     "output_type": "execute_result"
    },
    {
     "data": {
      "image/png": "[encoded data removed]",
      "text/plain": [
       "<Figure size 432x288 with 1 Axes>"
      ]
     },
     "metadata": {
      "needs_background": "light"
     },
     "output_type": "display_data"
    }
   ],
   "source": [
    "sns.barplot(x=\"fl_hour\", \n",
    "            y=\"dep_delay\", \n",
    "            data=check , \n",
    "            color='purple').set_title(\"Taxi Out Demand by Hour\")"
   ]
  },
  {
   "cell_type": "markdown",
   "metadata": {},
   "source": [
    "---"
   ]
  },
  {
   "cell_type": "code",
   "execution_count": 254,
   "metadata": {
    "jupyter": {
     "source_hidden": true
    }
   },
   "outputs": [],
   "source": [
    "#break into arr and dep\n",
    "taskfour_arr = df[df[\"cancelled\"]==0]\n",
    "taskfour_arr = taskfour_arr[['crs_arr_time', 'arr_time','taxi_in','distance']]\n",
    "taskfour_dep = df[['crs_dep_time', 'dep_time', 'taxi_out','distance']]"
   ]
  },
  {
   "cell_type": "code",
   "execution_count": 235,
   "metadata": {
    "jupyter": {
     "source_hidden": true
    }
   },
   "outputs": [],
   "source": [
    "#get the scheduled arrival hour\n",
    "taskfour_arr[\"crs_arr_time\"] = taskfour_arr[\"crs_arr_time\"].apply(check_time_block)"
   ]
  },
  {
   "cell_type": "code",
   "execution_count": 236,
   "metadata": {
    "jupyter": {
     "source_hidden": true
    }
   },
   "outputs": [],
   "source": [
    "#get the actual arrival hour\n",
    "taskfour_arr[\"arr_time\"] = taskfour_arr[\"arr_time\"].apply(check_time_block)"
   ]
  },
  {
   "cell_type": "code",
   "execution_count": 237,
   "metadata": {
    "jupyter": {
     "source_hidden": true
    }
   },
   "outputs": [],
   "source": [
    "#use groupby to get the mean of the taxi in time for both scheduled and actual\n",
    "taskfour_arr_crs_g = taskfour_arr.groupby(\"crs_arr_time\", as_index=False)[\"taxi_in\"].mean()\n",
    "taskfour_arr_crs_g.rename(columns = {'taxi_in': 'mean_taxi_in'}, inplace=True)\n",
    "taskfour_arr_g = taskfour_arr.groupby(\"arr_time\", as_index=False)[\"taxi_in\"].mean()\n",
    "taskfour_arr_g.rename(columns = {'taxi_in': 'mean_taxi_in'}, inplace=True)"
   ]
  },
  {
   "cell_type": "code",
   "execution_count": 238,
   "metadata": {
    "jupyter": {
     "source_hidden": true
    }
   },
   "outputs": [],
   "source": [
    "#repeat for median\n",
    "taskfour_arr_crs = taskfour_arr.groupby(\"crs_arr_time\", as_index=False)[\"taxi_in\"].median()\n",
    "taskfour_arr_crs.rename(columns = {'taxi_in': 'med_taxi_in'}, inplace=True)\n",
    "taskfour_arr = taskfour_arr.groupby(\"arr_time\", as_index=False)[\"taxi_in\"].median()\n",
    "taskfour_arr.rename(columns = {'taxi_in': 'med_taxi_in'}, inplace=True)"
   ]
  },
  {
   "cell_type": "code",
   "execution_count": 239,
   "metadata": {
    "jupyter": {
     "source_hidden": true
    }
   },
   "outputs": [],
   "source": [
    "#merge into one dataframe\n",
    "taskfour_arr = taskfour_arr.merge(taskfour_arr_g, how='outer', on = \"arr_time\")\n",
    "taskfour_arr_crs = taskfour_arr_crs.merge(taskfour_arr_crs_g, how='outer', on = 'crs_arr_time')"
   ]
  },
  {
   "cell_type": "code",
   "execution_count": 240,
   "metadata": {
    "collapsed": true,
    "jupyter": {
     "outputs_hidden": true,
     "source_hidden": true
    }
   },
   "outputs": [
    {
     "data": {
      "text/plain": [
       "Text(0.5, 1.0, 'Mean Taxi In Time by CRS Arrival Time')"
      ]
     },
     "execution_count": 240,
     "metadata": {},
     "output_type": "execute_result"
    },
    {
     "data": {
      "image/png": "[encoded data removed]",
      "text/plain": [
       "<Figure size 432x288 with 1 Axes>"
      ]
     },
     "metadata": {
      "needs_background": "light"
     },
     "output_type": "display_data"
    }
   ],
   "source": [
    "#Plot Mean Taxi Time based on CRS Arrival Time\n",
    "sns.barplot(x=\"crs_arr_time\", \n",
    "            y=\"mean_taxi_in\", \n",
    "            data=taskfour_arr_crs , \n",
    "            color='purple').set_title(\"Mean Taxi In Time by CRS Arrival Time\")"
   ]
  },
  {
   "cell_type": "code",
   "execution_count": 241,
   "metadata": {
    "jupyter": {
     "source_hidden": true
    }
   },
   "outputs": [
    {
     "data": {
      "text/plain": [
       "Text(0.5, 1.0, 'Median Taxi In Time by CRS Arrival Time')"
      ]
     },
     "execution_count": 241,
     "metadata": {},
     "output_type": "execute_result"
    },
    {
     "data": {
      "image/png": "[encoded data removed]",
      "text/plain": [
       "<Figure size 432x288 with 1 Axes>"
      ]
     },
     "metadata": {
      "needs_background": "light"
     },
     "output_type": "display_data"
    }
   ],
   "source": [
    "#Plot Median Taxi Time based on CRS Arrival Time\n",
    "sns.barplot(x=\"crs_arr_time\", \n",
    "            y=\"med_taxi_in\", \n",
    "            data=taskfour_arr_crs , \n",
    "            color='purple').set_title(\"Median Taxi In Time by CRS Arrival Time\")"
   ]
  },
  {
   "cell_type": "code",
   "execution_count": 242,
   "metadata": {
    "collapsed": true,
    "jupyter": {
     "outputs_hidden": true,
     "source_hidden": true
    }
   },
   "outputs": [
    {
     "data": {
      "text/plain": [
       "Text(0.5, 1.0, 'Mean Taxi In Time by Arrival Time')"
      ]
     },
     "execution_count": 242,
     "metadata": {},
     "output_type": "execute_result"
    },
    {
     "data": {
      "image/png": "[encoded data removed]",
      "text/plain": [
       "<Figure size 432x288 with 1 Axes>"
      ]
     },
     "metadata": {
      "needs_background": "light"
     },
     "output_type": "display_data"
    }
   ],
   "source": [
    "#Plot Mean Taxi Time based on Actual Arrival Time\n",
    "sns.barplot(x=\"arr_time\", \n",
    "            y=\"mean_taxi_in\", \n",
    "            data=taskfour_arr , \n",
    "            color='purple').set_title(\"Mean Taxi In Time by Arrival Time\")"
   ]
  },
  {
   "cell_type": "code",
   "execution_count": 243,
   "metadata": {
    "jupyter": {
     "source_hidden": true
    }
   },
   "outputs": [
    {
     "data": {
      "text/plain": [
       "Text(0.5, 1.0, 'Median Taxi In Time by Arrival Time')"
      ]
     },
     "execution_count": 243,
     "metadata": {},
     "output_type": "execute_result"
    },
    {
     "data": {
      "image/png": "[encoded data removed]",
      "text/plain": [
       "<Figure size 432x288 with 1 Axes>"
      ]
     },
     "metadata": {
      "needs_background": "light"
     },
     "output_type": "display_data"
    }
   ],
   "source": [
    "#Plot Median Taxi Time based on Actual Arrival Time\n",
    "sns.barplot(x=\"arr_time\",\n",
    "            y=\"med_taxi_in\",\n",
    "            data=taskfour_arr , \n",
    "            color='purple').set_title(\"Median Taxi In Time by Arrival Time\")"
   ]
  },
  {
   "cell_type": "code",
   "execution_count": 244,
   "metadata": {},
   "outputs": [],
   "source": [
    "#get the hour of crs dep time\n",
    "taskfour_dep[\"crs_dep_time\"] = taskfour_dep[\"crs_dep_time\"].apply(check_time_block)"
   ]
  },
  {
   "cell_type": "code",
   "execution_count": 245,
   "metadata": {},
   "outputs": [],
   "source": [
    "#get the hour of actual departure time\n",
    "taskfour_dep[\"dep_time\"] = taskfour_dep[\"dep_time\"].apply(check_time_block)"
   ]
  },
  {
   "cell_type": "code",
   "execution_count": 246,
   "metadata": {},
   "outputs": [],
   "source": [
    "#use groupby to get the mean of the taxi out time for both scheduled and actual\n",
    "taskfour_dep_crs_g = taskfour_dep.groupby(\"crs_dep_time\", as_index=False)[\"taxi_out\"].mean()\n",
    "taskfour_dep_crs_g.rename(columns = {'taxi_out': 'mean_taxi_out'}, inplace=True)\n",
    "taskfour_dep_g = taskfour_dep.groupby(\"dep_time\", as_index=False)[\"taxi_out\"].mean()\n",
    "taskfour_dep_g.rename(columns = {'taxi_out': 'mean_taxi_out'}, inplace=True)"
   ]
  },
  {
   "cell_type": "code",
   "execution_count": 247,
   "metadata": {},
   "outputs": [],
   "source": [
    "#repeat for median\n",
    "taskfour_dep_crs = taskfour_dep.groupby(\"crs_dep_time\", as_index=False)[\"taxi_out\"].median()\n",
    "taskfour_dep_crs.rename(columns = {'taxi_out': 'med_taxi_out'}, inplace=True)\n",
    "taskfour_dep = taskfour_dep.groupby(\"dep_time\", as_index=False)[\"taxi_out\"].median()\n",
    "taskfour_dep.rename(columns = {'taxi_out': 'med_taxi_out'}, inplace=True)"
   ]
  },
  {
   "cell_type": "code",
   "execution_count": 248,
   "metadata": {},
   "outputs": [],
   "source": [
    "#merge\n",
    "taskfour_dep = taskfour_dep.merge(taskfour_dep_g, how='outer', on = \"dep_time\")\n",
    "taskfour_dep_crs = taskfour_dep_crs.merge(taskfour_dep_crs_g, how='outer', on = 'crs_dep_time')"
   ]
  },
  {
   "cell_type": "code",
   "execution_count": 249,
   "metadata": {},
   "outputs": [
    {
     "data": {
      "text/plain": [
       "Text(0.5, 1.0, 'Mean Taxi Out Time by CRS Departure Time')"
      ]
     },
     "execution_count": 249,
     "metadata": {},
     "output_type": "execute_result"
    },
    {
     "data": {
      "image/png": "[encoded data removed]",
      "text/plain": [
       "<Figure size 432x288 with 1 Axes>"
      ]
     },
     "metadata": {
      "needs_background": "light"
     },
     "output_type": "display_data"
    }
   ],
   "source": [
    "#plot mean taxi out time by CRS Departure Time\n",
    "sns.barplot(x=\"crs_dep_time\",\n",
    "            y=\"mean_taxi_out\",\n",
    "            data=taskfour_dep_crs ,\n",
    "            color='purple').set_title(\"Mean Taxi Out Time by CRS Departure Time\")"
   ]
  },
  {
   "cell_type": "code",
   "execution_count": 250,
   "metadata": {},
   "outputs": [
    {
     "data": {
      "text/plain": [
       "Text(0.5, 1.0, 'Median Taxi Out Time by CRS Departure Time')"
      ]
     },
     "execution_count": 250,
     "metadata": {},
     "output_type": "execute_result"
    },
    {
     "data": {
      "image/png": "[encoded data removed]",
      "text/plain": [
       "<Figure size 432x288 with 1 Axes>"
      ]
     },
     "metadata": {
      "needs_background": "light"
     },
     "output_type": "display_data"
    }
   ],
   "source": [
    "#plot median taxi out time by CRS Departure Time\n",
    "sns.barplot(x=\"crs_dep_time\", \n",
    "            y=\"med_taxi_out\", \n",
    "            data=taskfour_dep_crs , \n",
    "            color='purple').set_title(\"Median Taxi Out Time by CRS Departure Time\")"
   ]
  },
  {
   "cell_type": "code",
   "execution_count": 251,
   "metadata": {},
   "outputs": [
    {
     "data": {
      "text/plain": [
       "Text(0.5, 1.0, 'Mean Taxi Out Time by Departure Time')"
      ]
     },
     "execution_count": 251,
     "metadata": {},
     "output_type": "execute_result"
    },
    {
     "data": {
      "image/png": "[encoded data removed]",
      "text/plain": [
       "<Figure size 432x288 with 1 Axes>"
      ]
     },
     "metadata": {
      "needs_background": "light"
     },
     "output_type": "display_data"
    }
   ],
   "source": [
    "#plot mean taxi out time by Actual Departure Time\n",
    "sns.barplot(x=\"dep_time\", \n",
    "            y=\"mean_taxi_out\", \n",
    "            data=taskfour_dep , \n",
    "            color='purple').set_title(\"Mean Taxi Out Time by Departure Time\")"
   ]
  },
  {
   "cell_type": "code",
   "execution_count": 252,
   "metadata": {},
   "outputs": [
    {
     "data": {
      "text/plain": [
       "Text(0.5, 1.0, 'Median Taxi Out Time by Departure Time')"
      ]
     },
     "execution_count": 252,
     "metadata": {},
     "output_type": "execute_result"
    },
    {
     "data": {
      "image/png": "[encoded data removed]",
      "text/plain": [
       "<Figure size 432x288 with 1 Axes>"
      ]
     },
     "metadata": {
      "needs_background": "light"
     },
     "output_type": "display_data"
    }
   ],
   "source": [
    "#plot median taxi out time by Actual Departure Time\n",
    "sns.barplot(x=\"dep_time\", \n",
    "            y=\"med_taxi_out\", \n",
    "            data=taskfour_dep , \n",
    "            color='purple').set_title(\"Median Taxi Out Time by Departure Time\")"
   ]
  },
  {
   "cell_type": "markdown",
   "metadata": {},
   "source": [
    "Let's determine if these variances are significant \n",
    "using One-Way Anova Tests\n",
    "\n",
    "\n",
    "\n",
    "Since we have several means we will follow a two stage process since we cannot just compare all possible pairs with t tests.\n",
    "- ANOVA (analysis of variance) will tell us if all the means are equal\n",
    "- If the ANOVA shows the means aren't all equal then which means are unequal and by how much?"
   ]
  },
  {
   "cell_type": "markdown",
   "metadata": {},
   "source": [
    "scipy.stats.f_oneway(*args, axis=0)\n",
    "\n",
    "    Perform one-way ANOVA.\n",
    "\n",
    "    The one-way ANOVA tests the null hypothesis that two or more groups have the same population mean. The test is applied to samples from two or more groups, possibly with differing sizes."
   ]
  },
  {
   "cell_type": "code",
   "execution_count": 255,
   "metadata": {
    "jupyter": {
     "source_hidden": true
    }
   },
   "outputs": [],
   "source": [
    "crs_dep_0 = taskfour_dep.taxi_out[taskfour_dep[\"crs_dep_time\"]==0]\n",
    "crs_dep_1 = taskfour_dep.taxi_out[taskfour_dep[\"crs_dep_time\"]==1]\n",
    "crs_dep_2 = taskfour_dep.taxi_out[taskfour_dep[\"crs_dep_time\"]==2]\n",
    "crs_dep_3 = taskfour_dep.taxi_out[taskfour_dep[\"crs_dep_time\"]==3]\n",
    "crs_dep_4 = taskfour_dep.taxi_out[taskfour_dep[\"crs_dep_time\"]==4]\n",
    "crs_dep_5 = taskfour_dep.taxi_out[taskfour_dep[\"crs_dep_time\"]==5]\n",
    "crs_dep_6 = taskfour_dep.taxi_out[taskfour_dep[\"crs_dep_time\"]==6]\n",
    "crs_dep_7 = taskfour_dep.taxi_out[taskfour_dep[\"crs_dep_time\"]==7]\n",
    "crs_dep_8 = taskfour_dep.taxi_out[taskfour_dep[\"crs_dep_time\"]==8]\n",
    "crs_dep_9 = taskfour_dep.taxi_out[taskfour_dep[\"crs_dep_time\"]==9]\n",
    "crs_dep_10 = taskfour_dep.taxi_out[taskfour_dep[\"crs_dep_time\"]==10]\n",
    "crs_dep_11 = taskfour_dep.taxi_out[taskfour_dep[\"crs_dep_time\"]==11]\n",
    "crs_dep_12 = taskfour_dep.taxi_out[taskfour_dep[\"crs_dep_time\"]==12]\n",
    "crs_dep_13 = taskfour_dep.taxi_out[taskfour_dep[\"crs_dep_time\"]==13]\n",
    "crs_dep_14 = taskfour_dep.taxi_out[taskfour_dep[\"crs_dep_time\"]==14]\n",
    "crs_dep_15 = taskfour_dep.taxi_out[taskfour_dep[\"crs_dep_time\"]==15]\n",
    "crs_dep_16 = taskfour_dep.taxi_out[taskfour_dep[\"crs_dep_time\"]==16]\n",
    "crs_dep_17 = taskfour_dep.taxi_out[taskfour_dep[\"crs_dep_time\"]==17]\n",
    "crs_dep_18 = taskfour_dep.taxi_out[taskfour_dep[\"crs_dep_time\"]==18]\n",
    "crs_dep_19 = taskfour_dep.taxi_out[taskfour_dep[\"crs_dep_time\"]==19]\n",
    "crs_dep_20 = taskfour_dep.taxi_out[taskfour_dep[\"crs_dep_time\"]==20]\n",
    "crs_dep_21 = taskfour_dep.taxi_out[taskfour_dep[\"crs_dep_time\"]==21]\n",
    "crs_dep_22 = taskfour_dep.taxi_out[taskfour_dep[\"crs_dep_time\"]==22]\n",
    "crs_dep_23 = taskfour_dep.taxi_out[taskfour_dep[\"crs_dep_time\"]==23]"
   ]
  },
  {
   "cell_type": "code",
   "execution_count": 257,
   "metadata": {},
   "outputs": [],
   "source": [
    "results_crsdep = st.f_oneway(crs_dep_0,crs_dep_1, crs_dep_2, crs_dep_3, crs_dep_4,crs_dep_5,crs_dep_6,\n",
    "           crs_dep_7,crs_dep_8,crs_dep_9,crs_dep_10,crs_dep_11,crs_dep_12,crs_dep_13,\n",
    "           crs_dep_14,crs_dep_15,crs_dep_16,crs_dep_17,crs_dep_18,crs_dep_19,crs_dep_20,\n",
    "           crs_dep_21,crs_dep_22, crs_dep_23)"
   ]
  },
  {
   "cell_type": "code",
   "execution_count": 258,
   "metadata": {},
   "outputs": [
    {
     "name": "stdout",
     "output_type": "stream",
     "text": [
      "insignificant evidence\n"
     ]
    }
   ],
   "source": [
    "if results_crsdep[1] < 0.05:\n",
    "    print(\"significant evidence\")\n",
    "else: \n",
    "    print(\"insignificant evidence\")"
   ]
  },
  {
   "cell_type": "code",
   "execution_count": 194,
   "metadata": {
    "jupyter": {
     "source_hidden": true
    }
   },
   "outputs": [],
   "source": [
    "dep_0 = taskfour_dep.taxi_out[taskfour_dep[\"dep_time\"]==0]\n",
    "dep_1 = taskfour_dep.taxi_out[taskfour_dep[\"dep_time\"]==1]\n",
    "dep_2 = taskfour_dep.taxi_out[taskfour_dep[\"dep_time\"]==2]\n",
    "dep_3 = taskfour_dep.taxi_out[taskfour_dep[\"dep_time\"]==3]\n",
    "dep_4 = taskfour_dep.taxi_out[taskfour_dep[\"dep_time\"]==4]\n",
    "dep_5 = taskfour_dep.taxi_out[taskfour_dep[\"dep_time\"]==5]\n",
    "dep_6 = taskfour_dep.taxi_out[taskfour_dep[\"dep_time\"]==6]\n",
    "dep_7 = taskfour_dep.taxi_out[taskfour_dep[\"dep_time\"]==7]\n",
    "dep_8 = taskfour_dep.taxi_out[taskfour_dep[\"dep_time\"]==8]\n",
    "dep_9 = taskfour_dep.taxi_out[taskfour_dep[\"dep_time\"]==9]\n",
    "dep_10 = taskfour_dep.taxi_out[taskfour_dep[\"dep_time\"]==10]\n",
    "dep_11 = taskfour_dep.taxi_out[taskfour_dep[\"dep_time\"]==11]\n",
    "dep_12 = taskfour_dep.taxi_out[taskfour_dep[\"dep_time\"]==12]\n",
    "dep_13 = taskfour_dep.taxi_out[taskfour_dep[\"dep_time\"]==13]\n",
    "dep_14 = taskfour_dep.taxi_out[taskfour_dep[\"dep_time\"]==14]\n",
    "dep_15 = taskfour_dep.taxi_out[taskfour_dep[\"dep_time\"]==15]\n",
    "dep_16 = taskfour_dep.taxi_out[taskfour_dep[\"dep_time\"]==16]\n",
    "dep_17 = taskfour_dep.taxi_out[taskfour_dep[\"dep_time\"]==17]\n",
    "dep_18 = taskfour_dep.taxi_out[taskfour_dep[\"dep_time\"]==18]\n",
    "dep_19 = taskfour_dep.taxi_out[taskfour_dep[\"dep_time\"]==19]\n",
    "dep_20 = taskfour_dep.taxi_out[taskfour_dep[\"dep_time\"]==20]\n",
    "dep_21 = taskfour_dep.taxi_out[taskfour_dep[\"dep_time\"]==21]\n",
    "dep_22 = taskfour_dep.taxi_out[taskfour_dep[\"dep_time\"]==22]\n",
    "dep_23 = taskfour_dep.taxi_out[taskfour_dep[\"dep_time\"]==23]"
   ]
  },
  {
   "cell_type": "code",
   "execution_count": 259,
   "metadata": {},
   "outputs": [],
   "source": [
    "results_dep = st.f_oneway(dep_0,dep_1,dep_2,dep_3,dep_4,dep_5,dep_6,\n",
    "           dep_7,dep_8,dep_9,dep_10,dep_11,dep_12,dep_13,\n",
    "           dep_14,dep_15,dep_16,dep_17,dep_18,dep_19,dep_20,\n",
    "           dep_21,dep_22, dep_23)"
   ]
  },
  {
   "cell_type": "code",
   "execution_count": 260,
   "metadata": {},
   "outputs": [
    {
     "name": "stdout",
     "output_type": "stream",
     "text": [
      "insignificant evidence\n"
     ]
    }
   ],
   "source": [
    "if results_dep[1] < 0.05:\n",
    "    print(\"significant evidence\")\n",
    "else: \n",
    "    print(\"insignificant evidence\")"
   ]
  },
  {
   "cell_type": "code",
   "execution_count": 261,
   "metadata": {
    "jupyter": {
     "source_hidden": true
    }
   },
   "outputs": [],
   "source": [
    "crs_arr_0 = taskfour_arr.taxi_in[taskfour_arr[\"crs_arr_time\"]==0]\n",
    "crs_arr_1 = taskfour_arr.taxi_in[taskfour_arr[\"crs_arr_time\"]==1]\n",
    "crs_arr_2 = taskfour_arr.taxi_in[taskfour_arr[\"crs_arr_time\"]==2]\n",
    "crs_arr_3 = taskfour_arr.taxi_in[taskfour_arr[\"crs_arr_time\"]==3]\n",
    "crs_arr_4 = taskfour_arr.taxi_in[taskfour_arr[\"crs_arr_time\"]==4]\n",
    "crs_arr_5 = taskfour_arr.taxi_in[taskfour_arr[\"crs_arr_time\"]==5]\n",
    "crs_arr_6 = taskfour_arr.taxi_in[taskfour_arr[\"crs_arr_time\"]==6]\n",
    "crs_arr_7 = taskfour_arr.taxi_in[taskfour_arr[\"crs_arr_time\"]==7]\n",
    "crs_arr_8 = taskfour_arr.taxi_in[taskfour_arr[\"crs_arr_time\"]==8]\n",
    "crs_arr_9 = taskfour_arr.taxi_in[taskfour_arr[\"crs_arr_time\"]==9]\n",
    "crs_arr_10 = taskfour_arr.taxi_in[taskfour_arr[\"crs_arr_time\"]==10]\n",
    "crs_arr_11 = taskfour_arr.taxi_in[taskfour_arr[\"crs_arr_time\"]==11]\n",
    "crs_arr_12 = taskfour_arr.taxi_in[taskfour_arr[\"crs_arr_time\"]==12]\n",
    "crs_arr_13 = taskfour_arr.taxi_in[taskfour_arr[\"crs_arr_time\"]==13]\n",
    "crs_arr_14 = taskfour_arr.taxi_in[taskfour_arr[\"crs_arr_time\"]==14]\n",
    "crs_arr_15 = taskfour_arr.taxi_in[taskfour_arr[\"crs_arr_time\"]==15]\n",
    "crs_arr_16 = taskfour_arr.taxi_in[taskfour_arr[\"crs_arr_time\"]==16]\n",
    "crs_arr_17 = taskfour_arr.taxi_in[taskfour_arr[\"crs_arr_time\"]==17]\n",
    "crs_arr_18 = taskfour_arr.taxi_in[taskfour_arr[\"crs_arr_time\"]==18]\n",
    "crs_arr_19 = taskfour_arr.taxi_in[taskfour_arr[\"crs_arr_time\"]==19]\n",
    "crs_arr_20 = taskfour_arr.taxi_in[taskfour_arr[\"crs_arr_time\"]==20]\n",
    "crs_arr_21 = taskfour_arr.taxi_in[taskfour_arr[\"crs_arr_time\"]==21]\n",
    "crs_arr_22 = taskfour_arr.taxi_in[taskfour_arr[\"crs_arr_time\"]==22]\n",
    "crs_arr_23 = taskfour_arr.taxi_in[taskfour_arr[\"crs_arr_time\"]==23]"
   ]
  },
  {
   "cell_type": "code",
   "execution_count": 262,
   "metadata": {},
   "outputs": [],
   "source": [
    "results_crsarr = st.f_oneway(crs_arr_0,crs_arr_1,crs_arr_2,crs_arr_3,crs_arr_4,crs_arr_5,crs_arr_6,\n",
    "           crs_arr_7,crs_arr_8,crs_arr_9,crs_arr_10,crs_arr_11,crs_arr_12,crs_arr_13,\n",
    "           crs_arr_14,crs_arr_15,crs_arr_16,crs_arr_17,crs_arr_18,crs_arr_19,crs_arr_20,\n",
    "           crs_arr_21,crs_arr_22,crs_arr_23)"
   ]
  },
  {
   "cell_type": "code",
   "execution_count": 263,
   "metadata": {},
   "outputs": [
    {
     "name": "stdout",
     "output_type": "stream",
     "text": [
      "insignificant evidence\n"
     ]
    }
   ],
   "source": [
    "if results_crsarr[1] < 0.05:\n",
    "    print(\"significant evidence\")\n",
    "else: \n",
    "    print(\"insignificant evidence\")"
   ]
  },
  {
   "cell_type": "code",
   "execution_count": 264,
   "metadata": {
    "jupyter": {
     "source_hidden": true
    }
   },
   "outputs": [],
   "source": [
    "arr_0 = taskfour_arr.taxi_in[taskfour_arr[\"arr_time\"]==0]\n",
    "arr_1 = taskfour_arr.taxi_in[taskfour_arr[\"arr_time\"]==1]\n",
    "arr_2 = taskfour_arr.taxi_in[taskfour_arr[\"arr_time\"]==2]\n",
    "arr_3 = taskfour_arr.taxi_in[taskfour_arr[\"arr_time\"]==3]\n",
    "arr_4 = taskfour_arr.taxi_in[taskfour_arr[\"arr_time\"]==4]\n",
    "arr_5 = taskfour_arr.taxi_in[taskfour_arr[\"arr_time\"]==5]\n",
    "arr_6 = taskfour_arr.taxi_in[taskfour_arr[\"arr_time\"]==6]\n",
    "arr_7 = taskfour_arr.taxi_in[taskfour_arr[\"arr_time\"]==7]\n",
    "arr_8 = taskfour_arr.taxi_in[taskfour_arr[\"arr_time\"]==8]\n",
    "arr_9 = taskfour_arr.taxi_in[taskfour_arr[\"arr_time\"]==9]\n",
    "arr_10 = taskfour_arr.taxi_in[taskfour_arr[\"arr_time\"]==10]\n",
    "arr_11 = taskfour_arr.taxi_in[taskfour_arr[\"arr_time\"]==11]\n",
    "arr_12 = taskfour_arr.taxi_in[taskfour_arr[\"arr_time\"]==12]\n",
    "arr_13 = taskfour_arr.taxi_in[taskfour_arr[\"arr_time\"]==13]\n",
    "arr_14 = taskfour_arr.taxi_in[taskfour_arr[\"arr_time\"]==14]\n",
    "arr_15 = taskfour_arr.taxi_in[taskfour_arr[\"arr_time\"]==15]\n",
    "arr_16 = taskfour_arr.taxi_in[taskfour_arr[\"arr_time\"]==16]\n",
    "arr_17 = taskfour_arr.taxi_in[taskfour_arr[\"arr_time\"]==17]\n",
    "arr_18 = taskfour_arr.taxi_in[taskfour_arr[\"arr_time\"]==18]\n",
    "arr_19 = taskfour_arr.taxi_in[taskfour_arr[\"arr_time\"]==19]\n",
    "arr_20 = taskfour_arr.taxi_in[taskfour_arr[\"arr_time\"]==20]\n",
    "arr_21 = taskfour_arr.taxi_in[taskfour_arr[\"arr_time\"]==21]\n",
    "arr_22 = taskfour_arr.taxi_in[taskfour_arr[\"arr_time\"]==22]\n",
    "arr_23 = taskfour_arr.taxi_in[taskfour_arr[\"arr_time\"]==23]"
   ]
  },
  {
   "cell_type": "code",
   "execution_count": 265,
   "metadata": {},
   "outputs": [],
   "source": [
    "results_arr = st.f_oneway(arr_0,arr_1,arr_2,arr_3,arr_4,arr_5,arr_6,\n",
    "           arr_7,arr_8,arr_9,arr_10,arr_11,arr_12,arr_13,\n",
    "           arr_14,arr_15,arr_16,arr_17,arr_18,arr_19,arr_20,\n",
    "           arr_21,arr_22,arr_23)"
   ]
  },
  {
   "cell_type": "code",
   "execution_count": 266,
   "metadata": {},
   "outputs": [
    {
     "name": "stdout",
     "output_type": "stream",
     "text": [
      "insignificant evidence\n"
     ]
    }
   ],
   "source": [
    "if results_arr[1] < 0.05:\n",
    "    print(\"significant evidence\")\n",
    "else: \n",
    "    print(\"insignificant evidence\")"
   ]
  },
  {
   "cell_type": "markdown",
   "metadata": {},
   "source": []
  }
 ],
 "metadata": {
  "kernelspec": {
   "display_name": "Python 3",
   "language": "python",
   "name": "python3"
  },
  "language_info": {
   "codemirror_mode": {
    "name": "ipython",
    "version": 3
   },
   "file_extension": ".py",
   "mimetype": "text/x-python",
   "name": "python",
   "nbconvert_exporter": "python",
   "pygments_lexer": "ipython3",
   "version": "3.8.3"
  }
 },
 "nbformat": 4,
 "nbformat_minor": 4
}
