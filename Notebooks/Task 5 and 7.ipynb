{
 "cells": [
  {
   "cell_type": "markdown",
   "metadata": {},
   "source": [
    "### Task 5\n",
    "What is the average percentage of delays that is already created before departure? (aka are arrival delays caused by departure delays?) Are airlines able to lower the delay during the flights?"
   ]
  },
  {
   "cell_type": "markdown",
   "metadata": {},
   "source": [
    "***Strategy***\n",
    "- review delayed flights\n",
    "- determine delay vs not delayed\n",
    "- given delayed - departure delay vs no departure\n",
    "- given depature delay - delayed or not delayed"
   ]
  },
  {
   "cell_type": "code",
   "execution_count": 57,
   "metadata": {},
   "outputs": [],
   "source": [
    "#import packages\n",
    "import pandas as pd\n",
    "import numpy as np\n",
    "import seaborn as sns\n",
    "import matplotlib.pyplot as plt\n",
    "import scipy.stats as st"
   ]
  },
  {
   "cell_type": "code",
   "execution_count": 51,
   "metadata": {},
   "outputs": [],
   "source": [
    "import warnings\n",
    "warnings.filterwarnings('ignore')"
   ]
  },
  {
   "cell_type": "code",
   "execution_count": 34,
   "metadata": {},
   "outputs": [],
   "source": [
    "df = pd.read_csv('lof.csv')"
   ]
  },
  {
   "cell_type": "code",
   "execution_count": 35,
   "metadata": {},
   "outputs": [
    {
     "data": {
      "text/html": [
       "<div>\n",
       "<style scoped>\n",
       "    .dataframe tbody tr th:only-of-type {\n",
       "        vertical-align: middle;\n",
       "    }\n",
       "\n",
       "    .dataframe tbody tr th {\n",
       "        vertical-align: top;\n",
       "    }\n",
       "\n",
       "    .dataframe thead th {\n",
       "        text-align: right;\n",
       "    }\n",
       "</style>\n",
       "<table border=\"1\" class=\"dataframe\">\n",
       "  <thead>\n",
       "    <tr style=\"text-align: right;\">\n",
       "      <th></th>\n",
       "      <th>fl_date</th>\n",
       "      <th>mkt_unique_carrier</th>\n",
       "      <th>branded_code_share</th>\n",
       "      <th>mkt_carrier</th>\n",
       "      <th>mkt_carrier_fl_num</th>\n",
       "      <th>op_unique_carrier</th>\n",
       "      <th>tail_num</th>\n",
       "      <th>op_carrier_fl_num</th>\n",
       "      <th>origin_airport_id</th>\n",
       "      <th>origin</th>\n",
       "      <th>...</th>\n",
       "      <th>flights</th>\n",
       "      <th>distance</th>\n",
       "      <th>carrier_delay</th>\n",
       "      <th>weather_delay</th>\n",
       "      <th>nas_delay</th>\n",
       "      <th>security_delay</th>\n",
       "      <th>late_aircraft_delay</th>\n",
       "      <th>first_dep_time</th>\n",
       "      <th>total_add_gtime</th>\n",
       "      <th>longest_add_gtime</th>\n",
       "    </tr>\n",
       "  </thead>\n",
       "  <tbody>\n",
       "    <tr>\n",
       "      <th>0</th>\n",
       "      <td>2018-10-04</td>\n",
       "      <td>WN</td>\n",
       "      <td>WN</td>\n",
       "      <td>WN</td>\n",
       "      <td>1772</td>\n",
       "      <td>WN</td>\n",
       "      <td>N214WN</td>\n",
       "      <td>1772</td>\n",
       "      <td>14679</td>\n",
       "      <td>SAN</td>\n",
       "      <td>...</td>\n",
       "      <td>1.0</td>\n",
       "      <td>1182.0</td>\n",
       "      <td>0.0</td>\n",
       "      <td>0.0</td>\n",
       "      <td>0.0</td>\n",
       "      <td>0.0</td>\n",
       "      <td>0.0</td>\n",
       "      <td>1828.0</td>\n",
       "      <td>0.0</td>\n",
       "      <td>0.0</td>\n",
       "    </tr>\n",
       "  </tbody>\n",
       "</table>\n",
       "<p>1 rows × 41 columns</p>\n",
       "</div>"
      ],
      "text/plain": [
       "      fl_date mkt_unique_carrier branded_code_share mkt_carrier  \\\n",
       "0  2018-10-04                 WN                 WN          WN   \n",
       "\n",
       "   mkt_carrier_fl_num op_unique_carrier tail_num  op_carrier_fl_num  \\\n",
       "0                1772                WN   N214WN               1772   \n",
       "\n",
       "   origin_airport_id origin  ... flights  distance carrier_delay  \\\n",
       "0              14679    SAN  ...     1.0    1182.0           0.0   \n",
       "\n",
       "  weather_delay  nas_delay  security_delay  late_aircraft_delay  \\\n",
       "0           0.0        0.0             0.0                  0.0   \n",
       "\n",
       "   first_dep_time  total_add_gtime  longest_add_gtime  \n",
       "0          1828.0              0.0                0.0  \n",
       "\n",
       "[1 rows x 41 columns]"
      ]
     },
     "execution_count": 35,
     "metadata": {},
     "output_type": "execute_result"
    }
   ],
   "source": [
    "df.head(1)"
   ]
  },
  {
   "cell_type": "code",
   "execution_count": 36,
   "metadata": {},
   "outputs": [],
   "source": [
    "#Excluding cancelled flights\n",
    "df = df[df.cancelled == 0]"
   ]
  },
  {
   "cell_type": "code",
   "execution_count": 37,
   "metadata": {},
   "outputs": [],
   "source": [
    "#Extract just information on dep_delay and arr_delay\n",
    "df_taskfive = df[[\"arr_delay\", \"dep_delay\"]]"
   ]
  },
  {
   "cell_type": "markdown",
   "metadata": {},
   "source": [
    "percent of flights that are have delayed arrivals"
   ]
  },
  {
   "cell_type": "code",
   "execution_count": 38,
   "metadata": {},
   "outputs": [],
   "source": [
    "del_arrivals = len(df[df.arr_delay > 0])"
   ]
  },
  {
   "cell_type": "code",
   "execution_count": 39,
   "metadata": {},
   "outputs": [],
   "source": [
    "total_arrivals = len(df)"
   ]
  },
  {
   "cell_type": "markdown",
   "metadata": {},
   "source": [
    "percent of flights that are have delayed departures"
   ]
  },
  {
   "cell_type": "code",
   "execution_count": 40,
   "metadata": {},
   "outputs": [],
   "source": [
    "del_deldepartures = len(df[df.dep_delay > 0])"
   ]
  },
  {
   "cell_type": "code",
   "execution_count": 41,
   "metadata": {},
   "outputs": [],
   "source": [
    "total_depatures = total_arrivals"
   ]
  },
  {
   "cell_type": "markdown",
   "metadata": {},
   "source": [
    "Look at only flights with delayed depatures and determine how many are delayed arrivals"
   ]
  },
  {
   "cell_type": "code",
   "execution_count": 42,
   "metadata": {},
   "outputs": [],
   "source": [
    "df_deldep = df[df.dep_delay > 0]\n",
    "both_delayed = len(df_deldep[df_deldep.arr_delay > 0])\n",
    "only_dep = len(df_deldep) - both_delayed"
   ]
  },
  {
   "cell_type": "markdown",
   "metadata": {},
   "source": [
    "Look at only flights with delayed arrivals and determine how many are delayed depatures"
   ]
  },
  {
   "cell_type": "code",
   "execution_count": 43,
   "metadata": {},
   "outputs": [],
   "source": [
    "df_delarr = df[df.arr_delay > 0]\n",
    "both_delayed_2 = len(df_deldep[df_deldep.dep_delay > 0])\n",
    "only_arr = len(df_delarr) - both_delayed_2"
   ]
  },
  {
   "cell_type": "markdown",
   "metadata": {},
   "source": [
    "Review the findings - numerically and graphically"
   ]
  },
  {
   "cell_type": "code",
   "execution_count": 44,
   "metadata": {},
   "outputs": [
    {
     "name": "stdout",
     "output_type": "stream",
     "text": [
      "the total number of flights(excluding cancelled) is:  4890841\n",
      "looking at delayed departures...\n",
      "the total number of flights that experienced delayed depatures was:  1649798  or  33.73 %\n",
      "of these  1649798  delayed depatures there were:  1204460  or  73.01 % that had delayed arrivals\n",
      "looking at delayed arrivals ... \n",
      "the total number of flights that experienced delayed arrivals was:  1700139  or  34.76 %\n",
      "of which there were:  1649798  or  97.04 % that had delayed departures\n"
     ]
    }
   ],
   "source": [
    "print(\"the total number of flights(excluding cancelled) is: \", total_depatures)\n",
    "print(\"looking at delayed departures...\")\n",
    "print(\"the total number of flights that experienced delayed depatures was: \",del_deldepartures, \n",
    "      \" or \", round(del_deldepartures/total_depatures*100,2), \"%\")\n",
    "print(\"of these \",del_deldepartures, \" delayed depatures there were: \", both_delayed, \" or \",\n",
    "     round(both_delayed/del_deldepartures*100,2), \"% that had delayed arrivals\")\n",
    "print(\"looking at delayed arrivals ... \")\n",
    "print(\"the total number of flights that experienced delayed arrivals was: \",del_arrivals, \n",
    "      \" or \", round(del_arrivals/total_depatures*100,2), \"%\")\n",
    "print(\"of which there were: \", both_delayed_2, \" or \",round(both_delayed_2/del_arrivals*100,2),\n",
    "      \"% that had delayed departures\")"
   ]
  },
  {
   "cell_type": "markdown",
   "metadata": {},
   "source": [
    "---"
   ]
  },
  {
   "cell_type": "code",
   "execution_count": 45,
   "metadata": {},
   "outputs": [
    {
     "data": {
      "image/png": "[encoded data removed]",
      "text/plain": [
       "<Figure size 432x288 with 1 Axes>"
      ]
     },
     "metadata": {},
     "output_type": "display_data"
    }
   ],
   "source": [
    "# Pie chart, where the slices will be ordered and plotted counter-clockwise:\n",
    "labels = 'Delayed Arrivals', 'On-time or Early Arrivals'\n",
    "sizes = [del_arrivals, total_arrivals-del_arrivals]\n",
    "explode = (0.1, 0.1)  # only \"explode\" the 2nd slice (i.e. 'Hogs')\n",
    "\n",
    "fig1, ax1 = plt.subplots()\n",
    "ax1.pie(sizes, explode=explode, labels=labels, autopct='%1.1f%%',\n",
    "        shadow=True, startangle=90)\n",
    "ax1.axis('equal')  # Equal aspect ratio ensures that pie is drawn as a circle.\n",
    "plt.title('Percent of Delayed Arrivals')\n",
    "plt.show()"
   ]
  },
  {
   "cell_type": "code",
   "execution_count": 46,
   "metadata": {},
   "outputs": [
    {
     "data": {
      "image/png": "[encoded data removed]",
      "text/plain": [
       "<Figure size 432x288 with 1 Axes>"
      ]
     },
     "metadata": {},
     "output_type": "display_data"
    }
   ],
   "source": [
    "# Pie chart, where the slices will be ordered and plotted counter-clockwise:\n",
    "labels = 'Delayed Departures', 'On-time or Early Departures'\n",
    "sizes = [del_deldepartures, total_arrivals-del_deldepartures]\n",
    "explode = (0.1, 0.1)  # only \"explode\" the 2nd slice (i.e. 'Hogs')\n",
    "\n",
    "fig1, ax1 = plt.subplots()\n",
    "ax1.pie(sizes, explode=explode, labels=labels, autopct='%1.1f%%',\n",
    "        shadow=True, startangle=90)\n",
    "ax1.axis('equal')  # Equal aspect ratio ensures that pie is drawn as a circle.\n",
    "plt.title('Percent of Delayed Departures')\n",
    "plt.show()"
   ]
  },
  {
   "cell_type": "code",
   "execution_count": 47,
   "metadata": {},
   "outputs": [
    {
     "data": {
      "image/png": "[encoded data removed]",
      "text/plain": [
       "<Figure size 432x288 with 1 Axes>"
      ]
     },
     "metadata": {},
     "output_type": "display_data"
    }
   ],
   "source": [
    "# Pie chart, where the slices will be ordered and plotted counter-clockwise:\n",
    "labels = 'Delayed Arrivals', 'On-time or Early Arrivals'\n",
    "sizes = [both_delayed, del_deldepartures-both_delayed]\n",
    "explode = (0.1, 0.1)  # only \"explode\" the 2nd slice (i.e. 'Hogs')\n",
    "\n",
    "fig1, ax1 = plt.subplots()\n",
    "ax1.pie(sizes, explode=explode, labels=labels, autopct='%1.1f%%',\n",
    "        shadow=True, startangle=90)\n",
    "ax1.axis('equal')  # Equal aspect ratio ensures that pie is drawn as a circle.\n",
    "plt.title('Delayed Arrivals given Delayed Departure')\n",
    "plt.show()"
   ]
  },
  {
   "cell_type": "code",
   "execution_count": 48,
   "metadata": {},
   "outputs": [
    {
     "data": {
      "image/png": "[encoded data removed]",
      "text/plain": [
       "<Figure size 432x288 with 1 Axes>"
      ]
     },
     "metadata": {},
     "output_type": "display_data"
    }
   ],
   "source": [
    "# Pie chart, where the slices will be ordered and plotted counter-clockwise:\n",
    "labels = 'Delayed Departures', 'On-time or Departures'\n",
    "sizes = [both_delayed_2, del_arrivals-both_delayed_2]\n",
    "explode = (0.1, 0.1)  # only \"explode\" the 2nd slice (i.e. 'Hogs')\n",
    "\n",
    "fig1, ax1 = plt.subplots()\n",
    "ax1.pie(sizes, explode=explode, labels=labels, autopct='%1.1f%%',\n",
    "        shadow=True, startangle=90)\n",
    "ax1.axis('equal')  # Equal aspect ratio ensures that pie is drawn as a circle.\n",
    "plt.title('Delayed Departures given Delayed Arrival')\n",
    "plt.show()"
   ]
  },
  {
   "cell_type": "markdown",
   "metadata": {},
   "source": [
    "### Task 7\n",
    "Test the hypothesis whether planes fly faster when there is the departure delay? \n",
    "\n",
    "***Strategy***\n",
    "- determine the speed of the airplane based on air_time and distance\n",
    "- perform ttest to see if the plane flys faster given a departure delay"
   ]
  },
  {
   "cell_type": "code",
   "execution_count": 49,
   "metadata": {},
   "outputs": [],
   "source": [
    "df_taskseven = df[[\"dep_delay\",\"air_time\", \"distance\"]]"
   ]
  },
  {
   "cell_type": "code",
   "execution_count": 50,
   "metadata": {},
   "outputs": [
    {
     "data": {
      "text/html": [
       "<div>\n",
       "<style scoped>\n",
       "    .dataframe tbody tr th:only-of-type {\n",
       "        vertical-align: middle;\n",
       "    }\n",
       "\n",
       "    .dataframe tbody tr th {\n",
       "        vertical-align: top;\n",
       "    }\n",
       "\n",
       "    .dataframe thead th {\n",
       "        text-align: right;\n",
       "    }\n",
       "</style>\n",
       "<table border=\"1\" class=\"dataframe\">\n",
       "  <thead>\n",
       "    <tr style=\"text-align: right;\">\n",
       "      <th></th>\n",
       "      <th>dep_delay</th>\n",
       "      <th>air_time</th>\n",
       "      <th>distance</th>\n",
       "    </tr>\n",
       "  </thead>\n",
       "  <tbody>\n",
       "    <tr>\n",
       "      <th>0</th>\n",
       "      <td>-2.0</td>\n",
       "      <td>151.0</td>\n",
       "      <td>1182.0</td>\n",
       "    </tr>\n",
       "    <tr>\n",
       "      <th>1</th>\n",
       "      <td>-8.0</td>\n",
       "      <td>128.0</td>\n",
       "      <td>1149.0</td>\n",
       "    </tr>\n",
       "    <tr>\n",
       "      <th>2</th>\n",
       "      <td>30.0</td>\n",
       "      <td>59.0</td>\n",
       "      <td>343.0</td>\n",
       "    </tr>\n",
       "    <tr>\n",
       "      <th>3</th>\n",
       "      <td>-7.0</td>\n",
       "      <td>129.0</td>\n",
       "      <td>1011.0</td>\n",
       "    </tr>\n",
       "    <tr>\n",
       "      <th>4</th>\n",
       "      <td>-2.0</td>\n",
       "      <td>194.0</td>\n",
       "      <td>1399.0</td>\n",
       "    </tr>\n",
       "  </tbody>\n",
       "</table>\n",
       "</div>"
      ],
      "text/plain": [
       "   dep_delay  air_time  distance\n",
       "0       -2.0     151.0    1182.0\n",
       "1       -8.0     128.0    1149.0\n",
       "2       30.0      59.0     343.0\n",
       "3       -7.0     129.0    1011.0\n",
       "4       -2.0     194.0    1399.0"
      ]
     },
     "execution_count": 50,
     "metadata": {},
     "output_type": "execute_result"
    }
   ],
   "source": [
    "df_taskseven.head()"
   ]
  },
  {
   "cell_type": "code",
   "execution_count": 18,
   "metadata": {},
   "outputs": [],
   "source": [
    "def get_flight_speed(time, distance):\n",
    "    \"\"\"Takes in air_time (in minutes) and distance (in miles)\n",
    "    Returns average flight speed in (mile/hr)\"\"\"\n",
    "    \n",
    "    speed = distance / time *60\n",
    "    \n",
    "    return speed"
   ]
  },
  {
   "cell_type": "code",
   "execution_count": 52,
   "metadata": {},
   "outputs": [],
   "source": [
    "df_taskseven[\"average_fl_speed\"] = df_taskseven.apply(lambda x: get_flight_speed(x.air_time, x.distance), axis=1)"
   ]
  },
  {
   "cell_type": "code",
   "execution_count": 53,
   "metadata": {},
   "outputs": [
    {
     "data": {
      "text/html": [
       "<div>\n",
       "<style scoped>\n",
       "    .dataframe tbody tr th:only-of-type {\n",
       "        vertical-align: middle;\n",
       "    }\n",
       "\n",
       "    .dataframe tbody tr th {\n",
       "        vertical-align: top;\n",
       "    }\n",
       "\n",
       "    .dataframe thead th {\n",
       "        text-align: right;\n",
       "    }\n",
       "</style>\n",
       "<table border=\"1\" class=\"dataframe\">\n",
       "  <thead>\n",
       "    <tr style=\"text-align: right;\">\n",
       "      <th></th>\n",
       "      <th>dep_delay</th>\n",
       "      <th>air_time</th>\n",
       "      <th>distance</th>\n",
       "      <th>average_fl_speed</th>\n",
       "    </tr>\n",
       "  </thead>\n",
       "  <tbody>\n",
       "    <tr>\n",
       "      <th>0</th>\n",
       "      <td>-2.0</td>\n",
       "      <td>151.0</td>\n",
       "      <td>1182.0</td>\n",
       "      <td>469.668874</td>\n",
       "    </tr>\n",
       "    <tr>\n",
       "      <th>1</th>\n",
       "      <td>-8.0</td>\n",
       "      <td>128.0</td>\n",
       "      <td>1149.0</td>\n",
       "      <td>538.593750</td>\n",
       "    </tr>\n",
       "    <tr>\n",
       "      <th>2</th>\n",
       "      <td>30.0</td>\n",
       "      <td>59.0</td>\n",
       "      <td>343.0</td>\n",
       "      <td>348.813559</td>\n",
       "    </tr>\n",
       "    <tr>\n",
       "      <th>3</th>\n",
       "      <td>-7.0</td>\n",
       "      <td>129.0</td>\n",
       "      <td>1011.0</td>\n",
       "      <td>470.232558</td>\n",
       "    </tr>\n",
       "    <tr>\n",
       "      <th>4</th>\n",
       "      <td>-2.0</td>\n",
       "      <td>194.0</td>\n",
       "      <td>1399.0</td>\n",
       "      <td>432.680412</td>\n",
       "    </tr>\n",
       "  </tbody>\n",
       "</table>\n",
       "</div>"
      ],
      "text/plain": [
       "   dep_delay  air_time  distance  average_fl_speed\n",
       "0       -2.0     151.0    1182.0        469.668874\n",
       "1       -8.0     128.0    1149.0        538.593750\n",
       "2       30.0      59.0     343.0        348.813559\n",
       "3       -7.0     129.0    1011.0        470.232558\n",
       "4       -2.0     194.0    1399.0        432.680412"
      ]
     },
     "execution_count": 53,
     "metadata": {},
     "output_type": "execute_result"
    }
   ],
   "source": [
    "df_taskseven.head()"
   ]
  },
  {
   "cell_type": "code",
   "execution_count": 54,
   "metadata": {},
   "outputs": [],
   "source": [
    "df_taskseven_nodelay = df_taskseven[df_taskseven.dep_delay <= 0 ]\n",
    "df_taskseven_delay = df_taskseven[df_taskseven.dep_delay > 0 ]"
   ]
  },
  {
   "cell_type": "code",
   "execution_count": 55,
   "metadata": {},
   "outputs": [
    {
     "data": {
      "text/html": [
       "<div>\n",
       "<style scoped>\n",
       "    .dataframe tbody tr th:only-of-type {\n",
       "        vertical-align: middle;\n",
       "    }\n",
       "\n",
       "    .dataframe tbody tr th {\n",
       "        vertical-align: top;\n",
       "    }\n",
       "\n",
       "    .dataframe thead th {\n",
       "        text-align: right;\n",
       "    }\n",
       "</style>\n",
       "<table border=\"1\" class=\"dataframe\">\n",
       "  <thead>\n",
       "    <tr style=\"text-align: right;\">\n",
       "      <th></th>\n",
       "      <th>dep_delay</th>\n",
       "      <th>air_time</th>\n",
       "      <th>distance</th>\n",
       "      <th>average_fl_speed</th>\n",
       "    </tr>\n",
       "  </thead>\n",
       "  <tbody>\n",
       "    <tr>\n",
       "      <th>count</th>\n",
       "      <td>3.241043e+06</td>\n",
       "      <td>3.241043e+06</td>\n",
       "      <td>3.241043e+06</td>\n",
       "      <td>3.241043e+06</td>\n",
       "    </tr>\n",
       "    <tr>\n",
       "      <th>mean</th>\n",
       "      <td>-5.007132e+00</td>\n",
       "      <td>1.052847e+02</td>\n",
       "      <td>7.468751e+02</td>\n",
       "      <td>3.955920e+02</td>\n",
       "    </tr>\n",
       "    <tr>\n",
       "      <th>std</th>\n",
       "      <td>3.527369e+00</td>\n",
       "      <td>6.881027e+01</td>\n",
       "      <td>5.786339e+02</td>\n",
       "      <td>7.408773e+01</td>\n",
       "    </tr>\n",
       "    <tr>\n",
       "      <th>min</th>\n",
       "      <td>-8.700000e+01</td>\n",
       "      <td>5.000000e+00</td>\n",
       "      <td>3.100000e+01</td>\n",
       "      <td>3.184615e+01</td>\n",
       "    </tr>\n",
       "    <tr>\n",
       "      <th>25%</th>\n",
       "      <td>-7.000000e+00</td>\n",
       "      <td>5.600000e+01</td>\n",
       "      <td>3.340000e+02</td>\n",
       "      <td>3.497561e+02</td>\n",
       "    </tr>\n",
       "    <tr>\n",
       "      <th>50%</th>\n",
       "      <td>-5.000000e+00</td>\n",
       "      <td>8.600000e+01</td>\n",
       "      <td>5.880000e+02</td>\n",
       "      <td>4.023529e+02</td>\n",
       "    </tr>\n",
       "    <tr>\n",
       "      <th>75%</th>\n",
       "      <td>-2.000000e+00</td>\n",
       "      <td>1.330000e+02</td>\n",
       "      <td>9.780000e+02</td>\n",
       "      <td>4.469492e+02</td>\n",
       "    </tr>\n",
       "    <tr>\n",
       "      <th>max</th>\n",
       "      <td>0.000000e+00</td>\n",
       "      <td>6.960000e+02</td>\n",
       "      <td>5.095000e+03</td>\n",
       "      <td>3.696000e+03</td>\n",
       "    </tr>\n",
       "  </tbody>\n",
       "</table>\n",
       "</div>"
      ],
      "text/plain": [
       "          dep_delay      air_time      distance  average_fl_speed\n",
       "count  3.241043e+06  3.241043e+06  3.241043e+06      3.241043e+06\n",
       "mean  -5.007132e+00  1.052847e+02  7.468751e+02      3.955920e+02\n",
       "std    3.527369e+00  6.881027e+01  5.786339e+02      7.408773e+01\n",
       "min   -8.700000e+01  5.000000e+00  3.100000e+01      3.184615e+01\n",
       "25%   -7.000000e+00  5.600000e+01  3.340000e+02      3.497561e+02\n",
       "50%   -5.000000e+00  8.600000e+01  5.880000e+02      4.023529e+02\n",
       "75%   -2.000000e+00  1.330000e+02  9.780000e+02      4.469492e+02\n",
       "max    0.000000e+00  6.960000e+02  5.095000e+03      3.696000e+03"
      ]
     },
     "execution_count": 55,
     "metadata": {},
     "output_type": "execute_result"
    }
   ],
   "source": [
    "df_taskseven_nodelay.describe()"
   ]
  },
  {
   "cell_type": "code",
   "execution_count": 56,
   "metadata": {},
   "outputs": [
    {
     "data": {
      "text/html": [
       "<div>\n",
       "<style scoped>\n",
       "    .dataframe tbody tr th:only-of-type {\n",
       "        vertical-align: middle;\n",
       "    }\n",
       "\n",
       "    .dataframe tbody tr th {\n",
       "        vertical-align: top;\n",
       "    }\n",
       "\n",
       "    .dataframe thead th {\n",
       "        text-align: right;\n",
       "    }\n",
       "</style>\n",
       "<table border=\"1\" class=\"dataframe\">\n",
       "  <thead>\n",
       "    <tr style=\"text-align: right;\">\n",
       "      <th></th>\n",
       "      <th>dep_delay</th>\n",
       "      <th>air_time</th>\n",
       "      <th>distance</th>\n",
       "      <th>average_fl_speed</th>\n",
       "    </tr>\n",
       "  </thead>\n",
       "  <tbody>\n",
       "    <tr>\n",
       "      <th>count</th>\n",
       "      <td>1.649798e+06</td>\n",
       "      <td>1.649798e+06</td>\n",
       "      <td>1.649798e+06</td>\n",
       "      <td>1.649798e+06</td>\n",
       "    </tr>\n",
       "    <tr>\n",
       "      <th>mean</th>\n",
       "      <td>3.464662e+01</td>\n",
       "      <td>1.129058e+02</td>\n",
       "      <td>8.152192e+02</td>\n",
       "      <td>4.054049e+02</td>\n",
       "    </tr>\n",
       "    <tr>\n",
       "      <th>std</th>\n",
       "      <td>4.508752e+01</td>\n",
       "      <td>7.086985e+01</td>\n",
       "      <td>5.990869e+02</td>\n",
       "      <td>7.447684e+01</td>\n",
       "    </tr>\n",
       "    <tr>\n",
       "      <th>min</th>\n",
       "      <td>1.000000e+00</td>\n",
       "      <td>4.000000e+00</td>\n",
       "      <td>3.100000e+01</td>\n",
       "      <td>5.277108e+01</td>\n",
       "    </tr>\n",
       "    <tr>\n",
       "      <th>25%</th>\n",
       "      <td>6.000000e+00</td>\n",
       "      <td>6.100000e+01</td>\n",
       "      <td>3.690000e+02</td>\n",
       "      <td>3.609231e+02</td>\n",
       "    </tr>\n",
       "    <tr>\n",
       "      <th>50%</th>\n",
       "      <td>1.700000e+01</td>\n",
       "      <td>9.400000e+01</td>\n",
       "      <td>6.500000e+02</td>\n",
       "      <td>4.131429e+02</td>\n",
       "    </tr>\n",
       "    <tr>\n",
       "      <th>75%</th>\n",
       "      <td>4.400000e+01</td>\n",
       "      <td>1.430000e+02</td>\n",
       "      <td>1.055000e+03</td>\n",
       "      <td>4.565432e+02</td>\n",
       "    </tr>\n",
       "    <tr>\n",
       "      <th>max</th>\n",
       "      <td>1.440000e+03</td>\n",
       "      <td>6.910000e+02</td>\n",
       "      <td>5.095000e+03</td>\n",
       "      <td>7.991489e+02</td>\n",
       "    </tr>\n",
       "  </tbody>\n",
       "</table>\n",
       "</div>"
      ],
      "text/plain": [
       "          dep_delay      air_time      distance  average_fl_speed\n",
       "count  1.649798e+06  1.649798e+06  1.649798e+06      1.649798e+06\n",
       "mean   3.464662e+01  1.129058e+02  8.152192e+02      4.054049e+02\n",
       "std    4.508752e+01  7.086985e+01  5.990869e+02      7.447684e+01\n",
       "min    1.000000e+00  4.000000e+00  3.100000e+01      5.277108e+01\n",
       "25%    6.000000e+00  6.100000e+01  3.690000e+02      3.609231e+02\n",
       "50%    1.700000e+01  9.400000e+01  6.500000e+02      4.131429e+02\n",
       "75%    4.400000e+01  1.430000e+02  1.055000e+03      4.565432e+02\n",
       "max    1.440000e+03  6.910000e+02  5.095000e+03      7.991489e+02"
      ]
     },
     "execution_count": 56,
     "metadata": {},
     "output_type": "execute_result"
    }
   ],
   "source": [
    "df_taskseven_delay.describe()"
   ]
  },
  {
   "cell_type": "code",
   "execution_count": 58,
   "metadata": {},
   "outputs": [],
   "source": [
    "nodelay_speed = df_taskseven_nodelay.average_fl_speed\n",
    "delay_speed = df_taskseven_delay.average_fl_speed"
   ]
  },
  {
   "cell_type": "code",
   "execution_count": 59,
   "metadata": {},
   "outputs": [
    {
     "name": "stdout",
     "output_type": "stream",
     "text": [
      "sample taken of nodelay_speed\n"
     ]
    }
   ],
   "source": [
    "if len(nodelay_speed) == len(delay_speed): \n",
    "    print(\"equal sample sizes\")\n",
    "elif len(nodelay_speed) > len(delay_speed):\n",
    "    nodelay_speed = nodelay_speed.sample(len(delay_speed))\n",
    "    print(\"sample taken of nodelay_speed\")\n",
    "else:\n",
    "    delay_speed = delay_speed.sample(len(nodelay_speed))\n",
    "    print(\"sample taken of delay_speed\")"
   ]
  },
  {
   "cell_type": "code",
   "execution_count": 60,
   "metadata": {},
   "outputs": [],
   "source": [
    "results = st.mstats.ttest_ind(nodelay_speed,delay_speed)"
   ]
  },
  {
   "cell_type": "code",
   "execution_count": 61,
   "metadata": {},
   "outputs": [
    {
     "name": "stdout",
     "output_type": "stream",
     "text": [
      "strong evidence to support rejecting null hypothesis ie. flights with delayed depatures possibly fly faster\n"
     ]
    }
   ],
   "source": [
    "if results[1] > 0.05:\n",
    "    print(\"insufficent evidence to reject null hypothesis, ie. flights with delayed departures do not fly faster\")\n",
    "else: \n",
    "    print(\"strong evidence to support rejecting null hypothesis ie. flights with delayed depatures possibly fly faster\")"
   ]
  },
  {
   "cell_type": "code",
   "execution_count": 62,
   "metadata": {},
   "outputs": [],
   "source": [
    "df_taskseven.to_csv(\"taskseven.csv\", index=False)"
   ]
  },
  {
   "cell_type": "code",
   "execution_count": 63,
   "metadata": {},
   "outputs": [],
   "source": [
    "df_taskfive.to_csv(\"taskfive.csv\", index=False)"
   ]
  },
  {
   "cell_type": "code",
   "execution_count": null,
   "metadata": {},
   "outputs": [],
   "source": []
  }
 ],
 "metadata": {
  "kernelspec": {
   "display_name": "Python 3",
   "language": "python",
   "name": "python3"
  },
  "language_info": {
   "codemirror_mode": {
    "name": "ipython",
    "version": 3
   },
   "file_extension": ".py",
   "mimetype": "text/x-python",
   "name": "python",
   "nbconvert_exporter": "python",
   "pygments_lexer": "ipython3",
   "version": "3.8.3"
  }
 },
 "nbformat": 4,
 "nbformat_minor": 4
}
