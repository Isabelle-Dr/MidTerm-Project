{
 "cells": [
  {
   "cell_type": "markdown",
   "metadata": {},
   "source": [
    "# Input: \n",
    "- flights_nullsremoved.csv\n",
    "- weather_data_complete.csv"
   ]
  },
  {
   "cell_type": "markdown",
   "metadata": {},
   "source": [
    "#### **Task 3**: Does the weather affect the delay? \n",
    "Use the API to pull the weather information for flights. There is no need to get weather for ALL flights. We can choose the right representative sample. Let's focus on four weather types:\n",
    "- sunny\n",
    "- cloudy\n",
    "- rainy\n",
    "- snow.  \n",
    "Test the hypothesis that these 4 delays are from the same distribution. If they are not, which ones are significantly different?\n",
    "​"
   ]
  },
  {
   "cell_type": "markdown",
   "metadata": {},
   "source": [
    "Steps: \n",
    "- Step 1: Confirm hypothesis: The delay type only filled out for delays above 15min\n",
    "- Step 2: Get class representations\n",
    "- Step 3: Get the weather for flights that have been delayed because of weather\n",
    "- Step 4: Get average delay per weather type\n",
    "- Step 5: Look at their distributions"
   ]
  },
  {
   "cell_type": "code",
   "execution_count": 150,
   "metadata": {},
   "outputs": [],
   "source": [
    "import pandas as pd\n",
    "import numpy as np\n",
    "import seaborn as sns\n",
    "sns.set_style(\"darkgrid\")\n",
    "import matplotlib.pyplot as plt"
   ]
  },
  {
   "cell_type": "code",
   "execution_count": 2,
   "metadata": {
    "collapsed": true,
    "jupyter": {
     "outputs_hidden": true
    }
   },
   "outputs": [
    {
     "name": "stderr",
     "output_type": "stream",
     "text": [
      "C:\\Users\\derob\\anaconda3\\lib\\site-packages\\IPython\\core\\interactiveshell.py:3146: DtypeWarning: Columns (25) have mixed types.Specify dtype option on import or set low_memory=False.\n",
      "  interactivity=interactivity, compiler=compiler, result=result)\n"
     ]
    }
   ],
   "source": [
    "data = pd.read_csv('flights_nullsremoved.csv')"
   ]
  },
  {
   "cell_type": "code",
   "execution_count": 3,
   "metadata": {},
   "outputs": [],
   "source": [
    "df = data.copy()"
   ]
  },
  {
   "cell_type": "code",
   "execution_count": 4,
   "metadata": {
    "collapsed": true,
    "jupyter": {
     "outputs_hidden": true
    }
   },
   "outputs": [
    {
     "name": "stdout",
     "output_type": "stream",
     "text": [
      "<class 'pandas.core.frame.DataFrame'>\n",
      "RangeIndex: 15878857 entries, 0 to 15878856\n",
      "Data columns (total 41 columns):\n",
      " #   Column               Dtype  \n",
      "---  ------               -----  \n",
      " 0   fl_date              object \n",
      " 1   mkt_unique_carrier   object \n",
      " 2   branded_code_share   object \n",
      " 3   mkt_carrier          object \n",
      " 4   mkt_carrier_fl_num   int64  \n",
      " 5   op_unique_carrier    object \n",
      " 6   tail_num             object \n",
      " 7   op_carrier_fl_num    int64  \n",
      " 8   origin_airport_id    int64  \n",
      " 9   origin               object \n",
      " 10  origin_city_name     object \n",
      " 11  dest_airport_id      int64  \n",
      " 12  dest                 object \n",
      " 13  dest_city_name       object \n",
      " 14  crs_dep_time         int64  \n",
      " 15  dep_time             float64\n",
      " 16  dep_delay            float64\n",
      " 17  taxi_out             float64\n",
      " 18  wheels_off           float64\n",
      " 19  wheels_on            float64\n",
      " 20  taxi_in              float64\n",
      " 21  crs_arr_time         int64  \n",
      " 22  arr_time             float64\n",
      " 23  arr_delay            float64\n",
      " 24  cancelled            float64\n",
      " 25  cancellation_code    object \n",
      " 26  diverted             float64\n",
      " 27  dup                  object \n",
      " 28  crs_elapsed_time     float64\n",
      " 29  actual_elapsed_time  float64\n",
      " 30  air_time             float64\n",
      " 31  flights              float64\n",
      " 32  distance             float64\n",
      " 33  carrier_delay        float64\n",
      " 34  weather_delay        float64\n",
      " 35  nas_delay            float64\n",
      " 36  security_delay       float64\n",
      " 37  late_aircraft_delay  float64\n",
      " 38  first_dep_time       float64\n",
      " 39  total_add_gtime      float64\n",
      " 40  longest_add_gtime    float64\n",
      "dtypes: float64(23), int64(6), object(12)\n",
      "memory usage: 4.9+ GB\n"
     ]
    }
   ],
   "source": [
    "df.info()"
   ]
  },
  {
   "cell_type": "markdown",
   "metadata": {},
   "source": [
    "## Step 1: Confirm hypothesis: The delay type only filled out for delays above 15min"
   ]
  },
  {
   "cell_type": "code",
   "execution_count": 5,
   "metadata": {},
   "outputs": [
    {
     "name": "stdout",
     "output_type": "stream",
     "text": [
      "3008192\n"
     ]
    }
   ],
   "source": [
    "# filter data with flights only 15min or higher \n",
    "df = df[df.arr_delay >= 15]\n",
    "print(len(df))"
   ]
  },
  {
   "cell_type": "code",
   "execution_count": 6,
   "metadata": {},
   "outputs": [
    {
     "data": {
      "text/plain": [
       "2"
      ]
     },
     "execution_count": 6,
     "metadata": {},
     "output_type": "execute_result"
    }
   ],
   "source": [
    "# see if there are flights with no reporting causes among them - only consider no\n",
    "len(df[(df.carrier_delay == 0) & (df.weather_delay == 0) & (df.nas_delay == 0) & (df.security_delay == 0) & (df.late_aircraft_delay == 0)])"
   ]
  },
  {
   "cell_type": "code",
   "execution_count": 7,
   "metadata": {},
   "outputs": [],
   "source": [
    "# fill delay_type with column name corresponding to max_delay\n",
    "df['max_delay'] = df[['carrier_delay', 'weather_delay', 'nas_delay', 'security_delay', 'late_aircraft_delay']].idxmax(axis=1)"
   ]
  },
  {
   "cell_type": "markdown",
   "metadata": {},
   "source": [
    "## Step 2: Get class representations"
   ]
  },
  {
   "cell_type": "code",
   "execution_count": 8,
   "metadata": {},
   "outputs": [
    {
     "name": "stdout",
     "output_type": "stream",
     "text": [
      "late_aircraft_delay: 1179556 values, 39.21 %\n",
      "carrier_delay: 804709 values, 26.75 %\n",
      "nas_delay: 917411 values, 30.5 %\n",
      "weather_delay: 101376 values, 3.37 %\n",
      "security_delay: 5140 values, 0.17 %\n"
     ]
    }
   ],
   "source": [
    "# get class representations - what's the data with only zeros?\n",
    "for c in df['max_delay'].unique():\n",
    "    print(f'{c}: {len(df[df.max_delay == c])} values, {round(len(df[df.max_delay == c])/len(df)*100,2)} %')"
   ]
  },
  {
   "cell_type": "code",
   "execution_count": 197,
   "metadata": {},
   "outputs": [],
   "source": [
    "#!!!!!!!!!!!!!!!!!!!!!!!! could plot this\n",
    "# !!!!!!!!!!!!!!!!!!!!!!!!!!!!!! plot average arrival delays for each too"
   ]
  },
  {
   "cell_type": "code",
   "execution_count": 9,
   "metadata": {},
   "outputs": [
    {
     "data": {
      "text/plain": [
       "(181935, 42)"
      ]
     },
     "execution_count": 9,
     "metadata": {},
     "output_type": "execute_result"
    }
   ],
   "source": [
    "# get a database with only weather related delays. Selected >= 0 here to filter out early flights\n",
    "flights_weather_delay = df[df.weather_delay > 0] \n",
    "flights_weather_delay.shape"
   ]
  },
  {
   "cell_type": "code",
   "execution_count": 10,
   "metadata": {},
   "outputs": [],
   "source": [
    "# get only features we're interested in\n",
    "flights_weather_delay = flights_weather_delay[['fl_date', 'weather_delay', 'dest_city_name']]"
   ]
  },
  {
   "cell_type": "code",
   "execution_count": 11,
   "metadata": {},
   "outputs": [
    {
     "data": {
      "text/html": [
       "<div>\n",
       "<style scoped>\n",
       "    .dataframe tbody tr th:only-of-type {\n",
       "        vertical-align: middle;\n",
       "    }\n",
       "\n",
       "    .dataframe tbody tr th {\n",
       "        vertical-align: top;\n",
       "    }\n",
       "\n",
       "    .dataframe thead th {\n",
       "        text-align: right;\n",
       "    }\n",
       "</style>\n",
       "<table border=\"1\" class=\"dataframe\">\n",
       "  <thead>\n",
       "    <tr style=\"text-align: right;\">\n",
       "      <th></th>\n",
       "      <th>fl_date</th>\n",
       "      <th>weather_delay</th>\n",
       "      <th>dest_city_name</th>\n",
       "    </tr>\n",
       "  </thead>\n",
       "  <tbody>\n",
       "    <tr>\n",
       "      <th>241</th>\n",
       "      <td>2018-11-26</td>\n",
       "      <td>960.0</td>\n",
       "      <td>San Francisco, CA</td>\n",
       "    </tr>\n",
       "    <tr>\n",
       "      <th>251</th>\n",
       "      <td>2018-11-26</td>\n",
       "      <td>85.0</td>\n",
       "      <td>Boston, MA</td>\n",
       "    </tr>\n",
       "    <tr>\n",
       "      <th>266</th>\n",
       "      <td>2018-11-26</td>\n",
       "      <td>26.0</td>\n",
       "      <td>Orlando, FL</td>\n",
       "    </tr>\n",
       "    <tr>\n",
       "      <th>277</th>\n",
       "      <td>2018-11-26</td>\n",
       "      <td>139.0</td>\n",
       "      <td>Chicago, IL</td>\n",
       "    </tr>\n",
       "    <tr>\n",
       "      <th>280</th>\n",
       "      <td>2018-11-26</td>\n",
       "      <td>14.0</td>\n",
       "      <td>Dallas/Fort Worth, TX</td>\n",
       "    </tr>\n",
       "  </tbody>\n",
       "</table>\n",
       "</div>"
      ],
      "text/plain": [
       "        fl_date  weather_delay         dest_city_name\n",
       "241  2018-11-26          960.0      San Francisco, CA\n",
       "251  2018-11-26           85.0             Boston, MA\n",
       "266  2018-11-26           26.0            Orlando, FL\n",
       "277  2018-11-26          139.0            Chicago, IL\n",
       "280  2018-11-26           14.0  Dallas/Fort Worth, TX"
      ]
     },
     "execution_count": 11,
     "metadata": {},
     "output_type": "execute_result"
    }
   ],
   "source": [
    "flights_weather_delay.head()"
   ]
  },
  {
   "cell_type": "markdown",
   "metadata": {},
   "source": [
    "## Step 3: Get the weather for flights that have been delayed because of weather\n",
    "### 3.1 Get weather data from Visual Crossing"
   ]
  },
  {
   "cell_type": "code",
   "execution_count": 128,
   "metadata": {},
   "outputs": [],
   "source": [
    "# get weather data from EAST cohort\n",
    "# this gives us the weather for each city and for each day of 2018-2019\n",
    "weather = pd.read_csv('weather_data_complete.csv')"
   ]
  },
  {
   "cell_type": "code",
   "execution_count": 13,
   "metadata": {},
   "outputs": [
    {
     "data": {
      "text/plain": [
       "Index(['Date', 'Juneau, AK', 'Raleigh/Durham, NC', 'Charlotte, NC',\n",
       "       'Columbus, OH', 'Harlingen/San Benito, TX', 'Barrow, AK',\n",
       "       'Fayetteville, NC', 'Cordova, AK', 'Bloomington/Normal, IL',\n",
       "       ...\n",
       "       'Mission/McAllen/Edinburg, TX', 'Traverse City, MI', 'Honolulu, HI',\n",
       "       'Bethel, AK', 'Williston, ND', 'Columbus, MS', 'Salisbury, MD',\n",
       "       'San Antonio, TX', 'Charleston, SC', 'Oakland, CA'],\n",
       "      dtype='object', length=365)"
      ]
     },
     "execution_count": 13,
     "metadata": {},
     "output_type": "execute_result"
    }
   ],
   "source": [
    "weather.columns"
   ]
  },
  {
   "cell_type": "code",
   "execution_count": 14,
   "metadata": {},
   "outputs": [
    {
     "data": {
      "text/html": [
       "<div>\n",
       "<style scoped>\n",
       "    .dataframe tbody tr th:only-of-type {\n",
       "        vertical-align: middle;\n",
       "    }\n",
       "\n",
       "    .dataframe tbody tr th {\n",
       "        vertical-align: top;\n",
       "    }\n",
       "\n",
       "    .dataframe thead th {\n",
       "        text-align: right;\n",
       "    }\n",
       "</style>\n",
       "<table border=\"1\" class=\"dataframe\">\n",
       "  <thead>\n",
       "    <tr style=\"text-align: right;\">\n",
       "      <th></th>\n",
       "      <th>Date</th>\n",
       "      <th>Juneau, AK</th>\n",
       "      <th>Raleigh/Durham, NC</th>\n",
       "      <th>Charlotte, NC</th>\n",
       "      <th>Columbus, OH</th>\n",
       "      <th>Harlingen/San Benito, TX</th>\n",
       "      <th>Barrow, AK</th>\n",
       "      <th>Fayetteville, NC</th>\n",
       "      <th>Cordova, AK</th>\n",
       "      <th>Bloomington/Normal, IL</th>\n",
       "      <th>...</th>\n",
       "      <th>Mission/McAllen/Edinburg, TX</th>\n",
       "      <th>Traverse City, MI</th>\n",
       "      <th>Honolulu, HI</th>\n",
       "      <th>Bethel, AK</th>\n",
       "      <th>Williston, ND</th>\n",
       "      <th>Columbus, MS</th>\n",
       "      <th>Salisbury, MD</th>\n",
       "      <th>San Antonio, TX</th>\n",
       "      <th>Charleston, SC</th>\n",
       "      <th>Oakland, CA</th>\n",
       "    </tr>\n",
       "  </thead>\n",
       "  <tbody>\n",
       "    <tr>\n",
       "      <th>0</th>\n",
       "      <td>2018-01-01</td>\n",
       "      <td>{'Clear'}</td>\n",
       "      <td>{'Partially cloudy'}</td>\n",
       "      <td>{'Partially cloudy'}</td>\n",
       "      <td>{'Snow, Partially cloudy'}</td>\n",
       "      <td>{'Rain, Overcast'}</td>\n",
       "      <td>{'Overcast'}</td>\n",
       "      <td>{'Clear'}</td>\n",
       "      <td>{'Snow'}</td>\n",
       "      <td>{'Clear'}</td>\n",
       "      <td>...</td>\n",
       "      <td>{'Rain, Overcast'}</td>\n",
       "      <td>{'Snow, Overcast'}</td>\n",
       "      <td>{'Clear'}</td>\n",
       "      <td>{'Partially cloudy'}</td>\n",
       "      <td>{'Clear'}</td>\n",
       "      <td>{'Clear'}</td>\n",
       "      <td>{'Clear'}</td>\n",
       "      <td>{'Overcast'}</td>\n",
       "      <td>{'Clear'}</td>\n",
       "      <td>{'Clear'}</td>\n",
       "    </tr>\n",
       "    <tr>\n",
       "      <th>1</th>\n",
       "      <td>2018-01-02</td>\n",
       "      <td>{'Clear'}</td>\n",
       "      <td>{'Clear'}</td>\n",
       "      <td>{'Clear'}</td>\n",
       "      <td>{'Snow, Partially cloudy'}</td>\n",
       "      <td>{'Rain, Overcast'}</td>\n",
       "      <td>{'Partially cloudy'}</td>\n",
       "      <td>{'Clear'}</td>\n",
       "      <td>{'Rain'}</td>\n",
       "      <td>{'Clear'}</td>\n",
       "      <td>...</td>\n",
       "      <td>{'Rain, Overcast'}</td>\n",
       "      <td>{'Snow, Overcast'}</td>\n",
       "      <td>{'Clear'}</td>\n",
       "      <td>{'Rain, Overcast'}</td>\n",
       "      <td>{'Partially cloudy'}</td>\n",
       "      <td>{'Partially cloudy'}</td>\n",
       "      <td>{'Clear'}</td>\n",
       "      <td>{'Overcast'}</td>\n",
       "      <td>{'Clear'}</td>\n",
       "      <td>{'Clear'}</td>\n",
       "    </tr>\n",
       "    <tr>\n",
       "      <th>2</th>\n",
       "      <td>2018-01-03</td>\n",
       "      <td>{'Clear'}</td>\n",
       "      <td>{'Rain, Overcast'}</td>\n",
       "      <td>{'Partially cloudy'}</td>\n",
       "      <td>{'Snow, Partially cloudy'}</td>\n",
       "      <td>{'Partially cloudy'}</td>\n",
       "      <td>{'Overcast'}</td>\n",
       "      <td>{'Partially cloudy'}</td>\n",
       "      <td>{'Rain'}</td>\n",
       "      <td>{'Partially cloudy'}</td>\n",
       "      <td>...</td>\n",
       "      <td>{'Clear'}</td>\n",
       "      <td>{'Snow, Overcast'}</td>\n",
       "      <td>{'Clear'}</td>\n",
       "      <td>{'Rain, Overcast'}</td>\n",
       "      <td>{'Partially cloudy'}</td>\n",
       "      <td>{'Partially cloudy'}</td>\n",
       "      <td>{'Rain, Partially cloudy'}</td>\n",
       "      <td>{'Clear'}</td>\n",
       "      <td>{'Clear'}</td>\n",
       "      <td>{'Clear'}</td>\n",
       "    </tr>\n",
       "    <tr>\n",
       "      <th>3</th>\n",
       "      <td>2018-01-04</td>\n",
       "      <td>{'Clear'}</td>\n",
       "      <td>{'Snow, Partially cloudy'}</td>\n",
       "      <td>{'Clear'}</td>\n",
       "      <td>{'Snow, Overcast'}</td>\n",
       "      <td>{'Clear'}</td>\n",
       "      <td>{'Rain, Overcast'}</td>\n",
       "      <td>{'Snow'}</td>\n",
       "      <td>{'Clear'}</td>\n",
       "      <td>{'Partially cloudy'}</td>\n",
       "      <td>...</td>\n",
       "      <td>{'Clear'}</td>\n",
       "      <td>{'Snow, Overcast'}</td>\n",
       "      <td>{'Clear'}</td>\n",
       "      <td>{'Partially cloudy'}</td>\n",
       "      <td>{'Overcast'}</td>\n",
       "      <td>{'Clear'}</td>\n",
       "      <td>{'Rain, Partially cloudy'}</td>\n",
       "      <td>{'Clear'}</td>\n",
       "      <td>{'Clear'}</td>\n",
       "      <td>{'Clear'}</td>\n",
       "    </tr>\n",
       "    <tr>\n",
       "      <th>4</th>\n",
       "      <td>2018-01-05</td>\n",
       "      <td>{'Rain'}</td>\n",
       "      <td>{'Clear'}</td>\n",
       "      <td>{'Clear'}</td>\n",
       "      <td>{'Snow, Overcast'}</td>\n",
       "      <td>{'Partially cloudy'}</td>\n",
       "      <td>{'Partially cloudy'}</td>\n",
       "      <td>{'Clear'}</td>\n",
       "      <td>{'Clear'}</td>\n",
       "      <td>{'Partially cloudy'}</td>\n",
       "      <td>...</td>\n",
       "      <td>{'Partially cloudy'}</td>\n",
       "      <td>{'Snow, Overcast'}</td>\n",
       "      <td>{'Clear'}</td>\n",
       "      <td>{'Partially cloudy'}</td>\n",
       "      <td>{'Overcast'}</td>\n",
       "      <td>{'Clear'}</td>\n",
       "      <td>{'Clear'}</td>\n",
       "      <td>{'Partially cloudy'}</td>\n",
       "      <td>{'Clear'}</td>\n",
       "      <td>{'Clear'}</td>\n",
       "    </tr>\n",
       "  </tbody>\n",
       "</table>\n",
       "<p>5 rows × 365 columns</p>\n",
       "</div>"
      ],
      "text/plain": [
       "         Date Juneau, AK          Raleigh/Durham, NC         Charlotte, NC  \\\n",
       "0  2018-01-01  {'Clear'}        {'Partially cloudy'}  {'Partially cloudy'}   \n",
       "1  2018-01-02  {'Clear'}                   {'Clear'}             {'Clear'}   \n",
       "2  2018-01-03  {'Clear'}          {'Rain, Overcast'}  {'Partially cloudy'}   \n",
       "3  2018-01-04  {'Clear'}  {'Snow, Partially cloudy'}             {'Clear'}   \n",
       "4  2018-01-05   {'Rain'}                   {'Clear'}             {'Clear'}   \n",
       "\n",
       "                 Columbus, OH Harlingen/San Benito, TX            Barrow, AK  \\\n",
       "0  {'Snow, Partially cloudy'}       {'Rain, Overcast'}          {'Overcast'}   \n",
       "1  {'Snow, Partially cloudy'}       {'Rain, Overcast'}  {'Partially cloudy'}   \n",
       "2  {'Snow, Partially cloudy'}     {'Partially cloudy'}          {'Overcast'}   \n",
       "3          {'Snow, Overcast'}                {'Clear'}    {'Rain, Overcast'}   \n",
       "4          {'Snow, Overcast'}     {'Partially cloudy'}  {'Partially cloudy'}   \n",
       "\n",
       "       Fayetteville, NC Cordova, AK Bloomington/Normal, IL  ...  \\\n",
       "0             {'Clear'}    {'Snow'}              {'Clear'}  ...   \n",
       "1             {'Clear'}    {'Rain'}              {'Clear'}  ...   \n",
       "2  {'Partially cloudy'}    {'Rain'}   {'Partially cloudy'}  ...   \n",
       "3              {'Snow'}   {'Clear'}   {'Partially cloudy'}  ...   \n",
       "4             {'Clear'}   {'Clear'}   {'Partially cloudy'}  ...   \n",
       "\n",
       "  Mission/McAllen/Edinburg, TX   Traverse City, MI Honolulu, HI  \\\n",
       "0           {'Rain, Overcast'}  {'Snow, Overcast'}    {'Clear'}   \n",
       "1           {'Rain, Overcast'}  {'Snow, Overcast'}    {'Clear'}   \n",
       "2                    {'Clear'}  {'Snow, Overcast'}    {'Clear'}   \n",
       "3                    {'Clear'}  {'Snow, Overcast'}    {'Clear'}   \n",
       "4         {'Partially cloudy'}  {'Snow, Overcast'}    {'Clear'}   \n",
       "\n",
       "             Bethel, AK         Williston, ND          Columbus, MS  \\\n",
       "0  {'Partially cloudy'}             {'Clear'}             {'Clear'}   \n",
       "1    {'Rain, Overcast'}  {'Partially cloudy'}  {'Partially cloudy'}   \n",
       "2    {'Rain, Overcast'}  {'Partially cloudy'}  {'Partially cloudy'}   \n",
       "3  {'Partially cloudy'}          {'Overcast'}             {'Clear'}   \n",
       "4  {'Partially cloudy'}          {'Overcast'}             {'Clear'}   \n",
       "\n",
       "                Salisbury, MD       San Antonio, TX Charleston, SC Oakland, CA  \n",
       "0                   {'Clear'}          {'Overcast'}      {'Clear'}   {'Clear'}  \n",
       "1                   {'Clear'}          {'Overcast'}      {'Clear'}   {'Clear'}  \n",
       "2  {'Rain, Partially cloudy'}             {'Clear'}      {'Clear'}   {'Clear'}  \n",
       "3  {'Rain, Partially cloudy'}             {'Clear'}      {'Clear'}   {'Clear'}  \n",
       "4                   {'Clear'}  {'Partially cloudy'}      {'Clear'}   {'Clear'}  \n",
       "\n",
       "[5 rows x 365 columns]"
      ]
     },
     "execution_count": 14,
     "metadata": {},
     "output_type": "execute_result"
    }
   ],
   "source": [
    "weather.head()"
   ]
  },
  {
   "cell_type": "markdown",
   "metadata": {},
   "source": [
    "### 3.2 Append weather delay information to database\n",
    "Pseudo code:  \n",
    "Transform weather dataframe to have a multi intex date & city name   \n",
    "Transform flights dataframe to have multi index date & city name    \n",
    "Left join weather on flights  "
   ]
  },
  {
   "cell_type": "markdown",
   "metadata": {},
   "source": [
    "3.2.1 Transform weather dataframe to have a multi intex date & city name  \n",
    "Working with flights_weather_delay and weather databases"
   ]
  },
  {
   "cell_type": "code",
   "execution_count": null,
   "metadata": {},
   "outputs": [],
   "source": [
    "weather = pd.read_csv('weather_data_complete.csv')"
   ]
  },
  {
   "cell_type": "code",
   "execution_count": 129,
   "metadata": {},
   "outputs": [
    {
     "data": {
      "text/html": [
       "<div>\n",
       "<style scoped>\n",
       "    .dataframe tbody tr th:only-of-type {\n",
       "        vertical-align: middle;\n",
       "    }\n",
       "\n",
       "    .dataframe tbody tr th {\n",
       "        vertical-align: top;\n",
       "    }\n",
       "\n",
       "    .dataframe thead th {\n",
       "        text-align: right;\n",
       "    }\n",
       "</style>\n",
       "<table border=\"1\" class=\"dataframe\">\n",
       "  <thead>\n",
       "    <tr style=\"text-align: right;\">\n",
       "      <th></th>\n",
       "      <th>Date</th>\n",
       "      <th>Juneau, AK</th>\n",
       "      <th>Raleigh/Durham, NC</th>\n",
       "      <th>Charlotte, NC</th>\n",
       "      <th>Columbus, OH</th>\n",
       "      <th>Harlingen/San Benito, TX</th>\n",
       "      <th>Barrow, AK</th>\n",
       "      <th>Fayetteville, NC</th>\n",
       "      <th>Cordova, AK</th>\n",
       "      <th>Bloomington/Normal, IL</th>\n",
       "      <th>...</th>\n",
       "      <th>Mission/McAllen/Edinburg, TX</th>\n",
       "      <th>Traverse City, MI</th>\n",
       "      <th>Honolulu, HI</th>\n",
       "      <th>Bethel, AK</th>\n",
       "      <th>Williston, ND</th>\n",
       "      <th>Columbus, MS</th>\n",
       "      <th>Salisbury, MD</th>\n",
       "      <th>San Antonio, TX</th>\n",
       "      <th>Charleston, SC</th>\n",
       "      <th>Oakland, CA</th>\n",
       "    </tr>\n",
       "  </thead>\n",
       "  <tbody>\n",
       "    <tr>\n",
       "      <th>0</th>\n",
       "      <td>2018-01-01</td>\n",
       "      <td>{'Clear'}</td>\n",
       "      <td>{'Partially cloudy'}</td>\n",
       "      <td>{'Partially cloudy'}</td>\n",
       "      <td>{'Snow, Partially cloudy'}</td>\n",
       "      <td>{'Rain, Overcast'}</td>\n",
       "      <td>{'Overcast'}</td>\n",
       "      <td>{'Clear'}</td>\n",
       "      <td>{'Snow'}</td>\n",
       "      <td>{'Clear'}</td>\n",
       "      <td>...</td>\n",
       "      <td>{'Rain, Overcast'}</td>\n",
       "      <td>{'Snow, Overcast'}</td>\n",
       "      <td>{'Clear'}</td>\n",
       "      <td>{'Partially cloudy'}</td>\n",
       "      <td>{'Clear'}</td>\n",
       "      <td>{'Clear'}</td>\n",
       "      <td>{'Clear'}</td>\n",
       "      <td>{'Overcast'}</td>\n",
       "      <td>{'Clear'}</td>\n",
       "      <td>{'Clear'}</td>\n",
       "    </tr>\n",
       "    <tr>\n",
       "      <th>1</th>\n",
       "      <td>2018-01-02</td>\n",
       "      <td>{'Clear'}</td>\n",
       "      <td>{'Clear'}</td>\n",
       "      <td>{'Clear'}</td>\n",
       "      <td>{'Snow, Partially cloudy'}</td>\n",
       "      <td>{'Rain, Overcast'}</td>\n",
       "      <td>{'Partially cloudy'}</td>\n",
       "      <td>{'Clear'}</td>\n",
       "      <td>{'Rain'}</td>\n",
       "      <td>{'Clear'}</td>\n",
       "      <td>...</td>\n",
       "      <td>{'Rain, Overcast'}</td>\n",
       "      <td>{'Snow, Overcast'}</td>\n",
       "      <td>{'Clear'}</td>\n",
       "      <td>{'Rain, Overcast'}</td>\n",
       "      <td>{'Partially cloudy'}</td>\n",
       "      <td>{'Partially cloudy'}</td>\n",
       "      <td>{'Clear'}</td>\n",
       "      <td>{'Overcast'}</td>\n",
       "      <td>{'Clear'}</td>\n",
       "      <td>{'Clear'}</td>\n",
       "    </tr>\n",
       "    <tr>\n",
       "      <th>2</th>\n",
       "      <td>2018-01-03</td>\n",
       "      <td>{'Clear'}</td>\n",
       "      <td>{'Rain, Overcast'}</td>\n",
       "      <td>{'Partially cloudy'}</td>\n",
       "      <td>{'Snow, Partially cloudy'}</td>\n",
       "      <td>{'Partially cloudy'}</td>\n",
       "      <td>{'Overcast'}</td>\n",
       "      <td>{'Partially cloudy'}</td>\n",
       "      <td>{'Rain'}</td>\n",
       "      <td>{'Partially cloudy'}</td>\n",
       "      <td>...</td>\n",
       "      <td>{'Clear'}</td>\n",
       "      <td>{'Snow, Overcast'}</td>\n",
       "      <td>{'Clear'}</td>\n",
       "      <td>{'Rain, Overcast'}</td>\n",
       "      <td>{'Partially cloudy'}</td>\n",
       "      <td>{'Partially cloudy'}</td>\n",
       "      <td>{'Rain, Partially cloudy'}</td>\n",
       "      <td>{'Clear'}</td>\n",
       "      <td>{'Clear'}</td>\n",
       "      <td>{'Clear'}</td>\n",
       "    </tr>\n",
       "    <tr>\n",
       "      <th>3</th>\n",
       "      <td>2018-01-04</td>\n",
       "      <td>{'Clear'}</td>\n",
       "      <td>{'Snow, Partially cloudy'}</td>\n",
       "      <td>{'Clear'}</td>\n",
       "      <td>{'Snow, Overcast'}</td>\n",
       "      <td>{'Clear'}</td>\n",
       "      <td>{'Rain, Overcast'}</td>\n",
       "      <td>{'Snow'}</td>\n",
       "      <td>{'Clear'}</td>\n",
       "      <td>{'Partially cloudy'}</td>\n",
       "      <td>...</td>\n",
       "      <td>{'Clear'}</td>\n",
       "      <td>{'Snow, Overcast'}</td>\n",
       "      <td>{'Clear'}</td>\n",
       "      <td>{'Partially cloudy'}</td>\n",
       "      <td>{'Overcast'}</td>\n",
       "      <td>{'Clear'}</td>\n",
       "      <td>{'Rain, Partially cloudy'}</td>\n",
       "      <td>{'Clear'}</td>\n",
       "      <td>{'Clear'}</td>\n",
       "      <td>{'Clear'}</td>\n",
       "    </tr>\n",
       "    <tr>\n",
       "      <th>4</th>\n",
       "      <td>2018-01-05</td>\n",
       "      <td>{'Rain'}</td>\n",
       "      <td>{'Clear'}</td>\n",
       "      <td>{'Clear'}</td>\n",
       "      <td>{'Snow, Overcast'}</td>\n",
       "      <td>{'Partially cloudy'}</td>\n",
       "      <td>{'Partially cloudy'}</td>\n",
       "      <td>{'Clear'}</td>\n",
       "      <td>{'Clear'}</td>\n",
       "      <td>{'Partially cloudy'}</td>\n",
       "      <td>...</td>\n",
       "      <td>{'Partially cloudy'}</td>\n",
       "      <td>{'Snow, Overcast'}</td>\n",
       "      <td>{'Clear'}</td>\n",
       "      <td>{'Partially cloudy'}</td>\n",
       "      <td>{'Overcast'}</td>\n",
       "      <td>{'Clear'}</td>\n",
       "      <td>{'Clear'}</td>\n",
       "      <td>{'Partially cloudy'}</td>\n",
       "      <td>{'Clear'}</td>\n",
       "      <td>{'Clear'}</td>\n",
       "    </tr>\n",
       "  </tbody>\n",
       "</table>\n",
       "<p>5 rows × 365 columns</p>\n",
       "</div>"
      ],
      "text/plain": [
       "         Date Juneau, AK          Raleigh/Durham, NC         Charlotte, NC  \\\n",
       "0  2018-01-01  {'Clear'}        {'Partially cloudy'}  {'Partially cloudy'}   \n",
       "1  2018-01-02  {'Clear'}                   {'Clear'}             {'Clear'}   \n",
       "2  2018-01-03  {'Clear'}          {'Rain, Overcast'}  {'Partially cloudy'}   \n",
       "3  2018-01-04  {'Clear'}  {'Snow, Partially cloudy'}             {'Clear'}   \n",
       "4  2018-01-05   {'Rain'}                   {'Clear'}             {'Clear'}   \n",
       "\n",
       "                 Columbus, OH Harlingen/San Benito, TX            Barrow, AK  \\\n",
       "0  {'Snow, Partially cloudy'}       {'Rain, Overcast'}          {'Overcast'}   \n",
       "1  {'Snow, Partially cloudy'}       {'Rain, Overcast'}  {'Partially cloudy'}   \n",
       "2  {'Snow, Partially cloudy'}     {'Partially cloudy'}          {'Overcast'}   \n",
       "3          {'Snow, Overcast'}                {'Clear'}    {'Rain, Overcast'}   \n",
       "4          {'Snow, Overcast'}     {'Partially cloudy'}  {'Partially cloudy'}   \n",
       "\n",
       "       Fayetteville, NC Cordova, AK Bloomington/Normal, IL  ...  \\\n",
       "0             {'Clear'}    {'Snow'}              {'Clear'}  ...   \n",
       "1             {'Clear'}    {'Rain'}              {'Clear'}  ...   \n",
       "2  {'Partially cloudy'}    {'Rain'}   {'Partially cloudy'}  ...   \n",
       "3              {'Snow'}   {'Clear'}   {'Partially cloudy'}  ...   \n",
       "4             {'Clear'}   {'Clear'}   {'Partially cloudy'}  ...   \n",
       "\n",
       "  Mission/McAllen/Edinburg, TX   Traverse City, MI Honolulu, HI  \\\n",
       "0           {'Rain, Overcast'}  {'Snow, Overcast'}    {'Clear'}   \n",
       "1           {'Rain, Overcast'}  {'Snow, Overcast'}    {'Clear'}   \n",
       "2                    {'Clear'}  {'Snow, Overcast'}    {'Clear'}   \n",
       "3                    {'Clear'}  {'Snow, Overcast'}    {'Clear'}   \n",
       "4         {'Partially cloudy'}  {'Snow, Overcast'}    {'Clear'}   \n",
       "\n",
       "             Bethel, AK         Williston, ND          Columbus, MS  \\\n",
       "0  {'Partially cloudy'}             {'Clear'}             {'Clear'}   \n",
       "1    {'Rain, Overcast'}  {'Partially cloudy'}  {'Partially cloudy'}   \n",
       "2    {'Rain, Overcast'}  {'Partially cloudy'}  {'Partially cloudy'}   \n",
       "3  {'Partially cloudy'}          {'Overcast'}             {'Clear'}   \n",
       "4  {'Partially cloudy'}          {'Overcast'}             {'Clear'}   \n",
       "\n",
       "                Salisbury, MD       San Antonio, TX Charleston, SC Oakland, CA  \n",
       "0                   {'Clear'}          {'Overcast'}      {'Clear'}   {'Clear'}  \n",
       "1                   {'Clear'}          {'Overcast'}      {'Clear'}   {'Clear'}  \n",
       "2  {'Rain, Partially cloudy'}             {'Clear'}      {'Clear'}   {'Clear'}  \n",
       "3  {'Rain, Partially cloudy'}             {'Clear'}      {'Clear'}   {'Clear'}  \n",
       "4                   {'Clear'}  {'Partially cloudy'}      {'Clear'}   {'Clear'}  \n",
       "\n",
       "[5 rows x 365 columns]"
      ]
     },
     "execution_count": 129,
     "metadata": {},
     "output_type": "execute_result"
    }
   ],
   "source": [
    "weather.head()"
   ]
  },
  {
   "cell_type": "code",
   "execution_count": 130,
   "metadata": {},
   "outputs": [
    {
     "data": {
      "text/html": [
       "<div>\n",
       "<style scoped>\n",
       "    .dataframe tbody tr th:only-of-type {\n",
       "        vertical-align: middle;\n",
       "    }\n",
       "\n",
       "    .dataframe tbody tr th {\n",
       "        vertical-align: top;\n",
       "    }\n",
       "\n",
       "    .dataframe thead th {\n",
       "        text-align: right;\n",
       "    }\n",
       "</style>\n",
       "<table border=\"1\" class=\"dataframe\">\n",
       "  <thead>\n",
       "    <tr style=\"text-align: right;\">\n",
       "      <th></th>\n",
       "      <th></th>\n",
       "      <th>weather</th>\n",
       "    </tr>\n",
       "    <tr>\n",
       "      <th>fl_date</th>\n",
       "      <th>dest_city_name</th>\n",
       "      <th></th>\n",
       "    </tr>\n",
       "  </thead>\n",
       "  <tbody>\n",
       "    <tr>\n",
       "      <th rowspan=\"5\" valign=\"top\">2018-01-01</th>\n",
       "      <th>Juneau, AK</th>\n",
       "      <td>{'Clear'}</td>\n",
       "    </tr>\n",
       "    <tr>\n",
       "      <th>Raleigh/Durham, NC</th>\n",
       "      <td>{'Partially cloudy'}</td>\n",
       "    </tr>\n",
       "    <tr>\n",
       "      <th>Charlotte, NC</th>\n",
       "      <td>{'Partially cloudy'}</td>\n",
       "    </tr>\n",
       "    <tr>\n",
       "      <th>Columbus, OH</th>\n",
       "      <td>{'Snow, Partially cloudy'}</td>\n",
       "    </tr>\n",
       "    <tr>\n",
       "      <th>Harlingen/San Benito, TX</th>\n",
       "      <td>{'Rain, Overcast'}</td>\n",
       "    </tr>\n",
       "  </tbody>\n",
       "</table>\n",
       "</div>"
      ],
      "text/plain": [
       "                                                        weather\n",
       "fl_date    dest_city_name                                      \n",
       "2018-01-01 Juneau, AK                                 {'Clear'}\n",
       "           Raleigh/Durham, NC              {'Partially cloudy'}\n",
       "           Charlotte, NC                   {'Partially cloudy'}\n",
       "           Columbus, OH              {'Snow, Partially cloudy'}\n",
       "           Harlingen/San Benito, TX          {'Rain, Overcast'}"
      ]
     },
     "execution_count": 130,
     "metadata": {},
     "output_type": "execute_result"
    }
   ],
   "source": [
    "#format dataframe\n",
    "weather = weather.set_index(keys='Date')\n",
    "weather = pd.DataFrame(weather.stack())\n",
    "weather.index.names = ['fl_date', 'dest_city_name']\n",
    "weather.columns = ['weather']\n",
    "weather.head()"
   ]
  },
  {
   "cell_type": "code",
   "execution_count": 134,
   "metadata": {},
   "outputs": [
    {
     "data": {
      "text/html": [
       "<div>\n",
       "<style scoped>\n",
       "    .dataframe tbody tr th:only-of-type {\n",
       "        vertical-align: middle;\n",
       "    }\n",
       "\n",
       "    .dataframe tbody tr th {\n",
       "        vertical-align: top;\n",
       "    }\n",
       "\n",
       "    .dataframe thead th {\n",
       "        text-align: right;\n",
       "    }\n",
       "</style>\n",
       "<table border=\"1\" class=\"dataframe\">\n",
       "  <thead>\n",
       "    <tr style=\"text-align: right;\">\n",
       "      <th></th>\n",
       "      <th></th>\n",
       "      <th>weather</th>\n",
       "      <th>weather_new</th>\n",
       "    </tr>\n",
       "    <tr>\n",
       "      <th>fl_date</th>\n",
       "      <th>dest_city_name</th>\n",
       "      <th></th>\n",
       "      <th></th>\n",
       "    </tr>\n",
       "  </thead>\n",
       "  <tbody>\n",
       "    <tr>\n",
       "      <th rowspan=\"5\" valign=\"top\">2018-01-01</th>\n",
       "      <th>Juneau, AK</th>\n",
       "      <td>{'Clear'}</td>\n",
       "      <td>Clear</td>\n",
       "    </tr>\n",
       "    <tr>\n",
       "      <th>Raleigh/Durham, NC</th>\n",
       "      <td>{'Partially cloudy'}</td>\n",
       "      <td>Partially cloudy</td>\n",
       "    </tr>\n",
       "    <tr>\n",
       "      <th>Charlotte, NC</th>\n",
       "      <td>{'Partially cloudy'}</td>\n",
       "      <td>Partially cloudy</td>\n",
       "    </tr>\n",
       "    <tr>\n",
       "      <th>Columbus, OH</th>\n",
       "      <td>{'Snow, Partially cloudy'}</td>\n",
       "      <td>Snow</td>\n",
       "    </tr>\n",
       "    <tr>\n",
       "      <th>Harlingen/San Benito, TX</th>\n",
       "      <td>{'Rain, Overcast'}</td>\n",
       "      <td>Rain</td>\n",
       "    </tr>\n",
       "  </tbody>\n",
       "</table>\n",
       "</div>"
      ],
      "text/plain": [
       "                                                        weather  \\\n",
       "fl_date    dest_city_name                                         \n",
       "2018-01-01 Juneau, AK                                 {'Clear'}   \n",
       "           Raleigh/Durham, NC              {'Partially cloudy'}   \n",
       "           Charlotte, NC                   {'Partially cloudy'}   \n",
       "           Columbus, OH              {'Snow, Partially cloudy'}   \n",
       "           Harlingen/San Benito, TX          {'Rain, Overcast'}   \n",
       "\n",
       "                                          weather_new  \n",
       "fl_date    dest_city_name                              \n",
       "2018-01-01 Juneau, AK                           Clear  \n",
       "           Raleigh/Durham, NC        Partially cloudy  \n",
       "           Charlotte, NC             Partially cloudy  \n",
       "           Columbus, OH                          Snow  \n",
       "           Harlingen/San Benito, TX              Rain  "
      ]
     },
     "execution_count": 134,
     "metadata": {},
     "output_type": "execute_result"
    }
   ],
   "source": [
    "# cleanup values\n",
    "weather['weather_new'] = ''\n",
    "weather.loc[weather.weather_new == '', 'weather_new'] = weather.weather.str.split(',').str.get(0)\n",
    "weather.weather_new = weather.weather_new.map(lambda x: x.lstrip('{'))\n",
    "weather.weather_new = weather.weather_new.map(lambda x: x.rstrip(\"'}\"))\n",
    "weather.weather_new = weather.weather_new.map(lambda x: x.strip(\"'\"))\n",
    "weather.head()"
   ]
  },
  {
   "cell_type": "markdown",
   "metadata": {},
   "source": [
    "3.2.2 Transform flights dataframe to have multi index date & city name"
   ]
  },
  {
   "cell_type": "code",
   "execution_count": 135,
   "metadata": {},
   "outputs": [
    {
     "data": {
      "text/html": [
       "<div>\n",
       "<style scoped>\n",
       "    .dataframe tbody tr th:only-of-type {\n",
       "        vertical-align: middle;\n",
       "    }\n",
       "\n",
       "    .dataframe tbody tr th {\n",
       "        vertical-align: top;\n",
       "    }\n",
       "\n",
       "    .dataframe thead th {\n",
       "        text-align: right;\n",
       "    }\n",
       "</style>\n",
       "<table border=\"1\" class=\"dataframe\">\n",
       "  <thead>\n",
       "    <tr style=\"text-align: right;\">\n",
       "      <th></th>\n",
       "      <th>fl_date</th>\n",
       "      <th>weather_delay</th>\n",
       "      <th>dest_city_name</th>\n",
       "    </tr>\n",
       "  </thead>\n",
       "  <tbody>\n",
       "    <tr>\n",
       "      <th>241</th>\n",
       "      <td>2018-11-26</td>\n",
       "      <td>960.0</td>\n",
       "      <td>San Francisco, CA</td>\n",
       "    </tr>\n",
       "    <tr>\n",
       "      <th>251</th>\n",
       "      <td>2018-11-26</td>\n",
       "      <td>85.0</td>\n",
       "      <td>Boston, MA</td>\n",
       "    </tr>\n",
       "    <tr>\n",
       "      <th>266</th>\n",
       "      <td>2018-11-26</td>\n",
       "      <td>26.0</td>\n",
       "      <td>Orlando, FL</td>\n",
       "    </tr>\n",
       "    <tr>\n",
       "      <th>277</th>\n",
       "      <td>2018-11-26</td>\n",
       "      <td>139.0</td>\n",
       "      <td>Chicago, IL</td>\n",
       "    </tr>\n",
       "    <tr>\n",
       "      <th>280</th>\n",
       "      <td>2018-11-26</td>\n",
       "      <td>14.0</td>\n",
       "      <td>Dallas/Fort Worth, TX</td>\n",
       "    </tr>\n",
       "  </tbody>\n",
       "</table>\n",
       "</div>"
      ],
      "text/plain": [
       "        fl_date  weather_delay         dest_city_name\n",
       "241  2018-11-26          960.0      San Francisco, CA\n",
       "251  2018-11-26           85.0             Boston, MA\n",
       "266  2018-11-26           26.0            Orlando, FL\n",
       "277  2018-11-26          139.0            Chicago, IL\n",
       "280  2018-11-26           14.0  Dallas/Fort Worth, TX"
      ]
     },
     "execution_count": 135,
     "metadata": {},
     "output_type": "execute_result"
    }
   ],
   "source": [
    "flights_weather_delay.head()"
   ]
  },
  {
   "cell_type": "code",
   "execution_count": 136,
   "metadata": {},
   "outputs": [
    {
     "data": {
      "text/html": [
       "<div>\n",
       "<style scoped>\n",
       "    .dataframe tbody tr th:only-of-type {\n",
       "        vertical-align: middle;\n",
       "    }\n",
       "\n",
       "    .dataframe tbody tr th {\n",
       "        vertical-align: top;\n",
       "    }\n",
       "\n",
       "    .dataframe thead th {\n",
       "        text-align: right;\n",
       "    }\n",
       "</style>\n",
       "<table border=\"1\" class=\"dataframe\">\n",
       "  <thead>\n",
       "    <tr style=\"text-align: right;\">\n",
       "      <th></th>\n",
       "      <th>fl_date</th>\n",
       "      <th>weather_delay</th>\n",
       "      <th>dest_city_name</th>\n",
       "    </tr>\n",
       "  </thead>\n",
       "  <tbody>\n",
       "    <tr>\n",
       "      <th>241</th>\n",
       "      <td>2018-11-26</td>\n",
       "      <td>960.0</td>\n",
       "      <td>San Francisco, CA</td>\n",
       "    </tr>\n",
       "    <tr>\n",
       "      <th>251</th>\n",
       "      <td>2018-11-26</td>\n",
       "      <td>85.0</td>\n",
       "      <td>Boston, MA</td>\n",
       "    </tr>\n",
       "    <tr>\n",
       "      <th>266</th>\n",
       "      <td>2018-11-26</td>\n",
       "      <td>26.0</td>\n",
       "      <td>Orlando, FL</td>\n",
       "    </tr>\n",
       "    <tr>\n",
       "      <th>277</th>\n",
       "      <td>2018-11-26</td>\n",
       "      <td>139.0</td>\n",
       "      <td>Chicago, IL</td>\n",
       "    </tr>\n",
       "    <tr>\n",
       "      <th>280</th>\n",
       "      <td>2018-11-26</td>\n",
       "      <td>14.0</td>\n",
       "      <td>Dallas/Fort Worth, TX</td>\n",
       "    </tr>\n",
       "  </tbody>\n",
       "</table>\n",
       "</div>"
      ],
      "text/plain": [
       "        fl_date  weather_delay         dest_city_name\n",
       "241  2018-11-26          960.0      San Francisco, CA\n",
       "251  2018-11-26           85.0             Boston, MA\n",
       "266  2018-11-26           26.0            Orlando, FL\n",
       "277  2018-11-26          139.0            Chicago, IL\n",
       "280  2018-11-26           14.0  Dallas/Fort Worth, TX"
      ]
     },
     "execution_count": 136,
     "metadata": {},
     "output_type": "execute_result"
    }
   ],
   "source": [
    "# format dataframe\n",
    "flights_weather_delay_day.groupby(['fl_date', 'dest_city_name']).sum()\n",
    "flights_weather_delay.head()"
   ]
  },
  {
   "cell_type": "markdown",
   "metadata": {},
   "source": [
    "3.2.3 Join weather on flights "
   ]
  },
  {
   "cell_type": "code",
   "execution_count": 139,
   "metadata": {},
   "outputs": [],
   "source": [
    "data_merged = pd.merge(flights_weather_delay, weather, on=['fl_date', 'dest_city_name'], how='inner').drop('weather', axis=1)"
   ]
  },
  {
   "cell_type": "code",
   "execution_count": 140,
   "metadata": {},
   "outputs": [
    {
     "data": {
      "text/html": [
       "<div>\n",
       "<style scoped>\n",
       "    .dataframe tbody tr th:only-of-type {\n",
       "        vertical-align: middle;\n",
       "    }\n",
       "\n",
       "    .dataframe tbody tr th {\n",
       "        vertical-align: top;\n",
       "    }\n",
       "\n",
       "    .dataframe thead th {\n",
       "        text-align: right;\n",
       "    }\n",
       "</style>\n",
       "<table border=\"1\" class=\"dataframe\">\n",
       "  <thead>\n",
       "    <tr style=\"text-align: right;\">\n",
       "      <th></th>\n",
       "      <th>fl_date</th>\n",
       "      <th>weather_delay</th>\n",
       "      <th>dest_city_name</th>\n",
       "      <th>weather_new</th>\n",
       "    </tr>\n",
       "  </thead>\n",
       "  <tbody>\n",
       "    <tr>\n",
       "      <th>0</th>\n",
       "      <td>2018-11-26</td>\n",
       "      <td>960.0</td>\n",
       "      <td>San Francisco, CA</td>\n",
       "      <td>Clear</td>\n",
       "    </tr>\n",
       "    <tr>\n",
       "      <th>1</th>\n",
       "      <td>2018-11-26</td>\n",
       "      <td>267.0</td>\n",
       "      <td>San Francisco, CA</td>\n",
       "      <td>Clear</td>\n",
       "    </tr>\n",
       "    <tr>\n",
       "      <th>2</th>\n",
       "      <td>2018-11-26</td>\n",
       "      <td>1.0</td>\n",
       "      <td>San Francisco, CA</td>\n",
       "      <td>Clear</td>\n",
       "    </tr>\n",
       "    <tr>\n",
       "      <th>3</th>\n",
       "      <td>2018-11-26</td>\n",
       "      <td>7.0</td>\n",
       "      <td>San Francisco, CA</td>\n",
       "      <td>Clear</td>\n",
       "    </tr>\n",
       "    <tr>\n",
       "      <th>4</th>\n",
       "      <td>2018-11-26</td>\n",
       "      <td>42.0</td>\n",
       "      <td>San Francisco, CA</td>\n",
       "      <td>Clear</td>\n",
       "    </tr>\n",
       "  </tbody>\n",
       "</table>\n",
       "</div>"
      ],
      "text/plain": [
       "      fl_date  weather_delay     dest_city_name weather_new\n",
       "0  2018-11-26          960.0  San Francisco, CA       Clear\n",
       "1  2018-11-26          267.0  San Francisco, CA       Clear\n",
       "2  2018-11-26            1.0  San Francisco, CA       Clear\n",
       "3  2018-11-26            7.0  San Francisco, CA       Clear\n",
       "4  2018-11-26           42.0  San Francisco, CA       Clear"
      ]
     },
     "execution_count": 140,
     "metadata": {},
     "output_type": "execute_result"
    }
   ],
   "source": [
    "data_merged.head()"
   ]
  },
  {
   "cell_type": "code",
   "execution_count": 168,
   "metadata": {},
   "outputs": [],
   "source": [
    "# keep only values where we have the weaher data\n",
    "data_merged = data_merged[data_merged.weather_new != '']"
   ]
  },
  {
   "cell_type": "code",
   "execution_count": 169,
   "metadata": {},
   "outputs": [
    {
     "data": {
      "text/plain": [
       "array(['Clear', 'Rain', 'Snow', 'Partially cloudy', 'Overcast'],\n",
       "      dtype=object)"
      ]
     },
     "execution_count": 169,
     "metadata": {},
     "output_type": "execute_result"
    }
   ],
   "source": [
    "data_merged.dropna()['weather_new'].unique()"
   ]
  },
  {
   "cell_type": "markdown",
   "metadata": {},
   "source": [
    "### Step 4: Get average delay per weather type"
   ]
  },
  {
   "cell_type": "code",
   "execution_count": 170,
   "metadata": {},
   "outputs": [
    {
     "data": {
      "text/html": [
       "<div>\n",
       "<style scoped>\n",
       "    .dataframe tbody tr th:only-of-type {\n",
       "        vertical-align: middle;\n",
       "    }\n",
       "\n",
       "    .dataframe tbody tr th {\n",
       "        vertical-align: top;\n",
       "    }\n",
       "\n",
       "    .dataframe thead th {\n",
       "        text-align: right;\n",
       "    }\n",
       "</style>\n",
       "<table border=\"1\" class=\"dataframe\">\n",
       "  <thead>\n",
       "    <tr style=\"text-align: right;\">\n",
       "      <th></th>\n",
       "      <th>weather_new</th>\n",
       "      <th>weather_delay</th>\n",
       "    </tr>\n",
       "  </thead>\n",
       "  <tbody>\n",
       "    <tr>\n",
       "      <th>0</th>\n",
       "      <td>Clear</td>\n",
       "      <td>57.022155</td>\n",
       "    </tr>\n",
       "    <tr>\n",
       "      <th>1</th>\n",
       "      <td>Overcast</td>\n",
       "      <td>53.940169</td>\n",
       "    </tr>\n",
       "    <tr>\n",
       "      <th>2</th>\n",
       "      <td>Partially cloudy</td>\n",
       "      <td>57.001339</td>\n",
       "    </tr>\n",
       "    <tr>\n",
       "      <th>3</th>\n",
       "      <td>Rain</td>\n",
       "      <td>63.104916</td>\n",
       "    </tr>\n",
       "    <tr>\n",
       "      <th>4</th>\n",
       "      <td>Snow</td>\n",
       "      <td>87.754630</td>\n",
       "    </tr>\n",
       "  </tbody>\n",
       "</table>\n",
       "</div>"
      ],
      "text/plain": [
       "        weather_new  weather_delay\n",
       "0             Clear      57.022155\n",
       "1          Overcast      53.940169\n",
       "2  Partially cloudy      57.001339\n",
       "3              Rain      63.104916\n",
       "4              Snow      87.754630"
      ]
     },
     "execution_count": 170,
     "metadata": {},
     "output_type": "execute_result"
    }
   ],
   "source": [
    "db_delay_per_type = pd.DataFrame(data_merged.groupby('weather_new')['weather_delay'].mean())\n",
    "db_delay_per_type.reset_index()"
   ]
  },
  {
   "cell_type": "code",
   "execution_count": 193,
   "metadata": {},
   "outputs": [
    {
     "data": {
      "text/plain": [
       "Text(0.5, 1.0, 'Average weather caused arrival delays per weather type')"
      ]
     },
     "execution_count": 193,
     "metadata": {},
     "output_type": "execute_result"
    },
    {
     "data": {
      "image/png": "[encoded data removed]",
      "text/plain": [
       "<Figure size 1080x360 with 1 Axes>"
      ]
     },
     "metadata": {},
     "output_type": "display_data"
    }
   ],
   "source": [
    "# plot it\n",
    "\n",
    "fig, ax = plt.subplots(figsize=(15,5))\n",
    "sns.barplot(data=db_delay_per_type.reset_index(), x='weather_new', y='weather_delay')\n",
    "ax.set_title('Average weather caused arrival delays per weather type')"
   ]
  },
  {
   "cell_type": "markdown",
   "metadata": {},
   "source": [
    "### Step 5: Look at their distributions"
   ]
  },
  {
   "cell_type": "code",
   "execution_count": 178,
   "metadata": {},
   "outputs": [],
   "source": [
    "dist_clear = data_merged[data_merged.weather_new == 'Clear']\n",
    "dist_overcast = data_merged[data_merged.weather_new == 'Overcast']\n",
    "dist_pc = data_merged[data_merged.weather_new == 'Partially cloudy']\n",
    "dist_rain = data_merged[data_merged.weather_new == 'Rain']\n",
    "dist_snow = data_merged[data_merged.weather_new == 'Snow']"
   ]
  },
  {
   "cell_type": "code",
   "execution_count": 189,
   "metadata": {},
   "outputs": [
    {
     "data": {
      "text/plain": [
       "Text(0, 0.5, 'Density')"
      ]
     },
     "execution_count": 189,
     "metadata": {},
     "output_type": "execute_result"
    },
    {
     "data": {
      "image/png": "[encoded data removed]",
      "text/plain": [
       "<Figure size 1080x360 with 1 Axes>"
      ]
     },
     "metadata": {},
     "output_type": "display_data"
    }
   ],
   "source": [
    "fig, ax = plt.subplots(figsize=(15,5))\n",
    "sns.distplot(dist_clear.weather_delay)\n",
    "ax.set_title('Clear distribution')\n",
    "ax.set_ylabel('Density')"
   ]
  },
  {
   "cell_type": "code",
   "execution_count": 190,
   "metadata": {},
   "outputs": [
    {
     "data": {
      "text/plain": [
       "Text(0, 0.5, 'Density')"
      ]
     },
     "execution_count": 190,
     "metadata": {},
     "output_type": "execute_result"
    },
    {
     "data": {
      "image/png": "[encoded data removed]",
      "text/plain": [
       "<Figure size 1080x360 with 1 Axes>"
      ]
     },
     "metadata": {},
     "output_type": "display_data"
    }
   ],
   "source": [
    "fig, ax = plt.subplots(figsize=(15,5))\n",
    "sns.distplot(dist_overcast.weather_delay)\n",
    "ax.set_title('Overcast distribution')\n",
    "ax.set_ylabel('Density')"
   ]
  },
  {
   "cell_type": "code",
   "execution_count": 191,
   "metadata": {},
   "outputs": [
    {
     "data": {
      "text/plain": [
       "Text(0, 0.5, 'Density')"
      ]
     },
     "execution_count": 191,
     "metadata": {},
     "output_type": "execute_result"
    },
    {
     "data": {
      "image/png": "[encoded data removed]",
      "text/plain": [
       "<Figure size 1080x360 with 1 Axes>"
      ]
     },
     "metadata": {},
     "output_type": "display_data"
    }
   ],
   "source": [
    "fig, ax = plt.subplots(figsize=(15,5))\n",
    "sns.distplot(dist_pc.weather_delay)\n",
    "ax.set_title('Partialy cloudy')\n",
    "ax.set_ylabel('Density')"
   ]
  },
  {
   "cell_type": "code",
   "execution_count": 194,
   "metadata": {},
   "outputs": [
    {
     "data": {
      "text/plain": [
       "Text(0, 0.5, 'Density')"
      ]
     },
     "execution_count": 194,
     "metadata": {},
     "output_type": "execute_result"
    },
    {
     "data": {
      "image/png": "[encoded data removed]",
      "text/plain": [
       "<Figure size 1080x360 with 1 Axes>"
      ]
     },
     "metadata": {},
     "output_type": "display_data"
    }
   ],
   "source": [
    "fig, ax = plt.subplots(figsize=(15,5))\n",
    "sns.distplot(dist_rain.weather_delay)\n",
    "ax.set_title('Rain')\n",
    "ax.set_ylabel('Density')"
   ]
  },
  {
   "cell_type": "code",
   "execution_count": 196,
   "metadata": {},
   "outputs": [
    {
     "data": {
      "text/plain": [
       "Text(0, 0.5, 'Density')"
      ]
     },
     "execution_count": 196,
     "metadata": {},
     "output_type": "execute_result"
    },
    {
     "data": {
      "image/png": "[encoded data removed]",
      "text/plain": [
       "<Figure size 1080x360 with 1 Axes>"
      ]
     },
     "metadata": {},
     "output_type": "display_data"
    }
   ],
   "source": [
    "fig, ax = plt.subplots(figsize=(15,5))\n",
    "sns.distplot(dist_snow.weather_delay)\n",
    "ax.set_title('Snow')\n",
    "ax.set_ylabel('Density')"
   ]
  },
  {
   "cell_type": "code",
   "execution_count": 204,
   "metadata": {},
   "outputs": [],
   "source": [
    "# remove outliars and plot again\n",
    "data_merged = data_merged[data_merged.weather_delay < 200]\n",
    "dist_clear = data_merged[data_merged.weather_new == 'Clear']\n",
    "dist_overcast = data_merged[data_merged.weather_new == 'Overcast']\n",
    "dist_pc = data_merged[data_merged.weather_new == 'Partially cloudy']\n",
    "dist_rain = data_merged[data_merged.weather_new == 'Rain']\n",
    "dist_snow = data_merged[data_merged.weather_new == 'Snow']"
   ]
  },
  {
   "cell_type": "code",
   "execution_count": 205,
   "metadata": {},
   "outputs": [
    {
     "data": {
      "text/plain": [
       "Text(0, 0.5, 'Density')"
      ]
     },
     "execution_count": 205,
     "metadata": {},
     "output_type": "execute_result"
    },
    {
     "data": {
      "image/png": "[encoded data removed]",
      "text/plain": [
       "<Figure size 1080x360 with 1 Axes>"
      ]
     },
     "metadata": {},
     "output_type": "display_data"
    }
   ],
   "source": [
    "fig, ax = plt.subplots(figsize=(15,5))\n",
    "sns.distplot(dist_clear.weather_delay)\n",
    "ax.set_title('Clear distribution')\n",
    "ax.set_ylabel('Density')"
   ]
  },
  {
   "cell_type": "code",
   "execution_count": 206,
   "metadata": {},
   "outputs": [
    {
     "data": {
      "text/plain": [
       "Text(0, 0.5, 'Density')"
      ]
     },
     "execution_count": 206,
     "metadata": {},
     "output_type": "execute_result"
    },
    {
     "data": {
      "image/png": "[encoded data removed]",
      "text/plain": [
       "<Figure size 1080x360 with 1 Axes>"
      ]
     },
     "metadata": {},
     "output_type": "display_data"
    }
   ],
   "source": [
    "fig, ax = plt.subplots(figsize=(15,5))\n",
    "sns.distplot(dist_overcast.weather_delay)\n",
    "ax.set_title('Overcast distribution')\n",
    "ax.set_ylabel('Density')"
   ]
  },
  {
   "cell_type": "code",
   "execution_count": 207,
   "metadata": {},
   "outputs": [
    {
     "data": {
      "text/plain": [
       "Text(0, 0.5, 'Density')"
      ]
     },
     "execution_count": 207,
     "metadata": {},
     "output_type": "execute_result"
    },
    {
     "data": {
      "image/png": "[encoded data removed]",
      "text/plain": [
       "<Figure size 1080x360 with 1 Axes>"
      ]
     },
     "metadata": {},
     "output_type": "display_data"
    }
   ],
   "source": [
    "fig, ax = plt.subplots(figsize=(15,5))\n",
    "sns.distplot(dist_pc.weather_delay)\n",
    "ax.set_title('Partialy cloudy')\n",
    "ax.set_ylabel('Density')"
   ]
  },
  {
   "cell_type": "code",
   "execution_count": 208,
   "metadata": {},
   "outputs": [
    {
     "data": {
      "text/plain": [
       "Text(0, 0.5, 'Density')"
      ]
     },
     "execution_count": 208,
     "metadata": {},
     "output_type": "execute_result"
    },
    {
     "data": {
      "image/png": "[encoded data removed]",
      "text/plain": [
       "<Figure size 1080x360 with 1 Axes>"
      ]
     },
     "metadata": {},
     "output_type": "display_data"
    }
   ],
   "source": [
    "fig, ax = plt.subplots(figsize=(15,5))\n",
    "sns.distplot(dist_rain.weather_delay)\n",
    "ax.set_title('Rain')\n",
    "ax.set_ylabel('Density')"
   ]
  },
  {
   "cell_type": "code",
   "execution_count": 209,
   "metadata": {},
   "outputs": [
    {
     "data": {
      "text/plain": [
       "Text(0, 0.5, 'Density')"
      ]
     },
     "execution_count": 209,
     "metadata": {},
     "output_type": "execute_result"
    },
    {
     "data": {
      "image/png": "[encoded data removed]",
      "text/plain": [
       "<Figure size 1080x360 with 1 Axes>"
      ]
     },
     "metadata": {},
     "output_type": "display_data"
    }
   ],
   "source": [
    "fig, ax = plt.subplots(figsize=(15,5))\n",
    "sns.distplot(dist_snow.weather_delay)\n",
    "ax.set_title('Snow')\n",
    "ax.set_ylabel('Density')"
   ]
  },
  {
   "cell_type": "code",
   "execution_count": null,
   "metadata": {},
   "outputs": [],
   "source": []
  }
 ],
 "metadata": {
  "kernelspec": {
   "display_name": "Python 3",
   "language": "python",
   "name": "python3"
  },
  "language_info": {
   "codemirror_mode": {
    "name": "ipython",
    "version": 3
   },
   "file_extension": ".py",
   "mimetype": "text/x-python",
   "name": "python",
   "nbconvert_exporter": "python",
   "pygments_lexer": "ipython3",
   "version": "3.7.6"
  }
 },
 "nbformat": 4,
 "nbformat_minor": 4
}
