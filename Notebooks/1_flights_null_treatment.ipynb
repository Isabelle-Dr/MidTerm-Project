{
 "cells": [
  {
   "cell_type": "markdown",
   "metadata": {},
   "source": [
    "## Flights Null Treatment\n",
    "\n",
    "Notebook for the exploration of the null values and the null value treatment"
   ]
  },
  {
   "cell_type": "markdown",
   "metadata": {},
   "source": [
    "---\n",
    "**INPUT** raw flights data\n",
    "**OUTPUT** flights nulls removed\n",
    "\n",
    "---"
   ]
  },
  {
   "cell_type": "code",
   "execution_count": 78,
   "metadata": {},
   "outputs": [],
   "source": [
    "import pandas as pd\n",
    "import math"
   ]
  },
  {
   "cell_type": "code",
   "execution_count": 126,
   "metadata": {},
   "outputs": [],
   "source": [
    "WN = pd.read_csv(\"carrier_WN.csv\")"
   ]
  },
  {
   "cell_type": "code",
   "execution_count": 9,
   "metadata": {},
   "outputs": [
    {
     "data": {
      "text/plain": [
       "Index(['fl_date', 'mkt_unique_carrier', 'branded_code_share', 'mkt_carrier',\n",
       "       'mkt_carrier_fl_num', 'op_unique_carrier', 'tail_num',\n",
       "       'op_carrier_fl_num', 'origin_airport_id', 'origin', 'origin_city_name',\n",
       "       'dest_airport_id', 'dest', 'dest_city_name', 'crs_dep_time', 'dep_time',\n",
       "       'dep_delay', 'taxi_out', 'wheels_off', 'wheels_on', 'taxi_in',\n",
       "       'crs_arr_time', 'arr_time', 'arr_delay', 'cancelled',\n",
       "       'cancellation_code', 'diverted', 'dup', 'crs_elapsed_time',\n",
       "       'actual_elapsed_time', 'air_time', 'flights', 'distance',\n",
       "       'carrier_delay', 'weather_delay', 'nas_delay', 'security_delay',\n",
       "       'late_aircraft_delay', 'first_dep_time', 'total_add_gtime',\n",
       "       'longest_add_gtime'],\n",
       "      dtype='object')"
      ]
     },
     "execution_count": 9,
     "metadata": {},
     "output_type": "execute_result"
    }
   ],
   "source": [
    "WN.columns"
   ]
  },
  {
   "cell_type": "code",
   "execution_count": 127,
   "metadata": {},
   "outputs": [],
   "source": [
    "WN.tail_num.fillna(\"EMPTY\", inplace=True)"
   ]
  },
  {
   "cell_type": "code",
   "execution_count": 128,
   "metadata": {},
   "outputs": [],
   "source": [
    "WN.dep_delay.fillna(0, inplace=True)"
   ]
  },
  {
   "cell_type": "code",
   "execution_count": 129,
   "metadata": {},
   "outputs": [],
   "source": [
    "WN.taxi_out.fillna(0, inplace=True)"
   ]
  },
  {
   "cell_type": "code",
   "execution_count": 130,
   "metadata": {},
   "outputs": [],
   "source": [
    "WN.wheels_off.fillna(0, inplace=True)"
   ]
  },
  {
   "cell_type": "code",
   "execution_count": 81,
   "metadata": {},
   "outputs": [],
   "source": [
    "def check_collection_drop(col1, col2):\n",
    "    if math.isnan(col1):\n",
    "        if col2 == 1:\n",
    "            return 0\n",
    "    return col1 "
   ]
  },
  {
   "cell_type": "code",
   "execution_count": 131,
   "metadata": {},
   "outputs": [],
   "source": [
    "WN.wheels_on = WN.apply(lambda x: check_collection_drop(x.wheels_on, x.cancelled),axis=1)\n",
    "WN = WN[WN.wheels_on.notnull()]"
   ]
  },
  {
   "cell_type": "code",
   "execution_count": 132,
   "metadata": {},
   "outputs": [],
   "source": [
    "WN.taxi_in = WN.apply(lambda x: check_collection_drop(x.taxi_in, x.cancelled),axis=1)\n",
    "WN = WN[WN.taxi_in.notnull()]"
   ]
  },
  {
   "cell_type": "code",
   "execution_count": 133,
   "metadata": {},
   "outputs": [],
   "source": [
    "WN.arr_time = WN.apply(lambda x: check_collection_drop(x.arr_time, x.cancelled),axis=1)\n",
    "WN = WN[WN.arr_time.notnull()]"
   ]
  },
  {
   "cell_type": "code",
   "execution_count": 134,
   "metadata": {},
   "outputs": [],
   "source": [
    "WN.arr_delay = WN.apply(lambda x: check_collection_drop(x.arr_delay, x.cancelled),axis=1)\n",
    "WN = WN[WN.arr_delay.notnull()]"
   ]
  },
  {
   "cell_type": "code",
   "execution_count": 135,
   "metadata": {},
   "outputs": [],
   "source": [
    "WN.cancellation_code.fillna(0, inplace=True)"
   ]
  },
  {
   "cell_type": "code",
   "execution_count": 136,
   "metadata": {},
   "outputs": [],
   "source": [
    "WN.actual_elapsed_time = WN.apply(lambda x: check_collection_drop(x.actual_elapsed_time, x.cancelled),axis=1)\n",
    "WN = WN[WN.actual_elapsed_time.notnull()]"
   ]
  },
  {
   "cell_type": "code",
   "execution_count": 137,
   "metadata": {},
   "outputs": [],
   "source": [
    "WN.air_time = WN.apply(lambda x: check_collection_drop(x.air_time, x.cancelled),axis=1)\n",
    "WN = WN[WN.air_time.notnull()]"
   ]
  },
  {
   "cell_type": "code",
   "execution_count": 138,
   "metadata": {},
   "outputs": [],
   "source": [
    "def check_arr_delay (col1, col2):\n",
    "    if math.isnan(col1):\n",
    "        if col2 < 15:\n",
    "            return 0\n",
    "    return col1"
   ]
  },
  {
   "cell_type": "code",
   "execution_count": 139,
   "metadata": {},
   "outputs": [
    {
     "data": {
      "text/plain": [
       "(2708601, 41)"
      ]
     },
     "execution_count": 139,
     "metadata": {},
     "output_type": "execute_result"
    }
   ],
   "source": [
    "WN.shape"
   ]
  },
  {
   "cell_type": "code",
   "execution_count": 140,
   "metadata": {},
   "outputs": [],
   "source": [
    "WN.carrier_delay= WN.apply(lambda x: check_arr_delay(x.carrier_delay, x.arr_delay),axis=1)\n",
    "WN = WN[WN.carrier_delay.notnull()]"
   ]
  },
  {
   "cell_type": "code",
   "execution_count": 141,
   "metadata": {},
   "outputs": [
    {
     "data": {
      "text/plain": [
       "(2708601, 41)"
      ]
     },
     "execution_count": 141,
     "metadata": {},
     "output_type": "execute_result"
    }
   ],
   "source": [
    "WN.shape"
   ]
  },
  {
   "cell_type": "code",
   "execution_count": 142,
   "metadata": {},
   "outputs": [],
   "source": [
    "WN.weather_delay= WN.apply(lambda x: check_arr_delay(x.weather_delay, x.arr_delay),axis=1)\n",
    "WN.nas_delay= WN.apply(lambda x: check_arr_delay(x.nas_delay, x.arr_delay),axis=1)\n",
    "WN.security_delay= WN.apply(lambda x: check_arr_delay(x.security_delay, x.arr_delay),axis=1)\n",
    "WN.late_aircraft_delay= WN.apply(lambda x: check_arr_delay(x.late_aircraft_delay, x.arr_delay),axis=1)"
   ]
  },
  {
   "cell_type": "code",
   "execution_count": 144,
   "metadata": {},
   "outputs": [],
   "source": [
    "def replace_with_column (col1, col2):\n",
    "    if math.isnan(col1):\n",
    "        return col2\n",
    "    return col1"
   ]
  },
  {
   "cell_type": "code",
   "execution_count": 145,
   "metadata": {},
   "outputs": [],
   "source": [
    "WN.dep_time= WN.apply(lambda x: replace_with_column(x.dep_time, x.crs_dep_time),axis=1)"
   ]
  },
  {
   "cell_type": "code",
   "execution_count": 146,
   "metadata": {},
   "outputs": [],
   "source": [
    "WN.first_dep_time= WN.apply(lambda x: replace_with_column(x.first_dep_time, x.dep_time),axis=1)"
   ]
  },
  {
   "cell_type": "code",
   "execution_count": 147,
   "metadata": {},
   "outputs": [],
   "source": [
    "WN.total_add_gtime.fillna(0, inplace=True)\n",
    "WN.longest_add_gtime.fillna(0, inplace=True)"
   ]
  },
  {
   "cell_type": "code",
   "execution_count": 160,
   "metadata": {},
   "outputs": [],
   "source": [
    "WN.to_csv(\"carrier_WN_nullsremoved.csv\", index=False)"
   ]
  },
  {
   "cell_type": "markdown",
   "metadata": {},
   "source": [
    "## Repeat for Remaining Carriers"
   ]
  },
  {
   "cell_type": "code",
   "execution_count": 161,
   "metadata": {
    "jupyter": {
     "source_hidden": true
    }
   },
   "outputs": [],
   "source": [
    "def remove_nulls (WN):\n",
    "    WN.tail_num.fillna(\"EMPTY\", inplace=True)\n",
    "    WN.dep_delay.fillna(0, inplace=True)\n",
    "    WN.taxi_out.fillna(0, inplace=True)\n",
    "    WN.wheels_off.fillna(0, inplace=True)\n",
    "    WN.cancellation_code.fillna(0, inplace=True)\n",
    "    WN.wheels_on = WN.apply(lambda x: check_collection_drop(x.wheels_on, x.cancelled),axis=1)\n",
    "    WN = WN[WN.wheels_on.notnull()]\n",
    "    WN.taxi_in = WN.apply(lambda x: check_collection_drop(x.taxi_in, x.cancelled),axis=1)\n",
    "    WN = WN[WN.taxi_in.notnull()]\n",
    "    WN.arr_time = WN.apply(lambda x: check_collection_drop(x.arr_time, x.cancelled),axis=1)\n",
    "    WN = WN[WN.arr_time.notnull()]\n",
    "    WN.arr_delay = WN.apply(lambda x: check_collection_drop(x.arr_delay, x.cancelled),axis=1)\n",
    "    WN = WN[WN.arr_delay.notnull()]\n",
    "    WN.actual_elapsed_time = WN.apply(lambda x: check_collection_drop(x.actual_elapsed_time, x.cancelled),axis=1)\n",
    "    WN = WN[WN.actual_elapsed_time.notnull()]\n",
    "    WN.air_time = WN.apply(lambda x: check_collection_drop(x.air_time, x.cancelled),axis=1)\n",
    "    WN = WN[WN.air_time.notnull()]\n",
    "    WN.carrier_delay= WN.apply(lambda x: check_arr_delay(x.carrier_delay, x.arr_delay),axis=1)\n",
    "    WN = WN[WN.carrier_delay.notnull()]\n",
    "    WN.weather_delay= WN.apply(lambda x: check_arr_delay(x.weather_delay, x.arr_delay),axis=1)\n",
    "    WN.nas_delay= WN.apply(lambda x: check_arr_delay(x.nas_delay, x.arr_delay),axis=1)\n",
    "    WN.security_delay= WN.apply(lambda x: check_arr_delay(x.security_delay, x.arr_delay),axis=1)\n",
    "    WN.late_aircraft_delay= WN.apply(lambda x: check_arr_delay(x.late_aircraft_delay, x.arr_delay),axis=1)\n",
    "    WN.dep_time= WN.apply(lambda x: replace_with_column(x.dep_time, x.crs_dep_time),axis=1)\n",
    "    WN.first_dep_time= WN.apply(lambda x: replace_with_column(x.first_dep_time, x.dep_time),axis=1)\n",
    "    WN.total_add_gtime.fillna(0, inplace=True)\n",
    "    WN.longest_add_gtime.fillna(0, inplace=True)\n",
    "    return WN"
   ]
  },
  {
   "cell_type": "code",
   "execution_count": 162,
   "metadata": {
    "collapsed": true,
    "jupyter": {
     "outputs_hidden": true,
     "source_hidden": true
    }
   },
   "outputs": [
    {
     "name": "stderr",
     "output_type": "stream",
     "text": [
      "/opt/anaconda3/lib/python3.8/site-packages/IPython/core/interactiveshell.py:3145: DtypeWarning: Columns (25) have mixed types.Specify dtype option on import or set low_memory=False.\n",
      "  has_raised = await self.run_ast_nodes(code_ast.body, cell_name,\n"
     ]
    },
    {
     "name": "stdout",
     "output_type": "stream",
     "text": [
      "(4138991, 41)\n"
     ]
    },
    {
     "name": "stderr",
     "output_type": "stream",
     "text": [
      "/opt/anaconda3/lib/python3.8/site-packages/pandas/core/generic.py:5168: SettingWithCopyWarning: \n",
      "A value is trying to be set on a copy of a slice from a DataFrame.\n",
      "Try using .loc[row_indexer,col_indexer] = value instead\n",
      "\n",
      "See the caveats in the documentation: https://pandas.pydata.org/pandas-docs/stable/user_guide/indexing.html#returning-a-view-versus-a-copy\n",
      "  self[name] = value\n"
     ]
    },
    {
     "name": "stdout",
     "output_type": "stream",
     "text": [
      "(4128169, 41)\n"
     ]
    }
   ],
   "source": [
    "AA = pd.read_csv(\"carrier_AA.csv\")\n",
    "print(AA.shape)\n",
    "AA = remove_nulls(AA)\n",
    "print(AA.shape)\n",
    "WN.to_csv(\"carrier_AA_nullsremoved.csv\", index=False)"
   ]
  },
  {
   "cell_type": "code",
   "execution_count": 163,
   "metadata": {},
   "outputs": [],
   "source": [
    "AA.to_csv(\"carrier_AA_nullsremoved.csv\", index=False)"
   ]
  },
  {
   "cell_type": "code",
   "execution_count": 164,
   "metadata": {
    "jupyter": {
     "source_hidden": true
    }
   },
   "outputs": [],
   "source": [
    "AS = pd.read_csv(\"carrier_AS.csv\")\n",
    "AS = remove_nulls(AS)\n",
    "AS.to_csv(\"carrier_AS_nullsremoved.csv\", index=False)"
   ]
  },
  {
   "cell_type": "code",
   "execution_count": 165,
   "metadata": {},
   "outputs": [],
   "source": [
    "B6 = pd.read_csv(\"carrier_B6.csv\")\n",
    "B6 = remove_nulls(B6)\n",
    "B6.to_csv(\"carrier_B6_nullsremoved.csv\", index=False)"
   ]
  },
  {
   "cell_type": "code",
   "execution_count": 166,
   "metadata": {},
   "outputs": [],
   "source": [
    "DL = pd.read_csv(\"carrier_dl.csv\")\n",
    "DL = remove_nulls(DL)\n",
    "DL.to_csv(\"carrier_DL_nullsremoved.csv\", index=False)"
   ]
  },
  {
   "cell_type": "code",
   "execution_count": 167,
   "metadata": {},
   "outputs": [],
   "source": [
    "F9 = pd.read_csv(\"carrier_F9.csv\")\n",
    "F9 = remove_nulls(F9)\n",
    "F9.to_csv(\"carrier_F9_nullsremoved.csv\", index=False)"
   ]
  },
  {
   "cell_type": "code",
   "execution_count": 168,
   "metadata": {},
   "outputs": [],
   "source": [
    "G4 = pd.read_csv(\"carrier_G4.csv\")\n",
    "G4 = remove_nulls(G4)\n",
    "G4.to_csv(\"carrier_G4_nullsremoved.csv\", index=False)"
   ]
  },
  {
   "cell_type": "code",
   "execution_count": 169,
   "metadata": {},
   "outputs": [],
   "source": [
    "HA = pd.read_csv(\"carrier_HA.csv\")\n",
    "HA = remove_nulls(HA)\n",
    "HA.to_csv(\"carrier_HA_nullsremoved.csv\", index=False)"
   ]
  },
  {
   "cell_type": "code",
   "execution_count": 170,
   "metadata": {},
   "outputs": [],
   "source": [
    "NK = pd.read_csv(\"carrier_NK.csv\")\n",
    "NK = remove_nulls(NK)\n",
    "NK.to_csv(\"carrier_NK_nullsremoved.csv\", index=False)"
   ]
  },
  {
   "cell_type": "code",
   "execution_count": 171,
   "metadata": {},
   "outputs": [],
   "source": [
    "UA = pd.read_csv(\"carrier_UA.csv\")\n",
    "UA = remove_nulls(UA)\n",
    "UA.to_csv(\"carrier_UA_nullsremoved.csv\", index=False)"
   ]
  },
  {
   "cell_type": "code",
   "execution_count": 172,
   "metadata": {},
   "outputs": [],
   "source": [
    "VX = pd.read_csv(\"carrier_VX.csv\")\n",
    "VX = remove_nulls(VX)\n",
    "VX.to_csv(\"carrier_VX_nullsremoved.csv\", index=False)"
   ]
  },
  {
   "cell_type": "code",
   "execution_count": null,
   "metadata": {},
   "outputs": [],
   "source": []
  }
 ],
 "metadata": {
  "kernelspec": {
   "display_name": "Python 3",
   "language": "python",
   "name": "python3"
  },
  "language_info": {
   "codemirror_mode": {
    "name": "ipython",
    "version": 3
   },
   "file_extension": ".py",
   "mimetype": "text/x-python",
   "name": "python",
   "nbconvert_exporter": "python",
   "pygments_lexer": "ipython3",
   "version": "3.8.3"
  }
 },
 "nbformat": 4,
 "nbformat_minor": 4
}
