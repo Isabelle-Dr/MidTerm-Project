{
 "cells": [
  {
   "cell_type": "markdown",
   "metadata": {},
   "source": [
    "# 3. Binary classification\n",
    "**Goal:** The goal is to predict if the flight will be cancelled  \n",
    "\n",
    "**Target variables:** \n",
    "- `CANCELLED` \n",
    "\n",
    "**Notes**:  \n",
    "\n",
    "2% of flights are cancelled. it's a highly imbalanced dataset. We will want to predict probabilities with custom threshold.  \n",
    "[Article on framework for highly imbalanced datasets](https://machinelearningmastery.com/framework-for-imbalanced-classification-projects/)\n",
    "\n",
    "**Steps**:\n",
    "1. Pick evaluation metrics\n",
    "2. Spot check different algos\n",
    "3. Tune hyperparameters using grid search on 2-3 selected algos\n",
    "4. Compare them based on the selected metrics"
   ]
  },
  {
   "cell_type": "markdown",
   "metadata": {},
   "source": [
    "## Step 1. Pick evaluation metrics\n",
    "**Brier score** (because we will be using probabilities in some models)  \n",
    "**Precision-Recall AUC** (because positive class is more important)  \n",
    "**F1 score**  "
   ]
  },
  {
   "cell_type": "markdown",
   "metadata": {},
   "source": [
    "## Step 2. Spot check different algos (using K-Folds on sample data)\n",
    "\n",
    "### Step 2.1 Spot check regular algorythms\n",
    "\n",
    "- Naive algorythm (used as a baseline model):  \n",
    "Predict the majority class \n",
    "\n",
    "- Linear algorythms:  \n",
    "Logistic Regression  \n",
    "LDA  \n",
    "- Non linear algos:  \n",
    "k-Nearest Neighbors  \n",
    "\n",
    "- Ensemble algorythms:  \n",
    "Random forest  \n",
    "Stochastic Gradient Boosting   \n",
    "XGBoost  \n",
    " *Optional: custom ensemble*\n",
    "\n",
    "- Other\n",
    "One-Class Support Vector Machines (usually used for outlier detection but can be used to do classification) - tried and took too long to train\n",
    "\n",
    "### Step 2.2 Spot check imbalanced classification algos. Use those techniques on the ML algos to see if it improves performance\n",
    "\n",
    "- Data sampling  \n",
    "Oversampler and Undersampler method: SMOTE combined with RandomUnderSampler on the training datasets in this step [Article on how to perform SMOTE](https://machinelearningmastery.com/smote-oversampling-for-imbalanced-classification/)\n",
    "\n",
    "- Probability tuning (custom threshold) on the algos that can give probabilities as outputs  \n",
    "Logistic Regression \n",
    "LDA \n",
    "\n",
    "- Optional: Try a [calibration algo on the predicted prbobabilities](https://machinelearningmastery.com/calibrated-classification-model-in-scikit-learn/)\n",
    "\n"
   ]
  },
  {
   "cell_type": "code",
   "execution_count": 431,
   "metadata": {},
   "outputs": [],
   "source": [
    "import numpy as np\n",
    "import pandas as pd"
   ]
  },
  {
   "cell_type": "code",
   "execution_count": 441,
   "metadata": {},
   "outputs": [
    {
     "name": "stdout",
     "output_type": "stream",
     "text": [
      "(10000, 18)\n",
      "Index(['branded_code_share', 'crs_dep_time', 'crs_arr_time',\n",
      "       'crs_elapsed_time', 'air_time', 'distance', 'fl_month',\n",
      "       'fl_day_of_week', 'fl_type', 'state_travel_type', 'm_hist_dep_delay',\n",
      "       'med_hist_dep_delay', 'm_hist_arr_delay', 'med_hist_arr_delay',\n",
      "       'origin_cat', 'dest_cat', 'mkt_op_combo_cat', 'cancelled'],\n",
      "      dtype='object')\n"
     ]
    }
   ],
   "source": [
    "# data \n",
    "data = pd.read_csv('db_binary_sample.csv', index_col = 0)\n",
    "print(data.shape)\n",
    "print(data.columns)\n",
    "\n",
    "data_pca = pd.read_csv('db_binary_pca_sample.csv', index_col = 0)\n",
    "print(data_pca.shape)\n",
    "print(data_pca.columns)"
   ]
  },
  {
   "cell_type": "code",
   "execution_count": 448,
   "metadata": {},
   "outputs": [
    {
     "name": "stdout",
     "output_type": "stream",
     "text": [
      "(10000,)\n",
      "(10000, 17)\n"
     ]
    }
   ],
   "source": [
    "y = data.cancelled\n",
    "X = data.drop('cancelled', axis = 1)\n",
    "print(y.shape)\n",
    "print(X.shape)\n",
    "\n",
    "data_pca = data_pca.sample(10000) ###smaller sample\n",
    "y_pca = data_pca.cancelled\n",
    "X_pca = data_pca.drop('cancelled', axis = 1)\n",
    "print(y.shape)\n",
    "print(X.shape)\n",
    "\n",
    "y_small = y[:1000] # used them for test only\n",
    "X_small = X[:1000] # used them for test only"
   ]
  },
  {
   "cell_type": "code",
   "execution_count": 447,
   "metadata": {},
   "outputs": [
    {
     "name": "stdout",
     "output_type": "stream",
     "text": [
      "Class 0.0: 9834 values\n",
      "Class 1.0: 166 values\n",
      "Sample imbalance: 1.66 %\n"
     ]
    }
   ],
   "source": [
    "# get class representations\n",
    "# Big sample\n",
    "print(f'Class {data.cancelled.value_counts().index[0]}: {data.cancelled.value_counts().values[0]} values')\n",
    "print(f'Class {data.cancelled.value_counts().index[1]}: {data.cancelled.value_counts().values[1]} values')\n",
    "print(f'Sample imbalance: {data.cancelled.value_counts().values[1]/len(y)*100} %')"
   ]
  },
  {
   "cell_type": "code",
   "execution_count": 449,
   "metadata": {},
   "outputs": [
    {
     "name": "stdout",
     "output_type": "stream",
     "text": [
      "Class 0.0: 979 values\n",
      "Class 1.0: 21 values\n"
     ]
    }
   ],
   "source": [
    "# get a smaller sample\n",
    "print(f'Class {y_small.value_counts().index[0]}: {y_small.value_counts().values[0]} values')\n",
    "print(f'Class {y_small.value_counts().index[1]}: {y_small.value_counts().values[1]} values')"
   ]
  },
  {
   "cell_type": "markdown",
   "metadata": {},
   "source": [
    "### Step 2.1 Spot Check Algos"
   ]
  },
  {
   "cell_type": "code",
   "execution_count": 450,
   "metadata": {},
   "outputs": [],
   "source": [
    "# import models to try\n",
    "from sklearn.dummy import DummyClassifier\n",
    "from sklearn.linear_model import LogisticRegression\n",
    "from sklearn.discriminant_analysis import LinearDiscriminantAnalysis\n",
    "from sklearn.neighbors import KNeighborsClassifier\n",
    "from sklearn.ensemble import RandomForestClassifier\n",
    "from sklearn.ensemble import GradientBoostingClassifier\n",
    "import xgboost as xgb\n",
    "\n",
    "# params\n",
    "models = {\n",
    "    'Dummy Classifier': DummyClassifier(strategy = \"most_frequent\"), \\\n",
    "    'Logistic Regression': LogisticRegression(max_iter=1000), \\\n",
    "    'LDA': LinearDiscriminantAnalysis(), \\\n",
    "#    'KNeighborsClassifier' : KNeighborsClassifier, \\  #doesn,t work, gives me an error\n",
    "    'Random Forest': RandomForestClassifier(), \\\n",
    "    'Gradient Boosting': GradientBoostingClassifier(), \\\n",
    "    'XGBoost': xgb.XGBClassifier(scale_pos_weight=100) \\\n",
    "    }\n",
    "\n",
    "scoring = ('neg_brier_score', 'roc_auc', 'f1')"
   ]
  },
  {
   "cell_type": "code",
   "execution_count": 451,
   "metadata": {},
   "outputs": [],
   "source": [
    "# this function creates two dataframe outputs: AVG scoring per model and STD scoring per model\n",
    "# make sure you import the models outside of this function and that the scorings are supported by them\n",
    "\n",
    "def perform_cross_validate(models, X, y, scoring, n_folds, plot = False):\n",
    "    \n",
    "    # import cross validate\n",
    "    from sklearn.model_selection import cross_validate\n",
    "    import pandas as pd\n",
    "    import numpy as np\n",
    "    \n",
    "    # create dataframe\n",
    "    results_mean = pd.DataFrame(columns = list(models.keys()), index=list(scoring))\n",
    "    results_std = pd.DataFrame(columns = list(models.keys()),  index=list(scoring))\n",
    "    \n",
    "\n",
    "    # perform cross validate and store desults in the dataframe\n",
    "    for key in models:\n",
    "        model_name = key\n",
    "        model = models[key]  # this is the model's placeholder\n",
    "        cv = cross_validate(estimator=model, X=X, y=y, cv=n_folds, scoring=scoring)\n",
    "    \n",
    "        # adds values for each scoring in the dataframes\n",
    "        results_mean[model_name] = [cv['test_'+scoring[i]].mean() for i in range(len(scoring))]\n",
    "        results_std[model_name] = [cv['test_'+scoring[i]].std() for i in range(len(scoring))]\n",
    "        \n",
    "        \n",
    "    if plot:\n",
    "        #setup\n",
    "        to_plot = {0:311, 1:312, 2:313, 3:314, 4:315, 5:316}\n",
    "        import matplotlib.pyplot as plt\n",
    "        %matplotlib inline\n",
    "        from matplotlib.pylab import rcParams\n",
    "        rcParams['figure.figsize'] = 12, 10\n",
    "        \n",
    "        # plot\n",
    "        for i, score in enumerate(scoring):\n",
    "            plt.subplot(to_plot[i])\n",
    "            plt.bar(list(results_mean.columns),  results_mean.iloc[i].values)\n",
    "            plt.title(f'Plot for: {score}')\n",
    "            \n",
    "    return results_mean, results_std"
   ]
  },
  {
   "cell_type": "markdown",
   "metadata": {},
   "source": [
    "### 10 000 datapoints sample from db_binary_sample, 2 folds"
   ]
  },
  {
   "cell_type": "code",
   "execution_count": 452,
   "metadata": {},
   "outputs": [
    {
     "data": {
      "image/png": "[encoded data removed]",
      "text/plain": [
       "<Figure size 864x720 with 3 Axes>"
      ]
     },
     "metadata": {
      "needs_background": "light"
     },
     "output_type": "display_data"
    }
   ],
   "source": [
    "results_mean, results_std = perform_cross_validate(models=models, X=X, y=y, scoring=scoring, n_folds=2, plot=True)"
   ]
  },
  {
   "cell_type": "markdown",
   "metadata": {},
   "source": [
    "### 10 000 datapoints sample from db_binary_sample, 3 folds"
   ]
  },
  {
   "cell_type": "code",
   "execution_count": 455,
   "metadata": {},
   "outputs": [
    {
     "data": {
      "image/png": "[encoded data removed]",
      "text/plain": [
       "<Figure size 864x720 with 3 Axes>"
      ]
     },
     "metadata": {
      "needs_background": "light"
     },
     "output_type": "display_data"
    }
   ],
   "source": [
    "results_mean, results_std = perform_cross_validate(models=models, X=X, y=y, scoring=scoring, n_folds=3, plot=True)"
   ]
  },
  {
   "cell_type": "markdown",
   "metadata": {},
   "source": [
    "### 10 000 datapoints sample from db_binary_pca_sample, 2 folds"
   ]
  },
  {
   "cell_type": "code",
   "execution_count": null,
   "metadata": {},
   "outputs": [],
   "source": [
    "results_mean, results_std = perform_cross_validate(models=models, X=X_pca, y=y_pca, scoring=scoring, n_folds=3, plot=True)"
   ]
  },
  {
   "cell_type": "code",
   "execution_count": null,
   "metadata": {},
   "outputs": [],
   "source": []
  },
  {
   "cell_type": "markdown",
   "metadata": {},
   "source": [
    "## Step 3. Hyperparameter tuning\n",
    "Use Grid Search to tune the selected algo (on the whole dataframe?)"
   ]
  },
  {
   "cell_type": "code",
   "execution_count": null,
   "metadata": {},
   "outputs": [],
   "source": []
  }
 ],
 "metadata": {
  "kernelspec": {
   "display_name": "Python 3",
   "language": "python",
   "name": "python3"
  },
  "language_info": {
   "codemirror_mode": {
    "name": "ipython",
    "version": 3
   },
   "file_extension": ".py",
   "mimetype": "text/x-python",
   "name": "python",
   "nbconvert_exporter": "python",
   "pygments_lexer": "ipython3",
   "version": "3.7.6"
  }
 },
 "nbformat": 4,
 "nbformat_minor": 4
}
