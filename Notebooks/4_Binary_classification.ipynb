{
 "cells": [
  {
   "cell_type": "markdown",
   "metadata": {},
   "source": [
    "**INPUTS**  \n",
    "db_binary_sample.csv  \n",
    "flights_scaled.csv  \n",
    "**OUTPUTS**\\\n",
    "Binary.sav"
   ]
  },
  {
   "cell_type": "markdown",
   "metadata": {},
   "source": [
    "# 3. Binary classification\n",
    "**Goal:** The goal is to predict if the flight will be cancelled  \n",
    "\n",
    "**Target variables:** \n",
    "- `CANCELLED` \n",
    "\n",
    "**Notes**:  \n",
    "\n",
    "2% of flights are cancelled. it's a highly imbalanced dataset. We will want to predict probabilities with custom threshold.  \n",
    "[Article on framework for highly imbalanced datasets](https://machinelearningmastery.com/framework-for-imbalanced-classification-projects/)  \n",
    "\n",
    "We could look at an oversampler and Undersampler method: SMOTE combined with RandomUnderSampler on the training datasets in this step [Article on how to perform SMOTE](https://machinelearningmastery.com/smote-oversampling-for-imbalanced-classification/)  \n",
    "We could a [calibration algo on the predicted prbobabilities](https://machinelearningmastery.com/calibrated-classification-model-in-scikit-learn/)  \n",
    "\n",
    "**Steps**:\n",
    "1. Pick evaluation metrics and models to try\n",
    "2. Spot check different algos based on **a sample data** using cross validate\n",
    "3. Select a model\n",
    "4. Split training/testing data on **the whole dataset**\n",
    "5. Tune hyperparameters on selected algo on **training data** using grid search\n",
    "6. Train selected algo & parameters on the **training data**\n",
    "7. Test performance on **testing data**\n",
    "8. Save with pickle"
   ]
  },
  {
   "cell_type": "markdown",
   "metadata": {},
   "source": [
    "## 1. Pick evaluation metrics and models to try\n",
    "**Evaluation metrics**\n",
    "- Brier score (because we will be using probabilities in some models)  \n",
    "- Precision-Recall AUC (because positive class is more important)  \n",
    "- F1 score (weighted)  \n",
    "\n",
    "**Models to try**  \n",
    "- Naive algorythm (used as a baseline model):  \n",
    "Predict the majority class \n",
    "\n",
    "- Linear algorythms:  \n",
    "Logistic Regression  \n",
    "LDA   \n",
    "\n",
    "- Ensemble algorythms:  \n",
    "Random forest  \n",
    "Stochastic Gradient Boosting   \n",
    "XGBoost   \n",
    "\n",
    "- Other\n",
    "One-Class Support Vector Machines (usually used for outlier detection but can be used to do classification) - tried and took too long to train"
   ]
  },
  {
   "cell_type": "code",
   "execution_count": 1,
   "metadata": {},
   "outputs": [],
   "source": [
    "import numpy as np\n",
    "import pandas as pd"
   ]
  },
  {
   "cell_type": "code",
   "execution_count": 2,
   "metadata": {},
   "outputs": [
    {
     "name": "stdout",
     "output_type": "stream",
     "text": [
      "(10000, 18)\n",
      "Index(['branded_code_share', 'origin', 'dest', 'crs_dep_time', 'crs_arr_time',\n",
      "       'crs_elapsed_time', 'air_time', 'distance', 'fl_month',\n",
      "       'fl_day_of_week', 'fl_week_of_month', 'mkt_op_combo', 'fl_type',\n",
      "       'm_hist_dep_delay', 'med_hist_dep_delay', 'm_hist_arr_delay',\n",
      "       'med_hist_arr_delay', 'cancelled'],\n",
      "      dtype='object')\n"
     ]
    }
   ],
   "source": [
    "# data \n",
    "# get data from the samples made with flghts_scaled. (10 000 data points)\n",
    "data_sample = pd.read_csv('db_binary_sample.csv', index_col = 0)\n",
    "print(data_sample.shape)\n",
    "print(data_sample.columns)"
   ]
  },
  {
   "cell_type": "code",
   "execution_count": 5,
   "metadata": {},
   "outputs": [
    {
     "name": "stdout",
     "output_type": "stream",
     "text": [
      "(10000,)\n",
      "(10000, 17)\n"
     ]
    }
   ],
   "source": [
    "y_sample = data_sample.cancelled\n",
    "X_sample = data_sample.drop('cancelled', axis = 1)\n",
    "print(y_sample.shape)\n",
    "print(X_sample.shape)"
   ]
  },
  {
   "cell_type": "code",
   "execution_count": 7,
   "metadata": {},
   "outputs": [
    {
     "name": "stdout",
     "output_type": "stream",
     "text": [
      "Class 0.0: 9828 values\n",
      "Class 1.0: 172 values\n",
      "Sample imbalance: 1.72 %\n"
     ]
    }
   ],
   "source": [
    "# get class representations\n",
    "# Big sample\n",
    "print(f'Class {data_sample.cancelled.value_counts().index[0]}: {data_sample.cancelled.value_counts().values[0]} values')\n",
    "print(f'Class {data_sample.cancelled.value_counts().index[1]}: {data_sample.cancelled.value_counts().values[1]} values')\n",
    "print(f'Sample imbalance: {data_sample.cancelled.value_counts().values[1]/len(y_sample)*100} %')"
   ]
  },
  {
   "cell_type": "code",
   "execution_count": 9,
   "metadata": {},
   "outputs": [],
   "source": [
    "# this function creates two dataframe outputs: AVG scoring per model and STD scoring per model\n",
    "# make sure you import the models outside of this function and that the scorings are supported by them\n",
    "\n",
    "def perform_cross_validate(models, X, y, scoring, n_folds, plot = False):\n",
    "    \n",
    "    # import cross validate\n",
    "    from sklearn.model_selection import cross_validate\n",
    "    import pandas as pd\n",
    "    import numpy as np\n",
    "    \n",
    "    # create dataframe\n",
    "    results_mean = pd.DataFrame(columns = list(models.keys()), index=list(scoring))\n",
    "    results_std = pd.DataFrame(columns = list(models.keys()),  index=list(scoring))\n",
    "    \n",
    "\n",
    "    # perform cross validate and store desults in the dataframe\n",
    "    for key in models:\n",
    "        model_name = key\n",
    "        model = models[key]  # this is the model's placeholder\n",
    "        cv = cross_validate(estimator=model, X=X, y=y, cv=n_folds, scoring=scoring)\n",
    "    \n",
    "        # adds values for each scoring in the dataframes\n",
    "        results_mean[model_name] = [cv['test_'+scoring[i]].mean() for i in range(len(scoring))]\n",
    "        results_std[model_name] = [cv['test_'+scoring[i]].std() for i in range(len(scoring))]\n",
    "        \n",
    "        \n",
    "    if plot:\n",
    "        #setup\n",
    "        to_plot = {0:311, 1:312, 2:313, 3:314, 4:315, 5:316}\n",
    "        import matplotlib.pyplot as plt\n",
    "        %matplotlib inline\n",
    "        from matplotlib.pylab import rcParams\n",
    "        rcParams['figure.figsize'] = 20, 15\n",
    "        \n",
    "        # plot\n",
    "        for i, score in enumerate(scoring):\n",
    "            plt.subplot(to_plot[i])\n",
    "            plt.bar(list(results_mean.columns),  results_mean.iloc[i].values)\n",
    "            plt.title(f'Plot for: {score}')\n",
    "            \n",
    "    return results_mean, results_std"
   ]
  },
  {
   "cell_type": "code",
   "execution_count": 8,
   "metadata": {},
   "outputs": [],
   "source": [
    "# import models to try\n",
    "from sklearn.dummy import DummyClassifier\n",
    "from sklearn.linear_model import LogisticRegression\n",
    "from sklearn.discriminant_analysis import LinearDiscriminantAnalysis\n",
    "from sklearn.neighbors import KNeighborsClassifier\n",
    "from sklearn.ensemble import RandomForestClassifier\n",
    "from sklearn.ensemble import GradientBoostingClassifier\n",
    "import xgboost as xgb"
   ]
  },
  {
   "cell_type": "markdown",
   "metadata": {},
   "source": [
    "### Cross validate using db_binary_sample, 3 folds"
   ]
  },
  {
   "cell_type": "code",
   "execution_count": 102,
   "metadata": {},
   "outputs": [
    {
     "data": {
      "image/png": "[encoded data removed]",
      "text/plain": [
       "<Figure size 1440x1080 with 3 Axes>"
      ]
     },
     "metadata": {
      "needs_background": "light"
     },
     "output_type": "display_data"
    }
   ],
   "source": [
    "# params\n",
    "models = {\n",
    "    'Dummy Classifier': DummyClassifier(strategy = \"most_frequent\"), \\\n",
    "    'Logistic Regression': LogisticRegression(max_iter=1000), \\\n",
    "    'LDA': LinearDiscriminantAnalysis(), \\\n",
    "    'Random Forest': RandomForestClassifier(), \\\n",
    "    'Gradient Boosting': GradientBoostingClassifier(), \\\n",
    "    'XGBoost': xgb.XGBClassifier(scale_pos_weight=100) \\\n",
    "    }\n",
    "\n",
    "scoring = ('neg_brier_score', 'roc_auc', 'f1_weighted')\n",
    "\n",
    "results_mean, results_std = perform_cross_validate(models=models, X=X_sample, y=y_sample, scoring=scoring, n_folds=2, plot=True)"
   ]
  },
  {
   "cell_type": "code",
   "execution_count": 12,
   "metadata": {},
   "outputs": [
    {
     "data": {
      "text/html": [
       "<div>\n",
       "<style scoped>\n",
       "    .dataframe tbody tr th:only-of-type {\n",
       "        vertical-align: middle;\n",
       "    }\n",
       "\n",
       "    .dataframe tbody tr th {\n",
       "        vertical-align: top;\n",
       "    }\n",
       "\n",
       "    .dataframe thead th {\n",
       "        text-align: right;\n",
       "    }\n",
       "</style>\n",
       "<table border=\"1\" class=\"dataframe\">\n",
       "  <thead>\n",
       "    <tr style=\"text-align: right;\">\n",
       "      <th></th>\n",
       "      <th>Dummy Classifier</th>\n",
       "      <th>Logistic Regression</th>\n",
       "      <th>LDA</th>\n",
       "      <th>Random Forest</th>\n",
       "      <th>Gradient Boosting</th>\n",
       "      <th>XGBoost</th>\n",
       "    </tr>\n",
       "  </thead>\n",
       "  <tbody>\n",
       "    <tr>\n",
       "      <th>neg_brier_score</th>\n",
       "      <td>-0.0172</td>\n",
       "      <td>-0.001226</td>\n",
       "      <td>-0.003525</td>\n",
       "      <td>-0.000508</td>\n",
       "      <td>-1.503223e-12</td>\n",
       "      <td>-3.890474e-08</td>\n",
       "    </tr>\n",
       "    <tr>\n",
       "      <th>roc_auc</th>\n",
       "      <td>0.5000</td>\n",
       "      <td>1.000000</td>\n",
       "      <td>0.999915</td>\n",
       "      <td>1.000000</td>\n",
       "      <td>1.000000e+00</td>\n",
       "      <td>1.000000e+00</td>\n",
       "    </tr>\n",
       "    <tr>\n",
       "      <th>f1</th>\n",
       "      <td>0.0000</td>\n",
       "      <td>0.963818</td>\n",
       "      <td>0.876350</td>\n",
       "      <td>1.000000</td>\n",
       "      <td>1.000000e+00</td>\n",
       "      <td>1.000000e+00</td>\n",
       "    </tr>\n",
       "  </tbody>\n",
       "</table>\n",
       "</div>"
      ],
      "text/plain": [
       "                 Dummy Classifier  Logistic Regression       LDA  \\\n",
       "neg_brier_score           -0.0172            -0.001226 -0.003525   \n",
       "roc_auc                    0.5000             1.000000  0.999915   \n",
       "f1                         0.0000             0.963818  0.876350   \n",
       "\n",
       "                 Random Forest  Gradient Boosting       XGBoost  \n",
       "neg_brier_score      -0.000508      -1.503223e-12 -3.890474e-08  \n",
       "roc_auc               1.000000       1.000000e+00  1.000000e+00  \n",
       "f1                    1.000000       1.000000e+00  1.000000e+00  "
      ]
     },
     "execution_count": 12,
     "metadata": {},
     "output_type": "execute_result"
    }
   ],
   "source": [
    "results_mean"
   ]
  },
  {
   "cell_type": "markdown",
   "metadata": {},
   "source": [
    "## 3. Select a model\n",
    "All the models tried performed really well, we'll be moving forward using **logistic regression**"
   ]
  },
  {
   "cell_type": "markdown",
   "metadata": {},
   "source": [
    "## 4. Split training/and validation data on **the whole dataset**"
   ]
  },
  {
   "cell_type": "code",
   "execution_count": 13,
   "metadata": {},
   "outputs": [
    {
     "name": "stdout",
     "output_type": "stream",
     "text": [
      "(15768083, 20)\n"
     ]
    }
   ],
   "source": [
    "# get data, the whole dataset that has been transformed and scaled\n",
    "\n",
    "data = pd.read_csv('flights_scaled.csv', low_memory = False) # change this when I get the data\n",
    "print(data.shape)"
   ]
  },
  {
   "cell_type": "code",
   "execution_count": 14,
   "metadata": {},
   "outputs": [],
   "source": [
    "# drop target variables used in other models\n",
    "\n",
    "data = data.drop(['arr_delay', 'delay_type'], axis=1)"
   ]
  },
  {
   "cell_type": "code",
   "execution_count": 15,
   "metadata": {},
   "outputs": [
    {
     "name": "stdout",
     "output_type": "stream",
     "text": [
      "Class 0.0: 15498887 values\n",
      "Class 1.0: 269196 values\n",
      "Sample imbalance: 1.7072208460597271 %\n"
     ]
    }
   ],
   "source": [
    "# get class representations\n",
    "# Big sample\n",
    "print(f'Class {data.cancelled.value_counts().index[0]}: {data.cancelled.value_counts().values[0]} values')\n",
    "print(f'Class {data.cancelled.value_counts().index[1]}: {data.cancelled.value_counts().values[1]} values')\n",
    "print(f'Sample imbalance: {data.cancelled.value_counts().values[1]/len(data)*100} %')"
   ]
  },
  {
   "cell_type": "code",
   "execution_count": 16,
   "metadata": {},
   "outputs": [
    {
     "name": "stdout",
     "output_type": "stream",
     "text": [
      "(15768083,)\n",
      "(15768083, 17)\n"
     ]
    }
   ],
   "source": [
    "# Split between target variable and dependant variables\n",
    "\n",
    "y = data.cancelled\n",
    "X = data.drop('cancelled', axis = 1)\n",
    "print(y.shape)\n",
    "print(X.shape)"
   ]
  },
  {
   "cell_type": "code",
   "execution_count": 68,
   "metadata": {},
   "outputs": [],
   "source": [
    "# split training and testing data set\n",
    "from sklearn.model_selection import train_test_split\n",
    "\n",
    "X_train, X_test, y_train, y_test = train_test_split (X, y, test_size=0.20, random_state=42)"
   ]
  },
  {
   "cell_type": "code",
   "execution_count": 18,
   "metadata": {},
   "outputs": [
    {
     "name": "stdout",
     "output_type": "stream",
     "text": [
      "(12614466,)\n",
      "(12614466, 17)\n",
      "(3153617,)\n",
      "(3153617, 17)\n"
     ]
    }
   ],
   "source": [
    "print(y_train.shape)\n",
    "print(X_train.shape)\n",
    "print(y_test.shape)\n",
    "print(X_test.shape)"
   ]
  },
  {
   "cell_type": "code",
   "execution_count": 56,
   "metadata": {},
   "outputs": [
    {
     "name": "stdout",
     "output_type": "stream",
     "text": [
      "Class 0.0: 3099977 values\n",
      "Class 1.0: 53640 values\n"
     ]
    }
   ],
   "source": [
    "# print class representations in testing data\n",
    "print(f'Class {y_test.value_counts().index[0]}: {y_test.value_counts().values[0]} values')\n",
    "print(f'Class {y_test.value_counts().index[1]}: {y_test.value_counts().values[1]} values')"
   ]
  },
  {
   "cell_type": "markdown",
   "metadata": {},
   "source": [
    "## 5. Tune hyperparameters on selected algo on **training data** using grid search"
   ]
  },
  {
   "cell_type": "code",
   "execution_count": 19,
   "metadata": {},
   "outputs": [],
   "source": [
    "from sklearn.model_selection import GridSearchCV"
   ]
  },
  {
   "cell_type": "code",
   "execution_count": 62,
   "metadata": {},
   "outputs": [],
   "source": [
    "# samples used to try code\n",
    "X_train_sample, X_test_sample, y_train_sample, y_test_sample = train_test_split (X_sample, y_sample, test_size=0.20, random_state=42)"
   ]
  },
  {
   "cell_type": "code",
   "execution_count": 31,
   "metadata": {},
   "outputs": [
    {
     "name": "stdout",
     "output_type": "stream",
     "text": [
      "f1: 0.9989874344591325\n",
      " auc: 0.975 \n",
      " brier: 0.001\n"
     ]
    }
   ],
   "source": [
    "# try running model - on sample\n",
    "\n",
    "from sklearn.metrics import brier_score_loss # evaluation metric\n",
    "from sklearn.metrics import roc_auc_score # evaluation metric\n",
    "from sklearn.metrics import f1_score # evaluation metric\n",
    "\n",
    "model = LogisticRegression(max_iter = 10000) # placeholder\n",
    "model.fit(X_train_sample, y_train_sample) # fit\n",
    "y_pred = model.predict(X_test_sample) # predict\n",
    "y_pred_prob = model.predict_proba(X_test_sample) # predict probabilities\n",
    "\n",
    "f1 = f1_score(y_test_sample, y_pred, average='weighted')\n",
    "auc = roc_auc_score(y_test_sample, y_pred)\n",
    "brier = brier_score_loss(y_test_sample, y_pred)\n",
    "\n",
    "print(f'f1: {f1}\\n auc: {auc} \\n brier: {brier}')"
   ]
  },
  {
   "cell_type": "code",
   "execution_count": 32,
   "metadata": {},
   "outputs": [
    {
     "name": "stdout",
     "output_type": "stream",
     "text": [
      "{'C': 0.001, 'penalty': 'none'}\n",
      "LogisticRegression(C=0.001, max_iter=10000, penalty='none')\n"
     ]
    },
    {
     "name": "stderr",
     "output_type": "stream",
     "text": [
      "C:\\Users\\derob\\anaconda3\\lib\\site-packages\\sklearn\\linear_model\\_logistic.py:1321: UserWarning: Setting penalty='none' will ignore the C and l1_ratio parameters\n",
      "  \"Setting penalty='none' will ignore the C and l1_ratio \"\n"
     ]
    }
   ],
   "source": [
    "# perform grid search on sample\n",
    "\n",
    "# params for grid search\n",
    "params = [\n",
    "     {\"penalty\": ['l2', 'none'],\n",
    "      \"C\": [0.001, 0.01, 0.1, 1.0, 10.0, 100.0, 1000.0]}]\n",
    "\n",
    "model = LogisticRegression(max_iter = 10000)\n",
    "gsc = GridSearchCV(estimator=model, param_grid=params, n_jobs=-1)\n",
    "\n",
    "gsc.fit(X_train_sample, y_train_sample)\n",
    "\n",
    "print(gsc.best_params_)\n",
    "best_model = gsc.best_estimator_\n",
    "print(best_model)"
   ]
  },
  {
   "cell_type": "markdown",
   "metadata": {},
   "source": [
    "## 6. Train selected algo & parameters on the **training data**"
   ]
  },
  {
   "cell_type": "code",
   "execution_count": 33,
   "metadata": {},
   "outputs": [
    {
     "name": "stderr",
     "output_type": "stream",
     "text": [
      "C:\\Users\\derob\\anaconda3\\lib\\site-packages\\sklearn\\linear_model\\_logistic.py:1321: UserWarning: Setting penalty='none' will ignore the C and l1_ratio parameters\n",
      "  \"Setting penalty='none' will ignore the C and l1_ratio \"\n"
     ]
    },
    {
     "data": {
      "text/plain": [
       "LogisticRegression(C=0.001, max_iter=10000, penalty='none')"
      ]
     },
     "execution_count": 33,
     "metadata": {},
     "output_type": "execute_result"
    }
   ],
   "source": [
    "model_lr = best_model\n",
    "model_lr.fit(X_train, y_train) # fit"
   ]
  },
  {
   "cell_type": "markdown",
   "metadata": {},
   "source": [
    "## 7. Test performance on **testing data**"
   ]
  },
  {
   "cell_type": "code",
   "execution_count": 69,
   "metadata": {},
   "outputs": [
    {
     "name": "stdout",
     "output_type": "stream",
     "text": [
      "f1: 0.9999676511482664\n",
      " auc: 0.9993606607565033 \n",
      " brier: 3.234381346878838e-05\n"
     ]
    }
   ],
   "source": [
    "y_pred = model_lr.predict(X_test) # predict\n",
    "y_pred_prob = model_lr.predict_proba(X_test) # predict probabilities\n",
    "\n",
    "f1 = f1_score(y_test, y_pred, average='weighted')\n",
    "auc = roc_auc_score(y_test, y_pred)\n",
    "brier = brier_score_loss(y_test, y_pred)\n",
    "\n",
    "print(f'f1: {f1}\\n auc: {auc} \\n brier: {brier}')"
   ]
  },
  {
   "cell_type": "code",
   "execution_count": 92,
   "metadata": {},
   "outputs": [
    {
     "name": "stdout",
     "output_type": "stream",
     "text": [
      "Class 1: 53606.0 values\n",
      "Class 2: 3100011.0 values\n"
     ]
    }
   ],
   "source": [
    "# print class representations in data predicted\n",
    "\n",
    "print(f'Class 1: {pd.DataFrame(y_pred)[0].values.sum()} values')\n",
    "print(f'Class 2: {len(y_pred)-pd.DataFrame(y_pred)[0].values.sum()} values')"
   ]
  },
  {
   "cell_type": "code",
   "execution_count": 94,
   "metadata": {},
   "outputs": [
    {
     "data": {
      "image/png": "[encoded data removed]",
      "text/plain": [
       "<Figure size 720x360 with 2 Axes>"
      ]
     },
     "metadata": {
      "needs_background": "light"
     },
     "output_type": "display_data"
    }
   ],
   "source": [
    "# print confusion matrix\n",
    "\n",
    "# imports\n",
    "from sklearn.metrics import confusion_matrix\n",
    "import matplotlib.pyplot as plt\n",
    "%matplotlib inline\n",
    "import seaborn as sns\n",
    "from matplotlib.pylab import rcParams\n",
    "rcParams['figure.figsize'] = 10, 5\n",
    "\n",
    "# confusionn matrix\n",
    "cnf_matrix_lr = confusion_matrix(y_test, y_pred)\n",
    "\n",
    "# create heatmap\n",
    "fig, ax = plt.subplots()\n",
    "sns.heatmap(pd.DataFrame(cnf_matrix_lr), annot=True, cmap=\"YlGnBu\" ,fmt='g')\n",
    "\n",
    "# custom\n",
    "class_names=[0,1]\n",
    "tick_marks = np.arange(len(class_names))\n",
    "plt.xticks(tick_marks, class_names)\n",
    "plt.yticks(tick_marks, class_names)\n",
    "plt.yticks(rotation=0)\n",
    "plt.title('Confusion matrix with Linear Regression', y=1.1)\n",
    "plt.ylabel('Actual label')\n",
    "plt.xlabel('Predicted label')\n",
    "plt.tight_layout()"
   ]
  },
  {
   "cell_type": "markdown",
   "metadata": {},
   "source": [
    "## 8. Save with pickle"
   ]
  },
  {
   "cell_type": "code",
   "execution_count": 97,
   "metadata": {},
   "outputs": [],
   "source": [
    "import pickle"
   ]
  },
  {
   "cell_type": "code",
   "execution_count": 98,
   "metadata": {},
   "outputs": [],
   "source": [
    "filename = 'Binary.sav'\n",
    "pickle.dump(model_lr, open(filename, 'wb'))"
   ]
  },
  {
   "cell_type": "code",
   "execution_count": 99,
   "metadata": {},
   "outputs": [
    {
     "name": "stdout",
     "output_type": "stream",
     "text": [
      "0.9999676561865312\n"
     ]
    }
   ],
   "source": [
    "loaded_model = pickle.load(open('Binary.sav', 'rb'))\n",
    "result = loaded_model.score(X_test, y_test)\n",
    "print(result)"
   ]
  },
  {
   "cell_type": "code",
   "execution_count": null,
   "metadata": {},
   "outputs": [],
   "source": []
  }
 ],
 "metadata": {
  "kernelspec": {
   "display_name": "Python 3",
   "language": "python",
   "name": "python3"
  },
  "language_info": {
   "codemirror_mode": {
    "name": "ipython",
    "version": 3
   },
   "file_extension": ".py",
   "mimetype": "text/x-python",
   "name": "python",
   "nbconvert_exporter": "python",
   "pygments_lexer": "ipython3",
   "version": "3.7.6"
  }
 },
 "nbformat": 4,
 "nbformat_minor": 4
}
